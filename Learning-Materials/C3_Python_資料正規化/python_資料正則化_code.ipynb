{
 "cells": [
  {
   "cell_type": "markdown",
   "metadata": {},
   "source": [
    "# 正規表達法"
   ]
  },
  {
   "cell_type": "code",
   "execution_count": 2,
   "metadata": {},
   "outputs": [],
   "source": [
    "#匯入模組\n",
    "import re"
   ]
  },
  {
   "cell_type": "code",
   "execution_count": 25,
   "metadata": {},
   "outputs": [
    {
     "name": "stdout",
     "output_type": "stream",
     "text": [
      "<re.Match object; span=(5, 7), match='憲法'>\n",
      "<re.Match object; span=(0, 2), match='六法'>\n"
     ]
    }
   ],
   "source": [
    "#尋找配對 - search\n",
    "pattern1 = \"憲法\"\n",
    "pattern2 = \"六法\"\n",
    "string1 = \"六法指的是憲法、刑法、刑事訴訟法、民法、民事訴訟法、行政法，這6種法律。值得一提的是行政法不是一部法典，是各種行政法規的合稱。\"\n",
    "string2 = \"eggshell plaintiff rule\"\n",
    "print(re.search(pattern1, string))\n",
    "print(re.search(pattern2, string))"
   ]
  },
  {
   "cell_type": "code",
   "execution_count": 26,
   "metadata": {},
   "outputs": [
    {
     "name": "stdout",
     "output_type": "stream",
     "text": [
      "<re.Match object; span=(8, 10), match='刑法'>\n",
      "None\n",
      "<re.Match object; span=(19, 23), match='rule'>\n",
      "<re.Match object; span=(31, 32), match='6'>\n",
      "<re.Match object; span=(31, 32), match='6'>\n"
     ]
    }
   ],
   "source": [
    "#考慮多種情況\n",
    "pattern3 = \"[民刑]法\"\n",
    "print(re.search(pattern3, string1))\n",
    "\n",
    "#匹配更多種可能\n",
    "print(re.search(\"r[A-Z]le\", string2))\n",
    "print(re.search(\"r[a-z]le\", string2))\n",
    "print(re.search(\"[0-9]\", string1))\n",
    "print(re.search(\"[0-9a-z]\", string1))"
   ]
  },
  {
   "cell_type": "markdown",
   "metadata": {},
   "source": [
    "# 特殊字元\n",
    "\n",
    "空白 - s\n",
    "\n",
    "非空白 - S\n",
    "\n",
    "包含底線的任何單詞字元 - w\n",
    "\n",
    "任何非單詞字元 - W\n",
    "\n",
    "數字 - d\n",
    "\n",
    "非數字 - D\n",
    "\n",
    "開始、非 - ^\n",
    "\n",
    "結尾 - $\n",
    "\n",
    "不限 - . "
   ]
  },
  {
   "cell_type": "code",
   "execution_count": 10,
   "metadata": {
    "scrolled": true
   },
   "outputs": [
    {
     "name": "stdout",
     "output_type": "stream",
     "text": [
      "<re.Match object; span=(2, 5), match='第1條'>\n",
      "<re.Match object; span=(7, 10), match='第一項'>\n"
     ]
    }
   ],
   "source": [
    "print(re.search(\"第\\d條\", \"民法第1條:民事，法律所未規定者，依習慣；無習慣者，依法理。\"))\n",
    "print(re.search(\"第\\D項\", \"民法第767條第一項中段:妨礙除去請求權\"))\n"
   ]
  },
  {
   "cell_type": "code",
   "execution_count": 3,
   "metadata": {},
   "outputs": [
    {
     "name": "stdout",
     "output_type": "stream",
     "text": [
      "<re.Match object; span=(2, 5), match='立 大'>\n",
      "None\n",
      "<re.Match object; span=(0, 7), match='許宗立\\u3000大法官'>\n",
      "\n",
      "\n",
      "None\n",
      "<re.Match object; span=(0, 7), match='許宗立@大法官'>\n"
     ]
    }
   ],
   "source": [
    "print(re.search(\"立\\s大\", \"許宗立 大法官是司法院院長\"))\n",
    "print(re.search(\"許宗立\\s大法官\", \"許宗立大法官是司法院院長\"))\n",
    "print(re.search(\"許宗立\\s大法官\", \"許宗立\\u3000大法官是司法院院長\"))\n",
    "print(\"\\n\")\n",
    "print(re.search(\"許宗立\\S大法官\", \"許宗立 大法官是司法院院長\"))\n",
    "print(re.search(\"許宗立\\S大法官\", \"許宗立@大法官是司法院院長\"))"
   ]
  },
  {
   "cell_type": "code",
   "execution_count": 12,
   "metadata": {},
   "outputs": [
    {
     "name": "stdout",
     "output_type": "stream",
     "text": [
      "None\n",
      "<re.Match object; span=(0, 3), match='許宗立'>\n",
      "\n",
      "\n",
      "<re.Match object; span=(11, 13), match='院長'>\n",
      "None\n"
     ]
    }
   ],
   "source": [
    "print(re.search(\"^大法官\", \"許宗立 大法官是司法院院長\"))\n",
    "print(re.search(\"^許宗立\", \"許宗立 大法官是司法院院長\"))\n",
    "print(\"\\n\")\n",
    "print(re.search(\"院長$\", \"許宗立 大法官是司法院院長\"))\n",
    "print(re.search(\"司法院$\", \"許宗立 大法官是司法院院長\"))"
   ]
  },
  {
   "cell_type": "markdown",
   "metadata": {},
   "source": [
    "# 數量字元\n",
    "\n",
    "零次或多次 - *\n",
    "\n",
    "一次或多次 - +\n",
    "\n",
    "零次或一次 - ?\n",
    "\n",
    "n次 - {n}"
   ]
  },
  {
   "cell_type": "code",
   "execution_count": 3,
   "metadata": {
    "scrolled": false
   },
   "outputs": [
    {
     "name": "stdout",
     "output_type": "stream",
     "text": [
      "<re.Match object; span=(7, 12), match='司法院院長'>\n",
      "<re.Match object; span=(7, 10), match='司法長'>\n",
      "None\n",
      "\n",
      "\n",
      "<re.Match object; span=(7, 12), match='司法院院長'>\n",
      "None\n",
      "\n",
      "\n",
      "<re.Match object; span=(7, 10), match='司法長'>\n",
      "<re.Match object; span=(7, 11), match='司法院長'>\n",
      "None\n",
      "\n",
      "\n",
      "<re.Match object; span=(7, 12), match='司法院院長'>\n",
      "None\n"
     ]
    }
   ],
   "source": [
    "# * : 零次或多次\n",
    "print(re.search(\"司法院*長\", \"許宗立大法官是司法院院長\"))\n",
    "print(re.search(\"司法院*長\", \"許宗立大法官是司法長\"))\n",
    "print(re.search(\"司法院*長\", \"許宗立大法官是司法部長\"))\n",
    "print(\"\\n\")\n",
    "# + : 一次或多次\n",
    "print(re.search(\"司法院+長\", \"許宗立大法官是司法院院長\"))\n",
    "print(re.search(\"司法院+長\", \"許宗立大法官是司法長\"))\n",
    "print(\"\\n\")\n",
    "# ? : 零次或一次\n",
    "print(re.search(\"司法院?長\", \"許宗立大法官是司法長\"))\n",
    "print(re.search(\"司法院?長\", \"許宗立大法官是司法院長\"))\n",
    "print(re.search(\"司法院?長\", \"許宗立大法官是司法院院長\"))\n",
    "print(\"\\n\")\n",
    "# {n} : 指定n次\n",
    "print(re.search(\"司法院{2}長\", \"許宗立大法官是司法院院長\"))\n",
    "print(re.search(\"司法院{1}長\", \"許宗立大法官是司法院院長\"))\n",
    "\n"
   ]
  },
  {
   "cell_type": "markdown",
   "metadata": {},
   "source": [
    "# 相關function\n",
    "group : 返回群組，可賦予id名稱尋找\n",
    "\n",
    "findall : 尋找所有匹配\n",
    "\n",
    "sub : 替換字元\n",
    "\n",
    "split : 拆開\n",
    "\n",
    "compile : 包裝"
   ]
  },
  {
   "cell_type": "code",
   "execution_count": 93,
   "metadata": {},
   "outputs": [
    {
     "name": "stdout",
     "output_type": "stream",
     "text": [
      "['大法官', '司法院']\n",
      "['大法官', '司法院']\n"
     ]
    }
   ],
   "source": [
    "# re.findall() \n",
    "print(re.findall(\".法.\",\"許宗立大法官是司法院院長\"))\n",
    "print(re.findall(\"司法院|大法官\",\"許宗立大法官是司法院院長\"))"
   ]
  },
  {
   "cell_type": "code",
   "execution_count": 5,
   "metadata": {
    "scrolled": true
   },
   "outputs": [
    {
     "name": "stdout",
     "output_type": "stream",
     "text": [
      "第179條\n",
      "無法律上之原因而受利益，致他人受損害者，應返還其利益。雖有法律上之原因，而其後已不存在者，亦同。\n"
     ]
    }
   ],
   "source": [
    "#賦予 id 時 ，加入固定格式 \"?P<id名稱>\"\n",
    "match = re.search(\"(?P<code>.\\d+.):(?P<content>.+)\", \"民法第179條:無法律上之原因而受利益，致他人受損害者，應返還其利益。雖有法律上之原因，而其後已不存在者，亦同。\" )\n",
    "print(match.group('code'))\n",
    "print(match.group('content'))"
   ]
  },
  {
   "cell_type": "code",
   "execution_count": 8,
   "metadata": {
    "scrolled": true
   },
   "outputs": [
    {
     "name": "stdout",
     "output_type": "stream",
     "text": [
      "中華民國憲法第130條:中華民國國民滿十八歲者，有依法選舉之權，除本憲法及法律別有規定者外，年滿二十三歲者，有依法被選舉之權。\n"
     ]
    }
   ],
   "source": [
    "# re.sub() \n",
    "print(re.sub(\"年滿..歲者\", \"滿十八歲者\", \"中華民國憲法第130條:中華民國國民年滿二十歲者，有依法選舉之權，除本憲法及法律別有規定者外，年滿二十三歲者，有依法被選舉之權。\"))"
   ]
  },
  {
   "cell_type": "code",
   "execution_count": 116,
   "metadata": {},
   "outputs": [
    {
     "name": "stdout",
     "output_type": "stream",
     "text": [
      "['許宗立', '蔡烱燉', '蔡明誠', '黃虹霞', '林俊益', '吳陳鐶', '許志雄', '張瓊文', '黃瑞明', '詹森林', '黃昭元', '謝銘洋', '呂太郎', '楊惠欽', '蔡宗珍大法官']\n",
      "['許宗立', '蔡烱燉', '蔡明誠', '黃虹霞', '林俊益', '吳陳鐶', '許志雄', '張瓊文', '黃瑞明', '詹森林', '黃昭元', '謝銘洋', '呂太郎', '楊惠欽', '蔡宗珍']\n"
     ]
    }
   ],
   "source": [
    "# re.split()\n",
    "big_judge = re.split(\"大法官、\",\"許宗立大法官、蔡烱燉大法官、蔡明誠大法官、黃虹霞大法官、林俊益大法官、吳陳鐶大法官、許志雄大法官、張瓊文大法官、黃瑞明大法官、詹森林大法官、黃昭元大法官、謝銘洋大法官、呂太郎大法官、楊惠欽大法官、蔡宗珍大法官\")\n",
    "print(big_judge)\n",
    "big_judge[-1] = \"蔡宗珍\"\n",
    "print(big_judge)"
   ]
  },
  {
   "cell_type": "code",
   "execution_count": 9,
   "metadata": {},
   "outputs": [
    {
     "name": "stdout",
     "output_type": "stream",
     "text": [
      "['大法官', '司法院']\n",
      "['許宗立', '蔡烱燉', '蔡明誠', '黃虹霞', '林俊益', '吳陳鐶', '許志雄', '張瓊文', '黃瑞明', '詹森林', '黃昭元', '謝銘洋', '呂太郎', '楊惠欽', '蔡宗珍大法官']\n",
      "\n",
      "\n",
      "§948條:以動產所有權，或其他物權之移轉或設定為目的，而善意受讓該動產之占有者，縱其讓與人無讓與之權利，其占有仍受法律之保護。但受讓人明知或因重大過失而不知讓與人無讓與之權利者，不在此限。動產占有之受讓，係依§七百六十一條§二項規定為之者，以受讓人受現實交付且交付時善意為限，始受前項規定之保護。\n",
      "§:以動產所有權，或其他物權之移轉或設定為目的，而善意受讓該動產之占有者，縱其讓與人無讓與之權利，其占有仍受法律之保護。但受讓人明知或因重大過失而不知讓與人無讓與之權利者，不在此限。動產占有之受讓，係依第七百六十一條第二項規定為之者，以受讓人受現實交付且交付時善意為限，始受前項規定之保護。\n",
      "§948:以動產所有權，或其他物權之移轉或設定為目的，而善意受讓該動產之占有者，縱其讓與人無讓與之權利，其占有仍受法律之保護。但受讓人明知或因重大過失而不知讓與人無讓與之權利者，不在此限。動產占有之受讓，係依第七百六十一條第二項規定為之者，以受讓人受現實交付且交付時善意為限，始受前項規定之保護。\n"
     ]
    }
   ],
   "source": [
    "# re.compile()\n",
    "compile_re = re.compile(\".法.\")\n",
    "print(compile_re.findall(\"許宗立大法官是司法院院長\"))\n",
    "compile_re_split = re.compile(\"大法官、\")\n",
    "print(compile_re_split.split(\"許宗立大法官、蔡烱燉大法官、蔡明誠大法官、黃虹霞大法官、林俊益大法官、吳陳鐶大法官、許志雄大法官、張瓊文大法官、黃瑞明大法官、詹森林大法官、黃昭元大法官、謝銘洋大法官、呂太郎大法官、楊惠欽大法官、蔡宗珍大法官\"))\n",
    "print(\"\\n\")\n",
    "print(re.sub(\"第\",\"§\",\"第948條:以動產所有權，或其他物權之移轉或設定為目的，而善意受讓該動產之占有者，縱其讓與人無讓與之權利，其占有仍受法律之保護。但受讓人明知或因重大過失而不知讓與人無讓與之權利者，不在此限。動產占有之受讓，係依第七百六十一條第二項規定為之者，以受讓人受現實交付且交付時善意為限，始受前項規定之保護。\"))\n",
    "print(re.sub(\"第\\d+條\",\"§\",\"第948條:以動產所有權，或其他物權之移轉或設定為目的，而善意受讓該動產之占有者，縱其讓與人無讓與之權利，其占有仍受法律之保護。但受讓人明知或因重大過失而不知讓與人無讓與之權利者，不在此限。動產占有之受讓，係依第七百六十一條第二項規定為之者，以受讓人受現實交付且交付時善意為限，始受前項規定之保護。\"))\n",
    "compile_re_sub = re.compile(\"(第)(\\d+)(條)\")\n",
    "print(compile_re_sub.sub(r\"§\\2\",\"第948條:以動產所有權，或其他物權之移轉或設定為目的，而善意受讓該動產之占有者，縱其讓與人無讓與之權利，其占有仍受法律之保護。但受讓人明知或因重大過失而不知讓與人無讓與之權利者，不在此限。動產占有之受讓，係依第七百六十一條第二項規定為之者，以受讓人受現實交付且交付時善意為限，始受前項規定之保護。\"))"
   ]
  },
  {
   "cell_type": "code",
   "execution_count": 4,
   "metadata": {},
   "outputs": [
    {
     "name": "stdout",
     "output_type": "stream",
     "text": [
      "§948條:以動產所有權，或其他物權之移轉或設定為目的，而善意受讓該動產之占有者，縱其讓與人無讓與之權利，其占有仍受法律之保護。但受讓人明知或因重大過失而不知讓與人無讓與之權利者，不在此限。動產占有之受讓，係依§七百六十一條§二項規定為之者，以受讓人受現實交付且交付時善意為限，始受前項規定之保護。\n",
      "§:以動產所有權，或其他物權之移轉或設定為目的，而善意受讓該動產之占有者，縱其讓與人無讓與之權利，其占有仍受法律之保護。但受讓人明知或因重大過失而不知讓與人無讓與之權利者，不在此限。動產占有之受讓，係依第七百六十一條第二項規定為之者，以受讓人受現實交付且交付時善意為限，始受前項規定之保護。\n",
      "§948:以動產所有權，或其他物權之移轉或設定為目的，而善意受讓該動產之占有者，縱其讓與人無讓與之權利，其占有仍受法律之保護。但受讓人明知或因重大過失而不知讓與人無讓與之權利者，不在此限。動產占有之受讓，係依第七百六十一條第二項規定為之者，以受讓人受現實交付且交付時善意為限，始受前項規定之保護。\n"
     ]
    }
   ],
   "source": [
    "print(re.sub(\"第\",\"§\",\"第948條:以動產所有權，或其他物權之移轉或設定為目的，而善意受讓該動產之占有者，縱其讓與人無讓與之權利，其占有仍受法律之保護。但受讓人明知或因重大過失而不知讓與人無讓與之權利者，不在此限。動產占有之受讓，係依第七百六十一條第二項規定為之者，以受讓人受現實交付且交付時善意為限，始受前項規定之保護。\"))\n",
    "print(re.sub(\"第\\d+條\",\"§\",\"第948條:以動產所有權，或其他物權之移轉或設定為目的，而善意受讓該動產之占有者，縱其讓與人無讓與之權利，其占有仍受法律之保護。但受讓人明知或因重大過失而不知讓與人無讓與之權利者，不在此限。動產占有之受讓，係依第七百六十一條第二項規定為之者，以受讓人受現實交付且交付時善意為限，始受前項規定之保護。\"))\n",
    "compile_re_sub = re.compile(\"(第)(\\d+)(條)\")\n",
    "print(compile_re_sub.sub(r\"§\\2\",\"第948條:以動產所有權，或其他物權之移轉或設定為目的，而善意受讓該動產之占有者，縱其讓與人無讓與之權利，其占有仍受法律之保護。但受讓人明知或因重大過失而不知讓與人無讓與之權利者，不在此限。動產占有之受讓，係依第七百六十一條第二項規定為之者，以受讓人受現實交付且交付時善意為限，始受前項規定之保護。\"))"
   ]
  },
  {
   "cell_type": "markdown",
   "metadata": {},
   "source": []
  }
 ],
 "metadata": {
  "kernelspec": {
   "display_name": "Python 3",
   "language": "python",
   "name": "python3"
  },
  "language_info": {
   "codemirror_mode": {
    "name": "ipython",
    "version": 3
   },
   "file_extension": ".py",
   "mimetype": "text/x-python",
   "name": "python",
   "nbconvert_exporter": "python",
   "pygments_lexer": "ipython3",
   "version": "3.8.3"
  }
 },
 "nbformat": 4,
 "nbformat_minor": 4
}
