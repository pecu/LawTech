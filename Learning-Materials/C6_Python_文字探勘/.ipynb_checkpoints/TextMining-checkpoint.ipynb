{
 "cells": [
  {
   "cell_type": "markdown",
   "id": "de35f60d",
   "metadata": {},
   "source": [
    "## https://anaconda.org/conda-forge/jieba"
   ]
  },
  {
   "cell_type": "code",
   "execution_count": 337,
   "id": "6ad079d2",
   "metadata": {},
   "outputs": [],
   "source": [
    "import jieba\n",
    "import jieba.analyse\n",
    "import pandas as pd\n",
    "import numpy as np\n",
    "from collections import Counter"
   ]
  },
  {
   "cell_type": "code",
   "execution_count": 338,
   "id": "0af7d654",
   "metadata": {},
   "outputs": [],
   "source": [
    "orgdata = pd.read_csv('python_資料彙整_csv_new.csv')"
   ]
  },
  {
   "cell_type": "code",
   "execution_count": 339,
   "id": "47fd4139",
   "metadata": {},
   "outputs": [
    {
     "data": {
      "text/html": [
       "<div>\n",
       "<style scoped>\n",
       "    .dataframe tbody tr th:only-of-type {\n",
       "        vertical-align: middle;\n",
       "    }\n",
       "\n",
       "    .dataframe tbody tr th {\n",
       "        vertical-align: top;\n",
       "    }\n",
       "\n",
       "    .dataframe thead th {\n",
       "        text-align: right;\n",
       "    }\n",
       "</style>\n",
       "<table border=\"1\" class=\"dataframe\">\n",
       "  <thead>\n",
       "    <tr style=\"text-align: right;\">\n",
       "      <th></th>\n",
       "      <th>Unnamed: 0</th>\n",
       "      <th>案號</th>\n",
       "      <th>內文</th>\n",
       "      <th>法規</th>\n",
       "      <th>審判長</th>\n",
       "      <th>裁判類型</th>\n",
       "      <th>案由</th>\n",
       "      <th>判決時間</th>\n",
       "    </tr>\n",
       "  </thead>\n",
       "  <tbody>\n",
       "    <tr>\n",
       "      <th>0</th>\n",
       "      <td>0</td>\n",
       "      <td>105,投小,319</td>\n",
       "      <td>臺灣南投地方法院民事小額判決105年度投小字第319號原告泰安產物保險股份有限公司法定代理人...</td>\n",
       "      <td>['民法第213條', '民法第184條第1項', '民事訴訟法第436條之8第1項', '...</td>\n",
       "      <td>張家豪</td>\n",
       "      <td>民事判決</td>\n",
       "      <td>損害賠償</td>\n",
       "      <td>105    年    11    月    24    日</td>\n",
       "    </tr>\n",
       "    <tr>\n",
       "      <th>1</th>\n",
       "      <td>1</td>\n",
       "      <td>107,訴,1641</td>\n",
       "      <td>臺灣桃園地方法院民事判決107年度訴字第1641號原告新光產物保險股份有限公司桃園分公司法定...</td>\n",
       "      <td>['民法第203條', '民法第196條', '民法第196條第1項', '民法第233條第...</td>\n",
       "      <td>廖珮伶</td>\n",
       "      <td>民事判決</td>\n",
       "      <td>損害賠償</td>\n",
       "      <td>107    年    9     月    3     日</td>\n",
       "    </tr>\n",
       "    <tr>\n",
       "      <th>2</th>\n",
       "      <td>2</td>\n",
       "      <td>106,士小,787</td>\n",
       "      <td>臺灣士林地方法院小額民事判決106年度士小字第787號原告新安東京海上產物保險股份有限公司法...</td>\n",
       "      <td>['民法第184條第1項', '民法第196條', '民事訴訟法第436條之24第2項', ...</td>\n",
       "      <td>張明儀</td>\n",
       "      <td>民事判決</td>\n",
       "      <td>侵權行為損害賠償</td>\n",
       "      <td>106   年      8    月    11   日</td>\n",
       "    </tr>\n",
       "    <tr>\n",
       "      <th>3</th>\n",
       "      <td>3</td>\n",
       "      <td>105,湖小,595</td>\n",
       "      <td>臺灣士林地方法院小額民事訴訟判決105年度湖小字第595號原告旺旺友聯產物保險股份有限公司法...</td>\n",
       "      <td>['民法第196條', '營利事業所得稅查核準則第95條第6項', '民法第217條第1項'...</td>\n",
       "      <td>黃紀錄</td>\n",
       "      <td>民事判決</td>\n",
       "      <td>損害賠償</td>\n",
       "      <td>105    年    8     月    15    日</td>\n",
       "    </tr>\n",
       "    <tr>\n",
       "      <th>4</th>\n",
       "      <td>4</td>\n",
       "      <td>105,投小,392</td>\n",
       "      <td>臺灣南投地方法院民事小額判決105年度投小字第392號原告新光產物保險股份有限公司台中分公司...</td>\n",
       "      <td>['民法第213條', '民法第184條第1項', '民事訴訟法第436條之8第1項', '...</td>\n",
       "      <td>張家豪</td>\n",
       "      <td>民事判決</td>\n",
       "      <td>損害賠償</td>\n",
       "      <td>105    年    11    月    24    日</td>\n",
       "    </tr>\n",
       "  </tbody>\n",
       "</table>\n",
       "</div>"
      ],
      "text/plain": [
       "   Unnamed: 0          案號                                                 內文  \\\n",
       "0           0  105,投小,319  臺灣南投地方法院民事小額判決105年度投小字第319號原告泰安產物保險股份有限公司法定代理人...   \n",
       "1           1  107,訴,1641  臺灣桃園地方法院民事判決107年度訴字第1641號原告新光產物保險股份有限公司桃園分公司法定...   \n",
       "2           2  106,士小,787  臺灣士林地方法院小額民事判決106年度士小字第787號原告新安東京海上產物保險股份有限公司法...   \n",
       "3           3  105,湖小,595  臺灣士林地方法院小額民事訴訟判決105年度湖小字第595號原告旺旺友聯產物保險股份有限公司法...   \n",
       "4           4  105,投小,392  臺灣南投地方法院民事小額判決105年度投小字第392號原告新光產物保險股份有限公司台中分公司...   \n",
       "\n",
       "                                                  法規  審判長  裁判類型        案由  \\\n",
       "0  ['民法第213條', '民法第184條第1項', '民事訴訟法第436條之8第1項', '...  張家豪  民事判決      損害賠償   \n",
       "1  ['民法第203條', '民法第196條', '民法第196條第1項', '民法第233條第...  廖珮伶  民事判決      損害賠償   \n",
       "2  ['民法第184條第1項', '民法第196條', '民事訴訟法第436條之24第2項', ...  張明儀  民事判決  侵權行為損害賠償   \n",
       "3  ['民法第196條', '營利事業所得稅查核準則第95條第6項', '民法第217條第1項'...  黃紀錄  民事判決      損害賠償   \n",
       "4  ['民法第213條', '民法第184條第1項', '民事訴訟法第436條之8第1項', '...  張家豪  民事判決      損害賠償   \n",
       "\n",
       "                                判決時間  \n",
       "0     105    年    11    月    24    日  \n",
       "1     107    年    9     月    3     日  \n",
       "2      106   年      8    月    11   日  \n",
       "3     105    年    8     月    15    日  \n",
       "4     105    年    11    月    24    日  "
      ]
     },
     "execution_count": 339,
     "metadata": {},
     "output_type": "execute_result"
    }
   ],
   "source": [
    "orgdata.head()"
   ]
  },
  {
   "cell_type": "code",
   "execution_count": 340,
   "id": "01a94f62",
   "metadata": {},
   "outputs": [
    {
     "name": "stdout",
     "output_type": "stream",
     "text": [
      "我/是/東吳大學/資料科學系/蔡芸琤/老師\n"
     ]
    }
   ],
   "source": [
    "documents = ['我是東吳大學資料科學系蔡芸琤老師']\n",
    "# 精確模式\n",
    "for sentence in documents:\n",
    "    seg_list = jieba.cut(sentence)\n",
    "    print('/'.join(seg_list))"
   ]
  },
  {
   "cell_type": "code",
   "execution_count": 341,
   "id": "a2c63b49",
   "metadata": {},
   "outputs": [
    {
     "name": "stdout",
     "output_type": "stream",
     "text": [
      "我/是/東吳大學/資料科學系/蔡芸琤/老師\n"
     ]
    }
   ],
   "source": [
    "jieba.load_userdict('./userdict.txt')\n",
    "\n",
    "for sentence in documents:\n",
    "    seg_list = jieba.cut(sentence)\n",
    "    print('/'.join(seg_list))"
   ]
  },
  {
   "cell_type": "code",
   "execution_count": 342,
   "id": "763d03bc",
   "metadata": {},
   "outputs": [
    {
     "data": {
      "text/html": [
       "<div>\n",
       "<style scoped>\n",
       "    .dataframe tbody tr th:only-of-type {\n",
       "        vertical-align: middle;\n",
       "    }\n",
       "\n",
       "    .dataframe tbody tr th {\n",
       "        vertical-align: top;\n",
       "    }\n",
       "\n",
       "    .dataframe thead th {\n",
       "        text-align: right;\n",
       "    }\n",
       "</style>\n",
       "<table border=\"1\" class=\"dataframe\">\n",
       "  <thead>\n",
       "    <tr style=\"text-align: right;\">\n",
       "      <th></th>\n",
       "      <th>Unnamed: 0</th>\n",
       "      <th>案號</th>\n",
       "      <th>內文</th>\n",
       "      <th>法規</th>\n",
       "      <th>審判長</th>\n",
       "      <th>裁判類型</th>\n",
       "      <th>案由</th>\n",
       "      <th>判決時間</th>\n",
       "      <th>seg</th>\n",
       "    </tr>\n",
       "  </thead>\n",
       "  <tbody>\n",
       "    <tr>\n",
       "      <th>0</th>\n",
       "      <td>0</td>\n",
       "      <td>105,投小,319</td>\n",
       "      <td>臺灣南投地方法院民事小額判決105年度投小字第319號原告泰安產物保險股份有限公司法定代理人...</td>\n",
       "      <td>['民法第213條', '民法第184條第1項', '民事訴訟法第436條之8第1項', '...</td>\n",
       "      <td>張家豪</td>\n",
       "      <td>民事判決</td>\n",
       "      <td>損害賠償</td>\n",
       "      <td>105    年    11    月    24    日</td>\n",
       "      <td></td>\n",
       "    </tr>\n",
       "    <tr>\n",
       "      <th>1</th>\n",
       "      <td>1</td>\n",
       "      <td>107,訴,1641</td>\n",
       "      <td>臺灣桃園地方法院民事判決107年度訴字第1641號原告新光產物保險股份有限公司桃園分公司法定...</td>\n",
       "      <td>['民法第203條', '民法第196條', '民法第196條第1項', '民法第233條第...</td>\n",
       "      <td>廖珮伶</td>\n",
       "      <td>民事判決</td>\n",
       "      <td>損害賠償</td>\n",
       "      <td>107    年    9     月    3     日</td>\n",
       "      <td></td>\n",
       "    </tr>\n",
       "    <tr>\n",
       "      <th>2</th>\n",
       "      <td>2</td>\n",
       "      <td>106,士小,787</td>\n",
       "      <td>臺灣士林地方法院小額民事判決106年度士小字第787號原告新安東京海上產物保險股份有限公司法...</td>\n",
       "      <td>['民法第184條第1項', '民法第196條', '民事訴訟法第436條之24第2項', ...</td>\n",
       "      <td>張明儀</td>\n",
       "      <td>民事判決</td>\n",
       "      <td>侵權行為損害賠償</td>\n",
       "      <td>106   年      8    月    11   日</td>\n",
       "      <td></td>\n",
       "    </tr>\n",
       "    <tr>\n",
       "      <th>3</th>\n",
       "      <td>3</td>\n",
       "      <td>105,湖小,595</td>\n",
       "      <td>臺灣士林地方法院小額民事訴訟判決105年度湖小字第595號原告旺旺友聯產物保險股份有限公司法...</td>\n",
       "      <td>['民法第196條', '營利事業所得稅查核準則第95條第6項', '民法第217條第1項'...</td>\n",
       "      <td>黃紀錄</td>\n",
       "      <td>民事判決</td>\n",
       "      <td>損害賠償</td>\n",
       "      <td>105    年    8     月    15    日</td>\n",
       "      <td></td>\n",
       "    </tr>\n",
       "    <tr>\n",
       "      <th>4</th>\n",
       "      <td>4</td>\n",
       "      <td>105,投小,392</td>\n",
       "      <td>臺灣南投地方法院民事小額判決105年度投小字第392號原告新光產物保險股份有限公司台中分公司...</td>\n",
       "      <td>['民法第213條', '民法第184條第1項', '民事訴訟法第436條之8第1項', '...</td>\n",
       "      <td>張家豪</td>\n",
       "      <td>民事判決</td>\n",
       "      <td>損害賠償</td>\n",
       "      <td>105    年    11    月    24    日</td>\n",
       "      <td></td>\n",
       "    </tr>\n",
       "  </tbody>\n",
       "</table>\n",
       "</div>"
      ],
      "text/plain": [
       "   Unnamed: 0          案號                                                 內文  \\\n",
       "0           0  105,投小,319  臺灣南投地方法院民事小額判決105年度投小字第319號原告泰安產物保險股份有限公司法定代理人...   \n",
       "1           1  107,訴,1641  臺灣桃園地方法院民事判決107年度訴字第1641號原告新光產物保險股份有限公司桃園分公司法定...   \n",
       "2           2  106,士小,787  臺灣士林地方法院小額民事判決106年度士小字第787號原告新安東京海上產物保險股份有限公司法...   \n",
       "3           3  105,湖小,595  臺灣士林地方法院小額民事訴訟判決105年度湖小字第595號原告旺旺友聯產物保險股份有限公司法...   \n",
       "4           4  105,投小,392  臺灣南投地方法院民事小額判決105年度投小字第392號原告新光產物保險股份有限公司台中分公司...   \n",
       "\n",
       "                                                  法規  審判長  裁判類型        案由  \\\n",
       "0  ['民法第213條', '民法第184條第1項', '民事訴訟法第436條之8第1項', '...  張家豪  民事判決      損害賠償   \n",
       "1  ['民法第203條', '民法第196條', '民法第196條第1項', '民法第233條第...  廖珮伶  民事判決      損害賠償   \n",
       "2  ['民法第184條第1項', '民法第196條', '民事訴訟法第436條之24第2項', ...  張明儀  民事判決  侵權行為損害賠償   \n",
       "3  ['民法第196條', '營利事業所得稅查核準則第95條第6項', '民法第217條第1項'...  黃紀錄  民事判決      損害賠償   \n",
       "4  ['民法第213條', '民法第184條第1項', '民事訴訟法第436條之8第1項', '...  張家豪  民事判決      損害賠償   \n",
       "\n",
       "                                判決時間 seg  \n",
       "0     105    年    11    月    24    日      \n",
       "1     107    年    9     月    3     日      \n",
       "2      106   年      8    月    11   日      \n",
       "3     105    年    8     月    15    日      \n",
       "4     105    年    11    月    24    日      "
      ]
     },
     "execution_count": 342,
     "metadata": {},
     "output_type": "execute_result"
    }
   ],
   "source": [
    "orgdata['seg'] = \"\"\n",
    "orgdata.head()"
   ]
  },
  {
   "cell_type": "markdown",
   "id": "eda6500a",
   "metadata": {},
   "source": [
    "## https://github.com/fxsjy/jieba"
   ]
  },
  {
   "cell_type": "code",
   "execution_count": 343,
   "id": "405bf687",
   "metadata": {},
   "outputs": [
    {
     "name": "stderr",
     "output_type": "stream",
     "text": [
      "C:\\Users\\pecu6\\AppData\\Local\\Temp\\ipykernel_20604\\289444529.py:7: SettingWithCopyWarning:\n",
      "\n",
      "\n",
      "A value is trying to be set on a copy of a slice from a DataFrame\n",
      "\n",
      "See the caveats in the documentation: https://pandas.pydata.org/pandas-docs/stable/user_guide/indexing.html#returning-a-view-versus-a-copy\n",
      "\n"
     ]
    }
   ],
   "source": [
    "jieba.analyse.set_stop_words('stopwords.txt')\n",
    "index = 0\n",
    "for documents in orgdata['內文']:\n",
    "    documents = re.sub('\\d+', '', documents)\n",
    "    documents = re.sub('[a-zA-Z0-9]+', '', documents)    \n",
    "    seg_list = jieba.analyse.extract_tags(documents, topK=50, withWeight=False, allowPOS=()) \n",
    "    orgdata['seg'].iloc[index] = seg_list\n",
    "    index += 1"
   ]
  },
  {
   "cell_type": "code",
   "execution_count": 344,
   "id": "d3ef208c",
   "metadata": {},
   "outputs": [
    {
     "data": {
      "text/plain": [
       "0            [...]\n",
       "1            [...]\n",
       "2     [..., -----]\n",
       "3            [...]\n",
       "4            [...]\n",
       "          ...     \n",
       "95           [...]\n",
       "96    [..., -----]\n",
       "97       [..., --]\n",
       "98           [...]\n",
       "99           [...]\n",
       "Name: seg, Length: 100, dtype: object"
      ]
     },
     "execution_count": 344,
     "metadata": {},
     "output_type": "execute_result"
    }
   ],
   "source": [
    "orgdata['seg']"
   ]
  },
  {
   "cell_type": "markdown",
   "id": "a72603ad",
   "metadata": {},
   "source": [
    "## 取出判決年，可用此概念再抽取出其他屬性"
   ]
  },
  {
   "cell_type": "code",
   "execution_count": 332,
   "id": "1e9f1bf9",
   "metadata": {},
   "outputs": [],
   "source": [
    "date_split = orgdata['判決時間'].iloc[0].split('年')"
   ]
  },
  {
   "cell_type": "code",
   "execution_count": 333,
   "id": "3f6f8c58",
   "metadata": {},
   "outputs": [
    {
     "data": {
      "text/plain": [
       "'   105    '"
      ]
     },
     "execution_count": 333,
     "metadata": {},
     "output_type": "execute_result"
    }
   ],
   "source": [
    "date_split[0]"
   ]
  },
  {
   "cell_type": "code",
   "execution_count": 334,
   "id": "7b15fc5c",
   "metadata": {},
   "outputs": [
    {
     "name": "stderr",
     "output_type": "stream",
     "text": [
      "C:\\Users\\pecu6\\AppData\\Local\\Temp\\ipykernel_20604\\509872380.py:6: SettingWithCopyWarning:\n",
      "\n",
      "\n",
      "A value is trying to be set on a copy of a slice from a DataFrame\n",
      "\n",
      "See the caveats in the documentation: https://pandas.pydata.org/pandas-docs/stable/user_guide/indexing.html#returning-a-view-versus-a-copy\n",
      "\n"
     ]
    }
   ],
   "source": [
    "import re\n",
    "orgdata['year'] = \"\"\n",
    "index = 0\n",
    "for documents in orgdata['判決時間']:\n",
    "    date_split = documents.split('年')\n",
    "    orgdata['year'].iloc[index] = re.sub(r\"\\s+\", \"\", date_split[0])\n",
    "    index += 1"
   ]
  },
  {
   "cell_type": "code",
   "execution_count": 335,
   "id": "c0df5fbc",
   "metadata": {},
   "outputs": [
    {
     "data": {
      "text/html": [
       "<div>\n",
       "<style scoped>\n",
       "    .dataframe tbody tr th:only-of-type {\n",
       "        vertical-align: middle;\n",
       "    }\n",
       "\n",
       "    .dataframe tbody tr th {\n",
       "        vertical-align: top;\n",
       "    }\n",
       "\n",
       "    .dataframe thead th {\n",
       "        text-align: right;\n",
       "    }\n",
       "</style>\n",
       "<table border=\"1\" class=\"dataframe\">\n",
       "  <thead>\n",
       "    <tr style=\"text-align: right;\">\n",
       "      <th></th>\n",
       "      <th>Unnamed: 0</th>\n",
       "      <th>案號</th>\n",
       "      <th>內文</th>\n",
       "      <th>法規</th>\n",
       "      <th>審判長</th>\n",
       "      <th>裁判類型</th>\n",
       "      <th>案由</th>\n",
       "      <th>判決時間</th>\n",
       "      <th>seg</th>\n",
       "      <th>year</th>\n",
       "    </tr>\n",
       "  </thead>\n",
       "  <tbody>\n",
       "    <tr>\n",
       "      <th>0</th>\n",
       "      <td>0</td>\n",
       "      <td>105,投小,319</td>\n",
       "      <td>臺灣南投地方法院民事小額判決105年度投小字第319號原告泰安產物保險股份有限公司法定代理人...</td>\n",
       "      <td>['民法第213條', '民法第184條第1項', '民事訴訟法第436條之8第1項', '...</td>\n",
       "      <td>張家豪</td>\n",
       "      <td>民事判決</td>\n",
       "      <td>損害賠償</td>\n",
       "      <td>105    年    11    月    24    日</td>\n",
       "      <td>[第條, 本件, 原告, 被告, 系爭, 車禍, 賠償, 損害, 第項, 本院, 請求, 事...</td>\n",
       "      <td>105</td>\n",
       "    </tr>\n",
       "    <tr>\n",
       "      <th>1</th>\n",
       "      <td>1</td>\n",
       "      <td>107,訴,1641</td>\n",
       "      <td>臺灣桃園地方法院民事判決107年度訴字第1641號原告新光產物保險股份有限公司桃園分公司法定...</td>\n",
       "      <td>['民法第203條', '民法第196條', '民法第196條第1項', '民法第233條第...</td>\n",
       "      <td>廖珮伶</td>\n",
       "      <td>民事判決</td>\n",
       "      <td>損害賠償</td>\n",
       "      <td>107    年    9     月    3     日</td>\n",
       "      <td>[被告, 第條, 車輛, 請求, 原告, 賠償, 保險, 系爭, 本件, 泰元, 第項, 本...</td>\n",
       "      <td>107</td>\n",
       "    </tr>\n",
       "    <tr>\n",
       "      <th>2</th>\n",
       "      <td>2</td>\n",
       "      <td>106,士小,787</td>\n",
       "      <td>臺灣士林地方法院小額民事判決106年度士小字第787號原告新安東京海上產物保險股份有限公司法...</td>\n",
       "      <td>['民法第184條第1項', '民法第196條', '民事訴訟法第436條之24第2項', ...</td>\n",
       "      <td>張明儀</td>\n",
       "      <td>民事判決</td>\n",
       "      <td>侵權行為損害賠償</td>\n",
       "      <td>106   年      8    月    11   日</td>\n",
       "      <td>[賠償, 第條, 原告, 被告, 請求, 第項, 損害, 過失, 規定, 金額, 上訴, 負...</td>\n",
       "      <td>106</td>\n",
       "    </tr>\n",
       "    <tr>\n",
       "      <th>3</th>\n",
       "      <td>3</td>\n",
       "      <td>105,湖小,595</td>\n",
       "      <td>臺灣士林地方法院小額民事訴訟判決105年度湖小字第595號原告旺旺友聯產物保險股份有限公司法...</td>\n",
       "      <td>['民法第196條', '營利事業所得稅查核準則第95條第6項', '民法第217條第1項'...</td>\n",
       "      <td>黃紀錄</td>\n",
       "      <td>民事判決</td>\n",
       "      <td>損害賠償</td>\n",
       "      <td>105    年    8     月    15    日</td>\n",
       "      <td>[車輛, 系爭, 被告, 原告, 發生, 過失, 賠償, 被害人, 駕駛, 本件, 車禍, ...</td>\n",
       "      <td>105</td>\n",
       "    </tr>\n",
       "    <tr>\n",
       "      <th>4</th>\n",
       "      <td>4</td>\n",
       "      <td>105,投小,392</td>\n",
       "      <td>臺灣南投地方法院民事小額判決105年度投小字第392號原告新光產物保險股份有限公司台中分公司...</td>\n",
       "      <td>['民法第213條', '民法第184條第1項', '民事訴訟法第436條之8第1項', '...</td>\n",
       "      <td>張家豪</td>\n",
       "      <td>民事判決</td>\n",
       "      <td>損害賠償</td>\n",
       "      <td>105    年    11    月    24    日</td>\n",
       "      <td>[第條, 系爭, 原告, 本件, 被告, 賠償, 第項, 車禍, 本院, 損害, 規定, 請...</td>\n",
       "      <td>105</td>\n",
       "    </tr>\n",
       "  </tbody>\n",
       "</table>\n",
       "</div>"
      ],
      "text/plain": [
       "   Unnamed: 0          案號                                                 內文  \\\n",
       "0           0  105,投小,319  臺灣南投地方法院民事小額判決105年度投小字第319號原告泰安產物保險股份有限公司法定代理人...   \n",
       "1           1  107,訴,1641  臺灣桃園地方法院民事判決107年度訴字第1641號原告新光產物保險股份有限公司桃園分公司法定...   \n",
       "2           2  106,士小,787  臺灣士林地方法院小額民事判決106年度士小字第787號原告新安東京海上產物保險股份有限公司法...   \n",
       "3           3  105,湖小,595  臺灣士林地方法院小額民事訴訟判決105年度湖小字第595號原告旺旺友聯產物保險股份有限公司法...   \n",
       "4           4  105,投小,392  臺灣南投地方法院民事小額判決105年度投小字第392號原告新光產物保險股份有限公司台中分公司...   \n",
       "\n",
       "                                                  法規  審判長  裁判類型        案由  \\\n",
       "0  ['民法第213條', '民法第184條第1項', '民事訴訟法第436條之8第1項', '...  張家豪  民事判決      損害賠償   \n",
       "1  ['民法第203條', '民法第196條', '民法第196條第1項', '民法第233條第...  廖珮伶  民事判決      損害賠償   \n",
       "2  ['民法第184條第1項', '民法第196條', '民事訴訟法第436條之24第2項', ...  張明儀  民事判決  侵權行為損害賠償   \n",
       "3  ['民法第196條', '營利事業所得稅查核準則第95條第6項', '民法第217條第1項'...  黃紀錄  民事判決      損害賠償   \n",
       "4  ['民法第213條', '民法第184條第1項', '民事訴訟法第436條之8第1項', '...  張家豪  民事判決      損害賠償   \n",
       "\n",
       "                                判決時間  \\\n",
       "0     105    年    11    月    24    日   \n",
       "1     107    年    9     月    3     日   \n",
       "2      106   年      8    月    11   日   \n",
       "3     105    年    8     月    15    日   \n",
       "4     105    年    11    月    24    日   \n",
       "\n",
       "                                                 seg year  \n",
       "0  [第條, 本件, 原告, 被告, 系爭, 車禍, 賠償, 損害, 第項, 本院, 請求, 事...  105  \n",
       "1  [被告, 第條, 車輛, 請求, 原告, 賠償, 保險, 系爭, 本件, 泰元, 第項, 本...  107  \n",
       "2  [賠償, 第條, 原告, 被告, 請求, 第項, 損害, 過失, 規定, 金額, 上訴, 負...  106  \n",
       "3  [車輛, 系爭, 被告, 原告, 發生, 過失, 賠償, 被害人, 駕駛, 本件, 車禍, ...  105  \n",
       "4  [第條, 系爭, 原告, 本件, 被告, 賠償, 第項, 車禍, 本院, 損害, 規定, 請...  105  "
      ]
     },
     "execution_count": 335,
     "metadata": {},
     "output_type": "execute_result"
    }
   ],
   "source": [
    "orgdata.head()"
   ]
  },
  {
   "cell_type": "code",
   "execution_count": 336,
   "id": "3c0b68ce",
   "metadata": {},
   "outputs": [
    {
     "data": {
      "text/plain": [
       "dict_keys(['105', '107', '106', '108', '109', '104', '101', '103', '聖日', '102', '110'])"
      ]
     },
     "execution_count": 336,
     "metadata": {},
     "output_type": "execute_result"
    }
   ],
   "source": [
    "Counter(orgdata['year']).keys()"
   ]
  },
  {
   "cell_type": "markdown",
   "id": "676c1ed6",
   "metadata": {},
   "source": [
    "## 資料清整與補值"
   ]
  },
  {
   "cell_type": "code",
   "execution_count": 297,
   "id": "8d9501bf",
   "metadata": {},
   "outputs": [
    {
     "data": {
      "text/html": [
       "<div>\n",
       "<style scoped>\n",
       "    .dataframe tbody tr th:only-of-type {\n",
       "        vertical-align: middle;\n",
       "    }\n",
       "\n",
       "    .dataframe tbody tr th {\n",
       "        vertical-align: top;\n",
       "    }\n",
       "\n",
       "    .dataframe thead th {\n",
       "        text-align: right;\n",
       "    }\n",
       "</style>\n",
       "<table border=\"1\" class=\"dataframe\">\n",
       "  <thead>\n",
       "    <tr style=\"text-align: right;\">\n",
       "      <th></th>\n",
       "      <th>Unnamed: 0</th>\n",
       "      <th>案號</th>\n",
       "      <th>內文</th>\n",
       "      <th>法規</th>\n",
       "      <th>審判長</th>\n",
       "      <th>裁判類型</th>\n",
       "      <th>案由</th>\n",
       "      <th>判決時間</th>\n",
       "      <th>seg</th>\n",
       "      <th>year</th>\n",
       "    </tr>\n",
       "  </thead>\n",
       "  <tbody>\n",
       "    <tr>\n",
       "      <th>32</th>\n",
       "      <td>32</td>\n",
       "      <td>108,竹北簡,171</td>\n",
       "      <td>臺灣新竹地方法院民事簡易判決108年度竹北簡字第171號原告明台產物保險股份有限公司法定代理...</td>\n",
       "      <td>['民法第213條', '民法第196條', '民事訴訟法第389條第1項第5款', '道路...</td>\n",
       "      <td>陳麗芬</td>\n",
       "      <td>民事判決</td>\n",
       "      <td>損害賠償</td>\n",
       "      <td>聖\\n日</td>\n",
       "      <td>[第條, 原告, 車輛, 被告, 保險, 請求, 賠償, 訴訟, 竹北, 系爭, 第項, 本...</td>\n",
       "      <td>聖日</td>\n",
       "    </tr>\n",
       "  </tbody>\n",
       "</table>\n",
       "</div>"
      ],
      "text/plain": [
       "    Unnamed: 0           案號  \\\n",
       "32          32  108,竹北簡,171   \n",
       "\n",
       "                                                   內文  \\\n",
       "32  臺灣新竹地方法院民事簡易判決108年度竹北簡字第171號原告明台產物保險股份有限公司法定代理...   \n",
       "\n",
       "                                                   法規  審判長  裁判類型    案由  判決時間  \\\n",
       "32  ['民法第213條', '民法第196條', '民事訴訟法第389條第1項第5款', '道路...  陳麗芬  民事判決  損害賠償  聖\\n日   \n",
       "\n",
       "                                                  seg year  \n",
       "32  [第條, 原告, 車輛, 被告, 保險, 請求, 賠償, 訴訟, 竹北, 系爭, 第項, 本...   聖日  "
      ]
     },
     "execution_count": 297,
     "metadata": {},
     "output_type": "execute_result"
    }
   ],
   "source": [
    "orgdata.loc[(orgdata['year'] == '聖日')]"
   ]
  },
  {
   "cell_type": "code",
   "execution_count": 298,
   "id": "ace98245",
   "metadata": {},
   "outputs": [
    {
     "data": {
      "text/plain": [
       "dict_keys(['105', '107', '106', '108', '109', '104', '101', '103', '102', '110'])"
      ]
     },
     "execution_count": 298,
     "metadata": {},
     "output_type": "execute_result"
    }
   ],
   "source": [
    "orgdata.loc[32, 'year'] = '108'\n",
    "Counter(orgdata['year']).keys()"
   ]
  },
  {
   "cell_type": "markdown",
   "id": "40d147dc",
   "metadata": {},
   "source": [
    "## 備份整理過後的資料"
   ]
  },
  {
   "cell_type": "code",
   "execution_count": 299,
   "id": "33314014",
   "metadata": {},
   "outputs": [],
   "source": [
    "orgdata.to_csv(\"LawTech_TextMining.csv\", index=False)"
   ]
  },
  {
   "cell_type": "markdown",
   "id": "e65e19ae",
   "metadata": {},
   "source": [
    "## 挑選案由類型進行分析，可用此概念再抽取出其他屬性"
   ]
  },
  {
   "cell_type": "code",
   "execution_count": 300,
   "id": "0e19085c",
   "metadata": {},
   "outputs": [],
   "source": [
    "words = list(orgdata['案由'])\n",
    "show_key = pd.DataFrame(Counter(words).keys())\n",
    "show_values = pd.DataFrame(Counter(words).values())"
   ]
  },
  {
   "cell_type": "code",
   "execution_count": 301,
   "id": "b7ba5b64",
   "metadata": {},
   "outputs": [
    {
     "data": {
      "text/html": [
       "<div>\n",
       "<style scoped>\n",
       "    .dataframe tbody tr th:only-of-type {\n",
       "        vertical-align: middle;\n",
       "    }\n",
       "\n",
       "    .dataframe tbody tr th {\n",
       "        vertical-align: top;\n",
       "    }\n",
       "\n",
       "    .dataframe thead th {\n",
       "        text-align: right;\n",
       "    }\n",
       "</style>\n",
       "<table border=\"1\" class=\"dataframe\">\n",
       "  <thead>\n",
       "    <tr style=\"text-align: right;\">\n",
       "      <th></th>\n",
       "      <th>judge</th>\n",
       "      <th>freguency</th>\n",
       "    </tr>\n",
       "  </thead>\n",
       "  <tbody>\n",
       "    <tr>\n",
       "      <th>0</th>\n",
       "      <td>損害賠償</td>\n",
       "      <td>80</td>\n",
       "    </tr>\n",
       "    <tr>\n",
       "      <th>1</th>\n",
       "      <td>侵權行為損害賠償</td>\n",
       "      <td>19</td>\n",
       "    </tr>\n",
       "    <tr>\n",
       "      <th>2</th>\n",
       "      <td>請求侵權行為損害賠償</td>\n",
       "      <td>1</td>\n",
       "    </tr>\n",
       "  </tbody>\n",
       "</table>\n",
       "</div>"
      ],
      "text/plain": [
       "        judge  freguency\n",
       "0        損害賠償         80\n",
       "1    侵權行為損害賠償         19\n",
       "2  請求侵權行為損害賠償          1"
      ]
     },
     "execution_count": 301,
     "metadata": {},
     "output_type": "execute_result"
    }
   ],
   "source": [
    "df = [show_key, show_values]\n",
    "result = pd.concat(df, axis=1)\n",
    "result.columns = ['judge', 'freguency']\n",
    "result"
   ]
  },
  {
   "cell_type": "markdown",
   "id": "435e4022",
   "metadata": {},
   "source": [
    "## 繪製 Bar，要與 Histogram 做使用區隔"
   ]
  },
  {
   "cell_type": "code",
   "execution_count": 302,
   "id": "e9ce0249",
   "metadata": {},
   "outputs": [
    {
     "data": {
      "application/vnd.plotly.v1+json": {
       "config": {
        "plotlyServerURL": "https://plot.ly"
       },
       "data": [
        {
         "alignmentgroup": "True",
         "hovertemplate": "judge=%{x}<br>freguency=%{y}<extra></extra>",
         "legendgroup": "",
         "marker": {
          "color": "#636efa",
          "pattern": {
           "shape": ""
          }
         },
         "name": "",
         "offsetgroup": "",
         "orientation": "v",
         "showlegend": false,
         "textposition": "auto",
         "type": "bar",
         "x": [
          "損害賠償",
          "侵權行為損害賠償",
          "請求侵權行為損害賠償"
         ],
         "xaxis": "x",
         "y": [
          80,
          19,
          1
         ],
         "yaxis": "y"
        }
       ],
       "layout": {
        "barmode": "relative",
        "legend": {
         "tracegroupgap": 0
        },
        "template": {
         "data": {
          "bar": [
           {
            "error_x": {
             "color": "#2a3f5f"
            },
            "error_y": {
             "color": "#2a3f5f"
            },
            "marker": {
             "line": {
              "color": "#E5ECF6",
              "width": 0.5
             },
             "pattern": {
              "fillmode": "overlay",
              "size": 10,
              "solidity": 0.2
             }
            },
            "type": "bar"
           }
          ],
          "barpolar": [
           {
            "marker": {
             "line": {
              "color": "#E5ECF6",
              "width": 0.5
             },
             "pattern": {
              "fillmode": "overlay",
              "size": 10,
              "solidity": 0.2
             }
            },
            "type": "barpolar"
           }
          ],
          "carpet": [
           {
            "aaxis": {
             "endlinecolor": "#2a3f5f",
             "gridcolor": "white",
             "linecolor": "white",
             "minorgridcolor": "white",
             "startlinecolor": "#2a3f5f"
            },
            "baxis": {
             "endlinecolor": "#2a3f5f",
             "gridcolor": "white",
             "linecolor": "white",
             "minorgridcolor": "white",
             "startlinecolor": "#2a3f5f"
            },
            "type": "carpet"
           }
          ],
          "choropleth": [
           {
            "colorbar": {
             "outlinewidth": 0,
             "ticks": ""
            },
            "type": "choropleth"
           }
          ],
          "contour": [
           {
            "colorbar": {
             "outlinewidth": 0,
             "ticks": ""
            },
            "colorscale": [
             [
              0,
              "#0d0887"
             ],
             [
              0.1111111111111111,
              "#46039f"
             ],
             [
              0.2222222222222222,
              "#7201a8"
             ],
             [
              0.3333333333333333,
              "#9c179e"
             ],
             [
              0.4444444444444444,
              "#bd3786"
             ],
             [
              0.5555555555555556,
              "#d8576b"
             ],
             [
              0.6666666666666666,
              "#ed7953"
             ],
             [
              0.7777777777777778,
              "#fb9f3a"
             ],
             [
              0.8888888888888888,
              "#fdca26"
             ],
             [
              1,
              "#f0f921"
             ]
            ],
            "type": "contour"
           }
          ],
          "contourcarpet": [
           {
            "colorbar": {
             "outlinewidth": 0,
             "ticks": ""
            },
            "type": "contourcarpet"
           }
          ],
          "heatmap": [
           {
            "colorbar": {
             "outlinewidth": 0,
             "ticks": ""
            },
            "colorscale": [
             [
              0,
              "#0d0887"
             ],
             [
              0.1111111111111111,
              "#46039f"
             ],
             [
              0.2222222222222222,
              "#7201a8"
             ],
             [
              0.3333333333333333,
              "#9c179e"
             ],
             [
              0.4444444444444444,
              "#bd3786"
             ],
             [
              0.5555555555555556,
              "#d8576b"
             ],
             [
              0.6666666666666666,
              "#ed7953"
             ],
             [
              0.7777777777777778,
              "#fb9f3a"
             ],
             [
              0.8888888888888888,
              "#fdca26"
             ],
             [
              1,
              "#f0f921"
             ]
            ],
            "type": "heatmap"
           }
          ],
          "heatmapgl": [
           {
            "colorbar": {
             "outlinewidth": 0,
             "ticks": ""
            },
            "colorscale": [
             [
              0,
              "#0d0887"
             ],
             [
              0.1111111111111111,
              "#46039f"
             ],
             [
              0.2222222222222222,
              "#7201a8"
             ],
             [
              0.3333333333333333,
              "#9c179e"
             ],
             [
              0.4444444444444444,
              "#bd3786"
             ],
             [
              0.5555555555555556,
              "#d8576b"
             ],
             [
              0.6666666666666666,
              "#ed7953"
             ],
             [
              0.7777777777777778,
              "#fb9f3a"
             ],
             [
              0.8888888888888888,
              "#fdca26"
             ],
             [
              1,
              "#f0f921"
             ]
            ],
            "type": "heatmapgl"
           }
          ],
          "histogram": [
           {
            "marker": {
             "pattern": {
              "fillmode": "overlay",
              "size": 10,
              "solidity": 0.2
             }
            },
            "type": "histogram"
           }
          ],
          "histogram2d": [
           {
            "colorbar": {
             "outlinewidth": 0,
             "ticks": ""
            },
            "colorscale": [
             [
              0,
              "#0d0887"
             ],
             [
              0.1111111111111111,
              "#46039f"
             ],
             [
              0.2222222222222222,
              "#7201a8"
             ],
             [
              0.3333333333333333,
              "#9c179e"
             ],
             [
              0.4444444444444444,
              "#bd3786"
             ],
             [
              0.5555555555555556,
              "#d8576b"
             ],
             [
              0.6666666666666666,
              "#ed7953"
             ],
             [
              0.7777777777777778,
              "#fb9f3a"
             ],
             [
              0.8888888888888888,
              "#fdca26"
             ],
             [
              1,
              "#f0f921"
             ]
            ],
            "type": "histogram2d"
           }
          ],
          "histogram2dcontour": [
           {
            "colorbar": {
             "outlinewidth": 0,
             "ticks": ""
            },
            "colorscale": [
             [
              0,
              "#0d0887"
             ],
             [
              0.1111111111111111,
              "#46039f"
             ],
             [
              0.2222222222222222,
              "#7201a8"
             ],
             [
              0.3333333333333333,
              "#9c179e"
             ],
             [
              0.4444444444444444,
              "#bd3786"
             ],
             [
              0.5555555555555556,
              "#d8576b"
             ],
             [
              0.6666666666666666,
              "#ed7953"
             ],
             [
              0.7777777777777778,
              "#fb9f3a"
             ],
             [
              0.8888888888888888,
              "#fdca26"
             ],
             [
              1,
              "#f0f921"
             ]
            ],
            "type": "histogram2dcontour"
           }
          ],
          "mesh3d": [
           {
            "colorbar": {
             "outlinewidth": 0,
             "ticks": ""
            },
            "type": "mesh3d"
           }
          ],
          "parcoords": [
           {
            "line": {
             "colorbar": {
              "outlinewidth": 0,
              "ticks": ""
             }
            },
            "type": "parcoords"
           }
          ],
          "pie": [
           {
            "automargin": true,
            "type": "pie"
           }
          ],
          "scatter": [
           {
            "marker": {
             "colorbar": {
              "outlinewidth": 0,
              "ticks": ""
             }
            },
            "type": "scatter"
           }
          ],
          "scatter3d": [
           {
            "line": {
             "colorbar": {
              "outlinewidth": 0,
              "ticks": ""
             }
            },
            "marker": {
             "colorbar": {
              "outlinewidth": 0,
              "ticks": ""
             }
            },
            "type": "scatter3d"
           }
          ],
          "scattercarpet": [
           {
            "marker": {
             "colorbar": {
              "outlinewidth": 0,
              "ticks": ""
             }
            },
            "type": "scattercarpet"
           }
          ],
          "scattergeo": [
           {
            "marker": {
             "colorbar": {
              "outlinewidth": 0,
              "ticks": ""
             }
            },
            "type": "scattergeo"
           }
          ],
          "scattergl": [
           {
            "marker": {
             "colorbar": {
              "outlinewidth": 0,
              "ticks": ""
             }
            },
            "type": "scattergl"
           }
          ],
          "scattermapbox": [
           {
            "marker": {
             "colorbar": {
              "outlinewidth": 0,
              "ticks": ""
             }
            },
            "type": "scattermapbox"
           }
          ],
          "scatterpolar": [
           {
            "marker": {
             "colorbar": {
              "outlinewidth": 0,
              "ticks": ""
             }
            },
            "type": "scatterpolar"
           }
          ],
          "scatterpolargl": [
           {
            "marker": {
             "colorbar": {
              "outlinewidth": 0,
              "ticks": ""
             }
            },
            "type": "scatterpolargl"
           }
          ],
          "scatterternary": [
           {
            "marker": {
             "colorbar": {
              "outlinewidth": 0,
              "ticks": ""
             }
            },
            "type": "scatterternary"
           }
          ],
          "surface": [
           {
            "colorbar": {
             "outlinewidth": 0,
             "ticks": ""
            },
            "colorscale": [
             [
              0,
              "#0d0887"
             ],
             [
              0.1111111111111111,
              "#46039f"
             ],
             [
              0.2222222222222222,
              "#7201a8"
             ],
             [
              0.3333333333333333,
              "#9c179e"
             ],
             [
              0.4444444444444444,
              "#bd3786"
             ],
             [
              0.5555555555555556,
              "#d8576b"
             ],
             [
              0.6666666666666666,
              "#ed7953"
             ],
             [
              0.7777777777777778,
              "#fb9f3a"
             ],
             [
              0.8888888888888888,
              "#fdca26"
             ],
             [
              1,
              "#f0f921"
             ]
            ],
            "type": "surface"
           }
          ],
          "table": [
           {
            "cells": {
             "fill": {
              "color": "#EBF0F8"
             },
             "line": {
              "color": "white"
             }
            },
            "header": {
             "fill": {
              "color": "#C8D4E3"
             },
             "line": {
              "color": "white"
             }
            },
            "type": "table"
           }
          ]
         },
         "layout": {
          "annotationdefaults": {
           "arrowcolor": "#2a3f5f",
           "arrowhead": 0,
           "arrowwidth": 1
          },
          "autotypenumbers": "strict",
          "coloraxis": {
           "colorbar": {
            "outlinewidth": 0,
            "ticks": ""
           }
          },
          "colorscale": {
           "diverging": [
            [
             0,
             "#8e0152"
            ],
            [
             0.1,
             "#c51b7d"
            ],
            [
             0.2,
             "#de77ae"
            ],
            [
             0.3,
             "#f1b6da"
            ],
            [
             0.4,
             "#fde0ef"
            ],
            [
             0.5,
             "#f7f7f7"
            ],
            [
             0.6,
             "#e6f5d0"
            ],
            [
             0.7,
             "#b8e186"
            ],
            [
             0.8,
             "#7fbc41"
            ],
            [
             0.9,
             "#4d9221"
            ],
            [
             1,
             "#276419"
            ]
           ],
           "sequential": [
            [
             0,
             "#0d0887"
            ],
            [
             0.1111111111111111,
             "#46039f"
            ],
            [
             0.2222222222222222,
             "#7201a8"
            ],
            [
             0.3333333333333333,
             "#9c179e"
            ],
            [
             0.4444444444444444,
             "#bd3786"
            ],
            [
             0.5555555555555556,
             "#d8576b"
            ],
            [
             0.6666666666666666,
             "#ed7953"
            ],
            [
             0.7777777777777778,
             "#fb9f3a"
            ],
            [
             0.8888888888888888,
             "#fdca26"
            ],
            [
             1,
             "#f0f921"
            ]
           ],
           "sequentialminus": [
            [
             0,
             "#0d0887"
            ],
            [
             0.1111111111111111,
             "#46039f"
            ],
            [
             0.2222222222222222,
             "#7201a8"
            ],
            [
             0.3333333333333333,
             "#9c179e"
            ],
            [
             0.4444444444444444,
             "#bd3786"
            ],
            [
             0.5555555555555556,
             "#d8576b"
            ],
            [
             0.6666666666666666,
             "#ed7953"
            ],
            [
             0.7777777777777778,
             "#fb9f3a"
            ],
            [
             0.8888888888888888,
             "#fdca26"
            ],
            [
             1,
             "#f0f921"
            ]
           ]
          },
          "colorway": [
           "#636efa",
           "#EF553B",
           "#00cc96",
           "#ab63fa",
           "#FFA15A",
           "#19d3f3",
           "#FF6692",
           "#B6E880",
           "#FF97FF",
           "#FECB52"
          ],
          "font": {
           "color": "#2a3f5f"
          },
          "geo": {
           "bgcolor": "white",
           "lakecolor": "white",
           "landcolor": "#E5ECF6",
           "showlakes": true,
           "showland": true,
           "subunitcolor": "white"
          },
          "hoverlabel": {
           "align": "left"
          },
          "hovermode": "closest",
          "mapbox": {
           "style": "light"
          },
          "paper_bgcolor": "white",
          "plot_bgcolor": "#E5ECF6",
          "polar": {
           "angularaxis": {
            "gridcolor": "white",
            "linecolor": "white",
            "ticks": ""
           },
           "bgcolor": "#E5ECF6",
           "radialaxis": {
            "gridcolor": "white",
            "linecolor": "white",
            "ticks": ""
           }
          },
          "scene": {
           "xaxis": {
            "backgroundcolor": "#E5ECF6",
            "gridcolor": "white",
            "gridwidth": 2,
            "linecolor": "white",
            "showbackground": true,
            "ticks": "",
            "zerolinecolor": "white"
           },
           "yaxis": {
            "backgroundcolor": "#E5ECF6",
            "gridcolor": "white",
            "gridwidth": 2,
            "linecolor": "white",
            "showbackground": true,
            "ticks": "",
            "zerolinecolor": "white"
           },
           "zaxis": {
            "backgroundcolor": "#E5ECF6",
            "gridcolor": "white",
            "gridwidth": 2,
            "linecolor": "white",
            "showbackground": true,
            "ticks": "",
            "zerolinecolor": "white"
           }
          },
          "shapedefaults": {
           "line": {
            "color": "#2a3f5f"
           }
          },
          "ternary": {
           "aaxis": {
            "gridcolor": "white",
            "linecolor": "white",
            "ticks": ""
           },
           "baxis": {
            "gridcolor": "white",
            "linecolor": "white",
            "ticks": ""
           },
           "bgcolor": "#E5ECF6",
           "caxis": {
            "gridcolor": "white",
            "linecolor": "white",
            "ticks": ""
           }
          },
          "title": {
           "x": 0.05
          },
          "xaxis": {
           "automargin": true,
           "gridcolor": "white",
           "linecolor": "white",
           "ticks": "",
           "title": {
            "standoff": 15
           },
           "zerolinecolor": "white",
           "zerolinewidth": 2
          },
          "yaxis": {
           "automargin": true,
           "gridcolor": "white",
           "linecolor": "white",
           "ticks": "",
           "title": {
            "standoff": 15
           },
           "zerolinecolor": "white",
           "zerolinewidth": 2
          }
         }
        },
        "title": {
         "text": "judge term from 101 to 109"
        },
        "xaxis": {
         "anchor": "y",
         "domain": [
          0,
          1
         ],
         "title": {
          "text": "judge"
         }
        },
        "yaxis": {
         "anchor": "x",
         "domain": [
          0,
          1
         ],
         "title": {
          "text": "freguency"
         }
        }
       }
      },
      "text/html": [
       "<div>                            <div id=\"fdc58a8a-682f-4ff0-89fc-50a44564e893\" class=\"plotly-graph-div\" style=\"height:525px; width:100%;\"></div>            <script type=\"text/javascript\">                require([\"plotly\"], function(Plotly) {                    window.PLOTLYENV=window.PLOTLYENV || {};                                    if (document.getElementById(\"fdc58a8a-682f-4ff0-89fc-50a44564e893\")) {                    Plotly.newPlot(                        \"fdc58a8a-682f-4ff0-89fc-50a44564e893\",                        [{\"alignmentgroup\":\"True\",\"hovertemplate\":\"judge=%{x}<br>freguency=%{y}<extra></extra>\",\"legendgroup\":\"\",\"marker\":{\"color\":\"#636efa\",\"pattern\":{\"shape\":\"\"}},\"name\":\"\",\"offsetgroup\":\"\",\"orientation\":\"v\",\"showlegend\":false,\"textposition\":\"auto\",\"x\":[\"\\u640d\\u5bb3\\u8ce0\\u511f\",\"\\u4fb5\\u6b0a\\u884c\\u70ba\\u640d\\u5bb3\\u8ce0\\u511f\",\"\\u8acb\\u6c42\\u4fb5\\u6b0a\\u884c\\u70ba\\u640d\\u5bb3\\u8ce0\\u511f\"],\"xaxis\":\"x\",\"y\":[80,19,1],\"yaxis\":\"y\",\"type\":\"bar\"}],                        {\"template\":{\"data\":{\"bar\":[{\"error_x\":{\"color\":\"#2a3f5f\"},\"error_y\":{\"color\":\"#2a3f5f\"},\"marker\":{\"line\":{\"color\":\"#E5ECF6\",\"width\":0.5},\"pattern\":{\"fillmode\":\"overlay\",\"size\":10,\"solidity\":0.2}},\"type\":\"bar\"}],\"barpolar\":[{\"marker\":{\"line\":{\"color\":\"#E5ECF6\",\"width\":0.5},\"pattern\":{\"fillmode\":\"overlay\",\"size\":10,\"solidity\":0.2}},\"type\":\"barpolar\"}],\"carpet\":[{\"aaxis\":{\"endlinecolor\":\"#2a3f5f\",\"gridcolor\":\"white\",\"linecolor\":\"white\",\"minorgridcolor\":\"white\",\"startlinecolor\":\"#2a3f5f\"},\"baxis\":{\"endlinecolor\":\"#2a3f5f\",\"gridcolor\":\"white\",\"linecolor\":\"white\",\"minorgridcolor\":\"white\",\"startlinecolor\":\"#2a3f5f\"},\"type\":\"carpet\"}],\"choropleth\":[{\"colorbar\":{\"outlinewidth\":0,\"ticks\":\"\"},\"type\":\"choropleth\"}],\"contour\":[{\"colorbar\":{\"outlinewidth\":0,\"ticks\":\"\"},\"colorscale\":[[0.0,\"#0d0887\"],[0.1111111111111111,\"#46039f\"],[0.2222222222222222,\"#7201a8\"],[0.3333333333333333,\"#9c179e\"],[0.4444444444444444,\"#bd3786\"],[0.5555555555555556,\"#d8576b\"],[0.6666666666666666,\"#ed7953\"],[0.7777777777777778,\"#fb9f3a\"],[0.8888888888888888,\"#fdca26\"],[1.0,\"#f0f921\"]],\"type\":\"contour\"}],\"contourcarpet\":[{\"colorbar\":{\"outlinewidth\":0,\"ticks\":\"\"},\"type\":\"contourcarpet\"}],\"heatmap\":[{\"colorbar\":{\"outlinewidth\":0,\"ticks\":\"\"},\"colorscale\":[[0.0,\"#0d0887\"],[0.1111111111111111,\"#46039f\"],[0.2222222222222222,\"#7201a8\"],[0.3333333333333333,\"#9c179e\"],[0.4444444444444444,\"#bd3786\"],[0.5555555555555556,\"#d8576b\"],[0.6666666666666666,\"#ed7953\"],[0.7777777777777778,\"#fb9f3a\"],[0.8888888888888888,\"#fdca26\"],[1.0,\"#f0f921\"]],\"type\":\"heatmap\"}],\"heatmapgl\":[{\"colorbar\":{\"outlinewidth\":0,\"ticks\":\"\"},\"colorscale\":[[0.0,\"#0d0887\"],[0.1111111111111111,\"#46039f\"],[0.2222222222222222,\"#7201a8\"],[0.3333333333333333,\"#9c179e\"],[0.4444444444444444,\"#bd3786\"],[0.5555555555555556,\"#d8576b\"],[0.6666666666666666,\"#ed7953\"],[0.7777777777777778,\"#fb9f3a\"],[0.8888888888888888,\"#fdca26\"],[1.0,\"#f0f921\"]],\"type\":\"heatmapgl\"}],\"histogram\":[{\"marker\":{\"pattern\":{\"fillmode\":\"overlay\",\"size\":10,\"solidity\":0.2}},\"type\":\"histogram\"}],\"histogram2d\":[{\"colorbar\":{\"outlinewidth\":0,\"ticks\":\"\"},\"colorscale\":[[0.0,\"#0d0887\"],[0.1111111111111111,\"#46039f\"],[0.2222222222222222,\"#7201a8\"],[0.3333333333333333,\"#9c179e\"],[0.4444444444444444,\"#bd3786\"],[0.5555555555555556,\"#d8576b\"],[0.6666666666666666,\"#ed7953\"],[0.7777777777777778,\"#fb9f3a\"],[0.8888888888888888,\"#fdca26\"],[1.0,\"#f0f921\"]],\"type\":\"histogram2d\"}],\"histogram2dcontour\":[{\"colorbar\":{\"outlinewidth\":0,\"ticks\":\"\"},\"colorscale\":[[0.0,\"#0d0887\"],[0.1111111111111111,\"#46039f\"],[0.2222222222222222,\"#7201a8\"],[0.3333333333333333,\"#9c179e\"],[0.4444444444444444,\"#bd3786\"],[0.5555555555555556,\"#d8576b\"],[0.6666666666666666,\"#ed7953\"],[0.7777777777777778,\"#fb9f3a\"],[0.8888888888888888,\"#fdca26\"],[1.0,\"#f0f921\"]],\"type\":\"histogram2dcontour\"}],\"mesh3d\":[{\"colorbar\":{\"outlinewidth\":0,\"ticks\":\"\"},\"type\":\"mesh3d\"}],\"parcoords\":[{\"line\":{\"colorbar\":{\"outlinewidth\":0,\"ticks\":\"\"}},\"type\":\"parcoords\"}],\"pie\":[{\"automargin\":true,\"type\":\"pie\"}],\"scatter\":[{\"marker\":{\"colorbar\":{\"outlinewidth\":0,\"ticks\":\"\"}},\"type\":\"scatter\"}],\"scatter3d\":[{\"line\":{\"colorbar\":{\"outlinewidth\":0,\"ticks\":\"\"}},\"marker\":{\"colorbar\":{\"outlinewidth\":0,\"ticks\":\"\"}},\"type\":\"scatter3d\"}],\"scattercarpet\":[{\"marker\":{\"colorbar\":{\"outlinewidth\":0,\"ticks\":\"\"}},\"type\":\"scattercarpet\"}],\"scattergeo\":[{\"marker\":{\"colorbar\":{\"outlinewidth\":0,\"ticks\":\"\"}},\"type\":\"scattergeo\"}],\"scattergl\":[{\"marker\":{\"colorbar\":{\"outlinewidth\":0,\"ticks\":\"\"}},\"type\":\"scattergl\"}],\"scattermapbox\":[{\"marker\":{\"colorbar\":{\"outlinewidth\":0,\"ticks\":\"\"}},\"type\":\"scattermapbox\"}],\"scatterpolar\":[{\"marker\":{\"colorbar\":{\"outlinewidth\":0,\"ticks\":\"\"}},\"type\":\"scatterpolar\"}],\"scatterpolargl\":[{\"marker\":{\"colorbar\":{\"outlinewidth\":0,\"ticks\":\"\"}},\"type\":\"scatterpolargl\"}],\"scatterternary\":[{\"marker\":{\"colorbar\":{\"outlinewidth\":0,\"ticks\":\"\"}},\"type\":\"scatterternary\"}],\"surface\":[{\"colorbar\":{\"outlinewidth\":0,\"ticks\":\"\"},\"colorscale\":[[0.0,\"#0d0887\"],[0.1111111111111111,\"#46039f\"],[0.2222222222222222,\"#7201a8\"],[0.3333333333333333,\"#9c179e\"],[0.4444444444444444,\"#bd3786\"],[0.5555555555555556,\"#d8576b\"],[0.6666666666666666,\"#ed7953\"],[0.7777777777777778,\"#fb9f3a\"],[0.8888888888888888,\"#fdca26\"],[1.0,\"#f0f921\"]],\"type\":\"surface\"}],\"table\":[{\"cells\":{\"fill\":{\"color\":\"#EBF0F8\"},\"line\":{\"color\":\"white\"}},\"header\":{\"fill\":{\"color\":\"#C8D4E3\"},\"line\":{\"color\":\"white\"}},\"type\":\"table\"}]},\"layout\":{\"annotationdefaults\":{\"arrowcolor\":\"#2a3f5f\",\"arrowhead\":0,\"arrowwidth\":1},\"autotypenumbers\":\"strict\",\"coloraxis\":{\"colorbar\":{\"outlinewidth\":0,\"ticks\":\"\"}},\"colorscale\":{\"diverging\":[[0,\"#8e0152\"],[0.1,\"#c51b7d\"],[0.2,\"#de77ae\"],[0.3,\"#f1b6da\"],[0.4,\"#fde0ef\"],[0.5,\"#f7f7f7\"],[0.6,\"#e6f5d0\"],[0.7,\"#b8e186\"],[0.8,\"#7fbc41\"],[0.9,\"#4d9221\"],[1,\"#276419\"]],\"sequential\":[[0.0,\"#0d0887\"],[0.1111111111111111,\"#46039f\"],[0.2222222222222222,\"#7201a8\"],[0.3333333333333333,\"#9c179e\"],[0.4444444444444444,\"#bd3786\"],[0.5555555555555556,\"#d8576b\"],[0.6666666666666666,\"#ed7953\"],[0.7777777777777778,\"#fb9f3a\"],[0.8888888888888888,\"#fdca26\"],[1.0,\"#f0f921\"]],\"sequentialminus\":[[0.0,\"#0d0887\"],[0.1111111111111111,\"#46039f\"],[0.2222222222222222,\"#7201a8\"],[0.3333333333333333,\"#9c179e\"],[0.4444444444444444,\"#bd3786\"],[0.5555555555555556,\"#d8576b\"],[0.6666666666666666,\"#ed7953\"],[0.7777777777777778,\"#fb9f3a\"],[0.8888888888888888,\"#fdca26\"],[1.0,\"#f0f921\"]]},\"colorway\":[\"#636efa\",\"#EF553B\",\"#00cc96\",\"#ab63fa\",\"#FFA15A\",\"#19d3f3\",\"#FF6692\",\"#B6E880\",\"#FF97FF\",\"#FECB52\"],\"font\":{\"color\":\"#2a3f5f\"},\"geo\":{\"bgcolor\":\"white\",\"lakecolor\":\"white\",\"landcolor\":\"#E5ECF6\",\"showlakes\":true,\"showland\":true,\"subunitcolor\":\"white\"},\"hoverlabel\":{\"align\":\"left\"},\"hovermode\":\"closest\",\"mapbox\":{\"style\":\"light\"},\"paper_bgcolor\":\"white\",\"plot_bgcolor\":\"#E5ECF6\",\"polar\":{\"angularaxis\":{\"gridcolor\":\"white\",\"linecolor\":\"white\",\"ticks\":\"\"},\"bgcolor\":\"#E5ECF6\",\"radialaxis\":{\"gridcolor\":\"white\",\"linecolor\":\"white\",\"ticks\":\"\"}},\"scene\":{\"xaxis\":{\"backgroundcolor\":\"#E5ECF6\",\"gridcolor\":\"white\",\"gridwidth\":2,\"linecolor\":\"white\",\"showbackground\":true,\"ticks\":\"\",\"zerolinecolor\":\"white\"},\"yaxis\":{\"backgroundcolor\":\"#E5ECF6\",\"gridcolor\":\"white\",\"gridwidth\":2,\"linecolor\":\"white\",\"showbackground\":true,\"ticks\":\"\",\"zerolinecolor\":\"white\"},\"zaxis\":{\"backgroundcolor\":\"#E5ECF6\",\"gridcolor\":\"white\",\"gridwidth\":2,\"linecolor\":\"white\",\"showbackground\":true,\"ticks\":\"\",\"zerolinecolor\":\"white\"}},\"shapedefaults\":{\"line\":{\"color\":\"#2a3f5f\"}},\"ternary\":{\"aaxis\":{\"gridcolor\":\"white\",\"linecolor\":\"white\",\"ticks\":\"\"},\"baxis\":{\"gridcolor\":\"white\",\"linecolor\":\"white\",\"ticks\":\"\"},\"bgcolor\":\"#E5ECF6\",\"caxis\":{\"gridcolor\":\"white\",\"linecolor\":\"white\",\"ticks\":\"\"}},\"title\":{\"x\":0.05},\"xaxis\":{\"automargin\":true,\"gridcolor\":\"white\",\"linecolor\":\"white\",\"ticks\":\"\",\"title\":{\"standoff\":15},\"zerolinecolor\":\"white\",\"zerolinewidth\":2},\"yaxis\":{\"automargin\":true,\"gridcolor\":\"white\",\"linecolor\":\"white\",\"ticks\":\"\",\"title\":{\"standoff\":15},\"zerolinecolor\":\"white\",\"zerolinewidth\":2}}},\"xaxis\":{\"anchor\":\"y\",\"domain\":[0.0,1.0],\"title\":{\"text\":\"judge\"}},\"yaxis\":{\"anchor\":\"x\",\"domain\":[0.0,1.0],\"title\":{\"text\":\"freguency\"}},\"legend\":{\"tracegroupgap\":0},\"title\":{\"text\":\"judge term from 101 to 109\"},\"barmode\":\"relative\"},                        {\"responsive\": true}                    ).then(function(){\n",
       "                            \n",
       "var gd = document.getElementById('fdc58a8a-682f-4ff0-89fc-50a44564e893');\n",
       "var x = new MutationObserver(function (mutations, observer) {{\n",
       "        var display = window.getComputedStyle(gd).display;\n",
       "        if (!display || display === 'none') {{\n",
       "            console.log([gd, 'removed!']);\n",
       "            Plotly.purge(gd);\n",
       "            observer.disconnect();\n",
       "        }}\n",
       "}});\n",
       "\n",
       "// Listen for the removal of the full notebook cells\n",
       "var notebookContainer = gd.closest('#notebook-container');\n",
       "if (notebookContainer) {{\n",
       "    x.observe(notebookContainer, {childList: true});\n",
       "}}\n",
       "\n",
       "// Listen for the clearing of the current output cell\n",
       "var outputEl = gd.closest('.output');\n",
       "if (outputEl) {{\n",
       "    x.observe(outputEl, {childList: true});\n",
       "}}\n",
       "\n",
       "                        })                };                });            </script>        </div>"
      ]
     },
     "metadata": {},
     "output_type": "display_data"
    }
   ],
   "source": [
    "import plotly.express as px\n",
    "import pandas as pd\n",
    "\n",
    "px.bar(result, x='judge', y='freguency', title='judge term from 101 to 109')"
   ]
  },
  {
   "cell_type": "markdown",
   "id": "f5fddd0b",
   "metadata": {},
   "source": [
    "## 繪製 Histogram，要與 Bar 做使用區隔"
   ]
  },
  {
   "cell_type": "code",
   "execution_count": 303,
   "id": "db4da22d",
   "metadata": {},
   "outputs": [
    {
     "data": {
      "application/vnd.plotly.v1+json": {
       "config": {
        "plotlyServerURL": "https://plot.ly"
       },
       "data": [
        {
         "alignmentgroup": "True",
         "bingroup": "x",
         "hovertemplate": "案由=損害賠償<br>year=%{x}<br>count=%{y}<extra></extra>",
         "legendgroup": "損害賠償",
         "marker": {
          "color": "#636efa",
          "pattern": {
           "shape": ""
          }
         },
         "name": "損害賠償",
         "offsetgroup": "損害賠償",
         "orientation": "v",
         "showlegend": true,
         "type": "histogram",
         "x": [
          "105",
          "107",
          "105",
          "105",
          "106",
          "107",
          "107",
          "106",
          "108",
          "109",
          "106",
          "107",
          "108",
          "104",
          "101",
          "108",
          "106",
          "106",
          "106",
          "101",
          "105",
          "108",
          "106",
          "109",
          "104",
          "105",
          "108",
          "103",
          "107",
          "105",
          "105",
          "106",
          "105",
          "108",
          "106",
          "105",
          "109",
          "103",
          "109",
          "105",
          "108",
          "108",
          "105",
          "105",
          "107",
          "108",
          "108",
          "108",
          "106",
          "108",
          "108",
          "106",
          "108",
          "109",
          "106",
          "103",
          "102",
          "109",
          "106",
          "104",
          "101",
          "108",
          "106",
          "108",
          "107",
          "109",
          "105",
          "109",
          "110",
          "107",
          "104",
          "108",
          "105",
          "106",
          "105",
          "105",
          "108",
          "104",
          "102",
          "107"
         ],
         "xaxis": "x",
         "yaxis": "y"
        },
        {
         "alignmentgroup": "True",
         "bingroup": "x",
         "hovertemplate": "案由=侵權行為損害賠償<br>year=%{x}<br>count=%{y}<extra></extra>",
         "legendgroup": "侵權行為損害賠償",
         "marker": {
          "color": "#EF553B",
          "pattern": {
           "shape": ""
          }
         },
         "name": "侵權行為損害賠償",
         "offsetgroup": "侵權行為損害賠償",
         "orientation": "v",
         "showlegend": true,
         "type": "histogram",
         "x": [
          "106",
          "106",
          "107",
          "103",
          "108",
          "107",
          "108",
          "105",
          "104",
          "107",
          "105",
          "109",
          "109",
          "109",
          "103",
          "108",
          "102",
          "103",
          "107"
         ],
         "xaxis": "x",
         "yaxis": "y"
        },
        {
         "alignmentgroup": "True",
         "bingroup": "x",
         "hovertemplate": "案由=請求侵權行為損害賠償<br>year=%{x}<br>count=%{y}<extra></extra>",
         "legendgroup": "請求侵權行為損害賠償",
         "marker": {
          "color": "#00cc96",
          "pattern": {
           "shape": ""
          }
         },
         "name": "請求侵權行為損害賠償",
         "offsetgroup": "請求侵權行為損害賠償",
         "orientation": "v",
         "showlegend": true,
         "type": "histogram",
         "x": [
          "103"
         ],
         "xaxis": "x",
         "yaxis": "y"
        }
       ],
       "layout": {
        "barmode": "relative",
        "legend": {
         "title": {
          "text": "案由"
         },
         "tracegroupgap": 0
        },
        "template": {
         "data": {
          "bar": [
           {
            "error_x": {
             "color": "#2a3f5f"
            },
            "error_y": {
             "color": "#2a3f5f"
            },
            "marker": {
             "line": {
              "color": "#E5ECF6",
              "width": 0.5
             },
             "pattern": {
              "fillmode": "overlay",
              "size": 10,
              "solidity": 0.2
             }
            },
            "type": "bar"
           }
          ],
          "barpolar": [
           {
            "marker": {
             "line": {
              "color": "#E5ECF6",
              "width": 0.5
             },
             "pattern": {
              "fillmode": "overlay",
              "size": 10,
              "solidity": 0.2
             }
            },
            "type": "barpolar"
           }
          ],
          "carpet": [
           {
            "aaxis": {
             "endlinecolor": "#2a3f5f",
             "gridcolor": "white",
             "linecolor": "white",
             "minorgridcolor": "white",
             "startlinecolor": "#2a3f5f"
            },
            "baxis": {
             "endlinecolor": "#2a3f5f",
             "gridcolor": "white",
             "linecolor": "white",
             "minorgridcolor": "white",
             "startlinecolor": "#2a3f5f"
            },
            "type": "carpet"
           }
          ],
          "choropleth": [
           {
            "colorbar": {
             "outlinewidth": 0,
             "ticks": ""
            },
            "type": "choropleth"
           }
          ],
          "contour": [
           {
            "colorbar": {
             "outlinewidth": 0,
             "ticks": ""
            },
            "colorscale": [
             [
              0,
              "#0d0887"
             ],
             [
              0.1111111111111111,
              "#46039f"
             ],
             [
              0.2222222222222222,
              "#7201a8"
             ],
             [
              0.3333333333333333,
              "#9c179e"
             ],
             [
              0.4444444444444444,
              "#bd3786"
             ],
             [
              0.5555555555555556,
              "#d8576b"
             ],
             [
              0.6666666666666666,
              "#ed7953"
             ],
             [
              0.7777777777777778,
              "#fb9f3a"
             ],
             [
              0.8888888888888888,
              "#fdca26"
             ],
             [
              1,
              "#f0f921"
             ]
            ],
            "type": "contour"
           }
          ],
          "contourcarpet": [
           {
            "colorbar": {
             "outlinewidth": 0,
             "ticks": ""
            },
            "type": "contourcarpet"
           }
          ],
          "heatmap": [
           {
            "colorbar": {
             "outlinewidth": 0,
             "ticks": ""
            },
            "colorscale": [
             [
              0,
              "#0d0887"
             ],
             [
              0.1111111111111111,
              "#46039f"
             ],
             [
              0.2222222222222222,
              "#7201a8"
             ],
             [
              0.3333333333333333,
              "#9c179e"
             ],
             [
              0.4444444444444444,
              "#bd3786"
             ],
             [
              0.5555555555555556,
              "#d8576b"
             ],
             [
              0.6666666666666666,
              "#ed7953"
             ],
             [
              0.7777777777777778,
              "#fb9f3a"
             ],
             [
              0.8888888888888888,
              "#fdca26"
             ],
             [
              1,
              "#f0f921"
             ]
            ],
            "type": "heatmap"
           }
          ],
          "heatmapgl": [
           {
            "colorbar": {
             "outlinewidth": 0,
             "ticks": ""
            },
            "colorscale": [
             [
              0,
              "#0d0887"
             ],
             [
              0.1111111111111111,
              "#46039f"
             ],
             [
              0.2222222222222222,
              "#7201a8"
             ],
             [
              0.3333333333333333,
              "#9c179e"
             ],
             [
              0.4444444444444444,
              "#bd3786"
             ],
             [
              0.5555555555555556,
              "#d8576b"
             ],
             [
              0.6666666666666666,
              "#ed7953"
             ],
             [
              0.7777777777777778,
              "#fb9f3a"
             ],
             [
              0.8888888888888888,
              "#fdca26"
             ],
             [
              1,
              "#f0f921"
             ]
            ],
            "type": "heatmapgl"
           }
          ],
          "histogram": [
           {
            "marker": {
             "pattern": {
              "fillmode": "overlay",
              "size": 10,
              "solidity": 0.2
             }
            },
            "type": "histogram"
           }
          ],
          "histogram2d": [
           {
            "colorbar": {
             "outlinewidth": 0,
             "ticks": ""
            },
            "colorscale": [
             [
              0,
              "#0d0887"
             ],
             [
              0.1111111111111111,
              "#46039f"
             ],
             [
              0.2222222222222222,
              "#7201a8"
             ],
             [
              0.3333333333333333,
              "#9c179e"
             ],
             [
              0.4444444444444444,
              "#bd3786"
             ],
             [
              0.5555555555555556,
              "#d8576b"
             ],
             [
              0.6666666666666666,
              "#ed7953"
             ],
             [
              0.7777777777777778,
              "#fb9f3a"
             ],
             [
              0.8888888888888888,
              "#fdca26"
             ],
             [
              1,
              "#f0f921"
             ]
            ],
            "type": "histogram2d"
           }
          ],
          "histogram2dcontour": [
           {
            "colorbar": {
             "outlinewidth": 0,
             "ticks": ""
            },
            "colorscale": [
             [
              0,
              "#0d0887"
             ],
             [
              0.1111111111111111,
              "#46039f"
             ],
             [
              0.2222222222222222,
              "#7201a8"
             ],
             [
              0.3333333333333333,
              "#9c179e"
             ],
             [
              0.4444444444444444,
              "#bd3786"
             ],
             [
              0.5555555555555556,
              "#d8576b"
             ],
             [
              0.6666666666666666,
              "#ed7953"
             ],
             [
              0.7777777777777778,
              "#fb9f3a"
             ],
             [
              0.8888888888888888,
              "#fdca26"
             ],
             [
              1,
              "#f0f921"
             ]
            ],
            "type": "histogram2dcontour"
           }
          ],
          "mesh3d": [
           {
            "colorbar": {
             "outlinewidth": 0,
             "ticks": ""
            },
            "type": "mesh3d"
           }
          ],
          "parcoords": [
           {
            "line": {
             "colorbar": {
              "outlinewidth": 0,
              "ticks": ""
             }
            },
            "type": "parcoords"
           }
          ],
          "pie": [
           {
            "automargin": true,
            "type": "pie"
           }
          ],
          "scatter": [
           {
            "marker": {
             "colorbar": {
              "outlinewidth": 0,
              "ticks": ""
             }
            },
            "type": "scatter"
           }
          ],
          "scatter3d": [
           {
            "line": {
             "colorbar": {
              "outlinewidth": 0,
              "ticks": ""
             }
            },
            "marker": {
             "colorbar": {
              "outlinewidth": 0,
              "ticks": ""
             }
            },
            "type": "scatter3d"
           }
          ],
          "scattercarpet": [
           {
            "marker": {
             "colorbar": {
              "outlinewidth": 0,
              "ticks": ""
             }
            },
            "type": "scattercarpet"
           }
          ],
          "scattergeo": [
           {
            "marker": {
             "colorbar": {
              "outlinewidth": 0,
              "ticks": ""
             }
            },
            "type": "scattergeo"
           }
          ],
          "scattergl": [
           {
            "marker": {
             "colorbar": {
              "outlinewidth": 0,
              "ticks": ""
             }
            },
            "type": "scattergl"
           }
          ],
          "scattermapbox": [
           {
            "marker": {
             "colorbar": {
              "outlinewidth": 0,
              "ticks": ""
             }
            },
            "type": "scattermapbox"
           }
          ],
          "scatterpolar": [
           {
            "marker": {
             "colorbar": {
              "outlinewidth": 0,
              "ticks": ""
             }
            },
            "type": "scatterpolar"
           }
          ],
          "scatterpolargl": [
           {
            "marker": {
             "colorbar": {
              "outlinewidth": 0,
              "ticks": ""
             }
            },
            "type": "scatterpolargl"
           }
          ],
          "scatterternary": [
           {
            "marker": {
             "colorbar": {
              "outlinewidth": 0,
              "ticks": ""
             }
            },
            "type": "scatterternary"
           }
          ],
          "surface": [
           {
            "colorbar": {
             "outlinewidth": 0,
             "ticks": ""
            },
            "colorscale": [
             [
              0,
              "#0d0887"
             ],
             [
              0.1111111111111111,
              "#46039f"
             ],
             [
              0.2222222222222222,
              "#7201a8"
             ],
             [
              0.3333333333333333,
              "#9c179e"
             ],
             [
              0.4444444444444444,
              "#bd3786"
             ],
             [
              0.5555555555555556,
              "#d8576b"
             ],
             [
              0.6666666666666666,
              "#ed7953"
             ],
             [
              0.7777777777777778,
              "#fb9f3a"
             ],
             [
              0.8888888888888888,
              "#fdca26"
             ],
             [
              1,
              "#f0f921"
             ]
            ],
            "type": "surface"
           }
          ],
          "table": [
           {
            "cells": {
             "fill": {
              "color": "#EBF0F8"
             },
             "line": {
              "color": "white"
             }
            },
            "header": {
             "fill": {
              "color": "#C8D4E3"
             },
             "line": {
              "color": "white"
             }
            },
            "type": "table"
           }
          ]
         },
         "layout": {
          "annotationdefaults": {
           "arrowcolor": "#2a3f5f",
           "arrowhead": 0,
           "arrowwidth": 1
          },
          "autotypenumbers": "strict",
          "coloraxis": {
           "colorbar": {
            "outlinewidth": 0,
            "ticks": ""
           }
          },
          "colorscale": {
           "diverging": [
            [
             0,
             "#8e0152"
            ],
            [
             0.1,
             "#c51b7d"
            ],
            [
             0.2,
             "#de77ae"
            ],
            [
             0.3,
             "#f1b6da"
            ],
            [
             0.4,
             "#fde0ef"
            ],
            [
             0.5,
             "#f7f7f7"
            ],
            [
             0.6,
             "#e6f5d0"
            ],
            [
             0.7,
             "#b8e186"
            ],
            [
             0.8,
             "#7fbc41"
            ],
            [
             0.9,
             "#4d9221"
            ],
            [
             1,
             "#276419"
            ]
           ],
           "sequential": [
            [
             0,
             "#0d0887"
            ],
            [
             0.1111111111111111,
             "#46039f"
            ],
            [
             0.2222222222222222,
             "#7201a8"
            ],
            [
             0.3333333333333333,
             "#9c179e"
            ],
            [
             0.4444444444444444,
             "#bd3786"
            ],
            [
             0.5555555555555556,
             "#d8576b"
            ],
            [
             0.6666666666666666,
             "#ed7953"
            ],
            [
             0.7777777777777778,
             "#fb9f3a"
            ],
            [
             0.8888888888888888,
             "#fdca26"
            ],
            [
             1,
             "#f0f921"
            ]
           ],
           "sequentialminus": [
            [
             0,
             "#0d0887"
            ],
            [
             0.1111111111111111,
             "#46039f"
            ],
            [
             0.2222222222222222,
             "#7201a8"
            ],
            [
             0.3333333333333333,
             "#9c179e"
            ],
            [
             0.4444444444444444,
             "#bd3786"
            ],
            [
             0.5555555555555556,
             "#d8576b"
            ],
            [
             0.6666666666666666,
             "#ed7953"
            ],
            [
             0.7777777777777778,
             "#fb9f3a"
            ],
            [
             0.8888888888888888,
             "#fdca26"
            ],
            [
             1,
             "#f0f921"
            ]
           ]
          },
          "colorway": [
           "#636efa",
           "#EF553B",
           "#00cc96",
           "#ab63fa",
           "#FFA15A",
           "#19d3f3",
           "#FF6692",
           "#B6E880",
           "#FF97FF",
           "#FECB52"
          ],
          "font": {
           "color": "#2a3f5f"
          },
          "geo": {
           "bgcolor": "white",
           "lakecolor": "white",
           "landcolor": "#E5ECF6",
           "showlakes": true,
           "showland": true,
           "subunitcolor": "white"
          },
          "hoverlabel": {
           "align": "left"
          },
          "hovermode": "closest",
          "mapbox": {
           "style": "light"
          },
          "paper_bgcolor": "white",
          "plot_bgcolor": "#E5ECF6",
          "polar": {
           "angularaxis": {
            "gridcolor": "white",
            "linecolor": "white",
            "ticks": ""
           },
           "bgcolor": "#E5ECF6",
           "radialaxis": {
            "gridcolor": "white",
            "linecolor": "white",
            "ticks": ""
           }
          },
          "scene": {
           "xaxis": {
            "backgroundcolor": "#E5ECF6",
            "gridcolor": "white",
            "gridwidth": 2,
            "linecolor": "white",
            "showbackground": true,
            "ticks": "",
            "zerolinecolor": "white"
           },
           "yaxis": {
            "backgroundcolor": "#E5ECF6",
            "gridcolor": "white",
            "gridwidth": 2,
            "linecolor": "white",
            "showbackground": true,
            "ticks": "",
            "zerolinecolor": "white"
           },
           "zaxis": {
            "backgroundcolor": "#E5ECF6",
            "gridcolor": "white",
            "gridwidth": 2,
            "linecolor": "white",
            "showbackground": true,
            "ticks": "",
            "zerolinecolor": "white"
           }
          },
          "shapedefaults": {
           "line": {
            "color": "#2a3f5f"
           }
          },
          "ternary": {
           "aaxis": {
            "gridcolor": "white",
            "linecolor": "white",
            "ticks": ""
           },
           "baxis": {
            "gridcolor": "white",
            "linecolor": "white",
            "ticks": ""
           },
           "bgcolor": "#E5ECF6",
           "caxis": {
            "gridcolor": "white",
            "linecolor": "white",
            "ticks": ""
           }
          },
          "title": {
           "x": 0.05
          },
          "xaxis": {
           "automargin": true,
           "gridcolor": "white",
           "linecolor": "white",
           "ticks": "",
           "title": {
            "standoff": 15
           },
           "zerolinecolor": "white",
           "zerolinewidth": 2
          },
          "yaxis": {
           "automargin": true,
           "gridcolor": "white",
           "linecolor": "white",
           "ticks": "",
           "title": {
            "standoff": 15
           },
           "zerolinecolor": "white",
           "zerolinewidth": 2
          }
         }
        },
        "title": {
         "text": "judge term from 101 to 110"
        },
        "xaxis": {
         "anchor": "y",
         "domain": [
          0,
          1
         ],
         "title": {
          "text": "year"
         }
        },
        "yaxis": {
         "anchor": "x",
         "domain": [
          0,
          1
         ],
         "title": {
          "text": "count"
         }
        }
       }
      },
      "text/html": [
       "<div>                            <div id=\"1db786bd-20e3-4a89-8798-3f1dd2bbbde4\" class=\"plotly-graph-div\" style=\"height:525px; width:100%;\"></div>            <script type=\"text/javascript\">                require([\"plotly\"], function(Plotly) {                    window.PLOTLYENV=window.PLOTLYENV || {};                                    if (document.getElementById(\"1db786bd-20e3-4a89-8798-3f1dd2bbbde4\")) {                    Plotly.newPlot(                        \"1db786bd-20e3-4a89-8798-3f1dd2bbbde4\",                        [{\"alignmentgroup\":\"True\",\"bingroup\":\"x\",\"hovertemplate\":\"\\u6848\\u7531=\\u640d\\u5bb3\\u8ce0\\u511f<br>year=%{x}<br>count=%{y}<extra></extra>\",\"legendgroup\":\"\\u640d\\u5bb3\\u8ce0\\u511f\",\"marker\":{\"color\":\"#636efa\",\"pattern\":{\"shape\":\"\"}},\"name\":\"\\u640d\\u5bb3\\u8ce0\\u511f\",\"offsetgroup\":\"\\u640d\\u5bb3\\u8ce0\\u511f\",\"orientation\":\"v\",\"showlegend\":true,\"x\":[\"105\",\"107\",\"105\",\"105\",\"106\",\"107\",\"107\",\"106\",\"108\",\"109\",\"106\",\"107\",\"108\",\"104\",\"101\",\"108\",\"106\",\"106\",\"106\",\"101\",\"105\",\"108\",\"106\",\"109\",\"104\",\"105\",\"108\",\"103\",\"107\",\"105\",\"105\",\"106\",\"105\",\"108\",\"106\",\"105\",\"109\",\"103\",\"109\",\"105\",\"108\",\"108\",\"105\",\"105\",\"107\",\"108\",\"108\",\"108\",\"106\",\"108\",\"108\",\"106\",\"108\",\"109\",\"106\",\"103\",\"102\",\"109\",\"106\",\"104\",\"101\",\"108\",\"106\",\"108\",\"107\",\"109\",\"105\",\"109\",\"110\",\"107\",\"104\",\"108\",\"105\",\"106\",\"105\",\"105\",\"108\",\"104\",\"102\",\"107\"],\"xaxis\":\"x\",\"yaxis\":\"y\",\"type\":\"histogram\"},{\"alignmentgroup\":\"True\",\"bingroup\":\"x\",\"hovertemplate\":\"\\u6848\\u7531=\\u4fb5\\u6b0a\\u884c\\u70ba\\u640d\\u5bb3\\u8ce0\\u511f<br>year=%{x}<br>count=%{y}<extra></extra>\",\"legendgroup\":\"\\u4fb5\\u6b0a\\u884c\\u70ba\\u640d\\u5bb3\\u8ce0\\u511f\",\"marker\":{\"color\":\"#EF553B\",\"pattern\":{\"shape\":\"\"}},\"name\":\"\\u4fb5\\u6b0a\\u884c\\u70ba\\u640d\\u5bb3\\u8ce0\\u511f\",\"offsetgroup\":\"\\u4fb5\\u6b0a\\u884c\\u70ba\\u640d\\u5bb3\\u8ce0\\u511f\",\"orientation\":\"v\",\"showlegend\":true,\"x\":[\"106\",\"106\",\"107\",\"103\",\"108\",\"107\",\"108\",\"105\",\"104\",\"107\",\"105\",\"109\",\"109\",\"109\",\"103\",\"108\",\"102\",\"103\",\"107\"],\"xaxis\":\"x\",\"yaxis\":\"y\",\"type\":\"histogram\"},{\"alignmentgroup\":\"True\",\"bingroup\":\"x\",\"hovertemplate\":\"\\u6848\\u7531=\\u8acb\\u6c42\\u4fb5\\u6b0a\\u884c\\u70ba\\u640d\\u5bb3\\u8ce0\\u511f<br>year=%{x}<br>count=%{y}<extra></extra>\",\"legendgroup\":\"\\u8acb\\u6c42\\u4fb5\\u6b0a\\u884c\\u70ba\\u640d\\u5bb3\\u8ce0\\u511f\",\"marker\":{\"color\":\"#00cc96\",\"pattern\":{\"shape\":\"\"}},\"name\":\"\\u8acb\\u6c42\\u4fb5\\u6b0a\\u884c\\u70ba\\u640d\\u5bb3\\u8ce0\\u511f\",\"offsetgroup\":\"\\u8acb\\u6c42\\u4fb5\\u6b0a\\u884c\\u70ba\\u640d\\u5bb3\\u8ce0\\u511f\",\"orientation\":\"v\",\"showlegend\":true,\"x\":[\"103\"],\"xaxis\":\"x\",\"yaxis\":\"y\",\"type\":\"histogram\"}],                        {\"template\":{\"data\":{\"bar\":[{\"error_x\":{\"color\":\"#2a3f5f\"},\"error_y\":{\"color\":\"#2a3f5f\"},\"marker\":{\"line\":{\"color\":\"#E5ECF6\",\"width\":0.5},\"pattern\":{\"fillmode\":\"overlay\",\"size\":10,\"solidity\":0.2}},\"type\":\"bar\"}],\"barpolar\":[{\"marker\":{\"line\":{\"color\":\"#E5ECF6\",\"width\":0.5},\"pattern\":{\"fillmode\":\"overlay\",\"size\":10,\"solidity\":0.2}},\"type\":\"barpolar\"}],\"carpet\":[{\"aaxis\":{\"endlinecolor\":\"#2a3f5f\",\"gridcolor\":\"white\",\"linecolor\":\"white\",\"minorgridcolor\":\"white\",\"startlinecolor\":\"#2a3f5f\"},\"baxis\":{\"endlinecolor\":\"#2a3f5f\",\"gridcolor\":\"white\",\"linecolor\":\"white\",\"minorgridcolor\":\"white\",\"startlinecolor\":\"#2a3f5f\"},\"type\":\"carpet\"}],\"choropleth\":[{\"colorbar\":{\"outlinewidth\":0,\"ticks\":\"\"},\"type\":\"choropleth\"}],\"contour\":[{\"colorbar\":{\"outlinewidth\":0,\"ticks\":\"\"},\"colorscale\":[[0.0,\"#0d0887\"],[0.1111111111111111,\"#46039f\"],[0.2222222222222222,\"#7201a8\"],[0.3333333333333333,\"#9c179e\"],[0.4444444444444444,\"#bd3786\"],[0.5555555555555556,\"#d8576b\"],[0.6666666666666666,\"#ed7953\"],[0.7777777777777778,\"#fb9f3a\"],[0.8888888888888888,\"#fdca26\"],[1.0,\"#f0f921\"]],\"type\":\"contour\"}],\"contourcarpet\":[{\"colorbar\":{\"outlinewidth\":0,\"ticks\":\"\"},\"type\":\"contourcarpet\"}],\"heatmap\":[{\"colorbar\":{\"outlinewidth\":0,\"ticks\":\"\"},\"colorscale\":[[0.0,\"#0d0887\"],[0.1111111111111111,\"#46039f\"],[0.2222222222222222,\"#7201a8\"],[0.3333333333333333,\"#9c179e\"],[0.4444444444444444,\"#bd3786\"],[0.5555555555555556,\"#d8576b\"],[0.6666666666666666,\"#ed7953\"],[0.7777777777777778,\"#fb9f3a\"],[0.8888888888888888,\"#fdca26\"],[1.0,\"#f0f921\"]],\"type\":\"heatmap\"}],\"heatmapgl\":[{\"colorbar\":{\"outlinewidth\":0,\"ticks\":\"\"},\"colorscale\":[[0.0,\"#0d0887\"],[0.1111111111111111,\"#46039f\"],[0.2222222222222222,\"#7201a8\"],[0.3333333333333333,\"#9c179e\"],[0.4444444444444444,\"#bd3786\"],[0.5555555555555556,\"#d8576b\"],[0.6666666666666666,\"#ed7953\"],[0.7777777777777778,\"#fb9f3a\"],[0.8888888888888888,\"#fdca26\"],[1.0,\"#f0f921\"]],\"type\":\"heatmapgl\"}],\"histogram\":[{\"marker\":{\"pattern\":{\"fillmode\":\"overlay\",\"size\":10,\"solidity\":0.2}},\"type\":\"histogram\"}],\"histogram2d\":[{\"colorbar\":{\"outlinewidth\":0,\"ticks\":\"\"},\"colorscale\":[[0.0,\"#0d0887\"],[0.1111111111111111,\"#46039f\"],[0.2222222222222222,\"#7201a8\"],[0.3333333333333333,\"#9c179e\"],[0.4444444444444444,\"#bd3786\"],[0.5555555555555556,\"#d8576b\"],[0.6666666666666666,\"#ed7953\"],[0.7777777777777778,\"#fb9f3a\"],[0.8888888888888888,\"#fdca26\"],[1.0,\"#f0f921\"]],\"type\":\"histogram2d\"}],\"histogram2dcontour\":[{\"colorbar\":{\"outlinewidth\":0,\"ticks\":\"\"},\"colorscale\":[[0.0,\"#0d0887\"],[0.1111111111111111,\"#46039f\"],[0.2222222222222222,\"#7201a8\"],[0.3333333333333333,\"#9c179e\"],[0.4444444444444444,\"#bd3786\"],[0.5555555555555556,\"#d8576b\"],[0.6666666666666666,\"#ed7953\"],[0.7777777777777778,\"#fb9f3a\"],[0.8888888888888888,\"#fdca26\"],[1.0,\"#f0f921\"]],\"type\":\"histogram2dcontour\"}],\"mesh3d\":[{\"colorbar\":{\"outlinewidth\":0,\"ticks\":\"\"},\"type\":\"mesh3d\"}],\"parcoords\":[{\"line\":{\"colorbar\":{\"outlinewidth\":0,\"ticks\":\"\"}},\"type\":\"parcoords\"}],\"pie\":[{\"automargin\":true,\"type\":\"pie\"}],\"scatter\":[{\"marker\":{\"colorbar\":{\"outlinewidth\":0,\"ticks\":\"\"}},\"type\":\"scatter\"}],\"scatter3d\":[{\"line\":{\"colorbar\":{\"outlinewidth\":0,\"ticks\":\"\"}},\"marker\":{\"colorbar\":{\"outlinewidth\":0,\"ticks\":\"\"}},\"type\":\"scatter3d\"}],\"scattercarpet\":[{\"marker\":{\"colorbar\":{\"outlinewidth\":0,\"ticks\":\"\"}},\"type\":\"scattercarpet\"}],\"scattergeo\":[{\"marker\":{\"colorbar\":{\"outlinewidth\":0,\"ticks\":\"\"}},\"type\":\"scattergeo\"}],\"scattergl\":[{\"marker\":{\"colorbar\":{\"outlinewidth\":0,\"ticks\":\"\"}},\"type\":\"scattergl\"}],\"scattermapbox\":[{\"marker\":{\"colorbar\":{\"outlinewidth\":0,\"ticks\":\"\"}},\"type\":\"scattermapbox\"}],\"scatterpolar\":[{\"marker\":{\"colorbar\":{\"outlinewidth\":0,\"ticks\":\"\"}},\"type\":\"scatterpolar\"}],\"scatterpolargl\":[{\"marker\":{\"colorbar\":{\"outlinewidth\":0,\"ticks\":\"\"}},\"type\":\"scatterpolargl\"}],\"scatterternary\":[{\"marker\":{\"colorbar\":{\"outlinewidth\":0,\"ticks\":\"\"}},\"type\":\"scatterternary\"}],\"surface\":[{\"colorbar\":{\"outlinewidth\":0,\"ticks\":\"\"},\"colorscale\":[[0.0,\"#0d0887\"],[0.1111111111111111,\"#46039f\"],[0.2222222222222222,\"#7201a8\"],[0.3333333333333333,\"#9c179e\"],[0.4444444444444444,\"#bd3786\"],[0.5555555555555556,\"#d8576b\"],[0.6666666666666666,\"#ed7953\"],[0.7777777777777778,\"#fb9f3a\"],[0.8888888888888888,\"#fdca26\"],[1.0,\"#f0f921\"]],\"type\":\"surface\"}],\"table\":[{\"cells\":{\"fill\":{\"color\":\"#EBF0F8\"},\"line\":{\"color\":\"white\"}},\"header\":{\"fill\":{\"color\":\"#C8D4E3\"},\"line\":{\"color\":\"white\"}},\"type\":\"table\"}]},\"layout\":{\"annotationdefaults\":{\"arrowcolor\":\"#2a3f5f\",\"arrowhead\":0,\"arrowwidth\":1},\"autotypenumbers\":\"strict\",\"coloraxis\":{\"colorbar\":{\"outlinewidth\":0,\"ticks\":\"\"}},\"colorscale\":{\"diverging\":[[0,\"#8e0152\"],[0.1,\"#c51b7d\"],[0.2,\"#de77ae\"],[0.3,\"#f1b6da\"],[0.4,\"#fde0ef\"],[0.5,\"#f7f7f7\"],[0.6,\"#e6f5d0\"],[0.7,\"#b8e186\"],[0.8,\"#7fbc41\"],[0.9,\"#4d9221\"],[1,\"#276419\"]],\"sequential\":[[0.0,\"#0d0887\"],[0.1111111111111111,\"#46039f\"],[0.2222222222222222,\"#7201a8\"],[0.3333333333333333,\"#9c179e\"],[0.4444444444444444,\"#bd3786\"],[0.5555555555555556,\"#d8576b\"],[0.6666666666666666,\"#ed7953\"],[0.7777777777777778,\"#fb9f3a\"],[0.8888888888888888,\"#fdca26\"],[1.0,\"#f0f921\"]],\"sequentialminus\":[[0.0,\"#0d0887\"],[0.1111111111111111,\"#46039f\"],[0.2222222222222222,\"#7201a8\"],[0.3333333333333333,\"#9c179e\"],[0.4444444444444444,\"#bd3786\"],[0.5555555555555556,\"#d8576b\"],[0.6666666666666666,\"#ed7953\"],[0.7777777777777778,\"#fb9f3a\"],[0.8888888888888888,\"#fdca26\"],[1.0,\"#f0f921\"]]},\"colorway\":[\"#636efa\",\"#EF553B\",\"#00cc96\",\"#ab63fa\",\"#FFA15A\",\"#19d3f3\",\"#FF6692\",\"#B6E880\",\"#FF97FF\",\"#FECB52\"],\"font\":{\"color\":\"#2a3f5f\"},\"geo\":{\"bgcolor\":\"white\",\"lakecolor\":\"white\",\"landcolor\":\"#E5ECF6\",\"showlakes\":true,\"showland\":true,\"subunitcolor\":\"white\"},\"hoverlabel\":{\"align\":\"left\"},\"hovermode\":\"closest\",\"mapbox\":{\"style\":\"light\"},\"paper_bgcolor\":\"white\",\"plot_bgcolor\":\"#E5ECF6\",\"polar\":{\"angularaxis\":{\"gridcolor\":\"white\",\"linecolor\":\"white\",\"ticks\":\"\"},\"bgcolor\":\"#E5ECF6\",\"radialaxis\":{\"gridcolor\":\"white\",\"linecolor\":\"white\",\"ticks\":\"\"}},\"scene\":{\"xaxis\":{\"backgroundcolor\":\"#E5ECF6\",\"gridcolor\":\"white\",\"gridwidth\":2,\"linecolor\":\"white\",\"showbackground\":true,\"ticks\":\"\",\"zerolinecolor\":\"white\"},\"yaxis\":{\"backgroundcolor\":\"#E5ECF6\",\"gridcolor\":\"white\",\"gridwidth\":2,\"linecolor\":\"white\",\"showbackground\":true,\"ticks\":\"\",\"zerolinecolor\":\"white\"},\"zaxis\":{\"backgroundcolor\":\"#E5ECF6\",\"gridcolor\":\"white\",\"gridwidth\":2,\"linecolor\":\"white\",\"showbackground\":true,\"ticks\":\"\",\"zerolinecolor\":\"white\"}},\"shapedefaults\":{\"line\":{\"color\":\"#2a3f5f\"}},\"ternary\":{\"aaxis\":{\"gridcolor\":\"white\",\"linecolor\":\"white\",\"ticks\":\"\"},\"baxis\":{\"gridcolor\":\"white\",\"linecolor\":\"white\",\"ticks\":\"\"},\"bgcolor\":\"#E5ECF6\",\"caxis\":{\"gridcolor\":\"white\",\"linecolor\":\"white\",\"ticks\":\"\"}},\"title\":{\"x\":0.05},\"xaxis\":{\"automargin\":true,\"gridcolor\":\"white\",\"linecolor\":\"white\",\"ticks\":\"\",\"title\":{\"standoff\":15},\"zerolinecolor\":\"white\",\"zerolinewidth\":2},\"yaxis\":{\"automargin\":true,\"gridcolor\":\"white\",\"linecolor\":\"white\",\"ticks\":\"\",\"title\":{\"standoff\":15},\"zerolinecolor\":\"white\",\"zerolinewidth\":2}}},\"xaxis\":{\"anchor\":\"y\",\"domain\":[0.0,1.0],\"title\":{\"text\":\"year\"}},\"yaxis\":{\"anchor\":\"x\",\"domain\":[0.0,1.0],\"title\":{\"text\":\"count\"}},\"legend\":{\"title\":{\"text\":\"\\u6848\\u7531\"},\"tracegroupgap\":0},\"title\":{\"text\":\"judge term from 101 to 110\"},\"barmode\":\"relative\"},                        {\"responsive\": true}                    ).then(function(){\n",
       "                            \n",
       "var gd = document.getElementById('1db786bd-20e3-4a89-8798-3f1dd2bbbde4');\n",
       "var x = new MutationObserver(function (mutations, observer) {{\n",
       "        var display = window.getComputedStyle(gd).display;\n",
       "        if (!display || display === 'none') {{\n",
       "            console.log([gd, 'removed!']);\n",
       "            Plotly.purge(gd);\n",
       "            observer.disconnect();\n",
       "        }}\n",
       "}});\n",
       "\n",
       "// Listen for the removal of the full notebook cells\n",
       "var notebookContainer = gd.closest('#notebook-container');\n",
       "if (notebookContainer) {{\n",
       "    x.observe(notebookContainer, {childList: true});\n",
       "}}\n",
       "\n",
       "// Listen for the clearing of the current output cell\n",
       "var outputEl = gd.closest('.output');\n",
       "if (outputEl) {{\n",
       "    x.observe(outputEl, {childList: true});\n",
       "}}\n",
       "\n",
       "                        })                };                });            </script>        </div>"
      ]
     },
     "metadata": {},
     "output_type": "display_data"
    }
   ],
   "source": [
    "px.histogram(orgdata, x='year', color=\"案由\", title='judge term from 101 to 110')"
   ]
  },
  {
   "cell_type": "code",
   "execution_count": 304,
   "id": "69d46d73",
   "metadata": {},
   "outputs": [],
   "source": [
    "orgdata['year'] = orgdata['year'].astype(int)"
   ]
  },
  {
   "cell_type": "code",
   "execution_count": 305,
   "id": "5b1bf629",
   "metadata": {},
   "outputs": [
    {
     "data": {
      "application/vnd.plotly.v1+json": {
       "config": {
        "plotlyServerURL": "https://plot.ly"
       },
       "data": [
        {
         "alignmentgroup": "True",
         "bingroup": "x",
         "hovertemplate": "案由=損害賠償<br>year=%{x}<br>count=%{y}<extra></extra>",
         "legendgroup": "損害賠償",
         "marker": {
          "color": "#636efa",
          "pattern": {
           "shape": ""
          }
         },
         "name": "損害賠償",
         "offsetgroup": "損害賠償",
         "orientation": "v",
         "showlegend": true,
         "type": "histogram",
         "x": [
          105,
          107,
          105,
          105,
          106,
          107,
          107,
          106,
          108,
          109,
          106,
          107,
          108,
          104,
          101,
          108,
          106,
          106,
          106,
          101,
          105,
          108,
          106,
          109,
          104,
          105,
          108,
          103,
          107,
          105,
          105,
          106,
          105,
          108,
          106,
          105,
          109,
          103,
          109,
          105,
          108,
          108,
          105,
          105,
          107,
          108,
          108,
          108,
          106,
          108,
          108,
          106,
          108,
          109,
          106,
          103,
          102,
          109,
          106,
          104,
          101,
          108,
          106,
          108,
          107,
          109,
          105,
          109,
          110,
          107,
          104,
          108,
          105,
          106,
          105,
          105,
          108,
          104,
          102,
          107
         ],
         "xaxis": "x",
         "yaxis": "y"
        },
        {
         "alignmentgroup": "True",
         "bingroup": "x",
         "hovertemplate": "案由=侵權行為損害賠償<br>year=%{x}<br>count=%{y}<extra></extra>",
         "legendgroup": "侵權行為損害賠償",
         "marker": {
          "color": "#EF553B",
          "pattern": {
           "shape": ""
          }
         },
         "name": "侵權行為損害賠償",
         "offsetgroup": "侵權行為損害賠償",
         "orientation": "v",
         "showlegend": true,
         "type": "histogram",
         "x": [
          106,
          106,
          107,
          103,
          108,
          107,
          108,
          105,
          104,
          107,
          105,
          109,
          109,
          109,
          103,
          108,
          102,
          103,
          107
         ],
         "xaxis": "x",
         "yaxis": "y"
        },
        {
         "alignmentgroup": "True",
         "bingroup": "x",
         "hovertemplate": "案由=請求侵權行為損害賠償<br>year=%{x}<br>count=%{y}<extra></extra>",
         "legendgroup": "請求侵權行為損害賠償",
         "marker": {
          "color": "#00cc96",
          "pattern": {
           "shape": ""
          }
         },
         "name": "請求侵權行為損害賠償",
         "offsetgroup": "請求侵權行為損害賠償",
         "orientation": "v",
         "showlegend": true,
         "type": "histogram",
         "x": [
          103
         ],
         "xaxis": "x",
         "yaxis": "y"
        }
       ],
       "layout": {
        "barmode": "relative",
        "legend": {
         "title": {
          "text": "案由"
         },
         "tracegroupgap": 0
        },
        "template": {
         "data": {
          "bar": [
           {
            "error_x": {
             "color": "#2a3f5f"
            },
            "error_y": {
             "color": "#2a3f5f"
            },
            "marker": {
             "line": {
              "color": "#E5ECF6",
              "width": 0.5
             },
             "pattern": {
              "fillmode": "overlay",
              "size": 10,
              "solidity": 0.2
             }
            },
            "type": "bar"
           }
          ],
          "barpolar": [
           {
            "marker": {
             "line": {
              "color": "#E5ECF6",
              "width": 0.5
             },
             "pattern": {
              "fillmode": "overlay",
              "size": 10,
              "solidity": 0.2
             }
            },
            "type": "barpolar"
           }
          ],
          "carpet": [
           {
            "aaxis": {
             "endlinecolor": "#2a3f5f",
             "gridcolor": "white",
             "linecolor": "white",
             "minorgridcolor": "white",
             "startlinecolor": "#2a3f5f"
            },
            "baxis": {
             "endlinecolor": "#2a3f5f",
             "gridcolor": "white",
             "linecolor": "white",
             "minorgridcolor": "white",
             "startlinecolor": "#2a3f5f"
            },
            "type": "carpet"
           }
          ],
          "choropleth": [
           {
            "colorbar": {
             "outlinewidth": 0,
             "ticks": ""
            },
            "type": "choropleth"
           }
          ],
          "contour": [
           {
            "colorbar": {
             "outlinewidth": 0,
             "ticks": ""
            },
            "colorscale": [
             [
              0,
              "#0d0887"
             ],
             [
              0.1111111111111111,
              "#46039f"
             ],
             [
              0.2222222222222222,
              "#7201a8"
             ],
             [
              0.3333333333333333,
              "#9c179e"
             ],
             [
              0.4444444444444444,
              "#bd3786"
             ],
             [
              0.5555555555555556,
              "#d8576b"
             ],
             [
              0.6666666666666666,
              "#ed7953"
             ],
             [
              0.7777777777777778,
              "#fb9f3a"
             ],
             [
              0.8888888888888888,
              "#fdca26"
             ],
             [
              1,
              "#f0f921"
             ]
            ],
            "type": "contour"
           }
          ],
          "contourcarpet": [
           {
            "colorbar": {
             "outlinewidth": 0,
             "ticks": ""
            },
            "type": "contourcarpet"
           }
          ],
          "heatmap": [
           {
            "colorbar": {
             "outlinewidth": 0,
             "ticks": ""
            },
            "colorscale": [
             [
              0,
              "#0d0887"
             ],
             [
              0.1111111111111111,
              "#46039f"
             ],
             [
              0.2222222222222222,
              "#7201a8"
             ],
             [
              0.3333333333333333,
              "#9c179e"
             ],
             [
              0.4444444444444444,
              "#bd3786"
             ],
             [
              0.5555555555555556,
              "#d8576b"
             ],
             [
              0.6666666666666666,
              "#ed7953"
             ],
             [
              0.7777777777777778,
              "#fb9f3a"
             ],
             [
              0.8888888888888888,
              "#fdca26"
             ],
             [
              1,
              "#f0f921"
             ]
            ],
            "type": "heatmap"
           }
          ],
          "heatmapgl": [
           {
            "colorbar": {
             "outlinewidth": 0,
             "ticks": ""
            },
            "colorscale": [
             [
              0,
              "#0d0887"
             ],
             [
              0.1111111111111111,
              "#46039f"
             ],
             [
              0.2222222222222222,
              "#7201a8"
             ],
             [
              0.3333333333333333,
              "#9c179e"
             ],
             [
              0.4444444444444444,
              "#bd3786"
             ],
             [
              0.5555555555555556,
              "#d8576b"
             ],
             [
              0.6666666666666666,
              "#ed7953"
             ],
             [
              0.7777777777777778,
              "#fb9f3a"
             ],
             [
              0.8888888888888888,
              "#fdca26"
             ],
             [
              1,
              "#f0f921"
             ]
            ],
            "type": "heatmapgl"
           }
          ],
          "histogram": [
           {
            "marker": {
             "pattern": {
              "fillmode": "overlay",
              "size": 10,
              "solidity": 0.2
             }
            },
            "type": "histogram"
           }
          ],
          "histogram2d": [
           {
            "colorbar": {
             "outlinewidth": 0,
             "ticks": ""
            },
            "colorscale": [
             [
              0,
              "#0d0887"
             ],
             [
              0.1111111111111111,
              "#46039f"
             ],
             [
              0.2222222222222222,
              "#7201a8"
             ],
             [
              0.3333333333333333,
              "#9c179e"
             ],
             [
              0.4444444444444444,
              "#bd3786"
             ],
             [
              0.5555555555555556,
              "#d8576b"
             ],
             [
              0.6666666666666666,
              "#ed7953"
             ],
             [
              0.7777777777777778,
              "#fb9f3a"
             ],
             [
              0.8888888888888888,
              "#fdca26"
             ],
             [
              1,
              "#f0f921"
             ]
            ],
            "type": "histogram2d"
           }
          ],
          "histogram2dcontour": [
           {
            "colorbar": {
             "outlinewidth": 0,
             "ticks": ""
            },
            "colorscale": [
             [
              0,
              "#0d0887"
             ],
             [
              0.1111111111111111,
              "#46039f"
             ],
             [
              0.2222222222222222,
              "#7201a8"
             ],
             [
              0.3333333333333333,
              "#9c179e"
             ],
             [
              0.4444444444444444,
              "#bd3786"
             ],
             [
              0.5555555555555556,
              "#d8576b"
             ],
             [
              0.6666666666666666,
              "#ed7953"
             ],
             [
              0.7777777777777778,
              "#fb9f3a"
             ],
             [
              0.8888888888888888,
              "#fdca26"
             ],
             [
              1,
              "#f0f921"
             ]
            ],
            "type": "histogram2dcontour"
           }
          ],
          "mesh3d": [
           {
            "colorbar": {
             "outlinewidth": 0,
             "ticks": ""
            },
            "type": "mesh3d"
           }
          ],
          "parcoords": [
           {
            "line": {
             "colorbar": {
              "outlinewidth": 0,
              "ticks": ""
             }
            },
            "type": "parcoords"
           }
          ],
          "pie": [
           {
            "automargin": true,
            "type": "pie"
           }
          ],
          "scatter": [
           {
            "marker": {
             "colorbar": {
              "outlinewidth": 0,
              "ticks": ""
             }
            },
            "type": "scatter"
           }
          ],
          "scatter3d": [
           {
            "line": {
             "colorbar": {
              "outlinewidth": 0,
              "ticks": ""
             }
            },
            "marker": {
             "colorbar": {
              "outlinewidth": 0,
              "ticks": ""
             }
            },
            "type": "scatter3d"
           }
          ],
          "scattercarpet": [
           {
            "marker": {
             "colorbar": {
              "outlinewidth": 0,
              "ticks": ""
             }
            },
            "type": "scattercarpet"
           }
          ],
          "scattergeo": [
           {
            "marker": {
             "colorbar": {
              "outlinewidth": 0,
              "ticks": ""
             }
            },
            "type": "scattergeo"
           }
          ],
          "scattergl": [
           {
            "marker": {
             "colorbar": {
              "outlinewidth": 0,
              "ticks": ""
             }
            },
            "type": "scattergl"
           }
          ],
          "scattermapbox": [
           {
            "marker": {
             "colorbar": {
              "outlinewidth": 0,
              "ticks": ""
             }
            },
            "type": "scattermapbox"
           }
          ],
          "scatterpolar": [
           {
            "marker": {
             "colorbar": {
              "outlinewidth": 0,
              "ticks": ""
             }
            },
            "type": "scatterpolar"
           }
          ],
          "scatterpolargl": [
           {
            "marker": {
             "colorbar": {
              "outlinewidth": 0,
              "ticks": ""
             }
            },
            "type": "scatterpolargl"
           }
          ],
          "scatterternary": [
           {
            "marker": {
             "colorbar": {
              "outlinewidth": 0,
              "ticks": ""
             }
            },
            "type": "scatterternary"
           }
          ],
          "surface": [
           {
            "colorbar": {
             "outlinewidth": 0,
             "ticks": ""
            },
            "colorscale": [
             [
              0,
              "#0d0887"
             ],
             [
              0.1111111111111111,
              "#46039f"
             ],
             [
              0.2222222222222222,
              "#7201a8"
             ],
             [
              0.3333333333333333,
              "#9c179e"
             ],
             [
              0.4444444444444444,
              "#bd3786"
             ],
             [
              0.5555555555555556,
              "#d8576b"
             ],
             [
              0.6666666666666666,
              "#ed7953"
             ],
             [
              0.7777777777777778,
              "#fb9f3a"
             ],
             [
              0.8888888888888888,
              "#fdca26"
             ],
             [
              1,
              "#f0f921"
             ]
            ],
            "type": "surface"
           }
          ],
          "table": [
           {
            "cells": {
             "fill": {
              "color": "#EBF0F8"
             },
             "line": {
              "color": "white"
             }
            },
            "header": {
             "fill": {
              "color": "#C8D4E3"
             },
             "line": {
              "color": "white"
             }
            },
            "type": "table"
           }
          ]
         },
         "layout": {
          "annotationdefaults": {
           "arrowcolor": "#2a3f5f",
           "arrowhead": 0,
           "arrowwidth": 1
          },
          "autotypenumbers": "strict",
          "coloraxis": {
           "colorbar": {
            "outlinewidth": 0,
            "ticks": ""
           }
          },
          "colorscale": {
           "diverging": [
            [
             0,
             "#8e0152"
            ],
            [
             0.1,
             "#c51b7d"
            ],
            [
             0.2,
             "#de77ae"
            ],
            [
             0.3,
             "#f1b6da"
            ],
            [
             0.4,
             "#fde0ef"
            ],
            [
             0.5,
             "#f7f7f7"
            ],
            [
             0.6,
             "#e6f5d0"
            ],
            [
             0.7,
             "#b8e186"
            ],
            [
             0.8,
             "#7fbc41"
            ],
            [
             0.9,
             "#4d9221"
            ],
            [
             1,
             "#276419"
            ]
           ],
           "sequential": [
            [
             0,
             "#0d0887"
            ],
            [
             0.1111111111111111,
             "#46039f"
            ],
            [
             0.2222222222222222,
             "#7201a8"
            ],
            [
             0.3333333333333333,
             "#9c179e"
            ],
            [
             0.4444444444444444,
             "#bd3786"
            ],
            [
             0.5555555555555556,
             "#d8576b"
            ],
            [
             0.6666666666666666,
             "#ed7953"
            ],
            [
             0.7777777777777778,
             "#fb9f3a"
            ],
            [
             0.8888888888888888,
             "#fdca26"
            ],
            [
             1,
             "#f0f921"
            ]
           ],
           "sequentialminus": [
            [
             0,
             "#0d0887"
            ],
            [
             0.1111111111111111,
             "#46039f"
            ],
            [
             0.2222222222222222,
             "#7201a8"
            ],
            [
             0.3333333333333333,
             "#9c179e"
            ],
            [
             0.4444444444444444,
             "#bd3786"
            ],
            [
             0.5555555555555556,
             "#d8576b"
            ],
            [
             0.6666666666666666,
             "#ed7953"
            ],
            [
             0.7777777777777778,
             "#fb9f3a"
            ],
            [
             0.8888888888888888,
             "#fdca26"
            ],
            [
             1,
             "#f0f921"
            ]
           ]
          },
          "colorway": [
           "#636efa",
           "#EF553B",
           "#00cc96",
           "#ab63fa",
           "#FFA15A",
           "#19d3f3",
           "#FF6692",
           "#B6E880",
           "#FF97FF",
           "#FECB52"
          ],
          "font": {
           "color": "#2a3f5f"
          },
          "geo": {
           "bgcolor": "white",
           "lakecolor": "white",
           "landcolor": "#E5ECF6",
           "showlakes": true,
           "showland": true,
           "subunitcolor": "white"
          },
          "hoverlabel": {
           "align": "left"
          },
          "hovermode": "closest",
          "mapbox": {
           "style": "light"
          },
          "paper_bgcolor": "white",
          "plot_bgcolor": "#E5ECF6",
          "polar": {
           "angularaxis": {
            "gridcolor": "white",
            "linecolor": "white",
            "ticks": ""
           },
           "bgcolor": "#E5ECF6",
           "radialaxis": {
            "gridcolor": "white",
            "linecolor": "white",
            "ticks": ""
           }
          },
          "scene": {
           "xaxis": {
            "backgroundcolor": "#E5ECF6",
            "gridcolor": "white",
            "gridwidth": 2,
            "linecolor": "white",
            "showbackground": true,
            "ticks": "",
            "zerolinecolor": "white"
           },
           "yaxis": {
            "backgroundcolor": "#E5ECF6",
            "gridcolor": "white",
            "gridwidth": 2,
            "linecolor": "white",
            "showbackground": true,
            "ticks": "",
            "zerolinecolor": "white"
           },
           "zaxis": {
            "backgroundcolor": "#E5ECF6",
            "gridcolor": "white",
            "gridwidth": 2,
            "linecolor": "white",
            "showbackground": true,
            "ticks": "",
            "zerolinecolor": "white"
           }
          },
          "shapedefaults": {
           "line": {
            "color": "#2a3f5f"
           }
          },
          "ternary": {
           "aaxis": {
            "gridcolor": "white",
            "linecolor": "white",
            "ticks": ""
           },
           "baxis": {
            "gridcolor": "white",
            "linecolor": "white",
            "ticks": ""
           },
           "bgcolor": "#E5ECF6",
           "caxis": {
            "gridcolor": "white",
            "linecolor": "white",
            "ticks": ""
           }
          },
          "title": {
           "x": 0.05
          },
          "xaxis": {
           "automargin": true,
           "gridcolor": "white",
           "linecolor": "white",
           "ticks": "",
           "title": {
            "standoff": 15
           },
           "zerolinecolor": "white",
           "zerolinewidth": 2
          },
          "yaxis": {
           "automargin": true,
           "gridcolor": "white",
           "linecolor": "white",
           "ticks": "",
           "title": {
            "standoff": 15
           },
           "zerolinecolor": "white",
           "zerolinewidth": 2
          }
         }
        },
        "title": {
         "text": "judge term from 101 to 110"
        },
        "xaxis": {
         "anchor": "y",
         "domain": [
          0,
          1
         ],
         "title": {
          "text": "year"
         }
        },
        "yaxis": {
         "anchor": "x",
         "domain": [
          0,
          1
         ],
         "title": {
          "text": "count"
         }
        }
       }
      },
      "text/html": [
       "<div>                            <div id=\"2aa5660c-7eba-45c6-bf7d-241fa5032550\" class=\"plotly-graph-div\" style=\"height:525px; width:100%;\"></div>            <script type=\"text/javascript\">                require([\"plotly\"], function(Plotly) {                    window.PLOTLYENV=window.PLOTLYENV || {};                                    if (document.getElementById(\"2aa5660c-7eba-45c6-bf7d-241fa5032550\")) {                    Plotly.newPlot(                        \"2aa5660c-7eba-45c6-bf7d-241fa5032550\",                        [{\"alignmentgroup\":\"True\",\"bingroup\":\"x\",\"hovertemplate\":\"\\u6848\\u7531=\\u640d\\u5bb3\\u8ce0\\u511f<br>year=%{x}<br>count=%{y}<extra></extra>\",\"legendgroup\":\"\\u640d\\u5bb3\\u8ce0\\u511f\",\"marker\":{\"color\":\"#636efa\",\"pattern\":{\"shape\":\"\"}},\"name\":\"\\u640d\\u5bb3\\u8ce0\\u511f\",\"offsetgroup\":\"\\u640d\\u5bb3\\u8ce0\\u511f\",\"orientation\":\"v\",\"showlegend\":true,\"x\":[105,107,105,105,106,107,107,106,108,109,106,107,108,104,101,108,106,106,106,101,105,108,106,109,104,105,108,103,107,105,105,106,105,108,106,105,109,103,109,105,108,108,105,105,107,108,108,108,106,108,108,106,108,109,106,103,102,109,106,104,101,108,106,108,107,109,105,109,110,107,104,108,105,106,105,105,108,104,102,107],\"xaxis\":\"x\",\"yaxis\":\"y\",\"type\":\"histogram\"},{\"alignmentgroup\":\"True\",\"bingroup\":\"x\",\"hovertemplate\":\"\\u6848\\u7531=\\u4fb5\\u6b0a\\u884c\\u70ba\\u640d\\u5bb3\\u8ce0\\u511f<br>year=%{x}<br>count=%{y}<extra></extra>\",\"legendgroup\":\"\\u4fb5\\u6b0a\\u884c\\u70ba\\u640d\\u5bb3\\u8ce0\\u511f\",\"marker\":{\"color\":\"#EF553B\",\"pattern\":{\"shape\":\"\"}},\"name\":\"\\u4fb5\\u6b0a\\u884c\\u70ba\\u640d\\u5bb3\\u8ce0\\u511f\",\"offsetgroup\":\"\\u4fb5\\u6b0a\\u884c\\u70ba\\u640d\\u5bb3\\u8ce0\\u511f\",\"orientation\":\"v\",\"showlegend\":true,\"x\":[106,106,107,103,108,107,108,105,104,107,105,109,109,109,103,108,102,103,107],\"xaxis\":\"x\",\"yaxis\":\"y\",\"type\":\"histogram\"},{\"alignmentgroup\":\"True\",\"bingroup\":\"x\",\"hovertemplate\":\"\\u6848\\u7531=\\u8acb\\u6c42\\u4fb5\\u6b0a\\u884c\\u70ba\\u640d\\u5bb3\\u8ce0\\u511f<br>year=%{x}<br>count=%{y}<extra></extra>\",\"legendgroup\":\"\\u8acb\\u6c42\\u4fb5\\u6b0a\\u884c\\u70ba\\u640d\\u5bb3\\u8ce0\\u511f\",\"marker\":{\"color\":\"#00cc96\",\"pattern\":{\"shape\":\"\"}},\"name\":\"\\u8acb\\u6c42\\u4fb5\\u6b0a\\u884c\\u70ba\\u640d\\u5bb3\\u8ce0\\u511f\",\"offsetgroup\":\"\\u8acb\\u6c42\\u4fb5\\u6b0a\\u884c\\u70ba\\u640d\\u5bb3\\u8ce0\\u511f\",\"orientation\":\"v\",\"showlegend\":true,\"x\":[103],\"xaxis\":\"x\",\"yaxis\":\"y\",\"type\":\"histogram\"}],                        {\"template\":{\"data\":{\"bar\":[{\"error_x\":{\"color\":\"#2a3f5f\"},\"error_y\":{\"color\":\"#2a3f5f\"},\"marker\":{\"line\":{\"color\":\"#E5ECF6\",\"width\":0.5},\"pattern\":{\"fillmode\":\"overlay\",\"size\":10,\"solidity\":0.2}},\"type\":\"bar\"}],\"barpolar\":[{\"marker\":{\"line\":{\"color\":\"#E5ECF6\",\"width\":0.5},\"pattern\":{\"fillmode\":\"overlay\",\"size\":10,\"solidity\":0.2}},\"type\":\"barpolar\"}],\"carpet\":[{\"aaxis\":{\"endlinecolor\":\"#2a3f5f\",\"gridcolor\":\"white\",\"linecolor\":\"white\",\"minorgridcolor\":\"white\",\"startlinecolor\":\"#2a3f5f\"},\"baxis\":{\"endlinecolor\":\"#2a3f5f\",\"gridcolor\":\"white\",\"linecolor\":\"white\",\"minorgridcolor\":\"white\",\"startlinecolor\":\"#2a3f5f\"},\"type\":\"carpet\"}],\"choropleth\":[{\"colorbar\":{\"outlinewidth\":0,\"ticks\":\"\"},\"type\":\"choropleth\"}],\"contour\":[{\"colorbar\":{\"outlinewidth\":0,\"ticks\":\"\"},\"colorscale\":[[0.0,\"#0d0887\"],[0.1111111111111111,\"#46039f\"],[0.2222222222222222,\"#7201a8\"],[0.3333333333333333,\"#9c179e\"],[0.4444444444444444,\"#bd3786\"],[0.5555555555555556,\"#d8576b\"],[0.6666666666666666,\"#ed7953\"],[0.7777777777777778,\"#fb9f3a\"],[0.8888888888888888,\"#fdca26\"],[1.0,\"#f0f921\"]],\"type\":\"contour\"}],\"contourcarpet\":[{\"colorbar\":{\"outlinewidth\":0,\"ticks\":\"\"},\"type\":\"contourcarpet\"}],\"heatmap\":[{\"colorbar\":{\"outlinewidth\":0,\"ticks\":\"\"},\"colorscale\":[[0.0,\"#0d0887\"],[0.1111111111111111,\"#46039f\"],[0.2222222222222222,\"#7201a8\"],[0.3333333333333333,\"#9c179e\"],[0.4444444444444444,\"#bd3786\"],[0.5555555555555556,\"#d8576b\"],[0.6666666666666666,\"#ed7953\"],[0.7777777777777778,\"#fb9f3a\"],[0.8888888888888888,\"#fdca26\"],[1.0,\"#f0f921\"]],\"type\":\"heatmap\"}],\"heatmapgl\":[{\"colorbar\":{\"outlinewidth\":0,\"ticks\":\"\"},\"colorscale\":[[0.0,\"#0d0887\"],[0.1111111111111111,\"#46039f\"],[0.2222222222222222,\"#7201a8\"],[0.3333333333333333,\"#9c179e\"],[0.4444444444444444,\"#bd3786\"],[0.5555555555555556,\"#d8576b\"],[0.6666666666666666,\"#ed7953\"],[0.7777777777777778,\"#fb9f3a\"],[0.8888888888888888,\"#fdca26\"],[1.0,\"#f0f921\"]],\"type\":\"heatmapgl\"}],\"histogram\":[{\"marker\":{\"pattern\":{\"fillmode\":\"overlay\",\"size\":10,\"solidity\":0.2}},\"type\":\"histogram\"}],\"histogram2d\":[{\"colorbar\":{\"outlinewidth\":0,\"ticks\":\"\"},\"colorscale\":[[0.0,\"#0d0887\"],[0.1111111111111111,\"#46039f\"],[0.2222222222222222,\"#7201a8\"],[0.3333333333333333,\"#9c179e\"],[0.4444444444444444,\"#bd3786\"],[0.5555555555555556,\"#d8576b\"],[0.6666666666666666,\"#ed7953\"],[0.7777777777777778,\"#fb9f3a\"],[0.8888888888888888,\"#fdca26\"],[1.0,\"#f0f921\"]],\"type\":\"histogram2d\"}],\"histogram2dcontour\":[{\"colorbar\":{\"outlinewidth\":0,\"ticks\":\"\"},\"colorscale\":[[0.0,\"#0d0887\"],[0.1111111111111111,\"#46039f\"],[0.2222222222222222,\"#7201a8\"],[0.3333333333333333,\"#9c179e\"],[0.4444444444444444,\"#bd3786\"],[0.5555555555555556,\"#d8576b\"],[0.6666666666666666,\"#ed7953\"],[0.7777777777777778,\"#fb9f3a\"],[0.8888888888888888,\"#fdca26\"],[1.0,\"#f0f921\"]],\"type\":\"histogram2dcontour\"}],\"mesh3d\":[{\"colorbar\":{\"outlinewidth\":0,\"ticks\":\"\"},\"type\":\"mesh3d\"}],\"parcoords\":[{\"line\":{\"colorbar\":{\"outlinewidth\":0,\"ticks\":\"\"}},\"type\":\"parcoords\"}],\"pie\":[{\"automargin\":true,\"type\":\"pie\"}],\"scatter\":[{\"marker\":{\"colorbar\":{\"outlinewidth\":0,\"ticks\":\"\"}},\"type\":\"scatter\"}],\"scatter3d\":[{\"line\":{\"colorbar\":{\"outlinewidth\":0,\"ticks\":\"\"}},\"marker\":{\"colorbar\":{\"outlinewidth\":0,\"ticks\":\"\"}},\"type\":\"scatter3d\"}],\"scattercarpet\":[{\"marker\":{\"colorbar\":{\"outlinewidth\":0,\"ticks\":\"\"}},\"type\":\"scattercarpet\"}],\"scattergeo\":[{\"marker\":{\"colorbar\":{\"outlinewidth\":0,\"ticks\":\"\"}},\"type\":\"scattergeo\"}],\"scattergl\":[{\"marker\":{\"colorbar\":{\"outlinewidth\":0,\"ticks\":\"\"}},\"type\":\"scattergl\"}],\"scattermapbox\":[{\"marker\":{\"colorbar\":{\"outlinewidth\":0,\"ticks\":\"\"}},\"type\":\"scattermapbox\"}],\"scatterpolar\":[{\"marker\":{\"colorbar\":{\"outlinewidth\":0,\"ticks\":\"\"}},\"type\":\"scatterpolar\"}],\"scatterpolargl\":[{\"marker\":{\"colorbar\":{\"outlinewidth\":0,\"ticks\":\"\"}},\"type\":\"scatterpolargl\"}],\"scatterternary\":[{\"marker\":{\"colorbar\":{\"outlinewidth\":0,\"ticks\":\"\"}},\"type\":\"scatterternary\"}],\"surface\":[{\"colorbar\":{\"outlinewidth\":0,\"ticks\":\"\"},\"colorscale\":[[0.0,\"#0d0887\"],[0.1111111111111111,\"#46039f\"],[0.2222222222222222,\"#7201a8\"],[0.3333333333333333,\"#9c179e\"],[0.4444444444444444,\"#bd3786\"],[0.5555555555555556,\"#d8576b\"],[0.6666666666666666,\"#ed7953\"],[0.7777777777777778,\"#fb9f3a\"],[0.8888888888888888,\"#fdca26\"],[1.0,\"#f0f921\"]],\"type\":\"surface\"}],\"table\":[{\"cells\":{\"fill\":{\"color\":\"#EBF0F8\"},\"line\":{\"color\":\"white\"}},\"header\":{\"fill\":{\"color\":\"#C8D4E3\"},\"line\":{\"color\":\"white\"}},\"type\":\"table\"}]},\"layout\":{\"annotationdefaults\":{\"arrowcolor\":\"#2a3f5f\",\"arrowhead\":0,\"arrowwidth\":1},\"autotypenumbers\":\"strict\",\"coloraxis\":{\"colorbar\":{\"outlinewidth\":0,\"ticks\":\"\"}},\"colorscale\":{\"diverging\":[[0,\"#8e0152\"],[0.1,\"#c51b7d\"],[0.2,\"#de77ae\"],[0.3,\"#f1b6da\"],[0.4,\"#fde0ef\"],[0.5,\"#f7f7f7\"],[0.6,\"#e6f5d0\"],[0.7,\"#b8e186\"],[0.8,\"#7fbc41\"],[0.9,\"#4d9221\"],[1,\"#276419\"]],\"sequential\":[[0.0,\"#0d0887\"],[0.1111111111111111,\"#46039f\"],[0.2222222222222222,\"#7201a8\"],[0.3333333333333333,\"#9c179e\"],[0.4444444444444444,\"#bd3786\"],[0.5555555555555556,\"#d8576b\"],[0.6666666666666666,\"#ed7953\"],[0.7777777777777778,\"#fb9f3a\"],[0.8888888888888888,\"#fdca26\"],[1.0,\"#f0f921\"]],\"sequentialminus\":[[0.0,\"#0d0887\"],[0.1111111111111111,\"#46039f\"],[0.2222222222222222,\"#7201a8\"],[0.3333333333333333,\"#9c179e\"],[0.4444444444444444,\"#bd3786\"],[0.5555555555555556,\"#d8576b\"],[0.6666666666666666,\"#ed7953\"],[0.7777777777777778,\"#fb9f3a\"],[0.8888888888888888,\"#fdca26\"],[1.0,\"#f0f921\"]]},\"colorway\":[\"#636efa\",\"#EF553B\",\"#00cc96\",\"#ab63fa\",\"#FFA15A\",\"#19d3f3\",\"#FF6692\",\"#B6E880\",\"#FF97FF\",\"#FECB52\"],\"font\":{\"color\":\"#2a3f5f\"},\"geo\":{\"bgcolor\":\"white\",\"lakecolor\":\"white\",\"landcolor\":\"#E5ECF6\",\"showlakes\":true,\"showland\":true,\"subunitcolor\":\"white\"},\"hoverlabel\":{\"align\":\"left\"},\"hovermode\":\"closest\",\"mapbox\":{\"style\":\"light\"},\"paper_bgcolor\":\"white\",\"plot_bgcolor\":\"#E5ECF6\",\"polar\":{\"angularaxis\":{\"gridcolor\":\"white\",\"linecolor\":\"white\",\"ticks\":\"\"},\"bgcolor\":\"#E5ECF6\",\"radialaxis\":{\"gridcolor\":\"white\",\"linecolor\":\"white\",\"ticks\":\"\"}},\"scene\":{\"xaxis\":{\"backgroundcolor\":\"#E5ECF6\",\"gridcolor\":\"white\",\"gridwidth\":2,\"linecolor\":\"white\",\"showbackground\":true,\"ticks\":\"\",\"zerolinecolor\":\"white\"},\"yaxis\":{\"backgroundcolor\":\"#E5ECF6\",\"gridcolor\":\"white\",\"gridwidth\":2,\"linecolor\":\"white\",\"showbackground\":true,\"ticks\":\"\",\"zerolinecolor\":\"white\"},\"zaxis\":{\"backgroundcolor\":\"#E5ECF6\",\"gridcolor\":\"white\",\"gridwidth\":2,\"linecolor\":\"white\",\"showbackground\":true,\"ticks\":\"\",\"zerolinecolor\":\"white\"}},\"shapedefaults\":{\"line\":{\"color\":\"#2a3f5f\"}},\"ternary\":{\"aaxis\":{\"gridcolor\":\"white\",\"linecolor\":\"white\",\"ticks\":\"\"},\"baxis\":{\"gridcolor\":\"white\",\"linecolor\":\"white\",\"ticks\":\"\"},\"bgcolor\":\"#E5ECF6\",\"caxis\":{\"gridcolor\":\"white\",\"linecolor\":\"white\",\"ticks\":\"\"}},\"title\":{\"x\":0.05},\"xaxis\":{\"automargin\":true,\"gridcolor\":\"white\",\"linecolor\":\"white\",\"ticks\":\"\",\"title\":{\"standoff\":15},\"zerolinecolor\":\"white\",\"zerolinewidth\":2},\"yaxis\":{\"automargin\":true,\"gridcolor\":\"white\",\"linecolor\":\"white\",\"ticks\":\"\",\"title\":{\"standoff\":15},\"zerolinecolor\":\"white\",\"zerolinewidth\":2}}},\"xaxis\":{\"anchor\":\"y\",\"domain\":[0.0,1.0],\"title\":{\"text\":\"year\"}},\"yaxis\":{\"anchor\":\"x\",\"domain\":[0.0,1.0],\"title\":{\"text\":\"count\"}},\"legend\":{\"title\":{\"text\":\"\\u6848\\u7531\"},\"tracegroupgap\":0},\"title\":{\"text\":\"judge term from 101 to 110\"},\"barmode\":\"relative\"},                        {\"responsive\": true}                    ).then(function(){\n",
       "                            \n",
       "var gd = document.getElementById('2aa5660c-7eba-45c6-bf7d-241fa5032550');\n",
       "var x = new MutationObserver(function (mutations, observer) {{\n",
       "        var display = window.getComputedStyle(gd).display;\n",
       "        if (!display || display === 'none') {{\n",
       "            console.log([gd, 'removed!']);\n",
       "            Plotly.purge(gd);\n",
       "            observer.disconnect();\n",
       "        }}\n",
       "}});\n",
       "\n",
       "// Listen for the removal of the full notebook cells\n",
       "var notebookContainer = gd.closest('#notebook-container');\n",
       "if (notebookContainer) {{\n",
       "    x.observe(notebookContainer, {childList: true});\n",
       "}}\n",
       "\n",
       "// Listen for the clearing of the current output cell\n",
       "var outputEl = gd.closest('.output');\n",
       "if (outputEl) {{\n",
       "    x.observe(outputEl, {childList: true});\n",
       "}}\n",
       "\n",
       "                        })                };                });            </script>        </div>"
      ]
     },
     "metadata": {},
     "output_type": "display_data"
    }
   ],
   "source": [
    "px.histogram(orgdata, x='year', color=\"案由\", title='judge term from 101 to 110')"
   ]
  },
  {
   "cell_type": "code",
   "execution_count": 306,
   "id": "715aa3eb",
   "metadata": {},
   "outputs": [
    {
     "data": {
      "text/html": [
       "<div>\n",
       "<style scoped>\n",
       "    .dataframe tbody tr th:only-of-type {\n",
       "        vertical-align: middle;\n",
       "    }\n",
       "\n",
       "    .dataframe tbody tr th {\n",
       "        vertical-align: top;\n",
       "    }\n",
       "\n",
       "    .dataframe thead th {\n",
       "        text-align: right;\n",
       "    }\n",
       "</style>\n",
       "<table border=\"1\" class=\"dataframe\">\n",
       "  <thead>\n",
       "    <tr style=\"text-align: right;\">\n",
       "      <th></th>\n",
       "      <th>Unnamed: 0</th>\n",
       "      <th>案號</th>\n",
       "      <th>內文</th>\n",
       "      <th>法規</th>\n",
       "      <th>審判長</th>\n",
       "      <th>裁判類型</th>\n",
       "      <th>案由</th>\n",
       "      <th>判決時間</th>\n",
       "      <th>seg</th>\n",
       "      <th>year</th>\n",
       "    </tr>\n",
       "  </thead>\n",
       "  <tbody>\n",
       "    <tr>\n",
       "      <th>0</th>\n",
       "      <td>0</td>\n",
       "      <td>105,投小,319</td>\n",
       "      <td>臺灣南投地方法院民事小額判決105年度投小字第319號原告泰安產物保險股份有限公司法定代理人...</td>\n",
       "      <td>['民法第213條', '民法第184條第1項', '民事訴訟法第436條之8第1項', '...</td>\n",
       "      <td>張家豪</td>\n",
       "      <td>民事判決</td>\n",
       "      <td>損害賠償</td>\n",
       "      <td>105    年    11    月    24    日</td>\n",
       "      <td>[第條, 本件, 原告, 被告, 系爭, 車禍, 賠償, 損害, 第項, 本院, 請求, 事...</td>\n",
       "      <td>105</td>\n",
       "    </tr>\n",
       "    <tr>\n",
       "      <th>1</th>\n",
       "      <td>1</td>\n",
       "      <td>107,訴,1641</td>\n",
       "      <td>臺灣桃園地方法院民事判決107年度訴字第1641號原告新光產物保險股份有限公司桃園分公司法定...</td>\n",
       "      <td>['民法第203條', '民法第196條', '民法第196條第1項', '民法第233條第...</td>\n",
       "      <td>廖珮伶</td>\n",
       "      <td>民事判決</td>\n",
       "      <td>損害賠償</td>\n",
       "      <td>107    年    9     月    3     日</td>\n",
       "      <td>[被告, 第條, 車輛, 請求, 原告, 賠償, 保險, 系爭, 本件, 泰元, 第項, 本...</td>\n",
       "      <td>107</td>\n",
       "    </tr>\n",
       "    <tr>\n",
       "      <th>3</th>\n",
       "      <td>3</td>\n",
       "      <td>105,湖小,595</td>\n",
       "      <td>臺灣士林地方法院小額民事訴訟判決105年度湖小字第595號原告旺旺友聯產物保險股份有限公司法...</td>\n",
       "      <td>['民法第196條', '營利事業所得稅查核準則第95條第6項', '民法第217條第1項'...</td>\n",
       "      <td>黃紀錄</td>\n",
       "      <td>民事判決</td>\n",
       "      <td>損害賠償</td>\n",
       "      <td>105    年    8     月    15    日</td>\n",
       "      <td>[車輛, 系爭, 被告, 原告, 發生, 過失, 賠償, 被害人, 駕駛, 本件, 車禍, ...</td>\n",
       "      <td>105</td>\n",
       "    </tr>\n",
       "    <tr>\n",
       "      <th>4</th>\n",
       "      <td>4</td>\n",
       "      <td>105,投小,392</td>\n",
       "      <td>臺灣南投地方法院民事小額判決105年度投小字第392號原告新光產物保險股份有限公司台中分公司...</td>\n",
       "      <td>['民法第213條', '民法第184條第1項', '民事訴訟法第436條之8第1項', '...</td>\n",
       "      <td>張家豪</td>\n",
       "      <td>民事判決</td>\n",
       "      <td>損害賠償</td>\n",
       "      <td>105    年    11    月    24    日</td>\n",
       "      <td>[第條, 系爭, 原告, 本件, 被告, 賠償, 第項, 車禍, 本院, 損害, 規定, 請...</td>\n",
       "      <td>105</td>\n",
       "    </tr>\n",
       "    <tr>\n",
       "      <th>5</th>\n",
       "      <td>5</td>\n",
       "      <td>106,沙小,424</td>\n",
       "      <td>臺灣臺中地方法院小額民事判決106年度沙小字第424號原告豐原汽車客運股份有限公司法定代理人...</td>\n",
       "      <td>['民法第213條', '民法第196條', '民事訴訟法第436條之19', '民法第21...</td>\n",
       "      <td>何世全</td>\n",
       "      <td>民事判決</td>\n",
       "      <td>損害賠償</td>\n",
       "      <td>106    年    10    月    24    日</td>\n",
       "      <td>[原告, 被告, 車輛, 本件, 第條, 賠償, 車禍, 系爭, 發生, 楊鴻銘, 交通事故...</td>\n",
       "      <td>106</td>\n",
       "    </tr>\n",
       "  </tbody>\n",
       "</table>\n",
       "</div>"
      ],
      "text/plain": [
       "   Unnamed: 0          案號                                                 內文  \\\n",
       "0           0  105,投小,319  臺灣南投地方法院民事小額判決105年度投小字第319號原告泰安產物保險股份有限公司法定代理人...   \n",
       "1           1  107,訴,1641  臺灣桃園地方法院民事判決107年度訴字第1641號原告新光產物保險股份有限公司桃園分公司法定...   \n",
       "3           3  105,湖小,595  臺灣士林地方法院小額民事訴訟判決105年度湖小字第595號原告旺旺友聯產物保險股份有限公司法...   \n",
       "4           4  105,投小,392  臺灣南投地方法院民事小額判決105年度投小字第392號原告新光產物保險股份有限公司台中分公司...   \n",
       "5           5  106,沙小,424  臺灣臺中地方法院小額民事判決106年度沙小字第424號原告豐原汽車客運股份有限公司法定代理人...   \n",
       "\n",
       "                                                  法規  審判長  裁判類型    案由  \\\n",
       "0  ['民法第213條', '民法第184條第1項', '民事訴訟法第436條之8第1項', '...  張家豪  民事判決  損害賠償   \n",
       "1  ['民法第203條', '民法第196條', '民法第196條第1項', '民法第233條第...  廖珮伶  民事判決  損害賠償   \n",
       "3  ['民法第196條', '營利事業所得稅查核準則第95條第6項', '民法第217條第1項'...  黃紀錄  民事判決  損害賠償   \n",
       "4  ['民法第213條', '民法第184條第1項', '民事訴訟法第436條之8第1項', '...  張家豪  民事判決  損害賠償   \n",
       "5  ['民法第213條', '民法第196條', '民事訴訟法第436條之19', '民法第21...  何世全  民事判決  損害賠償   \n",
       "\n",
       "                                判決時間  \\\n",
       "0     105    年    11    月    24    日   \n",
       "1     107    年    9     月    3     日   \n",
       "3     105    年    8     月    15    日   \n",
       "4     105    年    11    月    24    日   \n",
       "5     106    年    10    月    24    日   \n",
       "\n",
       "                                                 seg  year  \n",
       "0  [第條, 本件, 原告, 被告, 系爭, 車禍, 賠償, 損害, 第項, 本院, 請求, 事...   105  \n",
       "1  [被告, 第條, 車輛, 請求, 原告, 賠償, 保險, 系爭, 本件, 泰元, 第項, 本...   107  \n",
       "3  [車輛, 系爭, 被告, 原告, 發生, 過失, 賠償, 被害人, 駕駛, 本件, 車禍, ...   105  \n",
       "4  [第條, 系爭, 原告, 本件, 被告, 賠償, 第項, 車禍, 本院, 損害, 規定, 請...   105  \n",
       "5  [原告, 被告, 車輛, 本件, 第條, 賠償, 車禍, 系爭, 發生, 楊鴻銘, 交通事故...   106  "
      ]
     },
     "execution_count": 306,
     "metadata": {},
     "output_type": "execute_result"
    }
   ],
   "source": [
    "show_sub = orgdata['案由']=='損害賠償'\n",
    "subdata = orgdata[show_sub]\n",
    "subdata.head()"
   ]
  },
  {
   "cell_type": "code",
   "execution_count": 307,
   "id": "5eacca8a",
   "metadata": {},
   "outputs": [
    {
     "data": {
      "text/plain": [
       "list"
      ]
     },
     "execution_count": 307,
     "metadata": {},
     "output_type": "execute_result"
    }
   ],
   "source": [
    "subdata_seg_list = subdata['seg'].tolist()\n",
    "type(subdata_seg_list)"
   ]
  },
  {
   "cell_type": "code",
   "execution_count": 308,
   "id": "3b804a59",
   "metadata": {},
   "outputs": [
    {
     "data": {
      "text/plain": [
       "[['第條',\n",
       "  '本件',\n",
       "  '原告',\n",
       "  '被告',\n",
       "  '系爭',\n",
       "  '車禍',\n",
       "  '賠償',\n",
       "  '損害',\n",
       "  '第項',\n",
       "  '本院',\n",
       "  '請求',\n",
       "  '事故',\n",
       "  '過失',\n",
       "  '規定',\n",
       "  '民法',\n",
       "  '發生',\n",
       "  '汽車',\n",
       "  '南投',\n",
       "  '交通事故',\n",
       "  '現場',\n",
       "  '之系爭',\n",
       "  '費用',\n",
       "  '年月日',\n",
       "  '計算',\n",
       "  '失責任',\n",
       "  '責任',\n",
       "  '影本',\n",
       "  '第頁',\n",
       "  '折舊',\n",
       "  '上訴',\n",
       "  '前段',\n",
       "  '負擔',\n",
       "  '下稱',\n",
       "  '義務',\n",
       "  '依規定',\n",
       "  '之過',\n",
       "  '被害人',\n",
       "  '直行',\n",
       "  '比例',\n",
       "  '注意',\n",
       "  '判決',\n",
       "  '保險',\n",
       "  '駕駛',\n",
       "  '駕駛系爭',\n",
       "  '減速',\n",
       "  '未盡車',\n",
       "  '桃苗',\n",
       "  '原狀',\n",
       "  '理由',\n",
       "  '零件'],\n",
       " ['被告',\n",
       "  '第條',\n",
       "  '車輛',\n",
       "  '請求',\n",
       "  '原告',\n",
       "  '賠償',\n",
       "  '保險',\n",
       "  '系爭',\n",
       "  '本件',\n",
       "  '泰元',\n",
       "  '第項',\n",
       "  '本院',\n",
       "  '車道',\n",
       "  '車禍',\n",
       "  '發生',\n",
       "  '代位',\n",
       "  '年月日',\n",
       "  '損害',\n",
       "  '過失',\n",
       "  '給付',\n",
       "  '變換',\n",
       "  '折舊',\n",
       "  '規定',\n",
       "  '費用',\n",
       "  '第頁',\n",
       "  '民法',\n",
       "  '明文',\n",
       "  '計算',\n",
       "  '金額',\n",
       "  '事故',\n",
       "  '交通事故',\n",
       "  '算式',\n",
       "  '受損',\n",
       "  '車前',\n",
       "  '狀況',\n",
       "  '侵權',\n",
       "  '行為',\n",
       "  '汽車',\n",
       "  '上訴',\n",
       "  '新光',\n",
       "  '主文',\n",
       "  '道路',\n",
       "  '判決',\n",
       "  '第號',\n",
       "  '詞辯',\n",
       "  '論期',\n",
       "  '國際',\n",
       "  '租賃',\n",
       "  '駕駛系爭',\n",
       "  '駕駛'],\n",
       " ['車輛',\n",
       "  '系爭',\n",
       "  '被告',\n",
       "  '原告',\n",
       "  '發生',\n",
       "  '過失',\n",
       "  '賠償',\n",
       "  '被害人',\n",
       "  '駕駛',\n",
       "  '本件',\n",
       "  '車禍',\n",
       "  '本院',\n",
       "  '使用',\n",
       "  '負擔',\n",
       "  '第條',\n",
       "  '計算',\n",
       "  '楊軍鵬',\n",
       "  '事故',\n",
       "  '民法',\n",
       "  '年月日',\n",
       "  '損害',\n",
       "  '地點',\n",
       "  '折舊',\n",
       "  '規定',\n",
       "  '第項',\n",
       "  '疏散',\n",
       "  '代理人',\n",
       "  '判決',\n",
       "  '機車',\n",
       "  '標誌',\n",
       "  '結果',\n",
       "  '失責任',\n",
       "  '請求',\n",
       "  '有過',\n",
       "  '代位',\n",
       "  '訴訟',\n",
       "  '第號',\n",
       "  '保險',\n",
       "  '清償',\n",
       "  '日止',\n",
       "  '本判決',\n",
       "  '事實',\n",
       "  '違反',\n",
       "  '下稱',\n",
       "  '斑馬線',\n",
       "  '受損',\n",
       "  '主張',\n",
       "  '調查',\n",
       "  '責任',\n",
       "  '年數'],\n",
       " ['第條',\n",
       "  '系爭',\n",
       "  '原告',\n",
       "  '本件',\n",
       "  '被告',\n",
       "  '賠償',\n",
       "  '第項',\n",
       "  '車禍',\n",
       "  '本院',\n",
       "  '損害',\n",
       "  '規定',\n",
       "  '請求',\n",
       "  '事故',\n",
       "  '發生',\n",
       "  '民法',\n",
       "  '費用',\n",
       "  '年月日',\n",
       "  '過失',\n",
       "  '折舊',\n",
       "  '計算',\n",
       "  '車道',\n",
       "  '影本',\n",
       "  '第頁',\n",
       "  '上訴',\n",
       "  '前段',\n",
       "  '交通事故',\n",
       "  '下稱',\n",
       "  '地點',\n",
       "  '違規',\n",
       "  '之過',\n",
       "  '責任',\n",
       "  '實業',\n",
       "  '被害人',\n",
       "  '南投',\n",
       "  '零件',\n",
       "  '判決',\n",
       "  '保險',\n",
       "  '負擔',\n",
       "  '失責任',\n",
       "  '之系爭',\n",
       "  '南陽',\n",
       "  '豐原',\n",
       "  '服務廠',\n",
       "  '記錄表',\n",
       "  '原狀',\n",
       "  '理由',\n",
       "  '修理',\n",
       "  '代位',\n",
       "  '算式',\n",
       "  '照片'],\n",
       " ['原告',\n",
       "  '被告',\n",
       "  '車輛',\n",
       "  '本件',\n",
       "  '第條',\n",
       "  '賠償',\n",
       "  '車禍',\n",
       "  '系爭',\n",
       "  '發生',\n",
       "  '楊鴻銘',\n",
       "  '交通事故',\n",
       "  '請求',\n",
       "  '損害',\n",
       "  '過失',\n",
       "  '第項',\n",
       "  '外人',\n",
       "  '機車',\n",
       "  '毀損',\n",
       "  '道路',\n",
       "  '負擔',\n",
       "  '規定',\n",
       "  '金額',\n",
       "  '上訴',\n",
       "  '本院',\n",
       "  '年月日',\n",
       "  '判決',\n",
       "  '執行',\n",
       "  '保險桿',\n",
       "  '現場',\n",
       "  '行駛',\n",
       "  '認定',\n",
       "  '理由',\n",
       "  '民法',\n",
       "  '汽車',\n",
       "  '訴訟',\n",
       "  '訴訟費',\n",
       "  '本判決',\n",
       "  '前開',\n",
       "  '駕駛',\n",
       "  '修繕',\n",
       "  '費用',\n",
       "  '之過',\n",
       "  '失責任',\n",
       "  '權行',\n",
       "  '之系爭',\n",
       "  '資料',\n",
       "  '車前',\n",
       "  '狀況',\n",
       "  '調查',\n",
       "  '警詢'],\n",
       " ['原告',\n",
       "  '被告',\n",
       "  '第條',\n",
       "  '本院',\n",
       "  '賠償',\n",
       "  '文彬',\n",
       "  '損害',\n",
       "  '上訴',\n",
       "  '請求',\n",
       "  '過失',\n",
       "  '車輛',\n",
       "  '責任',\n",
       "  '本件',\n",
       "  '法定代理',\n",
       "  '年月日',\n",
       "  '判決',\n",
       "  '車前',\n",
       "  '狀況',\n",
       "  '系爭',\n",
       "  '車禍',\n",
       "  '發生',\n",
       "  '適用',\n",
       "  '理由',\n",
       "  '民事',\n",
       "  '民法',\n",
       "  '勇勝',\n",
       "  '給付',\n",
       "  '連帶',\n",
       "  '負擔',\n",
       "  '訴訟法',\n",
       "  '主張',\n",
       "  '第至頁',\n",
       "  '資料',\n",
       "  '汽車',\n",
       "  '負損害',\n",
       "  '第項',\n",
       "  '之過',\n",
       "  '失行',\n",
       "  '違背',\n",
       "  '明文',\n",
       "  '安全措施',\n",
       "  '警察局',\n",
       "  '提出',\n",
       "  '壹仟',\n",
       "  '交通事故',\n",
       "  '不法侵害',\n",
       "  '道路',\n",
       "  '第號',\n",
       "  '民國',\n",
       "  '應連帶'],\n",
       " ['第條',\n",
       "  '保險',\n",
       "  '原告',\n",
       "  '被告',\n",
       "  '第項',\n",
       "  '車輛',\n",
       "  '系爭',\n",
       "  '計算',\n",
       "  '費用',\n",
       "  '規定',\n",
       "  '上訴',\n",
       "  '代位',\n",
       "  '賠償',\n",
       "  '訴訟法',\n",
       "  '過失',\n",
       "  '本件',\n",
       "  '民事',\n",
       "  '事故',\n",
       "  '年月日',\n",
       "  '理由',\n",
       "  '加害人',\n",
       "  '判決',\n",
       "  '請求',\n",
       "  '負擔',\n",
       "  '本院',\n",
       "  '百分之',\n",
       "  '損害',\n",
       "  '駕駛',\n",
       "  '開車',\n",
       "  '駕駛人',\n",
       "  '交通事故',\n",
       "  '零件',\n",
       "  '定率',\n",
       "  '主文',\n",
       "  '清償',\n",
       "  '日止',\n",
       "  '按週',\n",
       "  '訴訟費',\n",
       "  '客車',\n",
       "  '之過',\n",
       "  '失責任',\n",
       "  '車禍',\n",
       "  '有過',\n",
       "  '失者',\n",
       "  '資產',\n",
       "  '折舊',\n",
       "  '超過',\n",
       "  '違背',\n",
       "  '使用期',\n",
       "  '起至'],\n",
       " ['原告',\n",
       "  '被告',\n",
       "  '第條',\n",
       "  '請求',\n",
       "  '賠償',\n",
       "  '損害',\n",
       "  '車禍',\n",
       "  '第項',\n",
       "  '過失',\n",
       "  '規定',\n",
       "  '本院',\n",
       "  '傷害',\n",
       "  '費用',\n",
       "  '被害人',\n",
       "  '民法',\n",
       "  '永春',\n",
       "  '肇事',\n",
       "  '年月日',\n",
       "  '客車',\n",
       "  '車輛',\n",
       "  '醫療',\n",
       "  '看護',\n",
       "  '本件',\n",
       "  '相當',\n",
       "  '暫停',\n",
       "  '鑑定',\n",
       "  '兩造',\n",
       "  '事故',\n",
       "  '不法侵害',\n",
       "  '第號',\n",
       "  '因系爭',\n",
       "  '給付',\n",
       "  '責任',\n",
       "  '發生',\n",
       "  '停車',\n",
       "  '先行',\n",
       "  '三路',\n",
       "  '加害人',\n",
       "  '交通事故',\n",
       "  '負擔',\n",
       "  '主張',\n",
       "  '機車',\n",
       "  '手術',\n",
       "  '侵權',\n",
       "  '行為',\n",
       "  '慰撫',\n",
       "  '數額',\n",
       "  '財產上',\n",
       "  '適用',\n",
       "  '直行'],\n",
       " ['系爭',\n",
       "  '第條',\n",
       "  '原告',\n",
       "  '本件',\n",
       "  '第項',\n",
       "  '被告',\n",
       "  '本院',\n",
       "  '規定',\n",
       "  '請求',\n",
       "  '損害',\n",
       "  '賠償',\n",
       "  '交通事故',\n",
       "  '車禍',\n",
       "  '發生',\n",
       "  '費用',\n",
       "  '上訴',\n",
       "  '民法',\n",
       "  '計算',\n",
       "  '下稱',\n",
       "  '過失',\n",
       "  '折舊',\n",
       "  '事故',\n",
       "  '年月日',\n",
       "  '負擔',\n",
       "  '現場',\n",
       "  '調查',\n",
       "  '道路',\n",
       "  '理由',\n",
       "  '民事',\n",
       "  '被害人',\n",
       "  '判決',\n",
       "  '訴訟法',\n",
       "  '主張',\n",
       "  '原狀',\n",
       "  '彎道',\n",
       "  '南投',\n",
       "  '零件',\n",
       "  '前段',\n",
       "  '算式',\n",
       "  '清償',\n",
       "  '日止',\n",
       "  '按週',\n",
       "  '本判決',\n",
       "  '詞辯',\n",
       "  '論期',\n",
       "  '到場',\n",
       "  '蔡武',\n",
       "  '契約',\n",
       "  '工資',\n",
       "  '元及'],\n",
       " ['原告',\n",
       "  '被告',\n",
       "  '賠償',\n",
       "  '車輛',\n",
       "  '第條',\n",
       "  '請求',\n",
       "  '規定',\n",
       "  '本件',\n",
       "  '給付',\n",
       "  '第項',\n",
       "  '系爭',\n",
       "  '保險',\n",
       "  '損害',\n",
       "  '車禍',\n",
       "  '金額',\n",
       "  '年月日',\n",
       "  '代位',\n",
       "  '計算',\n",
       "  '零件',\n",
       "  '發生',\n",
       "  '折舊',\n",
       "  '訴訟',\n",
       "  '負擔',\n",
       "  '毀損',\n",
       "  '債權',\n",
       "  '被害人',\n",
       "  '民法',\n",
       "  '本院',\n",
       "  '理由',\n",
       "  '利息',\n",
       "  '清償',\n",
       "  '日止',\n",
       "  '執行',\n",
       "  '邱麗珍',\n",
       "  '應負',\n",
       "  '費用',\n",
       "  '工資',\n",
       "  '漆費用',\n",
       "  '受損',\n",
       "  '過失',\n",
       "  '減輕',\n",
       "  '原狀',\n",
       "  '應予',\n",
       "  '損害額',\n",
       "  '交通事故',\n",
       "  '年息',\n",
       "  '起至',\n",
       "  '警察局',\n",
       "  '承保',\n",
       "  '催告'],\n",
       " ['車輛',\n",
       "  '原告',\n",
       "  '被告',\n",
       "  '第條',\n",
       "  '保險',\n",
       "  '第項',\n",
       "  '車禍',\n",
       "  '代位',\n",
       "  '賠償',\n",
       "  '計算',\n",
       "  '系爭',\n",
       "  '費用',\n",
       "  '規定',\n",
       "  '折舊',\n",
       "  '事故',\n",
       "  '請求',\n",
       "  '本件',\n",
       "  '失責任',\n",
       "  '閃光',\n",
       "  '鑑定',\n",
       "  '年月日',\n",
       "  '發生',\n",
       "  '過失',\n",
       "  '第年',\n",
       "  '百分之',\n",
       "  '加害人',\n",
       "  '判決',\n",
       "  '負擔',\n",
       "  '駕駛',\n",
       "  '金額',\n",
       "  '第款',\n",
       "  '本院',\n",
       "  '客車',\n",
       "  '減速',\n",
       "  '認為',\n",
       "  '委員會',\n",
       "  '有過',\n",
       "  '上訴',\n",
       "  '理由',\n",
       "  '零件',\n",
       "  '民事',\n",
       "  '岔路',\n",
       "  '定率',\n",
       "  '主文',\n",
       "  '算式',\n",
       "  '損害',\n",
       "  '清償',\n",
       "  '日止',\n",
       "  '按週',\n",
       "  '本判決'],\n",
       " ['原告',\n",
       "  '系爭',\n",
       "  '第條',\n",
       "  '被告',\n",
       "  '本件',\n",
       "  '第項',\n",
       "  '本院',\n",
       "  '規定',\n",
       "  '損害',\n",
       "  '賠償',\n",
       "  '南投',\n",
       "  '負擔',\n",
       "  '請求',\n",
       "  '費用',\n",
       "  '民法',\n",
       "  '計算',\n",
       "  '下稱',\n",
       "  '車禍',\n",
       "  '發生',\n",
       "  '折舊',\n",
       "  '上訴',\n",
       "  '事故',\n",
       "  '年月日',\n",
       "  '草屯',\n",
       "  '兩造',\n",
       "  '過失',\n",
       "  '交通事故',\n",
       "  '理由',\n",
       "  '被害人',\n",
       "  '判決',\n",
       "  '現場',\n",
       "  '原狀',\n",
       "  '零件',\n",
       "  '算式',\n",
       "  '清償',\n",
       "  '日止',\n",
       "  '按週',\n",
       "  '本判決',\n",
       "  '主張',\n",
       "  '許素',\n",
       "  '駕駛',\n",
       "  '會車',\n",
       "  '契約',\n",
       "  '工資及',\n",
       "  '依保險法',\n",
       "  '實業',\n",
       "  '影本',\n",
       "  '調查',\n",
       "  '自應',\n",
       "  '減少'],\n",
       " ['賠償',\n",
       "  '車禍',\n",
       "  '責任',\n",
       "  '合慶',\n",
       "  '下稱',\n",
       "  '系爭',\n",
       "  '被告',\n",
       "  '原告',\n",
       "  '駕駛',\n",
       "  '車輛',\n",
       "  '年月日',\n",
       "  '判決',\n",
       "  '規定',\n",
       "  '發生',\n",
       "  '當時',\n",
       "  '過失',\n",
       "  '事業',\n",
       "  '損害',\n",
       "  '本判決',\n",
       "  '執行',\n",
       "  '第條',\n",
       "  '第項',\n",
       "  '乙車',\n",
       "  '雙方',\n",
       "  '金額',\n",
       "  '本院',\n",
       "  '相抵',\n",
       "  '交通事故',\n",
       "  '理由',\n",
       "  '保險',\n",
       "  '計算',\n",
       "  '負擔',\n",
       "  '連帶',\n",
       "  '記載',\n",
       "  '僱人',\n",
       "  '甲車',\n",
       "  '地點',\n",
       "  '職務',\n",
       "  '並沒有',\n",
       "  '對方',\n",
       "  '停車場',\n",
       "  '沒有',\n",
       "  '兩造',\n",
       "  '調查',\n",
       "  '經審酌',\n",
       "  '不應',\n",
       "  '志弘則',\n",
       "  '適當',\n",
       "  '雖然',\n",
       "  '適用'],\n",
       " ['被告',\n",
       "  '原告',\n",
       "  '進成',\n",
       "  '第頁',\n",
       "  '車禍',\n",
       "  '本件',\n",
       "  '施宜婷',\n",
       "  '請求',\n",
       "  '本院',\n",
       "  '損害',\n",
       "  '賠償',\n",
       "  '施子',\n",
       "  '潘秀錦',\n",
       "  '施愛玲',\n",
       "  '發生',\n",
       "  '過失',\n",
       "  '第條',\n",
       "  '事故',\n",
       "  '責任',\n",
       "  '被害人',\n",
       "  '第項',\n",
       "  '年月日',\n",
       "  '車輛',\n",
       "  '連帶',\n",
       "  '機車',\n",
       "  '鑑定',\n",
       "  '第號',\n",
       "  '大榮',\n",
       "  '駕駛',\n",
       "  '隨時',\n",
       "  '停車',\n",
       "  '準備',\n",
       "  '給付',\n",
       "  '行車',\n",
       "  '高雄市',\n",
       "  '判決',\n",
       "  '執行',\n",
       "  '嘉里',\n",
       "  '左方',\n",
       "  '刑案',\n",
       "  '之金額',\n",
       "  '肇事',\n",
       "  '中街',\n",
       "  '規定',\n",
       "  '保險',\n",
       "  '百分之',\n",
       "  '死亡',\n",
       "  '岔路',\n",
       "  '安全帽',\n",
       "  '審交'],\n",
       " ['被告',\n",
       "  '被害人',\n",
       "  '保險',\n",
       "  '原告',\n",
       "  '發生',\n",
       "  '請求',\n",
       "  '第條',\n",
       "  '惠卿',\n",
       "  '駕駛',\n",
       "  '汽車',\n",
       "  '給付',\n",
       "  '過失',\n",
       "  '第項',\n",
       "  '責任',\n",
       "  '規定',\n",
       "  '強制',\n",
       "  '本院',\n",
       "  '年月日',\n",
       "  '判決',\n",
       "  '第號',\n",
       "  '腳踏車',\n",
       "  '執照',\n",
       "  '權人',\n",
       "  '車禍',\n",
       "  '代位',\n",
       "  '交通事故',\n",
       "  '賠償',\n",
       "  '車輛',\n",
       "  '現場',\n",
       "  '死亡',\n",
       "  '加害人',\n",
       "  '執行',\n",
       "  '萬元',\n",
       "  '客車',\n",
       "  '金額',\n",
       "  '本件',\n",
       "  '事故',\n",
       "  '訴字',\n",
       "  '損害',\n",
       "  '計算',\n",
       "  '擔保',\n",
       "  '中市',\n",
       "  '之過',\n",
       "  '當時',\n",
       "  '賠付',\n",
       "  '求權',\n",
       "  '保險法',\n",
       "  '債權',\n",
       "  '上訴',\n",
       "  '行使'],\n",
       " ['原告',\n",
       "  '被告',\n",
       "  '車輛',\n",
       "  '賠償',\n",
       "  '系爭',\n",
       "  '費用',\n",
       "  '損害',\n",
       "  '第條',\n",
       "  '請求',\n",
       "  '發生',\n",
       "  '車禍',\n",
       "  '零件',\n",
       "  '第項',\n",
       "  '本件',\n",
       "  '本院',\n",
       "  '過失',\n",
       "  '責任',\n",
       "  '折舊',\n",
       "  '年月日',\n",
       "  '金額',\n",
       "  '修車',\n",
       "  '含工',\n",
       "  '資費用',\n",
       "  '暫停',\n",
       "  '減輕',\n",
       "  '規定',\n",
       "  '被害人',\n",
       "  '右方',\n",
       "  '明文',\n",
       "  '判決',\n",
       "  '負擔',\n",
       "  '執行',\n",
       "  '駕駛',\n",
       "  '抗辯',\n",
       "  '無號誌',\n",
       "  '隨時',\n",
       "  '左方',\n",
       "  '民法',\n",
       "  '直行',\n",
       "  '民事',\n",
       "  '應予',\n",
       "  '權行',\n",
       "  '第頁',\n",
       "  '規則',\n",
       "  '車應',\n",
       "  '應為',\n",
       "  '車廠',\n",
       "  '汽車',\n",
       "  '原狀',\n",
       "  '上訴'],\n",
       " ['原告',\n",
       "  '第條',\n",
       "  '被告',\n",
       "  '系爭',\n",
       "  '第項',\n",
       "  '本件',\n",
       "  '本院',\n",
       "  '規定',\n",
       "  '賠償',\n",
       "  '許佳儷',\n",
       "  '交通事故',\n",
       "  '判決',\n",
       "  '計算',\n",
       "  '上訴',\n",
       "  '民法',\n",
       "  '損害',\n",
       "  '負擔',\n",
       "  '草屯',\n",
       "  '事故',\n",
       "  '南投',\n",
       "  '年月日',\n",
       "  '訴訟法',\n",
       "  '下稱',\n",
       "  '車禍',\n",
       "  '之過',\n",
       "  '請求',\n",
       "  '原狀',\n",
       "  '發生',\n",
       "  '過失',\n",
       "  '理由',\n",
       "  '道路',\n",
       "  '民事',\n",
       "  '前段',\n",
       "  '照片',\n",
       "  '清償',\n",
       "  '日止',\n",
       "  '按週',\n",
       "  '本判決',\n",
       "  '詞辯',\n",
       "  '論期',\n",
       "  '到場',\n",
       "  '駕駛',\n",
       "  '契約',\n",
       "  '停車',\n",
       "  '依保險法',\n",
       "  '狀繕',\n",
       "  '審酌',\n",
       "  '之系爭',\n",
       "  '現場',\n",
       "  '景誠汽車'],\n",
       " ['被告',\n",
       "  '賠償',\n",
       "  '第條',\n",
       "  '車輛',\n",
       "  '原告',\n",
       "  '第項',\n",
       "  '請求',\n",
       "  '損害',\n",
       "  '本件',\n",
       "  '發生',\n",
       "  '規定',\n",
       "  '系爭',\n",
       "  '周明宏',\n",
       "  '車禍',\n",
       "  '執行',\n",
       "  '承泰',\n",
       "  '給付',\n",
       "  '保險',\n",
       "  '紀明昌',\n",
       "  '外人',\n",
       "  '毀損',\n",
       "  '責任',\n",
       "  '金額',\n",
       "  '職務',\n",
       "  '代位',\n",
       "  '年月日',\n",
       "  '民法',\n",
       "  '過失',\n",
       "  '計算',\n",
       "  '連帶',\n",
       "  '開計',\n",
       "  '程車',\n",
       "  '僱人',\n",
       "  '駕駛',\n",
       "  '聯邦國際',\n",
       "  '租賃',\n",
       "  '相當',\n",
       "  '交通事故',\n",
       "  '被害人',\n",
       "  '本院',\n",
       "  '民事',\n",
       "  '明文',\n",
       "  '注意',\n",
       "  '不法侵害',\n",
       "  '第號',\n",
       "  '負擔',\n",
       "  '負損害',\n",
       "  '警詢',\n",
       "  '債權',\n",
       "  '上訴'],\n",
       " ['第條',\n",
       "  '系爭',\n",
       "  '本件',\n",
       "  '被告',\n",
       "  '原告',\n",
       "  '賠償',\n",
       "  '第項',\n",
       "  '車禍',\n",
       "  '本院',\n",
       "  '規定',\n",
       "  '請求',\n",
       "  '民法',\n",
       "  '事故',\n",
       "  '損害',\n",
       "  '蘇美瑛',\n",
       "  '汽車',\n",
       "  '第頁',\n",
       "  '第年',\n",
       "  '過失',\n",
       "  '發生',\n",
       "  '費用',\n",
       "  '年月日',\n",
       "  '計算',\n",
       "  '駕駛系爭',\n",
       "  '車前',\n",
       "  '狀況',\n",
       "  '折舊',\n",
       "  '判決',\n",
       "  '下稱',\n",
       "  '草屯',\n",
       "  '停車場',\n",
       "  '車輛',\n",
       "  '責任',\n",
       "  '被害人',\n",
       "  '南投',\n",
       "  '前段',\n",
       "  '承保',\n",
       "  '保險',\n",
       "  '負擔',\n",
       "  '駕駛',\n",
       "  '駕駛人',\n",
       "  '之過',\n",
       "  '負損害',\n",
       "  '經查',\n",
       "  '現場',\n",
       "  '原狀',\n",
       "  '車之',\n",
       "  '舊值',\n",
       "  '舊後價值',\n",
       "  '使用'],\n",
       " ['原告',\n",
       "  '被告',\n",
       "  '請求',\n",
       "  '過失',\n",
       "  '第條',\n",
       "  '損害',\n",
       "  '車輛',\n",
       "  '鑑定',\n",
       "  '給付',\n",
       "  '賠償',\n",
       "  '費用',\n",
       "  '第項',\n",
       "  '年月日',\n",
       "  '發生',\n",
       "  '民法',\n",
       "  '客車',\n",
       "  '責任',\n",
       "  '折舊',\n",
       "  '明文',\n",
       "  '利息',\n",
       "  '規定',\n",
       "  '遲延',\n",
       "  '交通事故',\n",
       "  '零件',\n",
       "  '計算',\n",
       "  '債權',\n",
       "  '車禍',\n",
       "  '之金額',\n",
       "  '原狀',\n",
       "  '催告',\n",
       "  '百分之',\n",
       "  '負擔',\n",
       "  '道車',\n",
       "  '抵銷',\n",
       "  '汽車',\n",
       "  '中市',\n",
       "  '金額',\n",
       "  '本件',\n",
       "  '岔路',\n",
       "  '理由',\n",
       "  '耐用',\n",
       "  '定率',\n",
       "  '自用',\n",
       "  '算式',\n",
       "  '肇事',\n",
       "  '清償',\n",
       "  '起訴',\n",
       "  '主張',\n",
       "  '駕駛',\n",
       "  '幹線'],\n",
       " ['第條',\n",
       "  '原告',\n",
       "  '被告',\n",
       "  '系爭',\n",
       "  '第項',\n",
       "  '本件',\n",
       "  '本院',\n",
       "  '規定',\n",
       "  '賠償',\n",
       "  '請求',\n",
       "  '計算',\n",
       "  '民法',\n",
       "  '交通事故',\n",
       "  '損害',\n",
       "  '費用',\n",
       "  '弘昌',\n",
       "  '汽車',\n",
       "  '記錄表',\n",
       "  '折舊',\n",
       "  '上訴',\n",
       "  '年月日',\n",
       "  '判決',\n",
       "  '負擔',\n",
       "  '車禍',\n",
       "  '現場',\n",
       "  '第頁',\n",
       "  '發生',\n",
       "  '過失',\n",
       "  '被害人',\n",
       "  '事故',\n",
       "  '民事',\n",
       "  '訴訟法',\n",
       "  '車輛',\n",
       "  '之過',\n",
       "  '捷信',\n",
       "  '原狀',\n",
       "  '理由',\n",
       "  '南投',\n",
       "  '道路',\n",
       "  '零件',\n",
       "  '修理',\n",
       "  '前段',\n",
       "  '算式',\n",
       "  '清償',\n",
       "  '日止',\n",
       "  '按週',\n",
       "  '本判決',\n",
       "  '詞辯',\n",
       "  '論期',\n",
       "  '到場'],\n",
       " ['車輛',\n",
       "  '賠償',\n",
       "  '被告',\n",
       "  '原告',\n",
       "  '系爭',\n",
       "  '第條',\n",
       "  '車禍',\n",
       "  '請求',\n",
       "  '本件',\n",
       "  '損害',\n",
       "  '發生',\n",
       "  '第項',\n",
       "  '規定',\n",
       "  '外人',\n",
       "  '保險',\n",
       "  '毀損',\n",
       "  '車道',\n",
       "  '中租',\n",
       "  '過失',\n",
       "  '給付',\n",
       "  '汽車',\n",
       "  '金額',\n",
       "  '代位',\n",
       "  '計算',\n",
       "  '許登吉',\n",
       "  '年月日',\n",
       "  '之過',\n",
       "  '失責任',\n",
       "  '民法',\n",
       "  '變換',\n",
       "  '行駛',\n",
       "  '行車',\n",
       "  '第年',\n",
       "  '上訴',\n",
       "  '應負',\n",
       "  '減輕',\n",
       "  '折舊',\n",
       "  '第款',\n",
       "  '堪以',\n",
       "  '認定',\n",
       "  '原狀',\n",
       "  '債權',\n",
       "  '被害人',\n",
       "  '民事',\n",
       "  '利息',\n",
       "  '本院',\n",
       "  '明文',\n",
       "  '交通事故',\n",
       "  '注意',\n",
       "  '判決'],\n",
       " ['第條',\n",
       "  '原告',\n",
       "  '系爭',\n",
       "  '被告',\n",
       "  '本件',\n",
       "  '第項',\n",
       "  '本院',\n",
       "  '規定',\n",
       "  '賠償',\n",
       "  '請求',\n",
       "  '民法',\n",
       "  '損害',\n",
       "  '費用',\n",
       "  '交通事故',\n",
       "  '判決',\n",
       "  '計算',\n",
       "  '李宗樺',\n",
       "  '汽車',\n",
       "  '折舊',\n",
       "  '上訴',\n",
       "  '被害人',\n",
       "  '南投',\n",
       "  '年月日',\n",
       "  '負擔',\n",
       "  '下稱',\n",
       "  '車禍',\n",
       "  '過失',\n",
       "  '草屯',\n",
       "  '第頁',\n",
       "  '發生',\n",
       "  '事故',\n",
       "  '現場',\n",
       "  '影本',\n",
       "  '原狀',\n",
       "  '理由',\n",
       "  '道路',\n",
       "  '零件',\n",
       "  '民事',\n",
       "  '修理',\n",
       "  '算式',\n",
       "  '照片',\n",
       "  '清償',\n",
       "  '日止',\n",
       "  '按週',\n",
       "  '本判決',\n",
       "  '訴訟法',\n",
       "  '駕駛',\n",
       "  '客車',\n",
       "  '契約',\n",
       "  '之過'],\n",
       " ['原告',\n",
       "  '被告',\n",
       "  '請求',\n",
       "  '年月日',\n",
       "  '車禍',\n",
       "  '賠償',\n",
       "  '本院',\n",
       "  '本件',\n",
       "  '損害',\n",
       "  '費用',\n",
       "  '看護費用',\n",
       "  '第條',\n",
       "  '醫院',\n",
       "  '聖母',\n",
       "  '因本件',\n",
       "  '判決',\n",
       "  '第號',\n",
       "  '第項',\n",
       "  '不法侵害',\n",
       "  '百分之',\n",
       "  '右眼',\n",
       "  '主張',\n",
       "  '譫妄',\n",
       "  '傷害',\n",
       "  '醫療',\n",
       "  '責任',\n",
       "  '診斷',\n",
       "  '證明書',\n",
       "  '失智症',\n",
       "  '民事',\n",
       "  '受有',\n",
       "  '事故',\n",
       "  '部分',\n",
       "  '被害人',\n",
       "  '執行',\n",
       "  '應予',\n",
       "  '狀況',\n",
       "  '購置',\n",
       "  '輪椅',\n",
       "  '減壓',\n",
       "  '萬元',\n",
       "  '應負',\n",
       "  '過失',\n",
       "  '不爭執',\n",
       "  '中風',\n",
       "  '無法',\n",
       "  '發生',\n",
       "  '兩造',\n",
       "  '金額',\n",
       "  '規定'],\n",
       " ['車輛',\n",
       "  '原告',\n",
       "  '被告',\n",
       "  '系爭',\n",
       "  '第條',\n",
       "  '本件',\n",
       "  '本院',\n",
       "  '賠償',\n",
       "  '車禍',\n",
       "  '南投',\n",
       "  '損害',\n",
       "  '請求',\n",
       "  '駕駛系爭',\n",
       "  '第項',\n",
       "  '年月日',\n",
       "  '費用',\n",
       "  '民法',\n",
       "  '修理',\n",
       "  '閃光',\n",
       "  '發生',\n",
       "  '過失',\n",
       "  '折舊',\n",
       "  '號誌',\n",
       "  '規定',\n",
       "  '計算',\n",
       "  '地點',\n",
       "  '減速',\n",
       "  '汽車',\n",
       "  '現場',\n",
       "  '上訴',\n",
       "  '交通事故',\n",
       "  '零件',\n",
       "  '事故',\n",
       "  '判決',\n",
       "  '言詞',\n",
       "  '名松路',\n",
       "  '部巷',\n",
       "  '停車',\n",
       "  '燈光',\n",
       "  '認為',\n",
       "  '項目',\n",
       "  '被害人',\n",
       "  '理由',\n",
       "  '右前',\n",
       "  '前段',\n",
       "  '及第',\n",
       "  '岔路',\n",
       "  '路口',\n",
       "  '負擔',\n",
       "  '下稱'],\n",
       " ['第條',\n",
       "  '原告',\n",
       "  '被告',\n",
       "  '第項',\n",
       "  '系爭',\n",
       "  '本院',\n",
       "  '規定',\n",
       "  '本件',\n",
       "  '賠償',\n",
       "  '請求',\n",
       "  '民法',\n",
       "  '損害',\n",
       "  '費用',\n",
       "  '判決',\n",
       "  '計算',\n",
       "  '過失',\n",
       "  '汽車',\n",
       "  '折舊',\n",
       "  '上訴',\n",
       "  '交通事故',\n",
       "  '被害人',\n",
       "  '南投',\n",
       "  '年月日',\n",
       "  '負擔',\n",
       "  '車禍',\n",
       "  '草屯',\n",
       "  '發生',\n",
       "  '事故',\n",
       "  '理由',\n",
       "  '民事',\n",
       "  '訴訟法',\n",
       "  '下稱',\n",
       "  '影本',\n",
       "  '第頁',\n",
       "  '原狀',\n",
       "  '零件',\n",
       "  '修理',\n",
       "  '前段',\n",
       "  '算式',\n",
       "  '道路',\n",
       "  '清償',\n",
       "  '日止',\n",
       "  '按週',\n",
       "  '本判決',\n",
       "  '詞辯',\n",
       "  '論期',\n",
       "  '到場',\n",
       "  '廖珮君',\n",
       "  '客車',\n",
       "  '契約'],\n",
       " ['第條',\n",
       "  '原告',\n",
       "  '車輛',\n",
       "  '被告',\n",
       "  '保險',\n",
       "  '請求',\n",
       "  '賠償',\n",
       "  '訴訟',\n",
       "  '竹北',\n",
       "  '系爭',\n",
       "  '第項',\n",
       "  '本院',\n",
       "  '年月日',\n",
       "  '規定',\n",
       "  '本件',\n",
       "  '發生',\n",
       "  '國道',\n",
       "  '損害',\n",
       "  '計算',\n",
       "  '警察局',\n",
       "  '交通事故',\n",
       "  '當事人',\n",
       "  '過失',\n",
       "  '簡調',\n",
       "  '車禍',\n",
       "  '汽車',\n",
       "  '民法',\n",
       "  '代位',\n",
       "  '承受',\n",
       "  '民事',\n",
       "  '負擔',\n",
       "  '聲明',\n",
       "  '訴訟法',\n",
       "  '應予',\n",
       "  '費用',\n",
       "  '折舊',\n",
       "  '資產',\n",
       "  '上訴',\n",
       "  '法定代理',\n",
       "  '道路',\n",
       "  '公路',\n",
       "  '零件',\n",
       "  '耐用',\n",
       "  '判決',\n",
       "  '第號',\n",
       "  '清償',\n",
       "  '日止',\n",
       "  '訴訟費',\n",
       "  '執行',\n",
       "  '他造'],\n",
       " ['被告',\n",
       "  '原告',\n",
       "  '汽車',\n",
       "  '第條',\n",
       "  '外人',\n",
       "  '賠償',\n",
       "  '請求',\n",
       "  '損害',\n",
       "  '規定',\n",
       "  '張永宗',\n",
       "  '費用',\n",
       "  '傅國華',\n",
       "  '發生',\n",
       "  '第項',\n",
       "  '保險',\n",
       "  '駕駛',\n",
       "  '過失',\n",
       "  '年月日',\n",
       "  '系爭',\n",
       "  '本件',\n",
       "  '民法',\n",
       "  '承保',\n",
       "  '零件',\n",
       "  '中市',\n",
       "  '上訴',\n",
       "  '本院',\n",
       "  '事故',\n",
       "  '客車',\n",
       "  '行駛',\n",
       "  '失責任',\n",
       "  '筆錄',\n",
       "  '責任',\n",
       "  '折舊',\n",
       "  '求權',\n",
       "  '第款',\n",
       "  '肇事',\n",
       "  '被害人',\n",
       "  '明文',\n",
       "  '代位',\n",
       "  '直行',\n",
       "  '判決',\n",
       "  '即訴',\n",
       "  '行車',\n",
       "  '鑑定',\n",
       "  '應依',\n",
       "  '之系爭',\n",
       "  '適用',\n",
       "  '有過',\n",
       "  '減輕',\n",
       "  '金額'],\n",
       " ['車輛',\n",
       "  '被告',\n",
       "  '原告',\n",
       "  '閃光',\n",
       "  '系爭',\n",
       "  '第條',\n",
       "  '本院',\n",
       "  '交通事故',\n",
       "  '紅燈',\n",
       "  '損害',\n",
       "  '賠償',\n",
       "  '駕駛',\n",
       "  '行經',\n",
       "  '請求',\n",
       "  '第頁',\n",
       "  '規定',\n",
       "  '岔路',\n",
       "  '道路',\n",
       "  '車禍',\n",
       "  '發生',\n",
       "  '事故',\n",
       "  '肇事',\n",
       "  '小貨車',\n",
       "  '減速',\n",
       "  '現場',\n",
       "  '自用',\n",
       "  '費用',\n",
       "  '號誌',\n",
       "  '民法',\n",
       "  '路口',\n",
       "  '駕駛系爭',\n",
       "  '認為',\n",
       "  '當事人',\n",
       "  '指揮',\n",
       "  '第項',\n",
       "  '過失',\n",
       "  '口前',\n",
       "  '年月日',\n",
       "  '負擔',\n",
       "  '本件',\n",
       "  '通過',\n",
       "  '錄表',\n",
       "  '折舊',\n",
       "  '零件',\n",
       "  '被害人',\n",
       "  '路段',\n",
       "  '警察局',\n",
       "  '斗六',\n",
       "  '本判決',\n",
       "  '主張'],\n",
       " ['車輛',\n",
       "  '第條',\n",
       "  '原告',\n",
       "  '被告',\n",
       "  '第項',\n",
       "  '系爭',\n",
       "  '第頁',\n",
       "  '賠償',\n",
       "  '本件',\n",
       "  '損害',\n",
       "  '規定',\n",
       "  '本院',\n",
       "  '車禍',\n",
       "  '發生',\n",
       "  '民法',\n",
       "  '請求',\n",
       "  '負擔',\n",
       "  '倒車',\n",
       "  '被害人',\n",
       "  '費用',\n",
       "  '過失',\n",
       "  '年月日',\n",
       "  '周子淵',\n",
       "  '使用',\n",
       "  '明文',\n",
       "  '前段',\n",
       "  '汐止',\n",
       "  '駕駛',\n",
       "  '責任',\n",
       "  '折舊',\n",
       "  '零件',\n",
       "  '代理人',\n",
       "  '租金',\n",
       "  '民事',\n",
       "  '部分',\n",
       "  '算式',\n",
       "  '判決',\n",
       "  '汽車',\n",
       "  '執行',\n",
       "  '訴訟法',\n",
       "  '之系爭',\n",
       "  '之過',\n",
       "  '期間',\n",
       "  '損失',\n",
       "  '新北',\n",
       "  '黏貼',\n",
       "  '紀錄表',\n",
       "  '現場',\n",
       "  '附卷',\n",
       "  '可參'],\n",
       " ['第條',\n",
       "  '原告',\n",
       "  '被告',\n",
       "  '系爭',\n",
       "  '本件',\n",
       "  '第項',\n",
       "  '本院',\n",
       "  '規定',\n",
       "  '賠償',\n",
       "  '請求',\n",
       "  '民法',\n",
       "  '損害',\n",
       "  '李玉琴',\n",
       "  '費用',\n",
       "  '南投',\n",
       "  '計算',\n",
       "  '過失',\n",
       "  '折舊',\n",
       "  '第年',\n",
       "  '上訴',\n",
       "  '年月日',\n",
       "  '交通事故',\n",
       "  '判決',\n",
       "  '負擔',\n",
       "  '草屯',\n",
       "  '車禍',\n",
       "  '汽車',\n",
       "  '發生',\n",
       "  '被害人',\n",
       "  '事故',\n",
       "  '理由',\n",
       "  '民事',\n",
       "  '訴訟法',\n",
       "  '下稱',\n",
       "  '第頁',\n",
       "  '原狀',\n",
       "  '零件',\n",
       "  '修理',\n",
       "  '前段',\n",
       "  '算式',\n",
       "  '清償',\n",
       "  '日止',\n",
       "  '按週',\n",
       "  '本判決',\n",
       "  '詞辯',\n",
       "  '論期',\n",
       "  '到場',\n",
       "  '駕駛',\n",
       "  '客車',\n",
       "  '契約'],\n",
       " ['第條',\n",
       "  '第項',\n",
       "  '原告',\n",
       "  '被告',\n",
       "  '保險',\n",
       "  '規定',\n",
       "  '被害人',\n",
       "  '代位',\n",
       "  '汽車',\n",
       "  '本院',\n",
       "  '理由',\n",
       "  '判決',\n",
       "  '過失',\n",
       "  '本件',\n",
       "  '失責任',\n",
       "  '上訴',\n",
       "  '年月日',\n",
       "  '百分之',\n",
       "  '加害人',\n",
       "  '請求',\n",
       "  '賠償',\n",
       "  '負擔',\n",
       "  '訴訟法',\n",
       "  '車輛',\n",
       "  '機車',\n",
       "  '發生',\n",
       "  '交通事故',\n",
       "  '民事',\n",
       "  '主文',\n",
       "  'ahref',\n",
       "  'https',\n",
       "  'www',\n",
       "  'pingluweb',\n",
       "  'com',\n",
       "  'tw',\n",
       "  'id',\n",
       "  'target',\n",
       "  'blank',\n",
       "  '損害',\n",
       "  '清償',\n",
       "  '日止',\n",
       "  '計算',\n",
       "  '訴訟費',\n",
       "  '無照',\n",
       "  '駕駛',\n",
       "  '系爭',\n",
       "  '行經',\n",
       "  '江溫貞敏',\n",
       "  '費用',\n",
       "  '責任'],\n",
       " ['原告',\n",
       "  '被告',\n",
       "  '汽車',\n",
       "  '系爭',\n",
       "  '賠償',\n",
       "  '年月日',\n",
       "  '第條',\n",
       "  '請求',\n",
       "  '損害',\n",
       "  '過失',\n",
       "  '張兆竣',\n",
       "  '費用',\n",
       "  '發生',\n",
       "  '彰化',\n",
       "  '停放',\n",
       "  '代步',\n",
       "  '駕駛',\n",
       "  '交通事故',\n",
       "  '負擔',\n",
       "  '執行',\n",
       "  '機車',\n",
       "  '出廠',\n",
       "  '執照',\n",
       "  '車禍',\n",
       "  '法定代理',\n",
       "  '判決',\n",
       "  '張安興',\n",
       "  '台幣',\n",
       "  '主張',\n",
       "  '酒後駕',\n",
       "  '撞擊',\n",
       "  '依侵',\n",
       "  '權行',\n",
       "  '連帶',\n",
       "  '現場',\n",
       "  '規定',\n",
       "  '單據',\n",
       "  '第項',\n",
       "  '他人',\n",
       "  '肇事',\n",
       "  '提出',\n",
       "  '民法',\n",
       "  '道路',\n",
       "  '中華民國',\n",
       "  '給付',\n",
       "  '清償',\n",
       "  '日止',\n",
       "  '計算',\n",
       "  '訴訟費',\n",
       "  '擔保'],\n",
       " ['原告',\n",
       "  '被告',\n",
       "  '賠償',\n",
       "  '請求',\n",
       "  '費用',\n",
       "  '損害',\n",
       "  '第條',\n",
       "  '本院',\n",
       "  '發生',\n",
       "  '第號',\n",
       "  '第項',\n",
       "  '醫療',\n",
       "  '年月日',\n",
       "  '主張',\n",
       "  '機車',\n",
       "  '看護',\n",
       "  '規定',\n",
       "  '醫院',\n",
       "  '刑事',\n",
       "  '事故',\n",
       "  '車禍',\n",
       "  '民事',\n",
       "  '判決',\n",
       "  '駕駛',\n",
       "  '挫傷',\n",
       "  '受有',\n",
       "  '被害人',\n",
       "  '本件',\n",
       "  '准許',\n",
       "  '左側',\n",
       "  '責任',\n",
       "  '過失',\n",
       "  '第頁',\n",
       "  '民法',\n",
       "  '明文',\n",
       "  '應予',\n",
       "  '壽東西',\n",
       "  '行駛',\n",
       "  '薪資',\n",
       "  '之金額',\n",
       "  '受傷',\n",
       "  '上訴',\n",
       "  '年度',\n",
       "  '百分之',\n",
       "  '訴訟',\n",
       "  '訴訟法',\n",
       "  '中市',\n",
       "  '汽車',\n",
       "  '損失',\n",
       "  '綜合'],\n",
       " ['原告',\n",
       "  '被告',\n",
       "  '第條',\n",
       "  '賠償',\n",
       "  '車輛',\n",
       "  '損害',\n",
       "  '請求',\n",
       "  '本院',\n",
       "  '本件',\n",
       "  '發生',\n",
       "  '肇事',\n",
       "  '規定',\n",
       "  '過失',\n",
       "  '第項',\n",
       "  '系爭',\n",
       "  '路口',\n",
       "  '現場',\n",
       "  '費用',\n",
       "  '無號誌',\n",
       "  '減速',\n",
       "  '民法',\n",
       "  '右前',\n",
       "  '年月日',\n",
       "  '車頭',\n",
       "  '左方',\n",
       "  '右方',\n",
       "  '慢行',\n",
       "  '第款',\n",
       "  '主張',\n",
       "  '旗山',\n",
       "  '行經',\n",
       "  '車禍',\n",
       "  '岔路',\n",
       "  '明文',\n",
       "  '事故',\n",
       "  '算式',\n",
       "  '交通事故',\n",
       "  '計算',\n",
       "  '訴訟法',\n",
       "  '應予',\n",
       "  '適用',\n",
       "  '第頁',\n",
       "  '之過',\n",
       "  '先行',\n",
       "  '民事',\n",
       "  '高雄市',\n",
       "  '直行',\n",
       "  '部分',\n",
       "  '被害人',\n",
       "  '判決'],\n",
       " ['原告',\n",
       "  '被告',\n",
       "  '被害人',\n",
       "  '賠償',\n",
       "  '請求',\n",
       "  '第號',\n",
       "  '損害',\n",
       "  '車禍',\n",
       "  '第條',\n",
       "  '過失',\n",
       "  '彰化',\n",
       "  '本院',\n",
       "  '本件',\n",
       "  '事故',\n",
       "  '算式',\n",
       "  '責任',\n",
       "  '判決',\n",
       "  '之過',\n",
       "  '規定',\n",
       "  '鑑定',\n",
       "  '各萬元',\n",
       "  '保險',\n",
       "  '上訴',\n",
       "  '第項',\n",
       "  '張錫嘉',\n",
       "  '年月日',\n",
       "  '張錫璃',\n",
       "  '張錫冠',\n",
       "  '閃光',\n",
       "  '車輛',\n",
       "  '百分之',\n",
       "  '行車',\n",
       "  '負擔',\n",
       "  '汽車',\n",
       "  '刑事',\n",
       "  '致死',\n",
       "  'ahref',\n",
       "  'https',\n",
       "  'www',\n",
       "  'pingluweb',\n",
       "  'com',\n",
       "  'tw',\n",
       "  'id',\n",
       "  'target',\n",
       "  'blank',\n",
       "  '律師',\n",
       "  '主張',\n",
       "  '檢察官',\n",
       "  '醫療',\n",
       "  '費用'],\n",
       " ['第條',\n",
       "  '原告',\n",
       "  '被告',\n",
       "  '車輛',\n",
       "  '規定',\n",
       "  '第項',\n",
       "  '賠償',\n",
       "  '請求',\n",
       "  '系爭',\n",
       "  '折舊',\n",
       "  '計算',\n",
       "  '本件',\n",
       "  '給付',\n",
       "  '年月日',\n",
       "  '零件',\n",
       "  '損害',\n",
       "  '金額',\n",
       "  '負擔',\n",
       "  '停車',\n",
       "  '發生',\n",
       "  '債權',\n",
       "  '資產',\n",
       "  '民法',\n",
       "  '本院',\n",
       "  '理由',\n",
       "  '利息',\n",
       "  '民事',\n",
       "  '判決',\n",
       "  '清償',\n",
       "  '日止',\n",
       "  '執行',\n",
       "  '訴訟法',\n",
       "  '蔡惠端',\n",
       "  '駕駛',\n",
       "  '費用',\n",
       "  '車禍',\n",
       "  '減輕',\n",
       "  '原狀',\n",
       "  '應予',\n",
       "  '起至',\n",
       "  '被害人',\n",
       "  '定率',\n",
       "  '催告',\n",
       "  '耐用',\n",
       "  '算式',\n",
       "  '訴訟費',\n",
       "  '本判決',\n",
       "  '詞辯',\n",
       "  '論期',\n",
       "  '違規'],\n",
       " ['原告',\n",
       "  '反訴',\n",
       "  '被告',\n",
       "  '請求',\n",
       "  '賠償',\n",
       "  '發生',\n",
       "  '損害',\n",
       "  '過失',\n",
       "  '車輛',\n",
       "  '第條',\n",
       "  '費用',\n",
       "  '折舊',\n",
       "  '車禍',\n",
       "  '零件',\n",
       "  '系爭',\n",
       "  '部分',\n",
       "  '之過',\n",
       "  '失責任',\n",
       "  '現場',\n",
       "  '應予',\n",
       "  '修理',\n",
       "  '事故',\n",
       "  '左前',\n",
       "  '年月日',\n",
       "  '交通事故',\n",
       "  '負擔',\n",
       "  '主張',\n",
       "  '客車',\n",
       "  '肇事',\n",
       "  '民法',\n",
       "  '本院',\n",
       "  '耐用',\n",
       "  '定率',\n",
       "  '理由',\n",
       "  '算式',\n",
       "  '應給付',\n",
       "  '本判決',\n",
       "  '執行',\n",
       "  '本訴',\n",
       "  '工資費用',\n",
       "  '依侵',\n",
       "  '權行',\n",
       "  '規定',\n",
       "  '鋁圈',\n",
       "  '給付',\n",
       "  '工資',\n",
       "  '之主張',\n",
       "  '業據',\n",
       "  '調查',\n",
       "  '資料'],\n",
       " ['被告',\n",
       "  '賠償',\n",
       "  '原告',\n",
       "  '車輛',\n",
       "  '金額',\n",
       "  '第條',\n",
       "  '請求',\n",
       "  '損害',\n",
       "  '發生',\n",
       "  '廖元',\n",
       "  '保險',\n",
       "  '本件',\n",
       "  '零件',\n",
       "  '第項',\n",
       "  '本院',\n",
       "  '系爭',\n",
       "  '給付',\n",
       "  '規定',\n",
       "  '年月日',\n",
       "  '外人',\n",
       "  '費用',\n",
       "  '車禍',\n",
       "  '過失',\n",
       "  '代位',\n",
       "  '被害人',\n",
       "  '計算',\n",
       "  '客車',\n",
       "  '減輕',\n",
       "  '民法',\n",
       "  '責任',\n",
       "  '明文',\n",
       "  '判決',\n",
       "  '執行',\n",
       "  '車道',\n",
       "  '債權',\n",
       "  '折舊',\n",
       "  '肇事',\n",
       "  '交通事故',\n",
       "  '九五',\n",
       "  '利息',\n",
       "  '民事',\n",
       "  '自用',\n",
       "  '第號',\n",
       "  '清償',\n",
       "  '日止',\n",
       "  '駕駛',\n",
       "  '工資費用',\n",
       "  '權行',\n",
       "  '實際',\n",
       "  '估價單'],\n",
       " ['車輛',\n",
       "  '被告',\n",
       "  '系爭',\n",
       "  '駕駛',\n",
       "  '原告',\n",
       "  '規則',\n",
       "  '第條',\n",
       "  '發生',\n",
       "  '過失',\n",
       "  '本院',\n",
       "  '規定',\n",
       "  '被害人',\n",
       "  '賠償',\n",
       "  '停車場',\n",
       "  '第項',\n",
       "  '道路交通',\n",
       "  '適用',\n",
       "  '年月日',\n",
       "  '判決',\n",
       "  '計算',\n",
       "  '本件',\n",
       "  '停車',\n",
       "  '事故',\n",
       "  '代理人',\n",
       "  '負擔',\n",
       "  '蔡子揚',\n",
       "  '車禍',\n",
       "  '當時',\n",
       "  '現場',\n",
       "  '隨時',\n",
       "  '折舊',\n",
       "  '安全',\n",
       "  '民法',\n",
       "  '使用',\n",
       "  '地下',\n",
       "  '損害',\n",
       "  '主張',\n",
       "  '蔡漢民',\n",
       "  '權人',\n",
       "  '轉角',\n",
       "  '準備',\n",
       "  '請求',\n",
       "  '右方',\n",
       "  '云云',\n",
       "  '代位',\n",
       "  '岔路',\n",
       "  '理由',\n",
       "  '第號',\n",
       "  '保險',\n",
       "  '清償'],\n",
       " ['原告',\n",
       "  '被告',\n",
       "  '第條',\n",
       "  '賠償',\n",
       "  '年月日',\n",
       "  '保險',\n",
       "  '請求',\n",
       "  '規定',\n",
       "  '折舊',\n",
       "  '本院',\n",
       "  '損害',\n",
       "  '計算',\n",
       "  '過失',\n",
       "  '代位',\n",
       "  '費用',\n",
       "  '第項',\n",
       "  '上訴',\n",
       "  '機車',\n",
       "  '系爭',\n",
       "  '發生',\n",
       "  '本件',\n",
       "  '被害人',\n",
       "  '加害人',\n",
       "  '執行',\n",
       "  '零件',\n",
       "  '理由',\n",
       "  '判決',\n",
       "  '負擔',\n",
       "  '求權',\n",
       "  '狀繕',\n",
       "  '時效',\n",
       "  '車禍',\n",
       "  '周宜',\n",
       "  '應予',\n",
       "  '金額',\n",
       "  '交通事故',\n",
       "  '民事',\n",
       "  '定率',\n",
       "  '民法',\n",
       "  '算式',\n",
       "  '清償',\n",
       "  '日止',\n",
       "  '按週',\n",
       "  '主張',\n",
       "  '周宜縉',\n",
       "  '責任',\n",
       "  '依據',\n",
       "  '等語',\n",
       "  '時間',\n",
       "  '車輛'],\n",
       " ['原告',\n",
       "  '被告',\n",
       "  '車輛',\n",
       "  '發生',\n",
       "  '賠償',\n",
       "  '過失',\n",
       "  '第條',\n",
       "  '系爭',\n",
       "  '損害',\n",
       "  '責任',\n",
       "  '本件',\n",
       "  '隨時',\n",
       "  '車前',\n",
       "  '狀況',\n",
       "  '車禍',\n",
       "  '本院',\n",
       "  '負擔',\n",
       "  '第項',\n",
       "  '折舊',\n",
       "  '注意',\n",
       "  '交通事故',\n",
       "  '零件',\n",
       "  '年月日',\n",
       "  '道路',\n",
       "  '駕駛',\n",
       "  '請求',\n",
       "  '停車',\n",
       "  '準備',\n",
       "  '採取',\n",
       "  '金額',\n",
       "  '路口',\n",
       "  '判決',\n",
       "  '客車',\n",
       "  '費用',\n",
       "  '現場',\n",
       "  '無號誌',\n",
       "  '暫停',\n",
       "  '相當',\n",
       "  '減輕',\n",
       "  '規定',\n",
       "  '右方',\n",
       "  '明文',\n",
       "  '安全措施',\n",
       "  '先行',\n",
       "  '警察局',\n",
       "  '肇事',\n",
       "  '被害人',\n",
       "  '必要',\n",
       "  '執行',\n",
       "  '撞擊'],\n",
       " ['車輛',\n",
       "  '原告',\n",
       "  '被告',\n",
       "  '賠償',\n",
       "  '損害',\n",
       "  '系爭',\n",
       "  '發生',\n",
       "  '第條',\n",
       "  '保險',\n",
       "  '請求',\n",
       "  '第項',\n",
       "  '規定',\n",
       "  '本件',\n",
       "  '過失',\n",
       "  '計算',\n",
       "  '零件',\n",
       "  '本院',\n",
       "  '給付',\n",
       "  '責任',\n",
       "  '年月日',\n",
       "  '主張',\n",
       "  '駕駛',\n",
       "  '受損',\n",
       "  '汽車',\n",
       "  '折舊',\n",
       "  '代位',\n",
       "  '明文',\n",
       "  '費用',\n",
       "  '金額',\n",
       "  '事故',\n",
       "  '判決',\n",
       "  '左後側',\n",
       "  '車身',\n",
       "  '應負',\n",
       "  '實際',\n",
       "  '估價',\n",
       "  '上開',\n",
       "  '民法',\n",
       "  '交通事故',\n",
       "  '承保',\n",
       "  '清償',\n",
       "  '日止',\n",
       "  '負擔',\n",
       "  '客車',\n",
       "  '車前',\n",
       "  '狀況',\n",
       "  '契約',\n",
       "  '等語',\n",
       "  '兩車',\n",
       "  '行之間'],\n",
       " ['第條',\n",
       "  '原告',\n",
       "  '被告',\n",
       "  '系爭',\n",
       "  '第項',\n",
       "  '本件',\n",
       "  '本院',\n",
       "  '規定',\n",
       "  '賠償',\n",
       "  '請求',\n",
       "  '損害',\n",
       "  '民法',\n",
       "  '路口',\n",
       "  '第頁',\n",
       "  '記錄表',\n",
       "  '費用',\n",
       "  '交通事故',\n",
       "  '計算',\n",
       "  '下稱',\n",
       "  '過失',\n",
       "  '折舊',\n",
       "  '上訴',\n",
       "  '年月日',\n",
       "  '判決',\n",
       "  '負擔',\n",
       "  '卓尚',\n",
       "  '車禍',\n",
       "  '實業',\n",
       "  '發生',\n",
       "  '被害人',\n",
       "  '事故',\n",
       "  '南投',\n",
       "  '民事',\n",
       "  '訴訟法',\n",
       "  '之系爭',\n",
       "  '南陽',\n",
       "  '集集',\n",
       "  '現場',\n",
       "  '原狀',\n",
       "  '理由',\n",
       "  '零件',\n",
       "  '修理',\n",
       "  '前段',\n",
       "  '二十日',\n",
       "  '算式',\n",
       "  '清償',\n",
       "  '日止',\n",
       "  '按週',\n",
       "  '本判決',\n",
       "  '詞辯'],\n",
       " ['原告',\n",
       "  '被告',\n",
       "  '第頁',\n",
       "  '車輛',\n",
       "  '第條',\n",
       "  '過失',\n",
       "  '請求',\n",
       "  '損害',\n",
       "  '本院',\n",
       "  '賠償',\n",
       "  '第號',\n",
       "  '車禍',\n",
       "  '第項',\n",
       "  '兩造',\n",
       "  '發生',\n",
       "  '事故',\n",
       "  '影卷',\n",
       "  '費用',\n",
       "  '財產上',\n",
       "  '行駛',\n",
       "  '負擔',\n",
       "  '執行',\n",
       "  '規定',\n",
       "  '系爭',\n",
       "  '年月日',\n",
       "  '計算',\n",
       "  '左轉',\n",
       "  '左側',\n",
       "  '規則',\n",
       "  '偵卷',\n",
       "  '本件',\n",
       "  '中市',\n",
       "  '執事項',\n",
       "  '行駛時',\n",
       "  '慢車',\n",
       "  '適用',\n",
       "  '相當',\n",
       "  '刑事',\n",
       "  '被害人',\n",
       "  '明文',\n",
       "  '判決',\n",
       "  '忠孝路',\n",
       "  '轉彎車',\n",
       "  '不爭',\n",
       "  '駕駛',\n",
       "  '所駕',\n",
       "  '因系爭',\n",
       "  '開規定',\n",
       "  '採取',\n",
       "  '注意'],\n",
       " ['賠償',\n",
       "  '原告',\n",
       "  '第條',\n",
       "  '被告',\n",
       "  '請求',\n",
       "  '損害',\n",
       "  '第項',\n",
       "  '過失',\n",
       "  '車輛',\n",
       "  '規定',\n",
       "  '保險',\n",
       "  '金額',\n",
       "  '給付',\n",
       "  '發生',\n",
       "  '代位',\n",
       "  '被害人',\n",
       "  '年月日',\n",
       "  '計算',\n",
       "  '零件',\n",
       "  '民法',\n",
       "  '左轉',\n",
       "  '江瑞容',\n",
       "  '費用',\n",
       "  '本件',\n",
       "  '車禍',\n",
       "  '責任',\n",
       "  '減輕',\n",
       "  '本院',\n",
       "  '明文',\n",
       "  '外人',\n",
       "  '負擔',\n",
       "  '系爭',\n",
       "  '債權',\n",
       "  '折舊',\n",
       "  '百分之',\n",
       "  '承保',\n",
       "  '利息',\n",
       "  '民事',\n",
       "  '修理',\n",
       "  '第號',\n",
       "  '清償',\n",
       "  '日止',\n",
       "  '執行',\n",
       "  '駕駛',\n",
       "  '工資',\n",
       "  '權行',\n",
       "  '毀損',\n",
       "  '原狀',\n",
       "  '應予',\n",
       "  '損害額'],\n",
       " ['第條',\n",
       "  '被告',\n",
       "  '原告',\n",
       "  '郭胤',\n",
       "  '規定',\n",
       "  '保險',\n",
       "  '汽車',\n",
       "  '過失',\n",
       "  '給付',\n",
       "  '第項',\n",
       "  '賠償',\n",
       "  '訴訟法',\n",
       "  '發生',\n",
       "  '本件',\n",
       "  '請求',\n",
       "  '本院',\n",
       "  '年月日',\n",
       "  '保險法',\n",
       "  '金額',\n",
       "  '民事',\n",
       "  '交通事故',\n",
       "  '損害',\n",
       "  '執行',\n",
       "  '車禍',\n",
       "  '傷害',\n",
       "  '駕駛',\n",
       "  '適用',\n",
       "  '明文',\n",
       "  '代位',\n",
       "  '理由',\n",
       "  '判決',\n",
       "  '清償',\n",
       "  '日止',\n",
       "  '按週',\n",
       "  '計算',\n",
       "  '負擔',\n",
       "  '本判決',\n",
       "  '車輛',\n",
       "  '責任',\n",
       "  '賠付',\n",
       "  '醫療',\n",
       "  '費用',\n",
       "  '範圍',\n",
       "  '求權',\n",
       "  '違背',\n",
       "  '高雄市',\n",
       "  '起至',\n",
       "  '年利率',\n",
       "  '道路交通',\n",
       "  '小額'],\n",
       " ['原告',\n",
       "  '第條',\n",
       "  '系爭',\n",
       "  '被告',\n",
       "  '第項',\n",
       "  '本院',\n",
       "  '本件',\n",
       "  '損害',\n",
       "  '賠償',\n",
       "  '計算',\n",
       "  '下稱',\n",
       "  '請求',\n",
       "  '費用',\n",
       "  '民法',\n",
       "  '現場',\n",
       "  '規定',\n",
       "  '折舊',\n",
       "  '交通事故',\n",
       "  '道路',\n",
       "  '年月日',\n",
       "  '判決',\n",
       "  '發生',\n",
       "  '事故',\n",
       "  '民事',\n",
       "  '被害人',\n",
       "  '負擔',\n",
       "  '訴訟法',\n",
       "  '埔里',\n",
       "  '原狀',\n",
       "  '車禍',\n",
       "  '過失',\n",
       "  '第年',\n",
       "  '南投',\n",
       "  '零件',\n",
       "  '前段',\n",
       "  '及第',\n",
       "  '理由',\n",
       "  '算式',\n",
       "  '照片',\n",
       "  '清償',\n",
       "  '日止',\n",
       "  '按週',\n",
       "  '本判決',\n",
       "  '詞辯',\n",
       "  '論期',\n",
       "  '到場',\n",
       "  '主張',\n",
       "  '駕駛',\n",
       "  '客車',\n",
       "  '契約'],\n",
       " ['原告',\n",
       "  '被告',\n",
       "  '車禍',\n",
       "  '本件',\n",
       "  '本院',\n",
       "  '傷害',\n",
       "  '事故',\n",
       "  '賠償',\n",
       "  '南投',\n",
       "  '年月日',\n",
       "  '挫傷',\n",
       "  '第號',\n",
       "  '腦震盪',\n",
       "  '過失',\n",
       "  '損害',\n",
       "  '頭痛',\n",
       "  '費用',\n",
       "  '責任',\n",
       "  '主張',\n",
       "  '阻塞性',\n",
       "  '頸部',\n",
       "  '頭昏',\n",
       "  '請求',\n",
       "  '第條',\n",
       "  '發生',\n",
       "  '肺病',\n",
       "  '判決',\n",
       "  '之過',\n",
       "  '因本件',\n",
       "  '行為',\n",
       "  '肺炎',\n",
       "  '執行',\n",
       "  '第項',\n",
       "  '第頁',\n",
       "  '認定',\n",
       "  '部分',\n",
       "  '慢性',\n",
       "  '刑事',\n",
       "  '下稱',\n",
       "  '失傷',\n",
       "  '規定',\n",
       "  '理由',\n",
       "  '所受',\n",
       "  '系爭',\n",
       "  '開過',\n",
       "  '醫療',\n",
       "  '不法侵害',\n",
       "  '卷宗',\n",
       "  '訴訟',\n",
       "  '偵字'],\n",
       " ['賠償',\n",
       "  '第條',\n",
       "  '被告',\n",
       "  '原告',\n",
       "  '車輛',\n",
       "  '第項',\n",
       "  '請求',\n",
       "  '損害',\n",
       "  '過失',\n",
       "  '規定',\n",
       "  '金額',\n",
       "  '保險',\n",
       "  '本件',\n",
       "  '給付',\n",
       "  '代位',\n",
       "  '年月日',\n",
       "  '被害人',\n",
       "  '計算',\n",
       "  '負擔',\n",
       "  '系爭',\n",
       "  '發生',\n",
       "  '民法',\n",
       "  '責任',\n",
       "  '減輕',\n",
       "  '零件',\n",
       "  '民事',\n",
       "  '明文',\n",
       "  '汽車',\n",
       "  '之系爭',\n",
       "  '債權',\n",
       "  '折舊',\n",
       "  '本院',\n",
       "  '外人',\n",
       "  '理由',\n",
       "  '利息',\n",
       "  '年利率',\n",
       "  '判決',\n",
       "  '第號',\n",
       "  '清償',\n",
       "  '日止',\n",
       "  '按週',\n",
       "  '執行',\n",
       "  '訴訟法',\n",
       "  '方慧諒',\n",
       "  '塗裝',\n",
       "  '項定',\n",
       "  '邊緣',\n",
       "  '權行',\n",
       "  '毀損',\n",
       "  '原狀'],\n",
       " ['賠償',\n",
       "  '原告',\n",
       "  '被告',\n",
       "  '第條',\n",
       "  '車輛',\n",
       "  '第項',\n",
       "  '請求',\n",
       "  '損害',\n",
       "  '過失',\n",
       "  '規定',\n",
       "  '金額',\n",
       "  '保險',\n",
       "  '徐衙',\n",
       "  '發生',\n",
       "  '給付',\n",
       "  '第年',\n",
       "  '費用',\n",
       "  '年月日',\n",
       "  '代位',\n",
       "  '被害人',\n",
       "  '計算',\n",
       "  '系爭',\n",
       "  '外人',\n",
       "  '零件',\n",
       "  '民法',\n",
       "  '駕駛',\n",
       "  '本件',\n",
       "  '車禍',\n",
       "  '責任',\n",
       "  '減輕',\n",
       "  '承保',\n",
       "  '民事',\n",
       "  '明文',\n",
       "  '負擔',\n",
       "  '債權',\n",
       "  '折舊',\n",
       "  '舊值',\n",
       "  '舊後價值',\n",
       "  '本院',\n",
       "  '六分',\n",
       "  '利息',\n",
       "  '判決',\n",
       "  '第號',\n",
       "  '清償',\n",
       "  '日止',\n",
       "  '執行',\n",
       "  '訴訟法',\n",
       "  '幹線',\n",
       "  '權行',\n",
       "  '汽車'],\n",
       " ['車輛',\n",
       "  '第條',\n",
       "  '被告',\n",
       "  '原告',\n",
       "  '保險',\n",
       "  '第項',\n",
       "  '駕駛',\n",
       "  '規定',\n",
       "  '系爭',\n",
       "  '卷頁',\n",
       "  '計算',\n",
       "  '發生',\n",
       "  '中小',\n",
       "  '請求',\n",
       "  '行車',\n",
       "  '駕駛人',\n",
       "  '代位',\n",
       "  '年月日',\n",
       "  '賠償',\n",
       "  '折舊',\n",
       "  '上訴',\n",
       "  '開車',\n",
       "  '費用',\n",
       "  '事故',\n",
       "  '理由',\n",
       "  '加害人',\n",
       "  '車禍',\n",
       "  '現場',\n",
       "  '第款',\n",
       "  '本件',\n",
       "  '資產',\n",
       "  '年數',\n",
       "  '本院',\n",
       "  '耐用',\n",
       "  '判決',\n",
       "  '損害',\n",
       "  '客車',\n",
       "  '中市',\n",
       "  '烏日區',\n",
       "  '站區',\n",
       "  '健宗',\n",
       "  '有過',\n",
       "  '失責任',\n",
       "  '過失',\n",
       "  '等語',\n",
       "  '狀態',\n",
       "  '之金額',\n",
       "  '之際',\n",
       "  '道路交通',\n",
       "  '固定'],\n",
       " ['原告',\n",
       "  '第條',\n",
       "  '本件',\n",
       "  '被告',\n",
       "  '系爭',\n",
       "  '本院',\n",
       "  '第項',\n",
       "  '南投',\n",
       "  '請求',\n",
       "  '損害',\n",
       "  '賠償',\n",
       "  '規定',\n",
       "  '費用',\n",
       "  '上訴',\n",
       "  '民法',\n",
       "  '判決',\n",
       "  '計算',\n",
       "  '負擔',\n",
       "  '過失',\n",
       "  '折舊',\n",
       "  '交通事故',\n",
       "  '年月日',\n",
       "  '下稱',\n",
       "  '汽車',\n",
       "  '路口',\n",
       "  '理由',\n",
       "  '事故',\n",
       "  '算式',\n",
       "  '被害人',\n",
       "  '行駛',\n",
       "  '車禍',\n",
       "  '現場',\n",
       "  '原狀',\n",
       "  '發生',\n",
       "  '第年',\n",
       "  '道路',\n",
       "  '零件',\n",
       "  '南投市',\n",
       "  '民事',\n",
       "  '清償',\n",
       "  '日止',\n",
       "  '按週',\n",
       "  '本判決',\n",
       "  '訴訟法',\n",
       "  '駕駛',\n",
       "  '行經',\n",
       "  '契約',\n",
       "  '工資',\n",
       "  '閃黃燈',\n",
       "  '減速'],\n",
       " ['原告',\n",
       "  '賠償',\n",
       "  '第條',\n",
       "  '被告',\n",
       "  '請求',\n",
       "  '車輛',\n",
       "  '規定',\n",
       "  '第項',\n",
       "  '損害',\n",
       "  '發生',\n",
       "  '金額',\n",
       "  '保險',\n",
       "  '給付',\n",
       "  '系爭',\n",
       "  '本件',\n",
       "  '責任',\n",
       "  '過失',\n",
       "  '代位',\n",
       "  '承保',\n",
       "  '年月日',\n",
       "  '計算',\n",
       "  '負擔',\n",
       "  '車禍',\n",
       "  '民法',\n",
       "  '指揮',\n",
       "  '債權',\n",
       "  '零件',\n",
       "  '鄭舜陽',\n",
       "  '折舊',\n",
       "  '被害人',\n",
       "  '本院',\n",
       "  '理由',\n",
       "  '利息',\n",
       "  '算式',\n",
       "  '清償',\n",
       "  '日止',\n",
       "  '訴訟費',\n",
       "  '執行',\n",
       "  '主張',\n",
       "  '應負',\n",
       "  '費用',\n",
       "  '停車',\n",
       "  '毀損',\n",
       "  '原狀',\n",
       "  '應予',\n",
       "  '損害額',\n",
       "  '外人',\n",
       "  '明文',\n",
       "  '民事',\n",
       "  '起至'],\n",
       " ['原告',\n",
       "  '被告',\n",
       "  '車輛',\n",
       "  '本件',\n",
       "  '系爭',\n",
       "  '過失',\n",
       "  '賠償',\n",
       "  '年月日',\n",
       "  '計算',\n",
       "  '負擔',\n",
       "  '車禍',\n",
       "  '發生',\n",
       "  '被害人',\n",
       "  '事故',\n",
       "  '損害',\n",
       "  '運租車',\n",
       "  '折舊',\n",
       "  '規定',\n",
       "  '本院',\n",
       "  '判決',\n",
       "  '上田功',\n",
       "  '結果',\n",
       "  '駕駛人',\n",
       "  '第條',\n",
       "  '請求',\n",
       "  '第項',\n",
       "  '代位',\n",
       "  '訴訟',\n",
       "  '第號',\n",
       "  '保險',\n",
       "  '清償',\n",
       "  '日止',\n",
       "  '本判決',\n",
       "  '事實',\n",
       "  '當時',\n",
       "  '調查',\n",
       "  '之過',\n",
       "  '失責任',\n",
       "  '責任',\n",
       "  '年數',\n",
       "  '交通事故',\n",
       "  '百分之五',\n",
       "  '起至',\n",
       "  '承保',\n",
       "  '年利率',\n",
       "  '利息',\n",
       "  '民法',\n",
       "  '耐用',\n",
       "  '路段',\n",
       "  '零件'],\n",
       " ['原告',\n",
       "  '賠償',\n",
       "  '被告',\n",
       "  '損害',\n",
       "  '第條',\n",
       "  '請求',\n",
       "  '補償',\n",
       "  '年月日',\n",
       "  '金額',\n",
       "  '規定',\n",
       "  '本件',\n",
       "  '車禍',\n",
       "  '訴訟',\n",
       "  '第項',\n",
       "  '萬元',\n",
       "  '狀況',\n",
       "  '八德',\n",
       "  '住院',\n",
       "  '判決',\n",
       "  '過失',\n",
       "  '民法',\n",
       "  '本院',\n",
       "  '第號',\n",
       "  '減輕',\n",
       "  '兩車',\n",
       "  '事故',\n",
       "  '刑事',\n",
       "  '傷害',\n",
       "  '治療',\n",
       "  '機車',\n",
       "  '財產上',\n",
       "  '行之間',\n",
       "  '義務人',\n",
       "  '上訴',\n",
       "  '民事',\n",
       "  '南路',\n",
       "  '不法侵害',\n",
       "  '注意',\n",
       "  '附帶',\n",
       "  '執行',\n",
       "  '特別',\n",
       "  '騎乘',\n",
       "  '之過',\n",
       "  '發生',\n",
       "  '責任',\n",
       "  '精神',\n",
       "  '明文',\n",
       "  '法院',\n",
       "  '被害人',\n",
       "  '年度'],\n",
       " ['原告',\n",
       "  '被告',\n",
       "  '請求',\n",
       "  '第條',\n",
       "  '賠償',\n",
       "  '損害',\n",
       "  '發生',\n",
       "  '事故',\n",
       "  '第項',\n",
       "  '費用',\n",
       "  '過失',\n",
       "  '本院',\n",
       "  '系爭',\n",
       "  '車禍',\n",
       "  '鑑定',\n",
       "  '責任',\n",
       "  '車輛',\n",
       "  '高雄市',\n",
       "  '明文',\n",
       "  '計算',\n",
       "  '執行',\n",
       "  '給付',\n",
       "  '仁心',\n",
       "  '無法',\n",
       "  '本件',\n",
       "  '年月日',\n",
       "  '規定',\n",
       "  '應予',\n",
       "  '准許',\n",
       "  '駕駛',\n",
       "  '損失',\n",
       "  '兩造',\n",
       "  '醫療',\n",
       "  '金額',\n",
       "  '受有',\n",
       "  '不法侵害',\n",
       "  '民事',\n",
       "  '部分',\n",
       "  '被害人',\n",
       "  '判決',\n",
       "  '第號',\n",
       "  '陰囊',\n",
       "  '挫傷',\n",
       "  '傷害',\n",
       "  '元及',\n",
       "  '行車',\n",
       "  '意見',\n",
       "  '醫院',\n",
       "  '結果',\n",
       "  '相當'],\n",
       " ['賠償',\n",
       "  '被告',\n",
       "  '原告',\n",
       "  '車輛',\n",
       "  '第條',\n",
       "  '請求',\n",
       "  '損害',\n",
       "  '系爭',\n",
       "  '發生',\n",
       "  '第項',\n",
       "  '保險',\n",
       "  '金額',\n",
       "  '本件',\n",
       "  '給付',\n",
       "  '規定',\n",
       "  '過失',\n",
       "  '費用',\n",
       "  '年月日',\n",
       "  '代位',\n",
       "  '被害人',\n",
       "  '計算',\n",
       "  '曾亙',\n",
       "  '本院',\n",
       "  '零件',\n",
       "  '明文',\n",
       "  '民法',\n",
       "  '執行',\n",
       "  '車禍',\n",
       "  '責任',\n",
       "  '暫停',\n",
       "  '減輕',\n",
       "  '第年',\n",
       "  '債權',\n",
       "  '折舊',\n",
       "  '外人',\n",
       "  '利息',\n",
       "  '民事',\n",
       "  '肇事',\n",
       "  '道路',\n",
       "  '路口',\n",
       "  '判決',\n",
       "  '第號',\n",
       "  '清償',\n",
       "  '日止',\n",
       "  '之過',\n",
       "  '權行',\n",
       "  '無號誌',\n",
       "  '狀況',\n",
       "  '毀損',\n",
       "  '原狀'],\n",
       " ['車輛',\n",
       "  '被告',\n",
       "  '賠償',\n",
       "  '原告',\n",
       "  '第條',\n",
       "  '請求',\n",
       "  '系爭',\n",
       "  '外人',\n",
       "  '本件',\n",
       "  '車禍',\n",
       "  '保險',\n",
       "  '規定',\n",
       "  '發生',\n",
       "  '損害',\n",
       "  '林瑞南',\n",
       "  '第項',\n",
       "  '給付',\n",
       "  '代位',\n",
       "  '年月日',\n",
       "  '客車',\n",
       "  '過失',\n",
       "  '金額',\n",
       "  '計算',\n",
       "  '林黃素',\n",
       "  '毀損',\n",
       "  '汽車',\n",
       "  '駕駛系爭',\n",
       "  '交通事故',\n",
       "  '負擔',\n",
       "  '之過',\n",
       "  '左轉',\n",
       "  '此觀',\n",
       "  '債權',\n",
       "  '折舊',\n",
       "  '上訴',\n",
       "  '民法',\n",
       "  '本院',\n",
       "  '明文',\n",
       "  '零件',\n",
       "  '承保',\n",
       "  '直行',\n",
       "  '利息',\n",
       "  '及第',\n",
       "  '算式',\n",
       "  '被害人',\n",
       "  '年利率',\n",
       "  '道路',\n",
       "  '路口',\n",
       "  '訴訟',\n",
       "  '清償'],\n",
       " ['原告',\n",
       "  '第條',\n",
       "  '被告',\n",
       "  '請求',\n",
       "  '賠償',\n",
       "  '第項',\n",
       "  '規定',\n",
       "  '損害',\n",
       "  '系爭',\n",
       "  '機車',\n",
       "  '車禍',\n",
       "  '過失',\n",
       "  '負擔',\n",
       "  '發生',\n",
       "  '本件',\n",
       "  '判決',\n",
       "  '折舊',\n",
       "  '民法',\n",
       "  '年月日',\n",
       "  '民事',\n",
       "  '執行',\n",
       "  '之金額',\n",
       "  '車道',\n",
       "  '原狀',\n",
       "  '適用',\n",
       "  '費用',\n",
       "  '應予',\n",
       "  '訴訟法',\n",
       "  '違背',\n",
       "  '上訴',\n",
       "  '第年',\n",
       "  '本院',\n",
       "  '事故',\n",
       "  '零件',\n",
       "  '被害人',\n",
       "  '算式',\n",
       "  '小額',\n",
       "  '第號',\n",
       "  '自強',\n",
       "  '右轉',\n",
       "  '車輛',\n",
       "  '為何',\n",
       "  '審酌',\n",
       "  '應依',\n",
       "  '第款',\n",
       "  '逾此',\n",
       "  '範圍',\n",
       "  '無據',\n",
       "  '金額',\n",
       "  '同法'],\n",
       " ['原告',\n",
       "  '車輛',\n",
       "  '被告',\n",
       "  '第條',\n",
       "  '請求',\n",
       "  '計算',\n",
       "  '系爭',\n",
       "  '本件',\n",
       "  '事故',\n",
       "  '折舊',\n",
       "  '損害',\n",
       "  '賠償',\n",
       "  '發生',\n",
       "  '年月日',\n",
       "  '減速',\n",
       "  '第項',\n",
       "  '零件',\n",
       "  '民法',\n",
       "  '車禍',\n",
       "  '過失',\n",
       "  '規定',\n",
       "  '本院',\n",
       "  '判決',\n",
       "  '當時',\n",
       "  '氣囊',\n",
       "  '應予',\n",
       "  '第款',\n",
       "  '明文',\n",
       "  '交通事故',\n",
       "  '算式',\n",
       "  '清償',\n",
       "  '日止',\n",
       "  '負擔',\n",
       "  '等語',\n",
       "  '狀繕',\n",
       "  '行經',\n",
       "  '行車',\n",
       "  '給付',\n",
       "  '上訴',\n",
       "  '天候',\n",
       "  '年息',\n",
       "  '注意',\n",
       "  '路段',\n",
       "  '起至',\n",
       "  '安全',\n",
       "  '被害人',\n",
       "  '催告',\n",
       "  '理由',\n",
       "  '道路',\n",
       "  '第號'],\n",
       " ['第條',\n",
       "  '賠償',\n",
       "  '被告',\n",
       "  '車輛',\n",
       "  '原告',\n",
       "  '第項',\n",
       "  '請求',\n",
       "  '規定',\n",
       "  '損害',\n",
       "  '金額',\n",
       "  '過失',\n",
       "  '發生',\n",
       "  '保險',\n",
       "  '給付',\n",
       "  '第年',\n",
       "  '年月日',\n",
       "  '被害人',\n",
       "  '計算',\n",
       "  '負擔',\n",
       "  '系爭',\n",
       "  '責任',\n",
       "  '民法',\n",
       "  '代位',\n",
       "  '零件',\n",
       "  '本件',\n",
       "  '減輕',\n",
       "  '民事',\n",
       "  '明文',\n",
       "  '百分之',\n",
       "  '駕駛',\n",
       "  '車前',\n",
       "  '車禍',\n",
       "  '汽車',\n",
       "  '債權',\n",
       "  '折舊',\n",
       "  '利息',\n",
       "  '判決',\n",
       "  '第號',\n",
       "  '清償',\n",
       "  '日止',\n",
       "  '訴訟法',\n",
       "  '狀況',\n",
       "  '文欽',\n",
       "  '費用',\n",
       "  '工資',\n",
       "  '毀損',\n",
       "  '原狀',\n",
       "  '應予',\n",
       "  '損害額',\n",
       "  '上訴'],\n",
       " ['車輛',\n",
       "  '被告',\n",
       "  '賠償',\n",
       "  '系爭',\n",
       "  '原告',\n",
       "  '賴秀朵',\n",
       "  '第條',\n",
       "  '請求',\n",
       "  '第項',\n",
       "  '車禍',\n",
       "  '本件',\n",
       "  '外人',\n",
       "  '損害',\n",
       "  '發生',\n",
       "  '保險',\n",
       "  '給付',\n",
       "  '規定',\n",
       "  '代位',\n",
       "  '過失',\n",
       "  '金額',\n",
       "  '年月日',\n",
       "  '計算',\n",
       "  '開小貨車',\n",
       "  '毀損',\n",
       "  '駕駛',\n",
       "  '直行',\n",
       "  '交通事故',\n",
       "  '判決',\n",
       "  '駕駛系爭',\n",
       "  '責任',\n",
       "  '駕駛前',\n",
       "  '汽車',\n",
       "  '左轉',\n",
       "  '此觀',\n",
       "  '債權',\n",
       "  '折舊',\n",
       "  '承保',\n",
       "  '民法',\n",
       "  '本院',\n",
       "  '明文',\n",
       "  '岔路',\n",
       "  '被害人',\n",
       "  '年利率',\n",
       "  '訴訟',\n",
       "  '清償',\n",
       "  '日止',\n",
       "  '按週',\n",
       "  '負擔',\n",
       "  '執行',\n",
       "  '費用'],\n",
       " ['車輛',\n",
       "  '被告',\n",
       "  '賠償',\n",
       "  '原告',\n",
       "  '第條',\n",
       "  '系爭',\n",
       "  '請求',\n",
       "  '損害',\n",
       "  '第項',\n",
       "  '本件',\n",
       "  '本院',\n",
       "  '保險',\n",
       "  '規定',\n",
       "  '發生',\n",
       "  '金額',\n",
       "  '過失',\n",
       "  '費用',\n",
       "  '折舊',\n",
       "  '給付',\n",
       "  '計算',\n",
       "  '代位',\n",
       "  '零件',\n",
       "  '被害人',\n",
       "  '年月日',\n",
       "  '大儒',\n",
       "  '現場',\n",
       "  '明文',\n",
       "  '民法',\n",
       "  '車禍',\n",
       "  '停車',\n",
       "  '第頁',\n",
       "  '減輕',\n",
       "  '修理',\n",
       "  '外人',\n",
       "  '主張',\n",
       "  '責任',\n",
       "  '超過',\n",
       "  '債權',\n",
       "  '資產',\n",
       "  '照片',\n",
       "  '交通事故',\n",
       "  '警察局',\n",
       "  '利息',\n",
       "  '民事',\n",
       "  '岔路',\n",
       "  '判決',\n",
       "  '第號',\n",
       "  '清償',\n",
       "  '日止',\n",
       "  '執行'],\n",
       " ['原告',\n",
       "  '賠償',\n",
       "  '被告',\n",
       "  '請求',\n",
       "  '給付',\n",
       "  '損害',\n",
       "  '責任',\n",
       "  '第頁',\n",
       "  '第條',\n",
       "  '本院',\n",
       "  '過失',\n",
       "  '第號',\n",
       "  '洪瑋駿',\n",
       "  '費用',\n",
       "  '保險',\n",
       "  '哲育',\n",
       "  '被告人',\n",
       "  '本件',\n",
       "  '兩造',\n",
       "  '民法',\n",
       "  '傷害',\n",
       "  '規定',\n",
       "  '金額',\n",
       "  '第項',\n",
       "  '清償',\n",
       "  '行為',\n",
       "  '債務人',\n",
       "  '年月日',\n",
       "  '執行',\n",
       "  '車禍',\n",
       "  '醫療',\n",
       "  '不爭執',\n",
       "  '期間',\n",
       "  '適用',\n",
       "  '被害人',\n",
       "  '判決',\n",
       "  '侵權',\n",
       "  '相關',\n",
       "  '看護',\n",
       "  '計算',\n",
       "  '分別',\n",
       "  '汽車',\n",
       "  '因本件',\n",
       "  '營養',\n",
       "  '品費用',\n",
       "  '看護費',\n",
       "  '洪瑋峻',\n",
       "  '扣除',\n",
       "  '部分',\n",
       "  '明文'],\n",
       " ['第條',\n",
       "  '被告',\n",
       "  '原告',\n",
       "  '賠償',\n",
       "  '第項',\n",
       "  '請求',\n",
       "  '車輛',\n",
       "  '損害',\n",
       "  '規定',\n",
       "  '本件',\n",
       "  '給付',\n",
       "  '現場',\n",
       "  '發生',\n",
       "  '交通事故',\n",
       "  '停車',\n",
       "  '計算',\n",
       "  '車禍',\n",
       "  '金額',\n",
       "  '年月日',\n",
       "  '外人',\n",
       "  '保險',\n",
       "  '系爭',\n",
       "  '代位',\n",
       "  '明文',\n",
       "  '負擔',\n",
       "  '費用',\n",
       "  '折舊',\n",
       "  '零件',\n",
       "  '道路',\n",
       "  '本院',\n",
       "  '民法',\n",
       "  '汽車',\n",
       "  '之系爭',\n",
       "  '過失',\n",
       "  '毀損',\n",
       "  '債權',\n",
       "  '被害人',\n",
       "  '利息',\n",
       "  '判決',\n",
       "  '清償',\n",
       "  '日止',\n",
       "  '執行',\n",
       "  '塗裝',\n",
       "  '規則',\n",
       "  '之過',\n",
       "  '原狀',\n",
       "  '應予',\n",
       "  '損害額',\n",
       "  '第年',\n",
       "  '百分之五'],\n",
       " ['第條',\n",
       "  '原告',\n",
       "  '系爭',\n",
       "  '被告',\n",
       "  '第項',\n",
       "  '本件',\n",
       "  '影本',\n",
       "  '本院',\n",
       "  '請求',\n",
       "  '第年',\n",
       "  '賠償',\n",
       "  '規定',\n",
       "  '交通事故',\n",
       "  '民法',\n",
       "  '損害',\n",
       "  '埔里',\n",
       "  '費用',\n",
       "  '計算',\n",
       "  '發生',\n",
       "  '汽車',\n",
       "  '折舊',\n",
       "  '上訴',\n",
       "  '年月日',\n",
       "  '道路',\n",
       "  '判決',\n",
       "  '負擔',\n",
       "  '現場',\n",
       "  '過失',\n",
       "  '舊值',\n",
       "  '舊後價值',\n",
       "  '被害人',\n",
       "  '南投',\n",
       "  '事故',\n",
       "  '民事',\n",
       "  '訴訟法',\n",
       "  '林孟蓉',\n",
       "  '駕駛系爭',\n",
       "  '孟蓉',\n",
       "  '車禍',\n",
       "  '第頁',\n",
       "  '調查',\n",
       "  '原狀',\n",
       "  '理由',\n",
       "  '零件',\n",
       "  '修理',\n",
       "  '前段',\n",
       "  '算式',\n",
       "  '清償',\n",
       "  '日止',\n",
       "  '按週'],\n",
       " ['賠償',\n",
       "  '第條',\n",
       "  '原告',\n",
       "  '被告',\n",
       "  '車輛',\n",
       "  '請求',\n",
       "  '規定',\n",
       "  '第項',\n",
       "  '損害',\n",
       "  '金額',\n",
       "  '保險',\n",
       "  '給付',\n",
       "  '過失',\n",
       "  '代位',\n",
       "  '年月日',\n",
       "  '計算',\n",
       "  '系爭',\n",
       "  '責任',\n",
       "  '本件',\n",
       "  '車禍',\n",
       "  '發生',\n",
       "  '零件',\n",
       "  '折舊',\n",
       "  '被害人',\n",
       "  '民事',\n",
       "  '民法',\n",
       "  '負擔',\n",
       "  '債權',\n",
       "  '承保',\n",
       "  '本院',\n",
       "  '百分之',\n",
       "  '利息',\n",
       "  '判決',\n",
       "  '清償',\n",
       "  '日止',\n",
       "  '執行',\n",
       "  '訴訟法',\n",
       "  '工資',\n",
       "  '權行',\n",
       "  '毀損',\n",
       "  '原狀',\n",
       "  '應予',\n",
       "  '減輕',\n",
       "  '損害額',\n",
       "  '上訴',\n",
       "  '明文',\n",
       "  '起至',\n",
       "  '警察局',\n",
       "  '催告',\n",
       "  '第號'],\n",
       " ['第條',\n",
       "  '被告',\n",
       "  '責任',\n",
       "  '原告',\n",
       "  '賠償',\n",
       "  '規定',\n",
       "  '第項',\n",
       "  '鄧文',\n",
       "  '發生',\n",
       "  '請求',\n",
       "  '汽車',\n",
       "  '年月日',\n",
       "  '本院',\n",
       "  '第款',\n",
       "  '駕駛',\n",
       "  '系爭',\n",
       "  '岔路',\n",
       "  '損害',\n",
       "  '車禍',\n",
       "  '過失',\n",
       "  '訴訟法',\n",
       "  '強制',\n",
       "  '給付',\n",
       "  '被害人',\n",
       "  '車輛',\n",
       "  '保險法',\n",
       "  '鄧陳淑汝等',\n",
       "  '準備',\n",
       "  '減速',\n",
       "  '民事',\n",
       "  '右方',\n",
       "  '民法',\n",
       "  '慢行',\n",
       "  '判決',\n",
       "  '第號',\n",
       "  '保險',\n",
       "  '適用',\n",
       "  '下稱',\n",
       "  '隨時',\n",
       "  '停車',\n",
       "  '交通事故',\n",
       "  '左方',\n",
       "  '不法侵害',\n",
       "  '計算',\n",
       "  '負擔',\n",
       "  '機車',\n",
       "  '本件',\n",
       "  '爭交',\n",
       "  '減輕',\n",
       "  '修正'],\n",
       " ['車輛',\n",
       "  '被告',\n",
       "  '原告',\n",
       "  '賠償',\n",
       "  '第條',\n",
       "  '系爭',\n",
       "  '請求',\n",
       "  '本件',\n",
       "  '車禍',\n",
       "  '外人',\n",
       "  '芬玲',\n",
       "  '規定',\n",
       "  '第項',\n",
       "  '發生',\n",
       "  '保險',\n",
       "  '損害',\n",
       "  '過失',\n",
       "  '給付',\n",
       "  '王金桃',\n",
       "  '年月日',\n",
       "  '代位',\n",
       "  '毀損',\n",
       "  '揭卷',\n",
       "  '計算',\n",
       "  '金額',\n",
       "  '暫停',\n",
       "  '此觀',\n",
       "  '交通事故',\n",
       "  '岔路',\n",
       "  '民法',\n",
       "  '道路',\n",
       "  '負擔',\n",
       "  '駕駛',\n",
       "  '客車',\n",
       "  '汽車',\n",
       "  '之過',\n",
       "  '減速',\n",
       "  '隨時',\n",
       "  '停車',\n",
       "  '準備',\n",
       "  '現場',\n",
       "  '警詢',\n",
       "  '開汽車',\n",
       "  '債權',\n",
       "  '上訴',\n",
       "  '被害人',\n",
       "  '左方',\n",
       "  '本院',\n",
       "  '右方',\n",
       "  '明文'],\n",
       " ['原告',\n",
       "  '系爭',\n",
       "  '汽車',\n",
       "  '被告',\n",
       "  '請求',\n",
       "  '車禍',\n",
       "  '損害',\n",
       "  '第條',\n",
       "  '賠償',\n",
       "  '第頁',\n",
       "  '本院',\n",
       "  '事故',\n",
       "  '第項',\n",
       "  '發生',\n",
       "  '規定',\n",
       "  '年月日',\n",
       "  '應予',\n",
       "  '計算',\n",
       "  '明文',\n",
       "  '算式',\n",
       "  '百分之',\n",
       "  '負擔',\n",
       "  '本件',\n",
       "  '過失',\n",
       "  '之金額',\n",
       "  '折舊',\n",
       "  '給付',\n",
       "  '所駕',\n",
       "  '部分',\n",
       "  '判決',\n",
       "  '主張',\n",
       "  '無據',\n",
       "  '直行',\n",
       "  '零件',\n",
       "  '民法',\n",
       "  '交通事故',\n",
       "  '不法侵害',\n",
       "  '被害人',\n",
       "  '道路',\n",
       "  '費用',\n",
       "  '車道',\n",
       "  '認定',\n",
       "  '債權',\n",
       "  '金額',\n",
       "  '車前',\n",
       "  '上訴',\n",
       "  '利息',\n",
       "  '民事',\n",
       "  '催告',\n",
       "  '理由'],\n",
       " ['原告',\n",
       "  '賠償',\n",
       "  '被告',\n",
       "  '第條',\n",
       "  '請求',\n",
       "  '車輛',\n",
       "  '規定',\n",
       "  '損害',\n",
       "  '第項',\n",
       "  '金額',\n",
       "  '過失',\n",
       "  '保險',\n",
       "  '發生',\n",
       "  '本件',\n",
       "  '給付',\n",
       "  '費用',\n",
       "  '車禍',\n",
       "  '年月日',\n",
       "  '承保',\n",
       "  '計算',\n",
       "  '負擔',\n",
       "  '責任',\n",
       "  '損失',\n",
       "  '代位',\n",
       "  '被害人',\n",
       "  '江瑞顏',\n",
       "  '系爭',\n",
       "  '民法',\n",
       "  '零件',\n",
       "  '明文',\n",
       "  '主張',\n",
       "  '減輕',\n",
       "  '債權',\n",
       "  '外人',\n",
       "  '算式',\n",
       "  '駕駛',\n",
       "  '汽車',\n",
       "  '抵銷',\n",
       "  '車道',\n",
       "  '折舊',\n",
       "  '理由',\n",
       "  '本院',\n",
       "  '利息',\n",
       "  '民事',\n",
       "  '判決',\n",
       "  '第號',\n",
       "  '訴訟',\n",
       "  '清償',\n",
       "  '日止',\n",
       "  '訴訟費'],\n",
       " ['車輛',\n",
       "  '被告',\n",
       "  '原告',\n",
       "  '賠償',\n",
       "  '瑞隆',\n",
       "  '本件',\n",
       "  '系爭',\n",
       "  '第條',\n",
       "  '車禍',\n",
       "  '請求',\n",
       "  '外人',\n",
       "  '客車',\n",
       "  '第項',\n",
       "  '保險',\n",
       "  '規定',\n",
       "  '發生',\n",
       "  '損害',\n",
       "  '交通事故',\n",
       "  '過失',\n",
       "  '毀損',\n",
       "  '金額',\n",
       "  '給付',\n",
       "  '計算',\n",
       "  '現場',\n",
       "  '年月日',\n",
       "  '代位',\n",
       "  '道路',\n",
       "  '開小客',\n",
       "  '暫停',\n",
       "  '警詢',\n",
       "  '上訴',\n",
       "  '岔路',\n",
       "  '人文',\n",
       "  '駕駛',\n",
       "  '折舊',\n",
       "  '行車',\n",
       "  '開小',\n",
       "  '此觀',\n",
       "  '揭卷',\n",
       "  '本院',\n",
       "  '判決',\n",
       "  '負擔',\n",
       "  '即訴',\n",
       "  '實際',\n",
       "  '之過',\n",
       "  '責任',\n",
       "  '費用',\n",
       "  '資料',\n",
       "  '談話紀',\n",
       "  '錄表'],\n",
       " ['車輛',\n",
       "  '被告',\n",
       "  '原告',\n",
       "  '賠償',\n",
       "  '第條',\n",
       "  '系爭',\n",
       "  '請求',\n",
       "  '本件',\n",
       "  '李珈',\n",
       "  '外人',\n",
       "  '規定',\n",
       "  '車禍',\n",
       "  '第項',\n",
       "  '發生',\n",
       "  '年月日',\n",
       "  '保險',\n",
       "  '損害',\n",
       "  '毀損',\n",
       "  '過失',\n",
       "  '給付',\n",
       "  '許春蘭',\n",
       "  '金額',\n",
       "  '代位',\n",
       "  '計算',\n",
       "  '開車輛',\n",
       "  '準備',\n",
       "  '現場',\n",
       "  '暫停',\n",
       "  '此觀',\n",
       "  '揭卷',\n",
       "  '第年',\n",
       "  '交通事故',\n",
       "  '岔路',\n",
       "  '本院',\n",
       "  '民法',\n",
       "  '負擔',\n",
       "  '之過',\n",
       "  '減速',\n",
       "  '隨時',\n",
       "  '停車',\n",
       "  '警詢',\n",
       "  '債權',\n",
       "  '折舊',\n",
       "  '上訴',\n",
       "  '被害人',\n",
       "  '民事',\n",
       "  '利息',\n",
       "  '左方',\n",
       "  '右方',\n",
       "  '明文'],\n",
       " ['被告',\n",
       "  '客車',\n",
       "  '原告',\n",
       "  '車禍',\n",
       "  '本件',\n",
       "  '楊政翰',\n",
       "  '發生',\n",
       "  '第條',\n",
       "  '賠償',\n",
       "  '外人',\n",
       "  '系爭',\n",
       "  '開小貨車',\n",
       "  '過失',\n",
       "  '年月日',\n",
       "  '請求',\n",
       "  '鑑定',\n",
       "  '規定',\n",
       "  '駕駛',\n",
       "  '費用',\n",
       "  '岔路',\n",
       "  '損害',\n",
       "  '第項',\n",
       "  '肇事',\n",
       "  '減速',\n",
       "  '前開',\n",
       "  '之系爭',\n",
       "  '毀損',\n",
       "  '責任',\n",
       "  '零件',\n",
       "  '本院',\n",
       "  '車速',\n",
       "  '開無號',\n",
       "  '之過',\n",
       "  '資料',\n",
       "  '金額',\n",
       "  '利息',\n",
       "  '道路',\n",
       "  '交通事故',\n",
       "  '計算',\n",
       "  '負擔',\n",
       "  '小貨車',\n",
       "  '通過',\n",
       "  '準備',\n",
       "  '駕駛前',\n",
       "  '車輛',\n",
       "  '失責任',\n",
       "  '暫停',\n",
       "  '應予',\n",
       "  '原狀',\n",
       "  '折舊'],\n",
       " ['車輛',\n",
       "  '原告',\n",
       "  '系爭',\n",
       "  '被告',\n",
       "  '車禍',\n",
       "  '第條',\n",
       "  '本件',\n",
       "  '賠償',\n",
       "  '客車',\n",
       "  '柯嘉玲',\n",
       "  '費用',\n",
       "  '發生',\n",
       "  '規定',\n",
       "  '請求',\n",
       "  '第項',\n",
       "  '損害',\n",
       "  '開號',\n",
       "  '汽車',\n",
       "  '過失',\n",
       "  '外人',\n",
       "  '現場',\n",
       "  '零件',\n",
       "  '年月日',\n",
       "  '應予',\n",
       "  '金廠',\n",
       "  '因本件',\n",
       "  '估價',\n",
       "  '閃光',\n",
       "  '折舊',\n",
       "  '交通事故',\n",
       "  '岔路',\n",
       "  '判決',\n",
       "  '減速',\n",
       "  '之過',\n",
       "  '失責任',\n",
       "  '依前',\n",
       "  '之修',\n",
       "  '毀損',\n",
       "  '金額',\n",
       "  '上訴',\n",
       "  '本院',\n",
       "  '明文',\n",
       "  '民事',\n",
       "  '道路',\n",
       "  '訴訟',\n",
       "  '執行',\n",
       "  '適用',\n",
       "  '訴訟法',\n",
       "  '主張',\n",
       "  '駕駛'],\n",
       " ['本院',\n",
       "  '原告',\n",
       "  '被告',\n",
       "  '保險',\n",
       "  '第條',\n",
       "  '請求',\n",
       "  '折舊',\n",
       "  '計算',\n",
       "  '規定',\n",
       "  '第頁',\n",
       "  '代位',\n",
       "  '車輛',\n",
       "  '過失',\n",
       "  '上訴',\n",
       "  '年月日',\n",
       "  '賠償',\n",
       "  '費用',\n",
       "  '第項',\n",
       "  '被害人',\n",
       "  '加害人',\n",
       "  '系爭',\n",
       "  '理由',\n",
       "  '損害',\n",
       "  '林益賢',\n",
       "  '有過',\n",
       "  '金額',\n",
       "  '第年',\n",
       "  '交通事故',\n",
       "  '零件',\n",
       "  '外人',\n",
       "  '定率',\n",
       "  '算式',\n",
       "  '判決',\n",
       "  '清償',\n",
       "  '日止',\n",
       "  '按週',\n",
       "  '負擔',\n",
       "  '主張',\n",
       "  '客車',\n",
       "  '等語',\n",
       "  '汽車',\n",
       "  '第至頁',\n",
       "  '車禍',\n",
       "  '資產',\n",
       "  '應予',\n",
       "  '發生',\n",
       "  '失者',\n",
       "  '本件',\n",
       "  '違背',\n",
       "  '使用期'],\n",
       " ['原告',\n",
       "  '被告',\n",
       "  '請求',\n",
       "  '賠償',\n",
       "  '第條',\n",
       "  '車輛',\n",
       "  '發生',\n",
       "  '引車',\n",
       "  '本件',\n",
       "  '車禍',\n",
       "  '駕駛',\n",
       "  '第項',\n",
       "  '計算',\n",
       "  '年月日',\n",
       "  '營業',\n",
       "  '系爭',\n",
       "  '客車',\n",
       "  '交通事故',\n",
       "  '損害',\n",
       "  '損失',\n",
       "  '規定',\n",
       "  '保險',\n",
       "  '負擔',\n",
       "  '主張',\n",
       "  '受損',\n",
       "  '汽車',\n",
       "  '朱青柏',\n",
       "  '過失',\n",
       "  '金額',\n",
       "  '自用',\n",
       "  '兩車',\n",
       "  '行車',\n",
       "  '給付',\n",
       "  '警察局',\n",
       "  '零件',\n",
       "  '部分',\n",
       "  '道路',\n",
       "  '本院',\n",
       "  '民法',\n",
       "  '明文',\n",
       "  '事故',\n",
       "  '判決',\n",
       "  '車前',\n",
       "  '狀況',\n",
       "  '費用',\n",
       "  '責任',\n",
       "  '現場',\n",
       "  '右大燈',\n",
       "  '注意',\n",
       "  '理由'],\n",
       " ['被告',\n",
       "  '原告',\n",
       "  '請求',\n",
       "  '車輛',\n",
       "  '損害',\n",
       "  '第條',\n",
       "  '賠償',\n",
       "  '過失',\n",
       "  '發生',\n",
       "  '費用',\n",
       "  '折舊',\n",
       "  '負擔',\n",
       "  '第項',\n",
       "  '系爭',\n",
       "  '車禍',\n",
       "  '停車',\n",
       "  '給付',\n",
       "  '汽車',\n",
       "  '本件',\n",
       "  '民法',\n",
       "  '年月日',\n",
       "  '交通事故',\n",
       "  '定率',\n",
       "  '理由',\n",
       "  '算式',\n",
       "  '主張',\n",
       "  '客車',\n",
       "  '抗辯',\n",
       "  '規定',\n",
       "  '應予',\n",
       "  '資產',\n",
       "  '金額',\n",
       "  '之金額',\n",
       "  '抵銷',\n",
       "  '耐用',\n",
       "  '本院',\n",
       "  '明文',\n",
       "  '零件',\n",
       "  '修理',\n",
       "  '相抵',\n",
       "  '肇事',\n",
       "  '判決',\n",
       "  '本判決',\n",
       "  '執行',\n",
       "  '紅線',\n",
       "  '受損',\n",
       "  '違規',\n",
       "  '責任',\n",
       "  '右轉',\n",
       "  '之過'],\n",
       " ['原告',\n",
       "  '車輛',\n",
       "  '被告',\n",
       "  '賠償',\n",
       "  '第條',\n",
       "  '請求',\n",
       "  '年月日',\n",
       "  '損害',\n",
       "  '計算',\n",
       "  '算式',\n",
       "  '系爭',\n",
       "  '營業',\n",
       "  '本院',\n",
       "  '第號',\n",
       "  '調查',\n",
       "  '過失',\n",
       "  '減少',\n",
       "  '折舊',\n",
       "  '交通事故',\n",
       "  '民事',\n",
       "  '修理',\n",
       "  '被害人',\n",
       "  '最高法院',\n",
       "  '民法',\n",
       "  '判決',\n",
       "  '清償',\n",
       "  '日止',\n",
       "  '負擔',\n",
       "  '本判決',\n",
       "  '中市',\n",
       "  '發生',\n",
       "  '車禍',\n",
       "  '受損',\n",
       "  '費用',\n",
       "  '毀損',\n",
       "  '價值',\n",
       "  '應予',\n",
       "  '參照',\n",
       "  '第項',\n",
       "  '上訴',\n",
       "  '年息',\n",
       "  '起至',\n",
       "  '卷宗',\n",
       "  '警察局',\n",
       "  '提出',\n",
       "  '裁判',\n",
       "  '部分',\n",
       "  '免除',\n",
       "  '加害人',\n",
       "  '道路']]"
      ]
     },
     "execution_count": 308,
     "metadata": {},
     "output_type": "execute_result"
    }
   ],
   "source": [
    "subdata_seg_list"
   ]
  },
  {
   "cell_type": "code",
   "execution_count": 309,
   "id": "01a545f9",
   "metadata": {},
   "outputs": [],
   "source": [
    "flat = [x for sublist in subdata_seg_list for x in sublist]\n",
    "diction = Counter(flat)"
   ]
  },
  {
   "cell_type": "code",
   "execution_count": 310,
   "id": "795b3368",
   "metadata": {},
   "outputs": [
    {
     "data": {
      "text/html": [
       "<div>\n",
       "<style scoped>\n",
       "    .dataframe tbody tr th:only-of-type {\n",
       "        vertical-align: middle;\n",
       "    }\n",
       "\n",
       "    .dataframe tbody tr th {\n",
       "        vertical-align: top;\n",
       "    }\n",
       "\n",
       "    .dataframe thead th {\n",
       "        text-align: right;\n",
       "    }\n",
       "</style>\n",
       "<table border=\"1\" class=\"dataframe\">\n",
       "  <thead>\n",
       "    <tr style=\"text-align: right;\">\n",
       "      <th></th>\n",
       "      <th>judge</th>\n",
       "      <th>freguency</th>\n",
       "    </tr>\n",
       "  </thead>\n",
       "  <tbody>\n",
       "    <tr>\n",
       "      <th>0</th>\n",
       "      <td>第條</td>\n",
       "      <td>80</td>\n",
       "    </tr>\n",
       "    <tr>\n",
       "      <th>1</th>\n",
       "      <td>本件</td>\n",
       "      <td>76</td>\n",
       "    </tr>\n",
       "    <tr>\n",
       "      <th>2</th>\n",
       "      <td>原告</td>\n",
       "      <td>80</td>\n",
       "    </tr>\n",
       "    <tr>\n",
       "      <th>3</th>\n",
       "      <td>被告</td>\n",
       "      <td>80</td>\n",
       "    </tr>\n",
       "    <tr>\n",
       "      <th>4</th>\n",
       "      <td>系爭</td>\n",
       "      <td>70</td>\n",
       "    </tr>\n",
       "    <tr>\n",
       "      <th>...</th>\n",
       "      <td>...</td>\n",
       "      <td>...</td>\n",
       "    </tr>\n",
       "    <tr>\n",
       "      <th>543</th>\n",
       "      <td>最高法院</td>\n",
       "      <td>1</td>\n",
       "    </tr>\n",
       "    <tr>\n",
       "      <th>544</th>\n",
       "      <td>價值</td>\n",
       "      <td>1</td>\n",
       "    </tr>\n",
       "    <tr>\n",
       "      <th>545</th>\n",
       "      <td>參照</td>\n",
       "      <td>1</td>\n",
       "    </tr>\n",
       "    <tr>\n",
       "      <th>546</th>\n",
       "      <td>裁判</td>\n",
       "      <td>1</td>\n",
       "    </tr>\n",
       "    <tr>\n",
       "      <th>547</th>\n",
       "      <td>免除</td>\n",
       "      <td>1</td>\n",
       "    </tr>\n",
       "  </tbody>\n",
       "</table>\n",
       "<p>548 rows × 2 columns</p>\n",
       "</div>"
      ],
      "text/plain": [
       "    judge  freguency\n",
       "0      第條         80\n",
       "1      本件         76\n",
       "2      原告         80\n",
       "3      被告         80\n",
       "4      系爭         70\n",
       "..    ...        ...\n",
       "543  最高法院          1\n",
       "544    價值          1\n",
       "545    參照          1\n",
       "546    裁判          1\n",
       "547    免除          1\n",
       "\n",
       "[548 rows x 2 columns]"
      ]
     },
     "execution_count": 310,
     "metadata": {},
     "output_type": "execute_result"
    }
   ],
   "source": [
    "diction_key = pd.DataFrame(diction.keys())\n",
    "diction_values = pd.DataFrame(diction.values())\n",
    "df = [diction_key, diction_values]\n",
    "result = pd.concat(df, axis=1)\n",
    "result.columns = ['judge', 'freguency']\n",
    "result"
   ]
  },
  {
   "cell_type": "code",
   "execution_count": 311,
   "id": "d2cb9d18",
   "metadata": {},
   "outputs": [
    {
     "data": {
      "text/html": [
       "<div>\n",
       "<style scoped>\n",
       "    .dataframe tbody tr th:only-of-type {\n",
       "        vertical-align: middle;\n",
       "    }\n",
       "\n",
       "    .dataframe tbody tr th {\n",
       "        vertical-align: top;\n",
       "    }\n",
       "\n",
       "    .dataframe thead th {\n",
       "        text-align: right;\n",
       "    }\n",
       "</style>\n",
       "<table border=\"1\" class=\"dataframe\">\n",
       "  <thead>\n",
       "    <tr style=\"text-align: right;\">\n",
       "      <th></th>\n",
       "      <th>freguency</th>\n",
       "    </tr>\n",
       "  </thead>\n",
       "  <tbody>\n",
       "    <tr>\n",
       "      <th>count</th>\n",
       "      <td>548.000000</td>\n",
       "    </tr>\n",
       "    <tr>\n",
       "      <th>mean</th>\n",
       "      <td>7.299270</td>\n",
       "    </tr>\n",
       "    <tr>\n",
       "      <th>std</th>\n",
       "      <td>15.970775</td>\n",
       "    </tr>\n",
       "    <tr>\n",
       "      <th>min</th>\n",
       "      <td>1.000000</td>\n",
       "    </tr>\n",
       "    <tr>\n",
       "      <th>25%</th>\n",
       "      <td>1.000000</td>\n",
       "    </tr>\n",
       "    <tr>\n",
       "      <th>50%</th>\n",
       "      <td>1.000000</td>\n",
       "    </tr>\n",
       "    <tr>\n",
       "      <th>75%</th>\n",
       "      <td>4.000000</td>\n",
       "    </tr>\n",
       "    <tr>\n",
       "      <th>max</th>\n",
       "      <td>80.000000</td>\n",
       "    </tr>\n",
       "  </tbody>\n",
       "</table>\n",
       "</div>"
      ],
      "text/plain": [
       "        freguency\n",
       "count  548.000000\n",
       "mean     7.299270\n",
       "std     15.970775\n",
       "min      1.000000\n",
       "25%      1.000000\n",
       "50%      1.000000\n",
       "75%      4.000000\n",
       "max     80.000000"
      ]
     },
     "execution_count": 311,
     "metadata": {},
     "output_type": "execute_result"
    }
   ],
   "source": [
    "result.describe()"
   ]
  },
  {
   "cell_type": "code",
   "execution_count": 320,
   "id": "4e455e69",
   "metadata": {},
   "outputs": [
    {
     "data": {
      "application/vnd.plotly.v1+json": {
       "config": {
        "plotlyServerURL": "https://plot.ly"
       },
       "data": [
        {
         "alignmentgroup": "True",
         "hovertemplate": "judge=%{x}<br>freguency=%{y}<extra></extra>",
         "legendgroup": "",
         "marker": {
          "color": "#636efa",
          "pattern": {
           "shape": ""
          }
         },
         "name": "",
         "offsetgroup": "",
         "orientation": "v",
         "showlegend": false,
         "textposition": "auto",
         "type": "bar",
         "x": [
          "日止",
          "理由",
          "明文",
          "給付",
          "代位",
          "執行",
          "第號",
          "算式",
          "現場",
          "原狀",
          "之過",
          "主張",
          "道路",
          "訴訟法",
          "客車",
          "應予",
          "債權",
          "第頁",
          "外人",
          "本判決",
          "利息",
          "毀損",
          "按週",
          "下稱",
          "減輕",
          "南投",
          "岔路",
          "第年",
          "失責任",
          "停車",
          "肇事",
          "前段",
          "修理",
          "減速",
          "承保",
          "適用",
          "訴訟",
          "百分之",
          "機車",
          "狀況",
          "部分",
          "之系爭",
          "權行",
          "加害人",
          "行車",
          "起至",
          "警察局",
          "契約",
          "不法侵害",
          "車前",
          "調查",
          "詞辯",
          "注意",
          "路口",
          "駕駛系爭",
          "鑑定",
          "暫停",
          "第款",
          "論期",
          "訴訟費",
          "直行",
          "定率",
          "醫療",
          "耐用",
          "隨時",
          "準備",
          "車道",
          "之金額",
          "受損",
          "中市",
          "工資",
          "兩造",
          "右方",
          "傷害",
          "資產",
          "損害額",
          "左方",
          "有過",
          "到場",
          "催告",
          "影本",
          "草屯",
          "行駛",
          "年利率",
          "行經",
          "等語",
          "損失",
          "刑事",
          "違背",
          "當時",
          "閃光",
          "連帶",
          "應負",
          "相當",
          "照片",
          "資料",
          "警詢",
          "此觀"
         ],
         "xaxis": "x",
         "y": [
          38,
          37,
          37,
          37,
          35,
          34,
          31,
          29,
          29,
          28,
          27,
          26,
          26,
          26,
          23,
          23,
          22,
          22,
          21,
          21,
          20,
          19,
          18,
          17,
          17,
          16,
          15,
          14,
          14,
          14,
          13,
          13,
          13,
          12,
          12,
          12,
          12,
          12,
          11,
          11,
          10,
          10,
          10,
          9,
          9,
          9,
          9,
          9,
          9,
          9,
          9,
          9,
          8,
          8,
          8,
          8,
          8,
          8,
          8,
          8,
          8,
          8,
          8,
          7,
          7,
          7,
          7,
          7,
          7,
          7,
          7,
          7,
          7,
          7,
          7,
          6,
          6,
          6,
          6,
          6,
          6,
          6,
          6,
          5,
          5,
          5,
          5,
          5,
          5,
          5,
          5,
          5,
          5,
          5,
          5,
          5,
          5,
          5
         ],
         "yaxis": "y"
        }
       ],
       "layout": {
        "barmode": "relative",
        "legend": {
         "tracegroupgap": 0
        },
        "template": {
         "data": {
          "bar": [
           {
            "error_x": {
             "color": "#2a3f5f"
            },
            "error_y": {
             "color": "#2a3f5f"
            },
            "marker": {
             "line": {
              "color": "#E5ECF6",
              "width": 0.5
             },
             "pattern": {
              "fillmode": "overlay",
              "size": 10,
              "solidity": 0.2
             }
            },
            "type": "bar"
           }
          ],
          "barpolar": [
           {
            "marker": {
             "line": {
              "color": "#E5ECF6",
              "width": 0.5
             },
             "pattern": {
              "fillmode": "overlay",
              "size": 10,
              "solidity": 0.2
             }
            },
            "type": "barpolar"
           }
          ],
          "carpet": [
           {
            "aaxis": {
             "endlinecolor": "#2a3f5f",
             "gridcolor": "white",
             "linecolor": "white",
             "minorgridcolor": "white",
             "startlinecolor": "#2a3f5f"
            },
            "baxis": {
             "endlinecolor": "#2a3f5f",
             "gridcolor": "white",
             "linecolor": "white",
             "minorgridcolor": "white",
             "startlinecolor": "#2a3f5f"
            },
            "type": "carpet"
           }
          ],
          "choropleth": [
           {
            "colorbar": {
             "outlinewidth": 0,
             "ticks": ""
            },
            "type": "choropleth"
           }
          ],
          "contour": [
           {
            "colorbar": {
             "outlinewidth": 0,
             "ticks": ""
            },
            "colorscale": [
             [
              0,
              "#0d0887"
             ],
             [
              0.1111111111111111,
              "#46039f"
             ],
             [
              0.2222222222222222,
              "#7201a8"
             ],
             [
              0.3333333333333333,
              "#9c179e"
             ],
             [
              0.4444444444444444,
              "#bd3786"
             ],
             [
              0.5555555555555556,
              "#d8576b"
             ],
             [
              0.6666666666666666,
              "#ed7953"
             ],
             [
              0.7777777777777778,
              "#fb9f3a"
             ],
             [
              0.8888888888888888,
              "#fdca26"
             ],
             [
              1,
              "#f0f921"
             ]
            ],
            "type": "contour"
           }
          ],
          "contourcarpet": [
           {
            "colorbar": {
             "outlinewidth": 0,
             "ticks": ""
            },
            "type": "contourcarpet"
           }
          ],
          "heatmap": [
           {
            "colorbar": {
             "outlinewidth": 0,
             "ticks": ""
            },
            "colorscale": [
             [
              0,
              "#0d0887"
             ],
             [
              0.1111111111111111,
              "#46039f"
             ],
             [
              0.2222222222222222,
              "#7201a8"
             ],
             [
              0.3333333333333333,
              "#9c179e"
             ],
             [
              0.4444444444444444,
              "#bd3786"
             ],
             [
              0.5555555555555556,
              "#d8576b"
             ],
             [
              0.6666666666666666,
              "#ed7953"
             ],
             [
              0.7777777777777778,
              "#fb9f3a"
             ],
             [
              0.8888888888888888,
              "#fdca26"
             ],
             [
              1,
              "#f0f921"
             ]
            ],
            "type": "heatmap"
           }
          ],
          "heatmapgl": [
           {
            "colorbar": {
             "outlinewidth": 0,
             "ticks": ""
            },
            "colorscale": [
             [
              0,
              "#0d0887"
             ],
             [
              0.1111111111111111,
              "#46039f"
             ],
             [
              0.2222222222222222,
              "#7201a8"
             ],
             [
              0.3333333333333333,
              "#9c179e"
             ],
             [
              0.4444444444444444,
              "#bd3786"
             ],
             [
              0.5555555555555556,
              "#d8576b"
             ],
             [
              0.6666666666666666,
              "#ed7953"
             ],
             [
              0.7777777777777778,
              "#fb9f3a"
             ],
             [
              0.8888888888888888,
              "#fdca26"
             ],
             [
              1,
              "#f0f921"
             ]
            ],
            "type": "heatmapgl"
           }
          ],
          "histogram": [
           {
            "marker": {
             "pattern": {
              "fillmode": "overlay",
              "size": 10,
              "solidity": 0.2
             }
            },
            "type": "histogram"
           }
          ],
          "histogram2d": [
           {
            "colorbar": {
             "outlinewidth": 0,
             "ticks": ""
            },
            "colorscale": [
             [
              0,
              "#0d0887"
             ],
             [
              0.1111111111111111,
              "#46039f"
             ],
             [
              0.2222222222222222,
              "#7201a8"
             ],
             [
              0.3333333333333333,
              "#9c179e"
             ],
             [
              0.4444444444444444,
              "#bd3786"
             ],
             [
              0.5555555555555556,
              "#d8576b"
             ],
             [
              0.6666666666666666,
              "#ed7953"
             ],
             [
              0.7777777777777778,
              "#fb9f3a"
             ],
             [
              0.8888888888888888,
              "#fdca26"
             ],
             [
              1,
              "#f0f921"
             ]
            ],
            "type": "histogram2d"
           }
          ],
          "histogram2dcontour": [
           {
            "colorbar": {
             "outlinewidth": 0,
             "ticks": ""
            },
            "colorscale": [
             [
              0,
              "#0d0887"
             ],
             [
              0.1111111111111111,
              "#46039f"
             ],
             [
              0.2222222222222222,
              "#7201a8"
             ],
             [
              0.3333333333333333,
              "#9c179e"
             ],
             [
              0.4444444444444444,
              "#bd3786"
             ],
             [
              0.5555555555555556,
              "#d8576b"
             ],
             [
              0.6666666666666666,
              "#ed7953"
             ],
             [
              0.7777777777777778,
              "#fb9f3a"
             ],
             [
              0.8888888888888888,
              "#fdca26"
             ],
             [
              1,
              "#f0f921"
             ]
            ],
            "type": "histogram2dcontour"
           }
          ],
          "mesh3d": [
           {
            "colorbar": {
             "outlinewidth": 0,
             "ticks": ""
            },
            "type": "mesh3d"
           }
          ],
          "parcoords": [
           {
            "line": {
             "colorbar": {
              "outlinewidth": 0,
              "ticks": ""
             }
            },
            "type": "parcoords"
           }
          ],
          "pie": [
           {
            "automargin": true,
            "type": "pie"
           }
          ],
          "scatter": [
           {
            "marker": {
             "colorbar": {
              "outlinewidth": 0,
              "ticks": ""
             }
            },
            "type": "scatter"
           }
          ],
          "scatter3d": [
           {
            "line": {
             "colorbar": {
              "outlinewidth": 0,
              "ticks": ""
             }
            },
            "marker": {
             "colorbar": {
              "outlinewidth": 0,
              "ticks": ""
             }
            },
            "type": "scatter3d"
           }
          ],
          "scattercarpet": [
           {
            "marker": {
             "colorbar": {
              "outlinewidth": 0,
              "ticks": ""
             }
            },
            "type": "scattercarpet"
           }
          ],
          "scattergeo": [
           {
            "marker": {
             "colorbar": {
              "outlinewidth": 0,
              "ticks": ""
             }
            },
            "type": "scattergeo"
           }
          ],
          "scattergl": [
           {
            "marker": {
             "colorbar": {
              "outlinewidth": 0,
              "ticks": ""
             }
            },
            "type": "scattergl"
           }
          ],
          "scattermapbox": [
           {
            "marker": {
             "colorbar": {
              "outlinewidth": 0,
              "ticks": ""
             }
            },
            "type": "scattermapbox"
           }
          ],
          "scatterpolar": [
           {
            "marker": {
             "colorbar": {
              "outlinewidth": 0,
              "ticks": ""
             }
            },
            "type": "scatterpolar"
           }
          ],
          "scatterpolargl": [
           {
            "marker": {
             "colorbar": {
              "outlinewidth": 0,
              "ticks": ""
             }
            },
            "type": "scatterpolargl"
           }
          ],
          "scatterternary": [
           {
            "marker": {
             "colorbar": {
              "outlinewidth": 0,
              "ticks": ""
             }
            },
            "type": "scatterternary"
           }
          ],
          "surface": [
           {
            "colorbar": {
             "outlinewidth": 0,
             "ticks": ""
            },
            "colorscale": [
             [
              0,
              "#0d0887"
             ],
             [
              0.1111111111111111,
              "#46039f"
             ],
             [
              0.2222222222222222,
              "#7201a8"
             ],
             [
              0.3333333333333333,
              "#9c179e"
             ],
             [
              0.4444444444444444,
              "#bd3786"
             ],
             [
              0.5555555555555556,
              "#d8576b"
             ],
             [
              0.6666666666666666,
              "#ed7953"
             ],
             [
              0.7777777777777778,
              "#fb9f3a"
             ],
             [
              0.8888888888888888,
              "#fdca26"
             ],
             [
              1,
              "#f0f921"
             ]
            ],
            "type": "surface"
           }
          ],
          "table": [
           {
            "cells": {
             "fill": {
              "color": "#EBF0F8"
             },
             "line": {
              "color": "white"
             }
            },
            "header": {
             "fill": {
              "color": "#C8D4E3"
             },
             "line": {
              "color": "white"
             }
            },
            "type": "table"
           }
          ]
         },
         "layout": {
          "annotationdefaults": {
           "arrowcolor": "#2a3f5f",
           "arrowhead": 0,
           "arrowwidth": 1
          },
          "autotypenumbers": "strict",
          "coloraxis": {
           "colorbar": {
            "outlinewidth": 0,
            "ticks": ""
           }
          },
          "colorscale": {
           "diverging": [
            [
             0,
             "#8e0152"
            ],
            [
             0.1,
             "#c51b7d"
            ],
            [
             0.2,
             "#de77ae"
            ],
            [
             0.3,
             "#f1b6da"
            ],
            [
             0.4,
             "#fde0ef"
            ],
            [
             0.5,
             "#f7f7f7"
            ],
            [
             0.6,
             "#e6f5d0"
            ],
            [
             0.7,
             "#b8e186"
            ],
            [
             0.8,
             "#7fbc41"
            ],
            [
             0.9,
             "#4d9221"
            ],
            [
             1,
             "#276419"
            ]
           ],
           "sequential": [
            [
             0,
             "#0d0887"
            ],
            [
             0.1111111111111111,
             "#46039f"
            ],
            [
             0.2222222222222222,
             "#7201a8"
            ],
            [
             0.3333333333333333,
             "#9c179e"
            ],
            [
             0.4444444444444444,
             "#bd3786"
            ],
            [
             0.5555555555555556,
             "#d8576b"
            ],
            [
             0.6666666666666666,
             "#ed7953"
            ],
            [
             0.7777777777777778,
             "#fb9f3a"
            ],
            [
             0.8888888888888888,
             "#fdca26"
            ],
            [
             1,
             "#f0f921"
            ]
           ],
           "sequentialminus": [
            [
             0,
             "#0d0887"
            ],
            [
             0.1111111111111111,
             "#46039f"
            ],
            [
             0.2222222222222222,
             "#7201a8"
            ],
            [
             0.3333333333333333,
             "#9c179e"
            ],
            [
             0.4444444444444444,
             "#bd3786"
            ],
            [
             0.5555555555555556,
             "#d8576b"
            ],
            [
             0.6666666666666666,
             "#ed7953"
            ],
            [
             0.7777777777777778,
             "#fb9f3a"
            ],
            [
             0.8888888888888888,
             "#fdca26"
            ],
            [
             1,
             "#f0f921"
            ]
           ]
          },
          "colorway": [
           "#636efa",
           "#EF553B",
           "#00cc96",
           "#ab63fa",
           "#FFA15A",
           "#19d3f3",
           "#FF6692",
           "#B6E880",
           "#FF97FF",
           "#FECB52"
          ],
          "font": {
           "color": "#2a3f5f"
          },
          "geo": {
           "bgcolor": "white",
           "lakecolor": "white",
           "landcolor": "#E5ECF6",
           "showlakes": true,
           "showland": true,
           "subunitcolor": "white"
          },
          "hoverlabel": {
           "align": "left"
          },
          "hovermode": "closest",
          "mapbox": {
           "style": "light"
          },
          "paper_bgcolor": "white",
          "plot_bgcolor": "#E5ECF6",
          "polar": {
           "angularaxis": {
            "gridcolor": "white",
            "linecolor": "white",
            "ticks": ""
           },
           "bgcolor": "#E5ECF6",
           "radialaxis": {
            "gridcolor": "white",
            "linecolor": "white",
            "ticks": ""
           }
          },
          "scene": {
           "xaxis": {
            "backgroundcolor": "#E5ECF6",
            "gridcolor": "white",
            "gridwidth": 2,
            "linecolor": "white",
            "showbackground": true,
            "ticks": "",
            "zerolinecolor": "white"
           },
           "yaxis": {
            "backgroundcolor": "#E5ECF6",
            "gridcolor": "white",
            "gridwidth": 2,
            "linecolor": "white",
            "showbackground": true,
            "ticks": "",
            "zerolinecolor": "white"
           },
           "zaxis": {
            "backgroundcolor": "#E5ECF6",
            "gridcolor": "white",
            "gridwidth": 2,
            "linecolor": "white",
            "showbackground": true,
            "ticks": "",
            "zerolinecolor": "white"
           }
          },
          "shapedefaults": {
           "line": {
            "color": "#2a3f5f"
           }
          },
          "ternary": {
           "aaxis": {
            "gridcolor": "white",
            "linecolor": "white",
            "ticks": ""
           },
           "baxis": {
            "gridcolor": "white",
            "linecolor": "white",
            "ticks": ""
           },
           "bgcolor": "#E5ECF6",
           "caxis": {
            "gridcolor": "white",
            "linecolor": "white",
            "ticks": ""
           }
          },
          "title": {
           "x": 0.05
          },
          "xaxis": {
           "automargin": true,
           "gridcolor": "white",
           "linecolor": "white",
           "ticks": "",
           "title": {
            "standoff": 15
           },
           "zerolinecolor": "white",
           "zerolinewidth": 2
          },
          "yaxis": {
           "automargin": true,
           "gridcolor": "white",
           "linecolor": "white",
           "ticks": "",
           "title": {
            "standoff": 15
           },
           "zerolinecolor": "white",
           "zerolinewidth": 2
          }
         }
        },
        "title": {
         "text": "text freguency"
        },
        "xaxis": {
         "anchor": "y",
         "domain": [
          0,
          1
         ],
         "title": {
          "text": "judge"
         }
        },
        "yaxis": {
         "anchor": "x",
         "domain": [
          0,
          1
         ],
         "title": {
          "text": "freguency"
         }
        }
       }
      },
      "text/html": [
       "<div>                            <div id=\"87eb4777-6867-4d98-9328-3d29365ebca5\" class=\"plotly-graph-div\" style=\"height:525px; width:100%;\"></div>            <script type=\"text/javascript\">                require([\"plotly\"], function(Plotly) {                    window.PLOTLYENV=window.PLOTLYENV || {};                                    if (document.getElementById(\"87eb4777-6867-4d98-9328-3d29365ebca5\")) {                    Plotly.newPlot(                        \"87eb4777-6867-4d98-9328-3d29365ebca5\",                        [{\"alignmentgroup\":\"True\",\"hovertemplate\":\"judge=%{x}<br>freguency=%{y}<extra></extra>\",\"legendgroup\":\"\",\"marker\":{\"color\":\"#636efa\",\"pattern\":{\"shape\":\"\"}},\"name\":\"\",\"offsetgroup\":\"\",\"orientation\":\"v\",\"showlegend\":false,\"textposition\":\"auto\",\"x\":[\"\\u65e5\\u6b62\",\"\\u7406\\u7531\",\"\\u660e\\u6587\",\"\\u7d66\\u4ed8\",\"\\u4ee3\\u4f4d\",\"\\u57f7\\u884c\",\"\\u7b2c\\u865f\",\"\\u7b97\\u5f0f\",\"\\u73fe\\u5834\",\"\\u539f\\u72c0\",\"\\u4e4b\\u904e\",\"\\u4e3b\\u5f35\",\"\\u9053\\u8def\",\"\\u8a34\\u8a1f\\u6cd5\",\"\\u5ba2\\u8eca\",\"\\u61c9\\u4e88\",\"\\u50b5\\u6b0a\",\"\\u7b2c\\u9801\",\"\\u5916\\u4eba\",\"\\u672c\\u5224\\u6c7a\",\"\\u5229\\u606f\",\"\\u6bc0\\u640d\",\"\\u6309\\u9031\",\"\\u4e0b\\u7a31\",\"\\u6e1b\\u8f15\",\"\\u5357\\u6295\",\"\\u5c94\\u8def\",\"\\u7b2c\\u5e74\",\"\\u5931\\u8cac\\u4efb\",\"\\u505c\\u8eca\",\"\\u8087\\u4e8b\",\"\\u524d\\u6bb5\",\"\\u4fee\\u7406\",\"\\u6e1b\\u901f\",\"\\u627f\\u4fdd\",\"\\u9069\\u7528\",\"\\u8a34\\u8a1f\",\"\\u767e\\u5206\\u4e4b\",\"\\u6a5f\\u8eca\",\"\\u72c0\\u6cc1\",\"\\u90e8\\u5206\",\"\\u4e4b\\u7cfb\\u722d\",\"\\u6b0a\\u884c\",\"\\u52a0\\u5bb3\\u4eba\",\"\\u884c\\u8eca\",\"\\u8d77\\u81f3\",\"\\u8b66\\u5bdf\\u5c40\",\"\\u5951\\u7d04\",\"\\u4e0d\\u6cd5\\u4fb5\\u5bb3\",\"\\u8eca\\u524d\",\"\\u8abf\\u67e5\",\"\\u8a5e\\u8faf\",\"\\u6ce8\\u610f\",\"\\u8def\\u53e3\",\"\\u99d5\\u99db\\u7cfb\\u722d\",\"\\u9451\\u5b9a\",\"\\u66ab\\u505c\",\"\\u7b2c\\u6b3e\",\"\\u8ad6\\u671f\",\"\\u8a34\\u8a1f\\u8cbb\",\"\\u76f4\\u884c\",\"\\u5b9a\\u7387\",\"\\u91ab\\u7642\",\"\\u8010\\u7528\",\"\\u96a8\\u6642\",\"\\u6e96\\u5099\",\"\\u8eca\\u9053\",\"\\u4e4b\\u91d1\\u984d\",\"\\u53d7\\u640d\",\"\\u4e2d\\u5e02\",\"\\u5de5\\u8cc7\",\"\\u5169\\u9020\",\"\\u53f3\\u65b9\",\"\\u50b7\\u5bb3\",\"\\u8cc7\\u7522\",\"\\u640d\\u5bb3\\u984d\",\"\\u5de6\\u65b9\",\"\\u6709\\u904e\",\"\\u5230\\u5834\",\"\\u50ac\\u544a\",\"\\u5f71\\u672c\",\"\\u8349\\u5c6f\",\"\\u884c\\u99db\",\"\\u5e74\\u5229\\u7387\",\"\\u884c\\u7d93\",\"\\u7b49\\u8a9e\",\"\\u640d\\u5931\",\"\\u5211\\u4e8b\",\"\\u9055\\u80cc\",\"\\u7576\\u6642\",\"\\u9583\\u5149\",\"\\u9023\\u5e36\",\"\\u61c9\\u8ca0\",\"\\u76f8\\u7576\",\"\\u7167\\u7247\",\"\\u8cc7\\u6599\",\"\\u8b66\\u8a62\",\"\\u6b64\\u89c0\"],\"xaxis\":\"x\",\"y\":[38,37,37,37,35,34,31,29,29,28,27,26,26,26,23,23,22,22,21,21,20,19,18,17,17,16,15,14,14,14,13,13,13,12,12,12,12,12,11,11,10,10,10,9,9,9,9,9,9,9,9,9,8,8,8,8,8,8,8,8,8,8,8,7,7,7,7,7,7,7,7,7,7,7,7,6,6,6,6,6,6,6,6,5,5,5,5,5,5,5,5,5,5,5,5,5,5,5],\"yaxis\":\"y\",\"type\":\"bar\"}],                        {\"template\":{\"data\":{\"bar\":[{\"error_x\":{\"color\":\"#2a3f5f\"},\"error_y\":{\"color\":\"#2a3f5f\"},\"marker\":{\"line\":{\"color\":\"#E5ECF6\",\"width\":0.5},\"pattern\":{\"fillmode\":\"overlay\",\"size\":10,\"solidity\":0.2}},\"type\":\"bar\"}],\"barpolar\":[{\"marker\":{\"line\":{\"color\":\"#E5ECF6\",\"width\":0.5},\"pattern\":{\"fillmode\":\"overlay\",\"size\":10,\"solidity\":0.2}},\"type\":\"barpolar\"}],\"carpet\":[{\"aaxis\":{\"endlinecolor\":\"#2a3f5f\",\"gridcolor\":\"white\",\"linecolor\":\"white\",\"minorgridcolor\":\"white\",\"startlinecolor\":\"#2a3f5f\"},\"baxis\":{\"endlinecolor\":\"#2a3f5f\",\"gridcolor\":\"white\",\"linecolor\":\"white\",\"minorgridcolor\":\"white\",\"startlinecolor\":\"#2a3f5f\"},\"type\":\"carpet\"}],\"choropleth\":[{\"colorbar\":{\"outlinewidth\":0,\"ticks\":\"\"},\"type\":\"choropleth\"}],\"contour\":[{\"colorbar\":{\"outlinewidth\":0,\"ticks\":\"\"},\"colorscale\":[[0.0,\"#0d0887\"],[0.1111111111111111,\"#46039f\"],[0.2222222222222222,\"#7201a8\"],[0.3333333333333333,\"#9c179e\"],[0.4444444444444444,\"#bd3786\"],[0.5555555555555556,\"#d8576b\"],[0.6666666666666666,\"#ed7953\"],[0.7777777777777778,\"#fb9f3a\"],[0.8888888888888888,\"#fdca26\"],[1.0,\"#f0f921\"]],\"type\":\"contour\"}],\"contourcarpet\":[{\"colorbar\":{\"outlinewidth\":0,\"ticks\":\"\"},\"type\":\"contourcarpet\"}],\"heatmap\":[{\"colorbar\":{\"outlinewidth\":0,\"ticks\":\"\"},\"colorscale\":[[0.0,\"#0d0887\"],[0.1111111111111111,\"#46039f\"],[0.2222222222222222,\"#7201a8\"],[0.3333333333333333,\"#9c179e\"],[0.4444444444444444,\"#bd3786\"],[0.5555555555555556,\"#d8576b\"],[0.6666666666666666,\"#ed7953\"],[0.7777777777777778,\"#fb9f3a\"],[0.8888888888888888,\"#fdca26\"],[1.0,\"#f0f921\"]],\"type\":\"heatmap\"}],\"heatmapgl\":[{\"colorbar\":{\"outlinewidth\":0,\"ticks\":\"\"},\"colorscale\":[[0.0,\"#0d0887\"],[0.1111111111111111,\"#46039f\"],[0.2222222222222222,\"#7201a8\"],[0.3333333333333333,\"#9c179e\"],[0.4444444444444444,\"#bd3786\"],[0.5555555555555556,\"#d8576b\"],[0.6666666666666666,\"#ed7953\"],[0.7777777777777778,\"#fb9f3a\"],[0.8888888888888888,\"#fdca26\"],[1.0,\"#f0f921\"]],\"type\":\"heatmapgl\"}],\"histogram\":[{\"marker\":{\"pattern\":{\"fillmode\":\"overlay\",\"size\":10,\"solidity\":0.2}},\"type\":\"histogram\"}],\"histogram2d\":[{\"colorbar\":{\"outlinewidth\":0,\"ticks\":\"\"},\"colorscale\":[[0.0,\"#0d0887\"],[0.1111111111111111,\"#46039f\"],[0.2222222222222222,\"#7201a8\"],[0.3333333333333333,\"#9c179e\"],[0.4444444444444444,\"#bd3786\"],[0.5555555555555556,\"#d8576b\"],[0.6666666666666666,\"#ed7953\"],[0.7777777777777778,\"#fb9f3a\"],[0.8888888888888888,\"#fdca26\"],[1.0,\"#f0f921\"]],\"type\":\"histogram2d\"}],\"histogram2dcontour\":[{\"colorbar\":{\"outlinewidth\":0,\"ticks\":\"\"},\"colorscale\":[[0.0,\"#0d0887\"],[0.1111111111111111,\"#46039f\"],[0.2222222222222222,\"#7201a8\"],[0.3333333333333333,\"#9c179e\"],[0.4444444444444444,\"#bd3786\"],[0.5555555555555556,\"#d8576b\"],[0.6666666666666666,\"#ed7953\"],[0.7777777777777778,\"#fb9f3a\"],[0.8888888888888888,\"#fdca26\"],[1.0,\"#f0f921\"]],\"type\":\"histogram2dcontour\"}],\"mesh3d\":[{\"colorbar\":{\"outlinewidth\":0,\"ticks\":\"\"},\"type\":\"mesh3d\"}],\"parcoords\":[{\"line\":{\"colorbar\":{\"outlinewidth\":0,\"ticks\":\"\"}},\"type\":\"parcoords\"}],\"pie\":[{\"automargin\":true,\"type\":\"pie\"}],\"scatter\":[{\"marker\":{\"colorbar\":{\"outlinewidth\":0,\"ticks\":\"\"}},\"type\":\"scatter\"}],\"scatter3d\":[{\"line\":{\"colorbar\":{\"outlinewidth\":0,\"ticks\":\"\"}},\"marker\":{\"colorbar\":{\"outlinewidth\":0,\"ticks\":\"\"}},\"type\":\"scatter3d\"}],\"scattercarpet\":[{\"marker\":{\"colorbar\":{\"outlinewidth\":0,\"ticks\":\"\"}},\"type\":\"scattercarpet\"}],\"scattergeo\":[{\"marker\":{\"colorbar\":{\"outlinewidth\":0,\"ticks\":\"\"}},\"type\":\"scattergeo\"}],\"scattergl\":[{\"marker\":{\"colorbar\":{\"outlinewidth\":0,\"ticks\":\"\"}},\"type\":\"scattergl\"}],\"scattermapbox\":[{\"marker\":{\"colorbar\":{\"outlinewidth\":0,\"ticks\":\"\"}},\"type\":\"scattermapbox\"}],\"scatterpolar\":[{\"marker\":{\"colorbar\":{\"outlinewidth\":0,\"ticks\":\"\"}},\"type\":\"scatterpolar\"}],\"scatterpolargl\":[{\"marker\":{\"colorbar\":{\"outlinewidth\":0,\"ticks\":\"\"}},\"type\":\"scatterpolargl\"}],\"scatterternary\":[{\"marker\":{\"colorbar\":{\"outlinewidth\":0,\"ticks\":\"\"}},\"type\":\"scatterternary\"}],\"surface\":[{\"colorbar\":{\"outlinewidth\":0,\"ticks\":\"\"},\"colorscale\":[[0.0,\"#0d0887\"],[0.1111111111111111,\"#46039f\"],[0.2222222222222222,\"#7201a8\"],[0.3333333333333333,\"#9c179e\"],[0.4444444444444444,\"#bd3786\"],[0.5555555555555556,\"#d8576b\"],[0.6666666666666666,\"#ed7953\"],[0.7777777777777778,\"#fb9f3a\"],[0.8888888888888888,\"#fdca26\"],[1.0,\"#f0f921\"]],\"type\":\"surface\"}],\"table\":[{\"cells\":{\"fill\":{\"color\":\"#EBF0F8\"},\"line\":{\"color\":\"white\"}},\"header\":{\"fill\":{\"color\":\"#C8D4E3\"},\"line\":{\"color\":\"white\"}},\"type\":\"table\"}]},\"layout\":{\"annotationdefaults\":{\"arrowcolor\":\"#2a3f5f\",\"arrowhead\":0,\"arrowwidth\":1},\"autotypenumbers\":\"strict\",\"coloraxis\":{\"colorbar\":{\"outlinewidth\":0,\"ticks\":\"\"}},\"colorscale\":{\"diverging\":[[0,\"#8e0152\"],[0.1,\"#c51b7d\"],[0.2,\"#de77ae\"],[0.3,\"#f1b6da\"],[0.4,\"#fde0ef\"],[0.5,\"#f7f7f7\"],[0.6,\"#e6f5d0\"],[0.7,\"#b8e186\"],[0.8,\"#7fbc41\"],[0.9,\"#4d9221\"],[1,\"#276419\"]],\"sequential\":[[0.0,\"#0d0887\"],[0.1111111111111111,\"#46039f\"],[0.2222222222222222,\"#7201a8\"],[0.3333333333333333,\"#9c179e\"],[0.4444444444444444,\"#bd3786\"],[0.5555555555555556,\"#d8576b\"],[0.6666666666666666,\"#ed7953\"],[0.7777777777777778,\"#fb9f3a\"],[0.8888888888888888,\"#fdca26\"],[1.0,\"#f0f921\"]],\"sequentialminus\":[[0.0,\"#0d0887\"],[0.1111111111111111,\"#46039f\"],[0.2222222222222222,\"#7201a8\"],[0.3333333333333333,\"#9c179e\"],[0.4444444444444444,\"#bd3786\"],[0.5555555555555556,\"#d8576b\"],[0.6666666666666666,\"#ed7953\"],[0.7777777777777778,\"#fb9f3a\"],[0.8888888888888888,\"#fdca26\"],[1.0,\"#f0f921\"]]},\"colorway\":[\"#636efa\",\"#EF553B\",\"#00cc96\",\"#ab63fa\",\"#FFA15A\",\"#19d3f3\",\"#FF6692\",\"#B6E880\",\"#FF97FF\",\"#FECB52\"],\"font\":{\"color\":\"#2a3f5f\"},\"geo\":{\"bgcolor\":\"white\",\"lakecolor\":\"white\",\"landcolor\":\"#E5ECF6\",\"showlakes\":true,\"showland\":true,\"subunitcolor\":\"white\"},\"hoverlabel\":{\"align\":\"left\"},\"hovermode\":\"closest\",\"mapbox\":{\"style\":\"light\"},\"paper_bgcolor\":\"white\",\"plot_bgcolor\":\"#E5ECF6\",\"polar\":{\"angularaxis\":{\"gridcolor\":\"white\",\"linecolor\":\"white\",\"ticks\":\"\"},\"bgcolor\":\"#E5ECF6\",\"radialaxis\":{\"gridcolor\":\"white\",\"linecolor\":\"white\",\"ticks\":\"\"}},\"scene\":{\"xaxis\":{\"backgroundcolor\":\"#E5ECF6\",\"gridcolor\":\"white\",\"gridwidth\":2,\"linecolor\":\"white\",\"showbackground\":true,\"ticks\":\"\",\"zerolinecolor\":\"white\"},\"yaxis\":{\"backgroundcolor\":\"#E5ECF6\",\"gridcolor\":\"white\",\"gridwidth\":2,\"linecolor\":\"white\",\"showbackground\":true,\"ticks\":\"\",\"zerolinecolor\":\"white\"},\"zaxis\":{\"backgroundcolor\":\"#E5ECF6\",\"gridcolor\":\"white\",\"gridwidth\":2,\"linecolor\":\"white\",\"showbackground\":true,\"ticks\":\"\",\"zerolinecolor\":\"white\"}},\"shapedefaults\":{\"line\":{\"color\":\"#2a3f5f\"}},\"ternary\":{\"aaxis\":{\"gridcolor\":\"white\",\"linecolor\":\"white\",\"ticks\":\"\"},\"baxis\":{\"gridcolor\":\"white\",\"linecolor\":\"white\",\"ticks\":\"\"},\"bgcolor\":\"#E5ECF6\",\"caxis\":{\"gridcolor\":\"white\",\"linecolor\":\"white\",\"ticks\":\"\"}},\"title\":{\"x\":0.05},\"xaxis\":{\"automargin\":true,\"gridcolor\":\"white\",\"linecolor\":\"white\",\"ticks\":\"\",\"title\":{\"standoff\":15},\"zerolinecolor\":\"white\",\"zerolinewidth\":2},\"yaxis\":{\"automargin\":true,\"gridcolor\":\"white\",\"linecolor\":\"white\",\"ticks\":\"\",\"title\":{\"standoff\":15},\"zerolinecolor\":\"white\",\"zerolinewidth\":2}}},\"xaxis\":{\"anchor\":\"y\",\"domain\":[0.0,1.0],\"title\":{\"text\":\"judge\"}},\"yaxis\":{\"anchor\":\"x\",\"domain\":[0.0,1.0],\"title\":{\"text\":\"freguency\"}},\"legend\":{\"tracegroupgap\":0},\"title\":{\"text\":\"text freguency\"},\"barmode\":\"relative\"},                        {\"responsive\": true}                    ).then(function(){\n",
       "                            \n",
       "var gd = document.getElementById('87eb4777-6867-4d98-9328-3d29365ebca5');\n",
       "var x = new MutationObserver(function (mutations, observer) {{\n",
       "        var display = window.getComputedStyle(gd).display;\n",
       "        if (!display || display === 'none') {{\n",
       "            console.log([gd, 'removed!']);\n",
       "            Plotly.purge(gd);\n",
       "            observer.disconnect();\n",
       "        }}\n",
       "}});\n",
       "\n",
       "// Listen for the removal of the full notebook cells\n",
       "var notebookContainer = gd.closest('#notebook-container');\n",
       "if (notebookContainer) {{\n",
       "    x.observe(notebookContainer, {childList: true});\n",
       "}}\n",
       "\n",
       "// Listen for the clearing of the current output cell\n",
       "var outputEl = gd.closest('.output');\n",
       "if (outputEl) {{\n",
       "    x.observe(outputEl, {childList: true});\n",
       "}}\n",
       "\n",
       "                        })                };                });            </script>        </div>"
      ]
     },
     "metadata": {},
     "output_type": "display_data"
    }
   ],
   "source": [
    "px.bar(result[(result['freguency']>4) & (result['freguency']<40)].sort_values(by=['freguency'], ascending=False), x='judge', y='freguency', title='text freguency')"
   ]
  },
  {
   "cell_type": "code",
   "execution_count": 321,
   "id": "0423932d",
   "metadata": {},
   "outputs": [],
   "source": [
    "mask = np.array(Image.open(\"criminal.jpg\"))\n",
    "font = \"C:\\Windows\\Fonts\\MSJH.TTC\""
   ]
  },
  {
   "cell_type": "code",
   "execution_count": 322,
   "id": "0166cc93",
   "metadata": {},
   "outputs": [
    {
     "data": {
      "text/plain": [
       "<wordcloud.wordcloud.WordCloud at 0x21e5fb73c40>"
      ]
     },
     "execution_count": 322,
     "metadata": {},
     "output_type": "execute_result"
    }
   ],
   "source": [
    "wordcloud = WordCloud(background_color = \"white\", font_path=font, mask = mask)\n",
    "wordcloud.generate_from_frequencies(diction)"
   ]
  },
  {
   "cell_type": "code",
   "execution_count": 323,
   "id": "4cf17dac",
   "metadata": {},
   "outputs": [
    {
     "data": {
      "image/png": "[encoded data removed]",
      "text/plain": [
       "<Figure size 1440x1440 with 1 Axes>"
      ]
     },
     "metadata": {
      "needs_background": "light"
     },
     "output_type": "display_data"
    }
   ],
   "source": [
    "plt.figure(figsize=(20,20))\n",
    "plt.imshow(wordcloud)\n",
    "plt.axis(\"off\")\n",
    "plt.show()"
   ]
  }
 ],
 "metadata": {
  "kernelspec": {
   "display_name": "Python 3 (ipykernel)",
   "language": "python",
   "name": "python3"
  },
  "language_info": {
   "codemirror_mode": {
    "name": "ipython",
    "version": 3
   },
   "file_extension": ".py",
   "mimetype": "text/x-python",
   "name": "python",
   "nbconvert_exporter": "python",
   "pygments_lexer": "ipython3",
   "version": "3.9.12"
  }
 },
 "nbformat": 4,
 "nbformat_minor": 5
}
