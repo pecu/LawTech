{
 "cells": [
  {
   "cell_type": "code",
   "execution_count": 1,
   "id": "56797e42",
   "metadata": {},
   "outputs": [
    {
     "name": "stdout",
     "output_type": "stream",
     "text": [
      "事件： 車禍肇事判賠\n",
      "原告需賠償金額: 7706 元\n",
      "被告需賠償金額: 17981 元\n"
     ]
    }
   ],
   "source": [
    "#題目1\n",
    "event=\"車禍肇事判賠\"\n",
    "sum_money=25688\n",
    "a_rate=0.3\n",
    "b_rate=0.7\n",
    "a_money=sum_money*a_rate\n",
    "b_money=sum_money*b_rate\n",
    "print(\"事件：\",event)\n",
    "print(\"原告需賠償金額:\",int(a_money),\"元\")\n",
    "print(\"被告需賠償金額:\",int(b_money),\"元\")"
   ]
  },
  {
   "cell_type": "code",
   "execution_count": 2,
   "id": "8fc8f1af",
   "metadata": {},
   "outputs": [
    {
     "name": "stdout",
     "output_type": "stream",
     "text": [
      "總共償還金額： 12608 元\n"
     ]
    }
   ],
   "source": [
    "#題目2\n",
    "money=11805\n",
    "day_rate=0.0005\n",
    "month1=150\n",
    "month2=300\n",
    "sum_money=money*(1+day_rate)**59+month1+month2\n",
    "print(\"總共償還金額：\",int(sum_money),\"元\")"
   ]
  },
  {
   "cell_type": "code",
   "execution_count": 3,
   "id": "251bed58",
   "metadata": {},
   "outputs": [
    {
     "name": "stdout",
     "output_type": "stream",
     "text": [
      "請輸入案件:被告闖紅燈\n",
      "被告賠100%\n"
     ]
    }
   ],
   "source": [
    "#題目3\n",
    "event=input(\"請輸入案件:\")\n",
    "\n",
    "if event ==\"被告闖紅燈\":\n",
    "    print(\"被告賠100%\")\n",
    "elif event ==\"原告闖紅燈\":\n",
    "    print(\"原告多被告少\")\n",
    "elif event==\"被告原告皆闖紅燈\":\n",
    "    print(\"原告50%被告50%\")\n",
    "else:\n",
    "    print(\"請填入有效訊息\")"
   ]
  },
  {
   "cell_type": "code",
   "execution_count": null,
   "id": "51db8cd4",
   "metadata": {},
   "outputs": [],
   "source": []
  }
 ],
 "metadata": {
  "kernelspec": {
   "display_name": "Python 3",
   "language": "python",
   "name": "python3"
  },
  "language_info": {
   "codemirror_mode": {
    "name": "ipython",
    "version": 3
   },
   "file_extension": ".py",
   "mimetype": "text/x-python",
   "name": "python",
   "nbconvert_exporter": "python",
   "pygments_lexer": "ipython3",
   "version": "3.8.8"
  }
 },
 "nbformat": 4,
 "nbformat_minor": 5
}
