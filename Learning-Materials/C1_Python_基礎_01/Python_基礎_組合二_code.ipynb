{
 "cells": [
  {
   "cell_type": "markdown",
   "metadata": {},
   "source": [
    "# list"
   ]
  },
  {
   "cell_type": "code",
   "execution_count": 74,
   "metadata": {},
   "outputs": [
    {
     "name": "stdout",
     "output_type": "stream",
     "text": [
      "法律位階:\n",
      "['憲法', '法律', '命令', '地方法規']\n",
      "法律位階1: 憲法 法律位階2: 法律\n",
      "-------------------------------------\n",
      "憲法本文:\n",
      "[[1, '中華民國基於三民主義，為民有民治民享之民主共和國。'], [2, '中華民國之主權屬於國民全體。']]\n",
      "條文 1 內容: 中華民國基於三民主義，為民有民治民享之民主共和國。\n"
     ]
    }
   ],
   "source": [
    "print(\"法律位階:\")\n",
    "ls=[\"憲法\",\"法律\",\"命令\",\"地方法規\"]\n",
    "print(ls)\n",
    "\n",
    "#用index索取元素\n",
    "print(\"法律位階1:\",ls[0],\"法律位階2:\",ls[1])\n",
    "print(\"-------------------------------------\")\n",
    "\n",
    "#串列中的串列(巢狀串列)\n",
    "print(\"憲法本文:\")\n",
    "cons=[[1,\"中華民國基於三民主義，為民有民治民享之民主共和國。\"],[2,\"中華民國之主權屬於國民全體。\"]]\n",
    "print(cons)\n",
    "print(\"條文\",cons[0][0],\"內容:\",cons[0][1])\n"
   ]
  },
  {
   "cell_type": "code",
   "execution_count": 59,
   "metadata": {},
   "outputs": [
    {
     "name": "stdout",
     "output_type": "stream",
     "text": [
      "['法律', '命令', '地方法規']\n",
      "['憲法', '法律']\n",
      "['憲法', '法律', '命令']\n",
      "['法律', '命令', '地方法規']\n",
      "['法律', '命令', '地方法規']\n",
      "['憲法', '法律', '命令', '地方法規']\n",
      "['憲法', '命令']\n"
     ]
    }
   ],
   "source": [
    "ls=[\"憲法\",\"法律\",\"命令\",\"地方法規\"]\n",
    "print(ls[1:4])\n",
    "print(ls[:2])\n",
    "print(ls[:-1])\n",
    "print(ls[1:])\n",
    "print(ls[-3:])\n",
    "print(ls[:])\n",
    "print(ls[0:4:2])"
   ]
  },
  {
   "cell_type": "code",
   "execution_count": 82,
   "metadata": {},
   "outputs": [
    {
     "name": "stdout",
     "output_type": "stream",
     "text": [
      "新串列: ['憲法', 2, '命令', '地方法規']\n",
      "相加: ['憲法', '法律', '命令', '地方法規']\n",
      "相乘: ['憲法', 2, '命令', '地方法規', '憲法', 2, '命令', '地方法規']\n"
     ]
    }
   ],
   "source": [
    "ls=[\"憲法\",\"法律\",\"命令\",\"地方法規\"]\n",
    "ls[1]=2 #更改\n",
    "print(\"新串列:\",ls)\n",
    "\n",
    "l=[\"憲法\",\"法律\"]\n",
    "s=[\"命令\",\"地方法規\"]\n",
    "print(\"相加:\",l+s)\n",
    "\n",
    "print(\"相乘:\",ls*2)"
   ]
  },
  {
   "cell_type": "code",
   "execution_count": 12,
   "metadata": {},
   "outputs": [
    {
     "name": "stdout",
     "output_type": "stream",
     "text": [
      "[]\n",
      "['憲法', '命令']\n",
      "['憲法', '法律', '命令', '地方法規']\n"
     ]
    }
   ],
   "source": [
    "ls=[] #或是 ls=list()\n",
    "print(ls)\n",
    "\n",
    "ls.append(\"憲法\")\n",
    "ls.append(\"命令\")\n",
    "print(ls)\n",
    "\n",
    "ls.insert(1,\"法律\")\n",
    "ls.insert(3,\"地方法規\")\n",
    "print(ls)"
   ]
  },
  {
   "cell_type": "code",
   "execution_count": 7,
   "metadata": {},
   "outputs": [
    {
     "name": "stdout",
     "output_type": "stream",
     "text": [
      "['憲法', '法律', 123]\n",
      "['法律', 123]\n",
      "123\n"
     ]
    }
   ],
   "source": [
    "ls=[\"憲法\",\"法律\",\"命令\",\"地方法規\",123]\n",
    "del ls[2:4]\n",
    "print(ls)\n",
    "\n",
    "ls.remove(\"憲法\")\n",
    "print(ls)\n",
    "\n",
    "popp=ls.pop(1)\n",
    "print(popp)"
   ]
  },
  {
   "cell_type": "code",
   "execution_count": 8,
   "metadata": {},
   "outputs": [
    {
     "name": "stdout",
     "output_type": "stream",
     "text": [
      "['2021', '05', '23']\n",
      "2021-05-23\n",
      "['2021', '05', '23']\n",
      "是否為2021年: True\n"
     ]
    }
   ],
   "source": [
    "s=\"2021/05/23\"\n",
    "l=s.split(\"/\")\n",
    "print(l)\n",
    "\n",
    "connect=(\"-\")\n",
    "newl=connect.join(l)\n",
    "print(newl)\n",
    "\n",
    "ll=newl.split(\"-\")\n",
    "print(ll)\n",
    "\n",
    "print(\"是否為2021年:\",\"2021\" in ll)"
   ]
  },
  {
   "cell_type": "markdown",
   "metadata": {},
   "source": [
    "# tuple"
   ]
  },
  {
   "cell_type": "code",
   "execution_count": 9,
   "metadata": {},
   "outputs": [
    {
     "name": "stdout",
     "output_type": "stream",
     "text": [
      "(810, 811, 812, 813)\n",
      "大法官解釋a為釋字No. 810\n",
      "(809,)\n",
      "(810, 811, 812, 813)\n",
      "[810, 811, 812, 813]\n"
     ]
    }
   ],
   "source": [
    "tup=810,811,812,813 #預設為元組\n",
    "print(tup)\n",
    "\n",
    "a,b,c,d=tup\n",
    "print(\"大法官解釋a為釋字No.\",a)\n",
    "\n",
    "tup= 809,\n",
    "print(tup)\n",
    "\n",
    "ls=[810,811,812,813]\n",
    "tup=tuple(ls)\n",
    "print(tup)\n",
    "ls=list(tup)\n",
    "print(ls)\n"
   ]
  },
  {
   "cell_type": "code",
   "execution_count": 10,
   "metadata": {},
   "outputs": [
    {
     "name": "stdout",
     "output_type": "stream",
     "text": [
      "813\n",
      "(812, 813)\n"
     ]
    }
   ],
   "source": [
    "tup=(810,811,812,813)\n",
    "print(tup[-1])#取元素\n",
    "print(tup[2:])#切片"
   ]
  },
  {
   "cell_type": "code",
   "execution_count": 20,
   "metadata": {},
   "outputs": [
    {
     "name": "stdout",
     "output_type": "stream",
     "text": [
      "<zip object at 0x7fd78788c6c0>\n",
      "[('110/10/08', 810), ('110/10/22', 811), ('110/12/08', 812), ('110/12/24', 813)]\n",
      "日期: ('110/10/08', '110/10/22', '110/12/08', '110/12/24')\n",
      "釋字: (810, 811, 812, 813)\n"
     ]
    }
   ],
   "source": [
    "date=(\"110/10/08\",\"110/10/22\",\"110/12/08\",\"110/12/24\")\n",
    "no=(810,811,812,813)\n",
    "zipdn=zip(date,no)#打包\n",
    "print(zipdn)\n",
    "#for i in zipdn:\n",
    "    #print(i)\n",
    "\n",
    "zipls=list(zipdn)\n",
    "print(zipls)\n",
    "\n",
    "date,no=zip(*zipls)#加上*為unzip\n",
    "print(\"日期:\",date)\n",
    "print(\"釋字:\",no)"
   ]
  },
  {
   "cell_type": "markdown",
   "metadata": {},
   "source": [
    "# set"
   ]
  },
  {
   "cell_type": "code",
   "execution_count": 28,
   "metadata": {},
   "outputs": [
    {
     "name": "stdout",
     "output_type": "stream",
     "text": [
      "{'刑事', '民事'} {'行政', '民事'}\n",
      "{'行政', '刑事', '民事'}\n"
     ]
    },
    {
     "ename": "TypeError",
     "evalue": "unhashable type: 'list'",
     "output_type": "error",
     "traceback": [
      "\u001b[0;31m---------------------------------------------------------------------------\u001b[0m",
      "\u001b[0;31mTypeError\u001b[0m                                 Traceback (most recent call last)",
      "\u001b[0;32m<ipython-input-28-07f9282fda8e>\u001b[0m in \u001b[0;36m<module>\u001b[0;34m\u001b[0m\n\u001b[1;32m      7\u001b[0m \u001b[0mprint\u001b[0m\u001b[0;34m(\u001b[0m\u001b[0ms\u001b[0m\u001b[0;34m)\u001b[0m\u001b[0;34m\u001b[0m\u001b[0;34m\u001b[0m\u001b[0m\n\u001b[1;32m      8\u001b[0m \u001b[0;34m\u001b[0m\u001b[0m\n\u001b[0;32m----> 9\u001b[0;31m \u001b[0ms\u001b[0m\u001b[0;34m=\u001b[0m\u001b[0;34m{\u001b[0m\u001b[0;34m[\u001b[0m\u001b[0;34m'刑事'\u001b[0m\u001b[0;34m,\u001b[0m \u001b[0;34m'民事'\u001b[0m\u001b[0;34m]\u001b[0m\u001b[0;34m,\u001b[0m \u001b[0;34m'行政'\u001b[0m\u001b[0;34m}\u001b[0m \u001b[0;31m#不行放入串列！\u001b[0m\u001b[0;34m\u001b[0m\u001b[0;34m\u001b[0m\u001b[0m\n\u001b[0m",
      "\u001b[0;31mTypeError\u001b[0m: unhashable type: 'list'"
     ]
    }
   ],
   "source": [
    "s1={\"刑事\",\"民事\",\"刑事\"}\n",
    "s2={\"行政\",\"民事\"}\n",
    "print(s1,s2)\n",
    "\n",
    "al=[\"行政\",\"民事\",\"刑事\"]\n",
    "s=set(al)\n",
    "print(s)\n",
    "\n",
    "s={['刑事', '民事'], '行政'} #不行放入串列！"
   ]
  },
  {
   "cell_type": "code",
   "execution_count": 27,
   "metadata": {},
   "outputs": [
    {
     "name": "stdout",
     "output_type": "stream",
     "text": [
      "{'民事'}\n",
      "{'行政', '刑事', '民事'}\n",
      "{'刑事'}\n",
      "{'行政'}\n",
      "{'行政', '刑事'}\n"
     ]
    }
   ],
   "source": [
    "s1={\"刑事\",\"民事\"}\n",
    "s2={\"行政\",\"民事\"}\n",
    "\n",
    "print(s1&s2)#交集 s1.intersection(s2)\n",
    "print(s1|s2)#聯集 s1.union(s2)\n",
    "print(s1-s2)#差集 s1.difference(s2)\n",
    "print(s2-s1)#差集 s2.difference(s1)\n",
    "print(s1^s2)#對稱差集(聯集-交集) s1.symmetric_difference(s2)"
   ]
  },
  {
   "cell_type": "code",
   "execution_count": 5,
   "metadata": {},
   "outputs": [
    {
     "name": "stdout",
     "output_type": "stream",
     "text": [
      "第一個人須負行政責任? False\n",
      "第二個人須負行政責任? True\n",
      "第一個人不須負行政責任? True\n",
      "兩人須負起之責任不一樣? True\n"
     ]
    }
   ],
   "source": [
    "s1={\"刑事\",\"民事\"}\n",
    "s2={\"行政\",\"民事\"}\n",
    "\n",
    "print(\"第一個人須負行政責任?\",\"行政\" in s1)\n",
    "print(\"第二個人須負行政責任?\",\"行政\" in s2)\n",
    "print(\"第一個人不須負行政責任?\",\"行政\" not in s1)\n",
    "print(\"兩人須負起之責任不一樣?\",s1!=s2)"
   ]
  },
  {
   "cell_type": "code",
   "execution_count": 26,
   "metadata": {},
   "outputs": [
    {
     "name": "stdout",
     "output_type": "stream",
     "text": [
      "{'刑事', '民事'}\n",
      "{'行政', '民事', '刑事'}\n"
     ]
    }
   ],
   "source": [
    "s={\"刑事\"}\n",
    "s.add(\"民事\")\n",
    "print(s)\n",
    "\n",
    "new={\"行政\",\"民事\",\"刑事\"}\n",
    "s.update(new)\n",
    "print(s)"
   ]
  },
  {
   "cell_type": "code",
   "execution_count": 25,
   "metadata": {},
   "outputs": [
    {
     "name": "stdout",
     "output_type": "stream",
     "text": [
      "{'行政', '民事'}\n",
      "行政\n",
      "{'民事'}\n",
      "set()\n"
     ]
    }
   ],
   "source": [
    "s={'刑事', '民事', '行政'}\n",
    "s.remove(\"刑事\")\n",
    "print(s)\n",
    "\n",
    "spop=s.pop()\n",
    "print(spop)\n",
    "print(s)\n",
    "\n",
    "s.clear()#清除所有\n",
    "print(s)"
   ]
  },
  {
   "cell_type": "markdown",
   "metadata": {},
   "source": [
    "# dict"
   ]
  },
  {
   "cell_type": "code",
   "execution_count": 24,
   "metadata": {
    "scrolled": false
   },
   "outputs": [
    {
     "name": "stdout",
     "output_type": "stream",
     "text": [
      "{'釋字第 813 號': '文化資產保存法第9條第1項及第18條第1項關於歷史建築登錄部分規定...', '釋字第 812 號': '中華民國94年2月2日修正公布並自95年7月1日施行之刑法第90條第1項及第...', '釋字第 811 號': '中華民國94年1月19日修正公布之公教人員保險法第6條第3項及第4項規定...'}\n",
      "{'a': '文化資產保存法第9條第1項及第18條第1項關於歷史建築登錄部分規定...', 'b': '中華民國94年2月2日修正公布並自95年7月1日施行之刑法第90條第1項及第...', 'c': '中華民國94年1月19日修正公布之公教人員保險法第6條第3項及第4項規定...'}\n"
     ]
    }
   ],
   "source": [
    "ls=[[\"釋字第 813 號\",\"文化資產保存法第9條第1項及第18條第1項關於歷史建築登錄部分規定...\"],[\"釋字第 812 號\",\n",
    "     \"中華民國94年2月2日修正公布並自95年7月1日施行之刑法第90條第1項及第...\"],[\"釋字第 811 號\",\n",
    "    \"中華民國94年1月19日修正公布之公教人員保險法第6條第3項及第4項規定...\"]]\n",
    "print(dict(ls))\n",
    "\n",
    "dic=dict(a=\"文化資產保存法第9條第1項及第18條第1項關於歷史建築登錄部分規定...\",b=\n",
    "     \"中華民國94年2月2日修正公布並自95年7月1日施行之刑法第90條第1項及第...\",c=\n",
    "    \"中華民國94年1月19日修正公布之公教人員保險法第6條第3項及第4項規定...\")\n",
    "print(dic)"
   ]
  },
  {
   "cell_type": "code",
   "execution_count": 21,
   "metadata": {
    "scrolled": true
   },
   "outputs": [
    {
     "name": "stdout",
     "output_type": "stream",
     "text": [
      "中華民國94年2月2日修正公布並自95年7月1日施行之刑法第90條第1項及第...\n",
      "中華民國94年2月2日修正公布並自95年7月1日施行之刑法第90條第1項及第...\n",
      "---------------------------------------------\n",
      "dict_keys(['釋字第 813 號', '釋字第 812 號', '釋字第 811 號'])\n",
      "dict_values(['文化資產保存法第9條第1項及第18條第1項關於歷史建築登錄部分規定...', '中華民國94年2月2日修正公布並自95年7月1日施行之刑法第90條第1項及第...', '中華民國94年1月19日修正公布之公教人員保險法第6條第3項及第4項規定...'])\n",
      "dict_items([('釋字第 813 號', '文化資產保存法第9條第1項及第18條第1項關於歷史建築登錄部分規定...'), ('釋字第 812 號', '中華民國94年2月2日修正公布並自95年7月1日施行之刑法第90條第1項及第...'), ('釋字第 811 號', '中華民國94年1月19日修正公布之公教人員保險法第6條第3項及第4項規定...')])\n"
     ]
    }
   ],
   "source": [
    "dic={\"釋字第 813 號\":\"文化資產保存法第9條第1項及第18條第1項關於歷史建築登錄部分規定...\",\"釋字第 812 號\":\n",
    "     \"中華民國94年2月2日修正公布並自95年7月1日施行之刑法第90條第1項及第...\",\"釋字第 811 號\":\n",
    "    \"中華民國94年1月19日修正公布之公教人員保險法第6條第3項及第4項規定...\"}\n",
    "print(dic[\"釋字第 812 號\"])#用key取value\n",
    "print(dic.get(\"釋字第 812 號\"))#.get()\n",
    "print(\"---------------------------------------------\")\n",
    "print(dic.keys())#所有\n",
    "print(dic.values())\n",
    "print(dic.items())"
   ]
  },
  {
   "cell_type": "code",
   "execution_count": 22,
   "metadata": {},
   "outputs": [
    {
     "name": "stdout",
     "output_type": "stream",
     "text": [
      "{'釋字第 813 號': '文化資產保存法第9條第1項及第18條第1項關於歷史建築登錄部分規定...', '釋字第 812 號': '中華民國94年2月2日修正公布並自95年7月1日施行之刑法第90條第1項及第...', '釋字第 811 號': '中華民國94年1月19日修正公布之公教人員保險法第6條第3項及第4項規定...'}\n",
      "{'釋字第 813 號': '文化資產保存法第9條第1項及第18條第1項關於歷史建築登錄部分規定...', '釋字第 812 號': '中華民國94年2月2日修正公布並自95年7月1日施行之刑法第90條第1項及第...', '釋字第 811 號': '中華民國94年1月19日修正公布之公教人員保險法第6條第3項及第4項規定...', '釋字第 810 號': '不動產估價師法第9條第2項規定：「前項事務所，以一處為限，不得...'}\n",
      "{'釋字第 813 號': '文化資產保存法第9條第1項及第18條第1項關於歷史建築登錄部分規定...', '釋字第 812 號': '中華民國94年2月2日修正公布並自95年7月1日施行之刑法第90條第1項及第...', '釋字第 811 號': '中華民國94年1月19日修正公布之公教人員保險法第6條第3項及第4項規定...', '釋字第 810 號': '原住民族工作權保障法第24條第2項規定「……第12條第3項之代金，依差額人數乘...'}\n"
     ]
    }
   ],
   "source": [
    "dic={\"釋字第 813 號\":\"文化資產保存法第9條第1項及第18條第1項關於歷史建築登錄部分規定...\",}\n",
    "new={\"釋字第 812 號\":\"中華民國94年2月2日修正公布並自95年7月1日施行之刑法第90條第1項及第...\",\n",
    "     \"釋字第 811 號\":\"中華民國94年1月19日修正公布之公教人員保險法第6條第3項及第4項規定...\"}\n",
    "dic.update(new) #{**dic,**new}也是合併(可用於兩個以上)\n",
    "print(dic)\n",
    "\n",
    "dic[\"釋字第 810 號\"]=\"不動產估價師法第9條第2項規定：「前項事務所，以一處為限，不得...\"\n",
    "print(dic)\n",
    "\n",
    "dic[\"釋字第 810 號\"]=\"原住民族工作權保障法第24條第2項規定「……第12條第3項之代金，依差額人數乘...\"\n",
    "print(dic)"
   ]
  },
  {
   "cell_type": "code",
   "execution_count": 23,
   "metadata": {},
   "outputs": [
    {
     "name": "stdout",
     "output_type": "stream",
     "text": [
      "new dic: {'釋字第 812 號': '中華民國94年2月2日修正公布並自95年7月1日施行之刑法第90條第1項及第...', '釋字第 811 號': '中華民國94年1月19日修正公布之公教人員保險法第6條第3項及第4項規定...'}\n",
      "pop元素: 中華民國94年1月19日修正公布之公教人員保險法第6條第3項及第4項規定...\n",
      "剩下: {'釋字第 812 號': '中華民國94年2月2日修正公布並自95年7月1日施行之刑法第90條第1項及第...'}\n"
     ]
    }
   ],
   "source": [
    "dic={\"釋字第 813 號\":\"文化資產保存法第9條第1項及第18條第1項關於歷史建築登錄部分規定...\",\"釋字第 812 號\":\n",
    "     \"中華民國94年2月2日修正公布並自95年7月1日施行之刑法第90條第1項及第...\",\"釋字第 811 號\":\n",
    "    \"中華民國94年1月19日修正公布之公教人員保險法第6條第3項及第4項規定...\"}\n",
    "del dic[\"釋字第 813 號\"]\n",
    "print(\"new dic:\",dic)\n",
    "\n",
    "popp=dic.pop(\"釋字第 811 號\")#.popitem()可隨機刪除,字典沒有.pop()\n",
    "print(\"pop元素:\",popp)\n",
    "print(\"剩下:\",dic)"
   ]
  }
 ],
 "metadata": {
  "kernelspec": {
   "display_name": "Python 3",
   "language": "python",
   "name": "python3"
  },
  "language_info": {
   "codemirror_mode": {
    "name": "ipython",
    "version": 3
   },
   "file_extension": ".py",
   "mimetype": "text/x-python",
   "name": "python",
   "nbconvert_exporter": "python",
   "pygments_lexer": "ipython3",
   "version": "3.8.5"
  }
 },
 "nbformat": 4,
 "nbformat_minor": 4
}
