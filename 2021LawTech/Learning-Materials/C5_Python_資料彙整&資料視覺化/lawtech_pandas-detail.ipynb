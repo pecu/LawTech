{
 "cells": [
  {
   "cell_type": "markdown",
   "metadata": {},
   "source": [
    "## 匯入套件 & 匯入資料"
   ]
  },
  {
   "cell_type": "code",
   "execution_count": 1,
   "metadata": {},
   "outputs": [
    {
     "data": {
      "text/html": [
       "<div>\n",
       "<style scoped>\n",
       "    .dataframe tbody tr th:only-of-type {\n",
       "        vertical-align: middle;\n",
       "    }\n",
       "\n",
       "    .dataframe tbody tr th {\n",
       "        vertical-align: top;\n",
       "    }\n",
       "\n",
       "    .dataframe thead th {\n",
       "        text-align: right;\n",
       "    }\n",
       "</style>\n",
       "<table border=\"1\" class=\"dataframe\">\n",
       "  <thead>\n",
       "    <tr style=\"text-align: right;\">\n",
       "      <th></th>\n",
       "      <th>Unnamed: 0</th>\n",
       "      <th>title</th>\n",
       "      <th>date</th>\n",
       "      <th>judge</th>\n",
       "      <th>content</th>\n",
       "      <th>link</th>\n",
       "    </tr>\n",
       "  </thead>\n",
       "  <tbody>\n",
       "    <tr>\n",
       "      <th>0</th>\n",
       "      <td>0</td>\n",
       "      <td>最高法院 108 年度 台上 字第 2708 號刑事判決（15K）</td>\n",
       "      <td>109.09.30</td>\n",
       "      <td>詐欺</td>\n",
       "      <td>最高法院刑事判決　　　　　　　　　 108年度台上字第2708號\\n上　訴　人　林鶴爵\\n\\...</td>\n",
       "      <td>https://law.judicial.gov.tw/FJUD/data.aspx?ro=...</td>\n",
       "    </tr>\n",
       "    <tr>\n",
       "      <th>1</th>\n",
       "      <td>1</td>\n",
       "      <td>最高法院 109 年度 台上 字第 1719 號刑事判決（29K）</td>\n",
       "      <td>109.04.15</td>\n",
       "      <td>違反證券交易法等罪</td>\n",
       "      <td>最高法院刑事判決　　　　　　　　　 108年度台上字第4056號\\n　　　　　　　　　　　　...</td>\n",
       "      <td>https://law.judicial.gov.tw/FJUD/data.aspx?ro=...</td>\n",
       "    </tr>\n",
       "    <tr>\n",
       "      <th>2</th>\n",
       "      <td>2</td>\n",
       "      <td>最高法院 108 年度 台上 字第 4056 號刑事判決（29K）</td>\n",
       "      <td>109.04.15</td>\n",
       "      <td>違反證券交易法等罪</td>\n",
       "      <td>最高法院刑事判決　　　　　　　　　 108年度台上字第4056號\\n　　　　　　　　　　　　...</td>\n",
       "      <td>https://law.judicial.gov.tw/FJUD/data.aspx?ro=...</td>\n",
       "    </tr>\n",
       "    <tr>\n",
       "      <th>3</th>\n",
       "      <td>3</td>\n",
       "      <td>最高法院 108 年度 台上 字第 16 號刑事判決（37K）</td>\n",
       "      <td>109.01.16</td>\n",
       "      <td>違反證券交易法等罪</td>\n",
       "      <td>最高法院刑事判決　　　　　　　　　　 108年度台上字第16號\\n上　訴　人　臺灣高等檢察署...</td>\n",
       "      <td>https://law.judicial.gov.tw/FJUD/data.aspx?ro=...</td>\n",
       "    </tr>\n",
       "    <tr>\n",
       "      <th>4</th>\n",
       "      <td>4</td>\n",
       "      <td>最高法院 109 年度 台抗 字第 46 號刑事裁定（5K）</td>\n",
       "      <td>109.01.09</td>\n",
       "      <td>違反證券交易法等罪不服再執行羈押</td>\n",
       "      <td>最高法院刑事裁定　　　　　　　　　　 109年度台抗字第46號\\n抗　告　人　許金龍\\n\\n...</td>\n",
       "      <td>https://law.judicial.gov.tw/FJUD/data.aspx?ro=...</td>\n",
       "    </tr>\n",
       "  </tbody>\n",
       "</table>\n",
       "</div>"
      ],
      "text/plain": [
       "   Unnamed: 0                              title       date             judge  \\\n",
       "0           0  最高法院 108 年度 台上 字第 2708 號刑事判決（15K）  109.09.30                詐欺   \n",
       "1           1  最高法院 109 年度 台上 字第 1719 號刑事判決（29K）  109.04.15         違反證券交易法等罪   \n",
       "2           2  最高法院 108 年度 台上 字第 4056 號刑事判決（29K）  109.04.15         違反證券交易法等罪   \n",
       "3           3    最高法院 108 年度 台上 字第 16 號刑事判決（37K）  109.01.16         違反證券交易法等罪   \n",
       "4           4     最高法院 109 年度 台抗 字第 46 號刑事裁定（5K）  109.01.09  違反證券交易法等罪不服再執行羈押   \n",
       "\n",
       "                                             content  \\\n",
       "0  最高法院刑事判決　　　　　　　　　 108年度台上字第2708號\\n上　訴　人　林鶴爵\\n\\...   \n",
       "1  最高法院刑事判決　　　　　　　　　 108年度台上字第4056號\\n　　　　　　　　　　　　...   \n",
       "2  最高法院刑事判決　　　　　　　　　 108年度台上字第4056號\\n　　　　　　　　　　　　...   \n",
       "3  最高法院刑事判決　　　　　　　　　　 108年度台上字第16號\\n上　訴　人　臺灣高等檢察署...   \n",
       "4  最高法院刑事裁定　　　　　　　　　　 109年度台抗字第46號\\n抗　告　人　許金龍\\n\\n...   \n",
       "\n",
       "                                                link  \n",
       "0  https://law.judicial.gov.tw/FJUD/data.aspx?ro=...  \n",
       "1  https://law.judicial.gov.tw/FJUD/data.aspx?ro=...  \n",
       "2  https://law.judicial.gov.tw/FJUD/data.aspx?ro=...  \n",
       "3  https://law.judicial.gov.tw/FJUD/data.aspx?ro=...  \n",
       "4  https://law.judicial.gov.tw/FJUD/data.aspx?ro=...  "
      ]
     },
     "execution_count": 1,
     "metadata": {},
     "output_type": "execute_result"
    }
   ],
   "source": [
    "import pandas as pd\n",
    "data = pd.read_csv(\"LawTech_0727_Pandas.csv\")\n",
    "data.head()"
   ]
  },
  {
   "cell_type": "markdown",
   "metadata": {},
   "source": [
    "### 將第0欄位當作index"
   ]
  },
  {
   "cell_type": "code",
   "execution_count": 2,
   "metadata": {},
   "outputs": [
    {
     "data": {
      "text/html": [
       "<div>\n",
       "<style scoped>\n",
       "    .dataframe tbody tr th:only-of-type {\n",
       "        vertical-align: middle;\n",
       "    }\n",
       "\n",
       "    .dataframe tbody tr th {\n",
       "        vertical-align: top;\n",
       "    }\n",
       "\n",
       "    .dataframe thead th {\n",
       "        text-align: right;\n",
       "    }\n",
       "</style>\n",
       "<table border=\"1\" class=\"dataframe\">\n",
       "  <thead>\n",
       "    <tr style=\"text-align: right;\">\n",
       "      <th></th>\n",
       "      <th>title</th>\n",
       "      <th>date</th>\n",
       "      <th>judge</th>\n",
       "      <th>content</th>\n",
       "      <th>link</th>\n",
       "    </tr>\n",
       "  </thead>\n",
       "  <tbody>\n",
       "    <tr>\n",
       "      <th>0</th>\n",
       "      <td>最高法院 108 年度 台上 字第 2708 號刑事判決（15K）</td>\n",
       "      <td>109.09.30</td>\n",
       "      <td>詐欺</td>\n",
       "      <td>最高法院刑事判決　　　　　　　　　 108年度台上字第2708號\\n上　訴　人　林鶴爵\\n\\...</td>\n",
       "      <td>https://law.judicial.gov.tw/FJUD/data.aspx?ro=...</td>\n",
       "    </tr>\n",
       "    <tr>\n",
       "      <th>1</th>\n",
       "      <td>最高法院 109 年度 台上 字第 1719 號刑事判決（29K）</td>\n",
       "      <td>109.04.15</td>\n",
       "      <td>違反證券交易法等罪</td>\n",
       "      <td>最高法院刑事判決　　　　　　　　　 108年度台上字第4056號\\n　　　　　　　　　　　　...</td>\n",
       "      <td>https://law.judicial.gov.tw/FJUD/data.aspx?ro=...</td>\n",
       "    </tr>\n",
       "    <tr>\n",
       "      <th>2</th>\n",
       "      <td>最高法院 108 年度 台上 字第 4056 號刑事判決（29K）</td>\n",
       "      <td>109.04.15</td>\n",
       "      <td>違反證券交易法等罪</td>\n",
       "      <td>最高法院刑事判決　　　　　　　　　 108年度台上字第4056號\\n　　　　　　　　　　　　...</td>\n",
       "      <td>https://law.judicial.gov.tw/FJUD/data.aspx?ro=...</td>\n",
       "    </tr>\n",
       "    <tr>\n",
       "      <th>3</th>\n",
       "      <td>最高法院 108 年度 台上 字第 16 號刑事判決（37K）</td>\n",
       "      <td>109.01.16</td>\n",
       "      <td>違反證券交易法等罪</td>\n",
       "      <td>最高法院刑事判決　　　　　　　　　　 108年度台上字第16號\\n上　訴　人　臺灣高等檢察署...</td>\n",
       "      <td>https://law.judicial.gov.tw/FJUD/data.aspx?ro=...</td>\n",
       "    </tr>\n",
       "    <tr>\n",
       "      <th>4</th>\n",
       "      <td>最高法院 109 年度 台抗 字第 46 號刑事裁定（5K）</td>\n",
       "      <td>109.01.09</td>\n",
       "      <td>違反證券交易法等罪不服再執行羈押</td>\n",
       "      <td>最高法院刑事裁定　　　　　　　　　　 109年度台抗字第46號\\n抗　告　人　許金龍\\n\\n...</td>\n",
       "      <td>https://law.judicial.gov.tw/FJUD/data.aspx?ro=...</td>\n",
       "    </tr>\n",
       "  </tbody>\n",
       "</table>\n",
       "</div>"
      ],
      "text/plain": [
       "                               title       date             judge  \\\n",
       "0  最高法院 108 年度 台上 字第 2708 號刑事判決（15K）  109.09.30                詐欺   \n",
       "1  最高法院 109 年度 台上 字第 1719 號刑事判決（29K）  109.04.15         違反證券交易法等罪   \n",
       "2  最高法院 108 年度 台上 字第 4056 號刑事判決（29K）  109.04.15         違反證券交易法等罪   \n",
       "3    最高法院 108 年度 台上 字第 16 號刑事判決（37K）  109.01.16         違反證券交易法等罪   \n",
       "4     最高法院 109 年度 台抗 字第 46 號刑事裁定（5K）  109.01.09  違反證券交易法等罪不服再執行羈押   \n",
       "\n",
       "                                             content  \\\n",
       "0  最高法院刑事判決　　　　　　　　　 108年度台上字第2708號\\n上　訴　人　林鶴爵\\n\\...   \n",
       "1  最高法院刑事判決　　　　　　　　　 108年度台上字第4056號\\n　　　　　　　　　　　　...   \n",
       "2  最高法院刑事判決　　　　　　　　　 108年度台上字第4056號\\n　　　　　　　　　　　　...   \n",
       "3  最高法院刑事判決　　　　　　　　　　 108年度台上字第16號\\n上　訴　人　臺灣高等檢察署...   \n",
       "4  最高法院刑事裁定　　　　　　　　　　 109年度台抗字第46號\\n抗　告　人　許金龍\\n\\n...   \n",
       "\n",
       "                                                link  \n",
       "0  https://law.judicial.gov.tw/FJUD/data.aspx?ro=...  \n",
       "1  https://law.judicial.gov.tw/FJUD/data.aspx?ro=...  \n",
       "2  https://law.judicial.gov.tw/FJUD/data.aspx?ro=...  \n",
       "3  https://law.judicial.gov.tw/FJUD/data.aspx?ro=...  \n",
       "4  https://law.judicial.gov.tw/FJUD/data.aspx?ro=...  "
      ]
     },
     "execution_count": 2,
     "metadata": {},
     "output_type": "execute_result"
    }
   ],
   "source": [
    "data = pd.read_csv(\"LawTech_0727_Pandas.csv\",index_col=0) \n",
    "data.head()"
   ]
  },
  {
   "cell_type": "markdown",
   "metadata": {},
   "source": [
    "### 觀察資料長度"
   ]
  },
  {
   "cell_type": "code",
   "execution_count": 3,
   "metadata": {},
   "outputs": [
    {
     "data": {
      "text/plain": [
       "44"
      ]
     },
     "execution_count": 3,
     "metadata": {},
     "output_type": "execute_result"
    }
   ],
   "source": [
    "len(data)"
   ]
  },
  {
   "cell_type": "markdown",
   "metadata": {},
   "source": [
    "### 數值型資料統計\n",
    "count: 計數\n",
    "<br>unique: 唯一值個數\n",
    "<br>top: 出現次數最多值\n",
    "<br>freq: 最多出現值的數量"
   ]
  },
  {
   "cell_type": "code",
   "execution_count": 4,
   "metadata": {},
   "outputs": [
    {
     "data": {
      "text/html": [
       "<div>\n",
       "<style scoped>\n",
       "    .dataframe tbody tr th:only-of-type {\n",
       "        vertical-align: middle;\n",
       "    }\n",
       "\n",
       "    .dataframe tbody tr th {\n",
       "        vertical-align: top;\n",
       "    }\n",
       "\n",
       "    .dataframe thead th {\n",
       "        text-align: right;\n",
       "    }\n",
       "</style>\n",
       "<table border=\"1\" class=\"dataframe\">\n",
       "  <thead>\n",
       "    <tr style=\"text-align: right;\">\n",
       "      <th></th>\n",
       "      <th>title</th>\n",
       "      <th>date</th>\n",
       "      <th>judge</th>\n",
       "      <th>content</th>\n",
       "      <th>link</th>\n",
       "    </tr>\n",
       "  </thead>\n",
       "  <tbody>\n",
       "    <tr>\n",
       "      <th>count</th>\n",
       "      <td>44</td>\n",
       "      <td>44</td>\n",
       "      <td>44</td>\n",
       "      <td>44</td>\n",
       "      <td>44</td>\n",
       "    </tr>\n",
       "    <tr>\n",
       "      <th>unique</th>\n",
       "      <td>44</td>\n",
       "      <td>42</td>\n",
       "      <td>14</td>\n",
       "      <td>43</td>\n",
       "      <td>44</td>\n",
       "    </tr>\n",
       "    <tr>\n",
       "      <th>top</th>\n",
       "      <td>最高法院 103 年度 台上 字第 196 號刑事判決（7K）</td>\n",
       "      <td>104.04.16</td>\n",
       "      <td>違反證券交易法</td>\n",
       "      <td>最高法院刑事判決　　　　　　　　　 108年度台上字第4056號\\n　　　　　　　　　　　　...</td>\n",
       "      <td>https://law.judicial.gov.tw/FJUD/data.aspx?ro=...</td>\n",
       "    </tr>\n",
       "    <tr>\n",
       "      <th>freq</th>\n",
       "      <td>1</td>\n",
       "      <td>2</td>\n",
       "      <td>16</td>\n",
       "      <td>2</td>\n",
       "      <td>1</td>\n",
       "    </tr>\n",
       "  </tbody>\n",
       "</table>\n",
       "</div>"
      ],
      "text/plain": [
       "                                  title       date    judge  \\\n",
       "count                                44         44       44   \n",
       "unique                               44         42       14   \n",
       "top     最高法院 103 年度 台上 字第 196 號刑事判決（7K）  104.04.16  違反證券交易法   \n",
       "freq                                  1          2       16   \n",
       "\n",
       "                                                  content  \\\n",
       "count                                                  44   \n",
       "unique                                                 43   \n",
       "top     最高法院刑事判決　　　　　　　　　 108年度台上字第4056號\\n　　　　　　　　　　　　...   \n",
       "freq                                                    2   \n",
       "\n",
       "                                                     link  \n",
       "count                                                  44  \n",
       "unique                                                 44  \n",
       "top     https://law.judicial.gov.tw/FJUD/data.aspx?ro=...  \n",
       "freq                                                    1  "
      ]
     },
     "execution_count": 4,
     "metadata": {},
     "output_type": "execute_result"
    }
   ],
   "source": [
    "data.describe()"
   ]
  },
  {
   "cell_type": "markdown",
   "metadata": {},
   "source": [
    "### 欄位處理\n",
    "data[\"title\"][0] 表示 title 欄位第 0 index 的資料"
   ]
  },
  {
   "cell_type": "code",
   "execution_count": 5,
   "metadata": {},
   "outputs": [
    {
     "name": "stdout",
     "output_type": "stream",
     "text": [
      "最高法院 108 年度 台上 字第 2708 號刑事判決（15K）\n"
     ]
    }
   ],
   "source": [
    "title1 = data[\"title\"][0]\n",
    "print(title1)"
   ]
  },
  {
   "cell_type": "markdown",
   "metadata": {},
   "source": [
    "### 依照空白鍵分隔文字\n",
    "### 使用split函數，括號中間放要以作為切割的文字"
   ]
  },
  {
   "cell_type": "code",
   "execution_count": 6,
   "metadata": {},
   "outputs": [
    {
     "name": "stdout",
     "output_type": "stream",
     "text": [
      "['最高法院', '108', '年度', '台上', '字第', '2708', '號刑事判決（15K）']\n",
      "最高法院\n",
      "108\n"
     ]
    }
   ],
   "source": [
    "ts = title1.split(\" \")\n",
    "print(ts)\n",
    "print(ts[0])\n",
    "print(ts[1])"
   ]
  },
  {
   "cell_type": "markdown",
   "metadata": {},
   "source": [
    "### 將地點與年份從標題中提取出來\n",
    "建立空陣列(list)\n",
    "<br>將切割後的文字新增至陣列中"
   ]
  },
  {
   "cell_type": "code",
   "execution_count": 7,
   "metadata": {},
   "outputs": [],
   "source": [
    "location = []\n",
    "year = []\n",
    "\n",
    "for i in data[\"title\"]:\n",
    "    a = i.split(\" \")\n",
    "    location.append(a[0])\n",
    "    \n",
    "for i in data[\"title\"]:\n",
    "    a = i.split(\" \")    \n",
    "    year.append(a[1])"
   ]
  },
  {
   "cell_type": "markdown",
   "metadata": {},
   "source": [
    "### 觀察提取後結果"
   ]
  },
  {
   "cell_type": "code",
   "execution_count": 8,
   "metadata": {},
   "outputs": [
    {
     "name": "stdout",
     "output_type": "stream",
     "text": [
      "['最高法院', '最高法院', '最高法院', '最高法院', '最高法院']\n",
      "['108', '109', '108', '108', '109']\n"
     ]
    }
   ],
   "source": [
    "print(location[:5])\n",
    "print(year[:5])"
   ]
  },
  {
   "cell_type": "markdown",
   "metadata": {},
   "source": [
    "### 將結果合併到資料中，並重新觀察資料樣貌"
   ]
  },
  {
   "cell_type": "code",
   "execution_count": 9,
   "metadata": {},
   "outputs": [
    {
     "data": {
      "text/html": [
       "<div>\n",
       "<style scoped>\n",
       "    .dataframe tbody tr th:only-of-type {\n",
       "        vertical-align: middle;\n",
       "    }\n",
       "\n",
       "    .dataframe tbody tr th {\n",
       "        vertical-align: top;\n",
       "    }\n",
       "\n",
       "    .dataframe thead th {\n",
       "        text-align: right;\n",
       "    }\n",
       "</style>\n",
       "<table border=\"1\" class=\"dataframe\">\n",
       "  <thead>\n",
       "    <tr style=\"text-align: right;\">\n",
       "      <th></th>\n",
       "      <th>title</th>\n",
       "      <th>date</th>\n",
       "      <th>judge</th>\n",
       "      <th>content</th>\n",
       "      <th>link</th>\n",
       "      <th>year</th>\n",
       "      <th>location</th>\n",
       "    </tr>\n",
       "  </thead>\n",
       "  <tbody>\n",
       "    <tr>\n",
       "      <th>0</th>\n",
       "      <td>最高法院 108 年度 台上 字第 2708 號刑事判決（15K）</td>\n",
       "      <td>109.09.30</td>\n",
       "      <td>詐欺</td>\n",
       "      <td>最高法院刑事判決　　　　　　　　　 108年度台上字第2708號\\n上　訴　人　林鶴爵\\n\\...</td>\n",
       "      <td>https://law.judicial.gov.tw/FJUD/data.aspx?ro=...</td>\n",
       "      <td>108</td>\n",
       "      <td>最高法院</td>\n",
       "    </tr>\n",
       "    <tr>\n",
       "      <th>1</th>\n",
       "      <td>最高法院 109 年度 台上 字第 1719 號刑事判決（29K）</td>\n",
       "      <td>109.04.15</td>\n",
       "      <td>違反證券交易法等罪</td>\n",
       "      <td>最高法院刑事判決　　　　　　　　　 108年度台上字第4056號\\n　　　　　　　　　　　　...</td>\n",
       "      <td>https://law.judicial.gov.tw/FJUD/data.aspx?ro=...</td>\n",
       "      <td>109</td>\n",
       "      <td>最高法院</td>\n",
       "    </tr>\n",
       "    <tr>\n",
       "      <th>2</th>\n",
       "      <td>最高法院 108 年度 台上 字第 4056 號刑事判決（29K）</td>\n",
       "      <td>109.04.15</td>\n",
       "      <td>違反證券交易法等罪</td>\n",
       "      <td>最高法院刑事判決　　　　　　　　　 108年度台上字第4056號\\n　　　　　　　　　　　　...</td>\n",
       "      <td>https://law.judicial.gov.tw/FJUD/data.aspx?ro=...</td>\n",
       "      <td>108</td>\n",
       "      <td>最高法院</td>\n",
       "    </tr>\n",
       "    <tr>\n",
       "      <th>3</th>\n",
       "      <td>最高法院 108 年度 台上 字第 16 號刑事判決（37K）</td>\n",
       "      <td>109.01.16</td>\n",
       "      <td>違反證券交易法等罪</td>\n",
       "      <td>最高法院刑事判決　　　　　　　　　　 108年度台上字第16號\\n上　訴　人　臺灣高等檢察署...</td>\n",
       "      <td>https://law.judicial.gov.tw/FJUD/data.aspx?ro=...</td>\n",
       "      <td>108</td>\n",
       "      <td>最高法院</td>\n",
       "    </tr>\n",
       "    <tr>\n",
       "      <th>4</th>\n",
       "      <td>最高法院 109 年度 台抗 字第 46 號刑事裁定（5K）</td>\n",
       "      <td>109.01.09</td>\n",
       "      <td>違反證券交易法等罪不服再執行羈押</td>\n",
       "      <td>最高法院刑事裁定　　　　　　　　　　 109年度台抗字第46號\\n抗　告　人　許金龍\\n\\n...</td>\n",
       "      <td>https://law.judicial.gov.tw/FJUD/data.aspx?ro=...</td>\n",
       "      <td>109</td>\n",
       "      <td>最高法院</td>\n",
       "    </tr>\n",
       "  </tbody>\n",
       "</table>\n",
       "</div>"
      ],
      "text/plain": [
       "                               title       date             judge  \\\n",
       "0  最高法院 108 年度 台上 字第 2708 號刑事判決（15K）  109.09.30                詐欺   \n",
       "1  最高法院 109 年度 台上 字第 1719 號刑事判決（29K）  109.04.15         違反證券交易法等罪   \n",
       "2  最高法院 108 年度 台上 字第 4056 號刑事判決（29K）  109.04.15         違反證券交易法等罪   \n",
       "3    最高法院 108 年度 台上 字第 16 號刑事判決（37K）  109.01.16         違反證券交易法等罪   \n",
       "4     最高法院 109 年度 台抗 字第 46 號刑事裁定（5K）  109.01.09  違反證券交易法等罪不服再執行羈押   \n",
       "\n",
       "                                             content  \\\n",
       "0  最高法院刑事判決　　　　　　　　　 108年度台上字第2708號\\n上　訴　人　林鶴爵\\n\\...   \n",
       "1  最高法院刑事判決　　　　　　　　　 108年度台上字第4056號\\n　　　　　　　　　　　　...   \n",
       "2  最高法院刑事判決　　　　　　　　　 108年度台上字第4056號\\n　　　　　　　　　　　　...   \n",
       "3  最高法院刑事判決　　　　　　　　　　 108年度台上字第16號\\n上　訴　人　臺灣高等檢察署...   \n",
       "4  最高法院刑事裁定　　　　　　　　　　 109年度台抗字第46號\\n抗　告　人　許金龍\\n\\n...   \n",
       "\n",
       "                                                link year location  \n",
       "0  https://law.judicial.gov.tw/FJUD/data.aspx?ro=...  108     最高法院  \n",
       "1  https://law.judicial.gov.tw/FJUD/data.aspx?ro=...  109     最高法院  \n",
       "2  https://law.judicial.gov.tw/FJUD/data.aspx?ro=...  108     最高法院  \n",
       "3  https://law.judicial.gov.tw/FJUD/data.aspx?ro=...  108     最高法院  \n",
       "4  https://law.judicial.gov.tw/FJUD/data.aspx?ro=...  109     最高法院  "
      ]
     },
     "execution_count": 9,
     "metadata": {},
     "output_type": "execute_result"
    }
   ],
   "source": [
    "data[\"year\"] = year\n",
    "data[\"location\"] = location\n",
    "data.head()"
   ]
  },
  {
   "cell_type": "markdown",
   "metadata": {},
   "source": [
    "### apply方式套用至選取的資料\n",
    "def: 自定義函數"
   ]
  },
  {
   "cell_type": "code",
   "execution_count": 10,
   "metadata": {},
   "outputs": [
    {
     "name": "stdout",
     "output_type": "stream",
     "text": [
      "0    108\n",
      "1    109\n",
      "2    108\n",
      "3    108\n",
      "4    109\n",
      "dtype: object\n"
     ]
    }
   ],
   "source": [
    "def get_year(data):\n",
    "    return data[\"title\"].split(\" \")[1]\n",
    "\n",
    "a = data[:5].apply(get_year,axis=1)\n",
    "print(a)"
   ]
  },
  {
   "cell_type": "markdown",
   "metadata": {},
   "source": [
    "### 使用 lambda 函數方式"
   ]
  },
  {
   "cell_type": "code",
   "execution_count": 11,
   "metadata": {},
   "outputs": [
    {
     "name": "stdout",
     "output_type": "stream",
     "text": [
      "0    108\n",
      "1    109\n",
      "2    108\n",
      "3    108\n",
      "4    109\n",
      "dtype: object\n"
     ]
    }
   ],
   "source": [
    "def get_year(title):\n",
    "    return title.split(\" \")[1]\n",
    "\n",
    "b = data[:5].apply(lambda a:get_year(a[\"title\"]),axis=1)\n",
    "print(b)"
   ]
  },
  {
   "cell_type": "markdown",
   "metadata": {},
   "source": [
    "## 練習1:取判決編號以及判決類別並新增到資料中(難度:中等3分)"
   ]
  },
  {
   "cell_type": "markdown",
   "metadata": {},
   "source": [
    "提示: 新增空陣列 -> 切割文字並提取需要的資料 -> 新增資料至陣列中 -> 將陣列合併到原資料中\n",
    "<br>(判決類別可能需要切割兩次)"
   ]
  },
  {
   "cell_type": "code",
   "execution_count": 12,
   "metadata": {},
   "outputs": [],
   "source": [
    "# 將程式輸入在這裡\n"
   ]
  },
  {
   "cell_type": "markdown",
   "metadata": {},
   "source": [
    "***"
   ]
  },
  {
   "cell_type": "markdown",
   "metadata": {},
   "source": [
    "### loc 先行標籤，後列標籤"
   ]
  },
  {
   "cell_type": "code",
   "execution_count": 13,
   "metadata": {},
   "outputs": [
    {
     "data": {
      "text/plain": [
       "0    最高法院 108 年度 台上 字第 2708 號刑事判決（15K）\n",
       "1    最高法院 109 年度 台上 字第 1719 號刑事判決（29K）\n",
       "2    最高法院 108 年度 台上 字第 4056 號刑事判決（29K）\n",
       "3      最高法院 108 年度 台上 字第 16 號刑事判決（37K）\n",
       "4       最高法院 109 年度 台抗 字第 46 號刑事裁定（5K）\n",
       "5     最高法院 107 年度 台上 字第 846 號民事判決（11K）\n",
       "Name: title, dtype: object"
      ]
     },
     "execution_count": 13,
     "metadata": {},
     "output_type": "execute_result"
    }
   ],
   "source": [
    "data.loc[:5,\"title\"]"
   ]
  },
  {
   "cell_type": "markdown",
   "metadata": {},
   "source": [
    "### 同時取出兩列資料"
   ]
  },
  {
   "cell_type": "code",
   "execution_count": 14,
   "metadata": {},
   "outputs": [
    {
     "data": {
      "text/html": [
       "<div>\n",
       "<style scoped>\n",
       "    .dataframe tbody tr th:only-of-type {\n",
       "        vertical-align: middle;\n",
       "    }\n",
       "\n",
       "    .dataframe tbody tr th {\n",
       "        vertical-align: top;\n",
       "    }\n",
       "\n",
       "    .dataframe thead th {\n",
       "        text-align: right;\n",
       "    }\n",
       "</style>\n",
       "<table border=\"1\" class=\"dataframe\">\n",
       "  <thead>\n",
       "    <tr style=\"text-align: right;\">\n",
       "      <th></th>\n",
       "      <th>title</th>\n",
       "      <th>judge</th>\n",
       "    </tr>\n",
       "  </thead>\n",
       "  <tbody>\n",
       "    <tr>\n",
       "      <th>0</th>\n",
       "      <td>最高法院 108 年度 台上 字第 2708 號刑事判決（15K）</td>\n",
       "      <td>詐欺</td>\n",
       "    </tr>\n",
       "    <tr>\n",
       "      <th>1</th>\n",
       "      <td>最高法院 109 年度 台上 字第 1719 號刑事判決（29K）</td>\n",
       "      <td>違反證券交易法等罪</td>\n",
       "    </tr>\n",
       "    <tr>\n",
       "      <th>2</th>\n",
       "      <td>最高法院 108 年度 台上 字第 4056 號刑事判決（29K）</td>\n",
       "      <td>違反證券交易法等罪</td>\n",
       "    </tr>\n",
       "    <tr>\n",
       "      <th>3</th>\n",
       "      <td>最高法院 108 年度 台上 字第 16 號刑事判決（37K）</td>\n",
       "      <td>違反證券交易法等罪</td>\n",
       "    </tr>\n",
       "    <tr>\n",
       "      <th>4</th>\n",
       "      <td>最高法院 109 年度 台抗 字第 46 號刑事裁定（5K）</td>\n",
       "      <td>違反證券交易法等罪不服再執行羈押</td>\n",
       "    </tr>\n",
       "    <tr>\n",
       "      <th>5</th>\n",
       "      <td>最高法院 107 年度 台上 字第 846 號民事判決（11K）</td>\n",
       "      <td>請求損害賠償</td>\n",
       "    </tr>\n",
       "  </tbody>\n",
       "</table>\n",
       "</div>"
      ],
      "text/plain": [
       "                               title             judge\n",
       "0  最高法院 108 年度 台上 字第 2708 號刑事判決（15K）                詐欺\n",
       "1  最高法院 109 年度 台上 字第 1719 號刑事判決（29K）         違反證券交易法等罪\n",
       "2  最高法院 108 年度 台上 字第 4056 號刑事判決（29K）         違反證券交易法等罪\n",
       "3    最高法院 108 年度 台上 字第 16 號刑事判決（37K）         違反證券交易法等罪\n",
       "4     最高法院 109 年度 台抗 字第 46 號刑事裁定（5K）  違反證券交易法等罪不服再執行羈押\n",
       "5   最高法院 107 年度 台上 字第 846 號民事判決（11K）            請求損害賠償"
      ]
     },
     "execution_count": 14,
     "metadata": {},
     "output_type": "execute_result"
    }
   ],
   "source": [
    "data.loc[:5,[\"title\",\"judge\"]]"
   ]
  },
  {
   "cell_type": "markdown",
   "metadata": {},
   "source": [
    "### iloc取行索引和列索引(從0開始)"
   ]
  },
  {
   "cell_type": "code",
   "execution_count": 15,
   "metadata": {},
   "outputs": [
    {
     "data": {
      "text/plain": [
       "0    最高法院 108 年度 台上 字第 2708 號刑事判決（15K）\n",
       "1    最高法院 109 年度 台上 字第 1719 號刑事判決（29K）\n",
       "2    最高法院 108 年度 台上 字第 4056 號刑事判決（29K）\n",
       "3      最高法院 108 年度 台上 字第 16 號刑事判決（37K）\n",
       "4       最高法院 109 年度 台抗 字第 46 號刑事裁定（5K）\n",
       "Name: title, dtype: object"
      ]
     },
     "execution_count": 15,
     "metadata": {},
     "output_type": "execute_result"
    }
   ],
   "source": [
    "data.iloc[:5,0]"
   ]
  },
  {
   "cell_type": "markdown",
   "metadata": {},
   "source": [
    "### 同時取出兩列資料"
   ]
  },
  {
   "cell_type": "code",
   "execution_count": 16,
   "metadata": {},
   "outputs": [
    {
     "data": {
      "text/html": [
       "<div>\n",
       "<style scoped>\n",
       "    .dataframe tbody tr th:only-of-type {\n",
       "        vertical-align: middle;\n",
       "    }\n",
       "\n",
       "    .dataframe tbody tr th {\n",
       "        vertical-align: top;\n",
       "    }\n",
       "\n",
       "    .dataframe thead th {\n",
       "        text-align: right;\n",
       "    }\n",
       "</style>\n",
       "<table border=\"1\" class=\"dataframe\">\n",
       "  <thead>\n",
       "    <tr style=\"text-align: right;\">\n",
       "      <th></th>\n",
       "      <th>title</th>\n",
       "      <th>judge</th>\n",
       "    </tr>\n",
       "  </thead>\n",
       "  <tbody>\n",
       "    <tr>\n",
       "      <th>0</th>\n",
       "      <td>最高法院 108 年度 台上 字第 2708 號刑事判決（15K）</td>\n",
       "      <td>詐欺</td>\n",
       "    </tr>\n",
       "    <tr>\n",
       "      <th>1</th>\n",
       "      <td>最高法院 109 年度 台上 字第 1719 號刑事判決（29K）</td>\n",
       "      <td>違反證券交易法等罪</td>\n",
       "    </tr>\n",
       "    <tr>\n",
       "      <th>2</th>\n",
       "      <td>最高法院 108 年度 台上 字第 4056 號刑事判決（29K）</td>\n",
       "      <td>違反證券交易法等罪</td>\n",
       "    </tr>\n",
       "    <tr>\n",
       "      <th>3</th>\n",
       "      <td>最高法院 108 年度 台上 字第 16 號刑事判決（37K）</td>\n",
       "      <td>違反證券交易法等罪</td>\n",
       "    </tr>\n",
       "    <tr>\n",
       "      <th>4</th>\n",
       "      <td>最高法院 109 年度 台抗 字第 46 號刑事裁定（5K）</td>\n",
       "      <td>違反證券交易法等罪不服再執行羈押</td>\n",
       "    </tr>\n",
       "  </tbody>\n",
       "</table>\n",
       "</div>"
      ],
      "text/plain": [
       "                               title             judge\n",
       "0  最高法院 108 年度 台上 字第 2708 號刑事判決（15K）                詐欺\n",
       "1  最高法院 109 年度 台上 字第 1719 號刑事判決（29K）         違反證券交易法等罪\n",
       "2  最高法院 108 年度 台上 字第 4056 號刑事判決（29K）         違反證券交易法等罪\n",
       "3    最高法院 108 年度 台上 字第 16 號刑事判決（37K）         違反證券交易法等罪\n",
       "4     最高法院 109 年度 台抗 字第 46 號刑事裁定（5K）  違反證券交易法等罪不服再執行羈押"
      ]
     },
     "execution_count": 16,
     "metadata": {},
     "output_type": "execute_result"
    }
   ],
   "source": [
    "data.iloc[:5,[0,2]]"
   ]
  },
  {
   "cell_type": "markdown",
   "metadata": {},
   "source": [
    "## 練習2:以loc及iloc方式取出第15~20筆資料且只有呈現他的日期(date)及地點(location)(難度:簡單1分)"
   ]
  },
  {
   "cell_type": "code",
   "execution_count": 17,
   "metadata": {},
   "outputs": [],
   "source": [
    "# 將程式輸入在這裡\n"
   ]
  },
  {
   "cell_type": "markdown",
   "metadata": {},
   "source": [
    "***"
   ]
  },
  {
   "cell_type": "markdown",
   "metadata": {},
   "source": [
    "### groupby 資料分組，括號中間放要分組的依據(欄位名稱)"
   ]
  },
  {
   "cell_type": "code",
   "execution_count": 18,
   "metadata": {},
   "outputs": [],
   "source": [
    "judge1 = data.groupby(\"judge\")"
   ]
  },
  {
   "cell_type": "markdown",
   "metadata": {},
   "source": [
    "### 觀察分組後資料樣貌"
   ]
  },
  {
   "cell_type": "code",
   "execution_count": 19,
   "metadata": {},
   "outputs": [
    {
     "data": {
      "text/plain": [
       "judge\n",
       "偽造文書等罪                 1\n",
       "偽造有價證券                 1\n",
       "損害賠償                   2\n",
       "詐欺                     1\n",
       "請求侵權行為損害賠償             1\n",
       "請求侵權行為損害賠償等            1\n",
       "請求損害賠償                 4\n",
       "違反商業會計法                1\n",
       "違反證券交易法               16\n",
       "違反證券交易法等罪             12\n",
       "違反證券交易法等罪不服再執行羈押       1\n",
       "違反證券交易法等罪聲請具保停止羈押      1\n",
       "違反證券交易法等罪聲請再審及停止執行     1\n",
       "違反證券交易法等罪限制出境出海        1\n",
       "dtype: int64"
      ]
     },
     "execution_count": 19,
     "metadata": {},
     "output_type": "execute_result"
    }
   ],
   "source": [
    "judge1.size()"
   ]
  },
  {
   "cell_type": "markdown",
   "metadata": {},
   "source": [
    "### 取出資料中的其中一項觀察"
   ]
  },
  {
   "cell_type": "code",
   "execution_count": 20,
   "metadata": {},
   "outputs": [
    {
     "data": {
      "text/html": [
       "<div>\n",
       "<style scoped>\n",
       "    .dataframe tbody tr th:only-of-type {\n",
       "        vertical-align: middle;\n",
       "    }\n",
       "\n",
       "    .dataframe tbody tr th {\n",
       "        vertical-align: top;\n",
       "    }\n",
       "\n",
       "    .dataframe thead th {\n",
       "        text-align: right;\n",
       "    }\n",
       "</style>\n",
       "<table border=\"1\" class=\"dataframe\">\n",
       "  <thead>\n",
       "    <tr style=\"text-align: right;\">\n",
       "      <th></th>\n",
       "      <th>title</th>\n",
       "      <th>date</th>\n",
       "      <th>judge</th>\n",
       "      <th>content</th>\n",
       "      <th>link</th>\n",
       "      <th>year</th>\n",
       "      <th>location</th>\n",
       "    </tr>\n",
       "  </thead>\n",
       "  <tbody>\n",
       "    <tr>\n",
       "      <th>9</th>\n",
       "      <td>最高法院 106 年度 台上 字第 278 號刑事判決（12K）</td>\n",
       "      <td>106.09.28</td>\n",
       "      <td>違反證券交易法</td>\n",
       "      <td>最高法院刑事判決　　　　　　　　　　106年度台上字第278號\\n上　訴　人　臺灣高等法院檢...</td>\n",
       "      <td>https://law.judicial.gov.tw/FJUD/data.aspx?ro=...</td>\n",
       "      <td>106</td>\n",
       "      <td>最高法院</td>\n",
       "    </tr>\n",
       "    <tr>\n",
       "      <th>11</th>\n",
       "      <td>最高法院 106 年度 台上 字第 86 號刑事判決（33K）</td>\n",
       "      <td>106.05.31</td>\n",
       "      <td>違反證券交易法</td>\n",
       "      <td>最高法院刑事判決　　　　　　　　一○六年度台上字第八六號\\n上　訴　人　葉禾庠（原名葉健和）...</td>\n",
       "      <td>https://law.judicial.gov.tw/FJUD/data.aspx?ro=...</td>\n",
       "      <td>106</td>\n",
       "      <td>最高法院</td>\n",
       "    </tr>\n",
       "    <tr>\n",
       "      <th>12</th>\n",
       "      <td>最高法院 106 年度 台上 字第 1115 號刑事判決（13K）</td>\n",
       "      <td>106.05.04</td>\n",
       "      <td>違反證券交易法</td>\n",
       "      <td>最高法院刑事判決　　　　　　一○六年度台上字第一一一五號\\n上　訴　人　黃文賢\\n選任辯護人...</td>\n",
       "      <td>https://law.judicial.gov.tw/FJUD/data.aspx?ro=...</td>\n",
       "      <td>106</td>\n",
       "      <td>最高法院</td>\n",
       "    </tr>\n",
       "    <tr>\n",
       "      <th>15</th>\n",
       "      <td>最高法院 105 年度 台上 字第 2144 號刑事判決（20K）</td>\n",
       "      <td>105.08.23</td>\n",
       "      <td>違反證券交易法</td>\n",
       "      <td>最高法院刑事判決　　　　　　一○五年度台上字第二一四四號\\n上　訴　人　台灣高等法院檢察署檢...</td>\n",
       "      <td>https://law.judicial.gov.tw/FJUD/data.aspx?ro=...</td>\n",
       "      <td>105</td>\n",
       "      <td>最高法院</td>\n",
       "    </tr>\n",
       "    <tr>\n",
       "      <th>16</th>\n",
       "      <td>最高法院 105 年度 台上 字第 1948 號刑事判決（14K）</td>\n",
       "      <td>105.08.04</td>\n",
       "      <td>違反證券交易法</td>\n",
       "      <td>最高法院刑事判決　　　　　　一○五年度台上字第一九四八號\\n上　訴　人　郭麗美\\n選任辯護人...</td>\n",
       "      <td>https://law.judicial.gov.tw/FJUD/data.aspx?ro=...</td>\n",
       "      <td>105</td>\n",
       "      <td>最高法院</td>\n",
       "    </tr>\n",
       "    <tr>\n",
       "      <th>18</th>\n",
       "      <td>最高法院 104 年度 台上 字第 3516 號刑事判決（5K）</td>\n",
       "      <td>104.11.19</td>\n",
       "      <td>違反證券交易法</td>\n",
       "      <td>最高法院刑事判決　　　　　　一○四年度台上字第三五一六號\\n上　訴　人　陳俟杰\\n上列上訴人...</td>\n",
       "      <td>https://law.judicial.gov.tw/FJUD/data.aspx?ro=...</td>\n",
       "      <td>104</td>\n",
       "      <td>最高法院</td>\n",
       "    </tr>\n",
       "    <tr>\n",
       "      <th>20</th>\n",
       "      <td>最高法院 104 年度 台上 字第 3041 號刑事判決（25K）</td>\n",
       "      <td>104.10.08</td>\n",
       "      <td>違反證券交易法</td>\n",
       "      <td>最高法院刑事判決　　　　　　一○四年度台上字第三○四一號\\n上　訴　人　台灣高等法院檢察署檢...</td>\n",
       "      <td>https://law.judicial.gov.tw/FJUD/data.aspx?ro=...</td>\n",
       "      <td>104</td>\n",
       "      <td>最高法院</td>\n",
       "    </tr>\n",
       "    <tr>\n",
       "      <th>23</th>\n",
       "      <td>最高法院 104 年度 台非 字第 107 號刑事判決（8K）</td>\n",
       "      <td>104.04.16</td>\n",
       "      <td>違反證券交易法</td>\n",
       "      <td>最高法院刑事判決　　　　　　　一○四年度台非字第一○七號\\n上　訴　人　最高法院檢察署檢察總...</td>\n",
       "      <td>https://law.judicial.gov.tw/FJUD/data.aspx?ro=...</td>\n",
       "      <td>104</td>\n",
       "      <td>最高法院</td>\n",
       "    </tr>\n",
       "    <tr>\n",
       "      <th>24</th>\n",
       "      <td>最高法院 104 年度 台上 字第 1060 號刑事判決（13K）</td>\n",
       "      <td>104.04.16</td>\n",
       "      <td>違反證券交易法</td>\n",
       "      <td>最高法院刑事判決　　　　　　一○四年度台上字第一○六○號\\n上　訴　人　張伊犂\\n選任辯護人...</td>\n",
       "      <td>https://law.judicial.gov.tw/FJUD/data.aspx?ro=...</td>\n",
       "      <td>104</td>\n",
       "      <td>最高法院</td>\n",
       "    </tr>\n",
       "    <tr>\n",
       "      <th>29</th>\n",
       "      <td>最高法院 103 年度 台上 字第 196 號刑事判決（7K）</td>\n",
       "      <td>103.01.16</td>\n",
       "      <td>違反證券交易法</td>\n",
       "      <td>最高法院刑事判決　　　　　　　一○三年度台上字第一九六號\\n上　訴　人　唐濟群\\n選任辯護人...</td>\n",
       "      <td>https://law.judicial.gov.tw/FJUD/data.aspx?ro=...</td>\n",
       "      <td>103</td>\n",
       "      <td>最高法院</td>\n",
       "    </tr>\n",
       "    <tr>\n",
       "      <th>30</th>\n",
       "      <td>最高法院 103 年度 台上 字第 125 號刑事判決（5K）</td>\n",
       "      <td>103.01.09</td>\n",
       "      <td>違反證券交易法</td>\n",
       "      <td>最高法院刑事判決　　　　　　　一○三年度台上字第一二五號\\n上　訴　人　蔡昌佑\\n選任辯護人...</td>\n",
       "      <td>https://law.judicial.gov.tw/FJUD/data.aspx?ro=...</td>\n",
       "      <td>103</td>\n",
       "      <td>最高法院</td>\n",
       "    </tr>\n",
       "    <tr>\n",
       "      <th>35</th>\n",
       "      <td>最高法院 100 年度 台上 字第 2611 號刑事判決（21K）</td>\n",
       "      <td>100.05.19</td>\n",
       "      <td>違反證券交易法</td>\n",
       "      <td>最高法院刑事判決　　　　　　一○○年度台上字第二六一一號\\n上　訴　人　吳晉維原名吳振彰.\\...</td>\n",
       "      <td>https://law.judicial.gov.tw/FJUD/data.aspx?ro=...</td>\n",
       "      <td>100</td>\n",
       "      <td>最高法院</td>\n",
       "    </tr>\n",
       "    <tr>\n",
       "      <th>36</th>\n",
       "      <td>最高法院 100 年度 台上 字第 995 號刑事判決（24K）</td>\n",
       "      <td>100.03.03</td>\n",
       "      <td>違反證券交易法</td>\n",
       "      <td>最高法院刑事判決　　　　　　　一○○年度台上字第九九五號\\n上　訴　人　台灣高等法院高雄分院...</td>\n",
       "      <td>https://law.judicial.gov.tw/FJUD/data.aspx?ro=...</td>\n",
       "      <td>100</td>\n",
       "      <td>最高法院</td>\n",
       "    </tr>\n",
       "    <tr>\n",
       "      <th>38</th>\n",
       "      <td>最高法院 99 年度 台上 字第 7323 號刑事判決（6K）</td>\n",
       "      <td>99.11.25</td>\n",
       "      <td>違反證券交易法</td>\n",
       "      <td>最高法院刑事判決　　　　　　九十九年度台上字第七三二三號\\n上　訴　人　李良奇\\n選任辯護人...</td>\n",
       "      <td>https://law.judicial.gov.tw/FJUD/data.aspx?ro=...</td>\n",
       "      <td>99</td>\n",
       "      <td>最高法院</td>\n",
       "    </tr>\n",
       "    <tr>\n",
       "      <th>40</th>\n",
       "      <td>最高法院 99 年度 台上 字第 3110 號刑事判決（11K）</td>\n",
       "      <td>99.05.20</td>\n",
       "      <td>違反證券交易法</td>\n",
       "      <td>最高法院刑事判決　　　　　　九十九年度台上字第三一一０號\\n上　訴　人　甲○○\\n選任辯護人...</td>\n",
       "      <td>https://law.judicial.gov.tw/FJUD/data.aspx?ro=...</td>\n",
       "      <td>99</td>\n",
       "      <td>最高法院</td>\n",
       "    </tr>\n",
       "    <tr>\n",
       "      <th>41</th>\n",
       "      <td>最高法院 98 年度 台上 字第 6896 號刑事判決（9K）</td>\n",
       "      <td>98.11.19</td>\n",
       "      <td>違反證券交易法</td>\n",
       "      <td>最高法院刑事判決　　　　　　九十八年度台上字第六八九六號\\n上　訴　人　丙○○\\n選任辯護人...</td>\n",
       "      <td>https://law.judicial.gov.tw/FJUD/data.aspx?ro=...</td>\n",
       "      <td>98</td>\n",
       "      <td>最高法院</td>\n",
       "    </tr>\n",
       "  </tbody>\n",
       "</table>\n",
       "</div>"
      ],
      "text/plain": [
       "                                title       date    judge  \\\n",
       "9    最高法院 106 年度 台上 字第 278 號刑事判決（12K）  106.09.28  違反證券交易法   \n",
       "11    最高法院 106 年度 台上 字第 86 號刑事判決（33K）  106.05.31  違反證券交易法   \n",
       "12  最高法院 106 年度 台上 字第 1115 號刑事判決（13K）  106.05.04  違反證券交易法   \n",
       "15  最高法院 105 年度 台上 字第 2144 號刑事判決（20K）  105.08.23  違反證券交易法   \n",
       "16  最高法院 105 年度 台上 字第 1948 號刑事判決（14K）  105.08.04  違反證券交易法   \n",
       "18   最高法院 104 年度 台上 字第 3516 號刑事判決（5K）  104.11.19  違反證券交易法   \n",
       "20  最高法院 104 年度 台上 字第 3041 號刑事判決（25K）  104.10.08  違反證券交易法   \n",
       "23    最高法院 104 年度 台非 字第 107 號刑事判決（8K）  104.04.16  違反證券交易法   \n",
       "24  最高法院 104 年度 台上 字第 1060 號刑事判決（13K）  104.04.16  違反證券交易法   \n",
       "29    最高法院 103 年度 台上 字第 196 號刑事判決（7K）  103.01.16  違反證券交易法   \n",
       "30    最高法院 103 年度 台上 字第 125 號刑事判決（5K）  103.01.09  違反證券交易法   \n",
       "35  最高法院 100 年度 台上 字第 2611 號刑事判決（21K）  100.05.19  違反證券交易法   \n",
       "36   最高法院 100 年度 台上 字第 995 號刑事判決（24K）  100.03.03  違反證券交易法   \n",
       "38    最高法院 99 年度 台上 字第 7323 號刑事判決（6K）   99.11.25  違反證券交易法   \n",
       "40   最高法院 99 年度 台上 字第 3110 號刑事判決（11K）   99.05.20  違反證券交易法   \n",
       "41    最高法院 98 年度 台上 字第 6896 號刑事判決（9K）   98.11.19  違反證券交易法   \n",
       "\n",
       "                                              content  \\\n",
       "9   最高法院刑事判決　　　　　　　　　　106年度台上字第278號\\n上　訴　人　臺灣高等法院檢...   \n",
       "11  最高法院刑事判決　　　　　　　　一○六年度台上字第八六號\\n上　訴　人　葉禾庠（原名葉健和）...   \n",
       "12  最高法院刑事判決　　　　　　一○六年度台上字第一一一五號\\n上　訴　人　黃文賢\\n選任辯護人...   \n",
       "15  最高法院刑事判決　　　　　　一○五年度台上字第二一四四號\\n上　訴　人　台灣高等法院檢察署檢...   \n",
       "16  最高法院刑事判決　　　　　　一○五年度台上字第一九四八號\\n上　訴　人　郭麗美\\n選任辯護人...   \n",
       "18  最高法院刑事判決　　　　　　一○四年度台上字第三五一六號\\n上　訴　人　陳俟杰\\n上列上訴人...   \n",
       "20  最高法院刑事判決　　　　　　一○四年度台上字第三○四一號\\n上　訴　人　台灣高等法院檢察署檢...   \n",
       "23  最高法院刑事判決　　　　　　　一○四年度台非字第一○七號\\n上　訴　人　最高法院檢察署檢察總...   \n",
       "24  最高法院刑事判決　　　　　　一○四年度台上字第一○六○號\\n上　訴　人　張伊犂\\n選任辯護人...   \n",
       "29  最高法院刑事判決　　　　　　　一○三年度台上字第一九六號\\n上　訴　人　唐濟群\\n選任辯護人...   \n",
       "30  最高法院刑事判決　　　　　　　一○三年度台上字第一二五號\\n上　訴　人　蔡昌佑\\n選任辯護人...   \n",
       "35  最高法院刑事判決　　　　　　一○○年度台上字第二六一一號\\n上　訴　人　吳晉維原名吳振彰.\\...   \n",
       "36  最高法院刑事判決　　　　　　　一○○年度台上字第九九五號\\n上　訴　人　台灣高等法院高雄分院...   \n",
       "38  最高法院刑事判決　　　　　　九十九年度台上字第七三二三號\\n上　訴　人　李良奇\\n選任辯護人...   \n",
       "40  最高法院刑事判決　　　　　　九十九年度台上字第三一一０號\\n上　訴　人　甲○○\\n選任辯護人...   \n",
       "41  最高法院刑事判決　　　　　　九十八年度台上字第六八九六號\\n上　訴　人　丙○○\\n選任辯護人...   \n",
       "\n",
       "                                                 link year location  \n",
       "9   https://law.judicial.gov.tw/FJUD/data.aspx?ro=...  106     最高法院  \n",
       "11  https://law.judicial.gov.tw/FJUD/data.aspx?ro=...  106     最高法院  \n",
       "12  https://law.judicial.gov.tw/FJUD/data.aspx?ro=...  106     最高法院  \n",
       "15  https://law.judicial.gov.tw/FJUD/data.aspx?ro=...  105     最高法院  \n",
       "16  https://law.judicial.gov.tw/FJUD/data.aspx?ro=...  105     最高法院  \n",
       "18  https://law.judicial.gov.tw/FJUD/data.aspx?ro=...  104     最高法院  \n",
       "20  https://law.judicial.gov.tw/FJUD/data.aspx?ro=...  104     最高法院  \n",
       "23  https://law.judicial.gov.tw/FJUD/data.aspx?ro=...  104     最高法院  \n",
       "24  https://law.judicial.gov.tw/FJUD/data.aspx?ro=...  104     最高法院  \n",
       "29  https://law.judicial.gov.tw/FJUD/data.aspx?ro=...  103     最高法院  \n",
       "30  https://law.judicial.gov.tw/FJUD/data.aspx?ro=...  103     最高法院  \n",
       "35  https://law.judicial.gov.tw/FJUD/data.aspx?ro=...  100     最高法院  \n",
       "36  https://law.judicial.gov.tw/FJUD/data.aspx?ro=...  100     最高法院  \n",
       "38  https://law.judicial.gov.tw/FJUD/data.aspx?ro=...   99     最高法院  \n",
       "40  https://law.judicial.gov.tw/FJUD/data.aspx?ro=...   99     最高法院  \n",
       "41  https://law.judicial.gov.tw/FJUD/data.aspx?ro=...   98     最高法院  "
      ]
     },
     "execution_count": 20,
     "metadata": {},
     "output_type": "execute_result"
    }
   ],
   "source": [
    "judge1.get_group(\"違反證券交易法\")"
   ]
  },
  {
   "cell_type": "markdown",
   "metadata": {},
   "source": [
    "## 練習3:取出年份為104年且判決為\"違反證券交易法等罪\"的資料(難度:中等3分)"
   ]
  },
  {
   "cell_type": "markdown",
   "metadata": {},
   "source": [
    "提示:使用 groupby 以及 get_group 方法找出題目所需資料"
   ]
  },
  {
   "cell_type": "code",
   "execution_count": 21,
   "metadata": {},
   "outputs": [],
   "source": [
    "# 將程式輸入在這裡\n"
   ]
  },
  {
   "cell_type": "markdown",
   "metadata": {},
   "source": [
    "***"
   ]
  },
  {
   "cell_type": "markdown",
   "metadata": {},
   "source": [
    "### filter 篩選部分資料"
   ]
  },
  {
   "cell_type": "code",
   "execution_count": 22,
   "metadata": {},
   "outputs": [
    {
     "data": {
      "text/html": [
       "<div>\n",
       "<style scoped>\n",
       "    .dataframe tbody tr th:only-of-type {\n",
       "        vertical-align: middle;\n",
       "    }\n",
       "\n",
       "    .dataframe tbody tr th {\n",
       "        vertical-align: top;\n",
       "    }\n",
       "\n",
       "    .dataframe thead th {\n",
       "        text-align: right;\n",
       "    }\n",
       "</style>\n",
       "<table border=\"1\" class=\"dataframe\">\n",
       "  <thead>\n",
       "    <tr style=\"text-align: right;\">\n",
       "      <th></th>\n",
       "      <th>title</th>\n",
       "      <th>date</th>\n",
       "      <th>judge</th>\n",
       "    </tr>\n",
       "  </thead>\n",
       "  <tbody>\n",
       "    <tr>\n",
       "      <th>0</th>\n",
       "      <td>最高法院 108 年度 台上 字第 2708 號刑事判決（15K）</td>\n",
       "      <td>109.09.30</td>\n",
       "      <td>詐欺</td>\n",
       "    </tr>\n",
       "    <tr>\n",
       "      <th>1</th>\n",
       "      <td>最高法院 109 年度 台上 字第 1719 號刑事判決（29K）</td>\n",
       "      <td>109.04.15</td>\n",
       "      <td>違反證券交易法等罪</td>\n",
       "    </tr>\n",
       "    <tr>\n",
       "      <th>2</th>\n",
       "      <td>最高法院 108 年度 台上 字第 4056 號刑事判決（29K）</td>\n",
       "      <td>109.04.15</td>\n",
       "      <td>違反證券交易法等罪</td>\n",
       "    </tr>\n",
       "    <tr>\n",
       "      <th>3</th>\n",
       "      <td>最高法院 108 年度 台上 字第 16 號刑事判決（37K）</td>\n",
       "      <td>109.01.16</td>\n",
       "      <td>違反證券交易法等罪</td>\n",
       "    </tr>\n",
       "    <tr>\n",
       "      <th>4</th>\n",
       "      <td>最高法院 109 年度 台抗 字第 46 號刑事裁定（5K）</td>\n",
       "      <td>109.01.09</td>\n",
       "      <td>違反證券交易法等罪不服再執行羈押</td>\n",
       "    </tr>\n",
       "  </tbody>\n",
       "</table>\n",
       "</div>"
      ],
      "text/plain": [
       "                               title       date             judge\n",
       "0  最高法院 108 年度 台上 字第 2708 號刑事判決（15K）  109.09.30                詐欺\n",
       "1  最高法院 109 年度 台上 字第 1719 號刑事判決（29K）  109.04.15         違反證券交易法等罪\n",
       "2  最高法院 108 年度 台上 字第 4056 號刑事判決（29K）  109.04.15         違反證券交易法等罪\n",
       "3    最高法院 108 年度 台上 字第 16 號刑事判決（37K）  109.01.16         違反證券交易法等罪\n",
       "4     最高法院 109 年度 台抗 字第 46 號刑事裁定（5K）  109.01.09  違反證券交易法等罪不服再執行羈押"
      ]
     },
     "execution_count": 22,
     "metadata": {},
     "output_type": "execute_result"
    }
   ],
   "source": [
    "new1 = data.filter([\"title\", \"date\", \"judge\"])\n",
    "new1.head()"
   ]
  },
  {
   "cell_type": "markdown",
   "metadata": {},
   "source": [
    "### 「台上」指的就是最高法院的判決\n",
    "### str.contains 括號中間放要包含的文字"
   ]
  },
  {
   "cell_type": "code",
   "execution_count": 23,
   "metadata": {},
   "outputs": [
    {
     "name": "stdout",
     "output_type": "stream",
     "text": [
      "39\n"
     ]
    },
    {
     "data": {
      "text/html": [
       "<div>\n",
       "<style scoped>\n",
       "    .dataframe tbody tr th:only-of-type {\n",
       "        vertical-align: middle;\n",
       "    }\n",
       "\n",
       "    .dataframe tbody tr th {\n",
       "        vertical-align: top;\n",
       "    }\n",
       "\n",
       "    .dataframe thead th {\n",
       "        text-align: right;\n",
       "    }\n",
       "</style>\n",
       "<table border=\"1\" class=\"dataframe\">\n",
       "  <thead>\n",
       "    <tr style=\"text-align: right;\">\n",
       "      <th></th>\n",
       "      <th>title</th>\n",
       "      <th>date</th>\n",
       "      <th>judge</th>\n",
       "      <th>content</th>\n",
       "      <th>link</th>\n",
       "      <th>year</th>\n",
       "      <th>location</th>\n",
       "    </tr>\n",
       "  </thead>\n",
       "  <tbody>\n",
       "    <tr>\n",
       "      <th>0</th>\n",
       "      <td>最高法院 108 年度 台上 字第 2708 號刑事判決（15K）</td>\n",
       "      <td>109.09.30</td>\n",
       "      <td>詐欺</td>\n",
       "      <td>最高法院刑事判決　　　　　　　　　 108年度台上字第2708號\\n上　訴　人　林鶴爵\\n\\...</td>\n",
       "      <td>https://law.judicial.gov.tw/FJUD/data.aspx?ro=...</td>\n",
       "      <td>108</td>\n",
       "      <td>最高法院</td>\n",
       "    </tr>\n",
       "    <tr>\n",
       "      <th>1</th>\n",
       "      <td>最高法院 109 年度 台上 字第 1719 號刑事判決（29K）</td>\n",
       "      <td>109.04.15</td>\n",
       "      <td>違反證券交易法等罪</td>\n",
       "      <td>最高法院刑事判決　　　　　　　　　 108年度台上字第4056號\\n　　　　　　　　　　　　...</td>\n",
       "      <td>https://law.judicial.gov.tw/FJUD/data.aspx?ro=...</td>\n",
       "      <td>109</td>\n",
       "      <td>最高法院</td>\n",
       "    </tr>\n",
       "    <tr>\n",
       "      <th>2</th>\n",
       "      <td>最高法院 108 年度 台上 字第 4056 號刑事判決（29K）</td>\n",
       "      <td>109.04.15</td>\n",
       "      <td>違反證券交易法等罪</td>\n",
       "      <td>最高法院刑事判決　　　　　　　　　 108年度台上字第4056號\\n　　　　　　　　　　　　...</td>\n",
       "      <td>https://law.judicial.gov.tw/FJUD/data.aspx?ro=...</td>\n",
       "      <td>108</td>\n",
       "      <td>最高法院</td>\n",
       "    </tr>\n",
       "    <tr>\n",
       "      <th>3</th>\n",
       "      <td>最高法院 108 年度 台上 字第 16 號刑事判決（37K）</td>\n",
       "      <td>109.01.16</td>\n",
       "      <td>違反證券交易法等罪</td>\n",
       "      <td>最高法院刑事判決　　　　　　　　　　 108年度台上字第16號\\n上　訴　人　臺灣高等檢察署...</td>\n",
       "      <td>https://law.judicial.gov.tw/FJUD/data.aspx?ro=...</td>\n",
       "      <td>108</td>\n",
       "      <td>最高法院</td>\n",
       "    </tr>\n",
       "    <tr>\n",
       "      <th>5</th>\n",
       "      <td>最高法院 107 年度 台上 字第 846 號民事判決（11K）</td>\n",
       "      <td>108.03.27</td>\n",
       "      <td>請求損害賠償</td>\n",
       "      <td>最高法院民事判決　　　　　　　　　　107年度台上字第846號\\n上　 訴　 人　財團法人證...</td>\n",
       "      <td>https://law.judicial.gov.tw/FJUD/data.aspx?ro=...</td>\n",
       "      <td>107</td>\n",
       "      <td>最高法院</td>\n",
       "    </tr>\n",
       "  </tbody>\n",
       "</table>\n",
       "</div>"
      ],
      "text/plain": [
       "                               title       date      judge  \\\n",
       "0  最高法院 108 年度 台上 字第 2708 號刑事判決（15K）  109.09.30         詐欺   \n",
       "1  最高法院 109 年度 台上 字第 1719 號刑事判決（29K）  109.04.15  違反證券交易法等罪   \n",
       "2  最高法院 108 年度 台上 字第 4056 號刑事判決（29K）  109.04.15  違反證券交易法等罪   \n",
       "3    最高法院 108 年度 台上 字第 16 號刑事判決（37K）  109.01.16  違反證券交易法等罪   \n",
       "5   最高法院 107 年度 台上 字第 846 號民事判決（11K）  108.03.27     請求損害賠償   \n",
       "\n",
       "                                             content  \\\n",
       "0  最高法院刑事判決　　　　　　　　　 108年度台上字第2708號\\n上　訴　人　林鶴爵\\n\\...   \n",
       "1  最高法院刑事判決　　　　　　　　　 108年度台上字第4056號\\n　　　　　　　　　　　　...   \n",
       "2  最高法院刑事判決　　　　　　　　　 108年度台上字第4056號\\n　　　　　　　　　　　　...   \n",
       "3  最高法院刑事判決　　　　　　　　　　 108年度台上字第16號\\n上　訴　人　臺灣高等檢察署...   \n",
       "5  最高法院民事判決　　　　　　　　　　107年度台上字第846號\\n上　 訴　 人　財團法人證...   \n",
       "\n",
       "                                                link year location  \n",
       "0  https://law.judicial.gov.tw/FJUD/data.aspx?ro=...  108     最高法院  \n",
       "1  https://law.judicial.gov.tw/FJUD/data.aspx?ro=...  109     最高法院  \n",
       "2  https://law.judicial.gov.tw/FJUD/data.aspx?ro=...  108     最高法院  \n",
       "3  https://law.judicial.gov.tw/FJUD/data.aspx?ro=...  108     最高法院  \n",
       "5  https://law.judicial.gov.tw/FJUD/data.aspx?ro=...  107     最高法院  "
      ]
     },
     "execution_count": 23,
     "metadata": {},
     "output_type": "execute_result"
    }
   ],
   "source": [
    "new2=data[data[\"title\"].str.contains(\"台上\")]\n",
    "print(len(new2))\n",
    "new2.head()"
   ]
  },
  {
   "cell_type": "code",
   "execution_count": 24,
   "metadata": {},
   "outputs": [
    {
     "data": {
      "text/plain": [
       "0     True\n",
       "1    False\n",
       "2     True\n",
       "3     True\n",
       "4    False\n",
       "5    False\n",
       "6     True\n",
       "7    False\n",
       "8    False\n",
       "9    False\n",
       "Name: year, dtype: bool"
      ]
     },
     "execution_count": 24,
     "metadata": {},
     "output_type": "execute_result"
    }
   ],
   "source": [
    "a = data[\"year\"]==\"108\"\n",
    "a[:10]"
   ]
  },
  {
   "cell_type": "code",
   "execution_count": 25,
   "metadata": {},
   "outputs": [
    {
     "data": {
      "text/html": [
       "<div>\n",
       "<style scoped>\n",
       "    .dataframe tbody tr th:only-of-type {\n",
       "        vertical-align: middle;\n",
       "    }\n",
       "\n",
       "    .dataframe tbody tr th {\n",
       "        vertical-align: top;\n",
       "    }\n",
       "\n",
       "    .dataframe thead th {\n",
       "        text-align: right;\n",
       "    }\n",
       "</style>\n",
       "<table border=\"1\" class=\"dataframe\">\n",
       "  <thead>\n",
       "    <tr style=\"text-align: right;\">\n",
       "      <th></th>\n",
       "      <th>title</th>\n",
       "      <th>date</th>\n",
       "      <th>judge</th>\n",
       "      <th>content</th>\n",
       "      <th>link</th>\n",
       "      <th>year</th>\n",
       "      <th>location</th>\n",
       "    </tr>\n",
       "  </thead>\n",
       "  <tbody>\n",
       "    <tr>\n",
       "      <th>0</th>\n",
       "      <td>最高法院 108 年度 台上 字第 2708 號刑事判決（15K）</td>\n",
       "      <td>109.09.30</td>\n",
       "      <td>詐欺</td>\n",
       "      <td>最高法院刑事判決　　　　　　　　　 108年度台上字第2708號\\n上　訴　人　林鶴爵\\n\\...</td>\n",
       "      <td>https://law.judicial.gov.tw/FJUD/data.aspx?ro=...</td>\n",
       "      <td>108</td>\n",
       "      <td>最高法院</td>\n",
       "    </tr>\n",
       "    <tr>\n",
       "      <th>2</th>\n",
       "      <td>最高法院 108 年度 台上 字第 4056 號刑事判決（29K）</td>\n",
       "      <td>109.04.15</td>\n",
       "      <td>違反證券交易法等罪</td>\n",
       "      <td>最高法院刑事判決　　　　　　　　　 108年度台上字第4056號\\n　　　　　　　　　　　　...</td>\n",
       "      <td>https://law.judicial.gov.tw/FJUD/data.aspx?ro=...</td>\n",
       "      <td>108</td>\n",
       "      <td>最高法院</td>\n",
       "    </tr>\n",
       "    <tr>\n",
       "      <th>3</th>\n",
       "      <td>最高法院 108 年度 台上 字第 16 號刑事判決（37K）</td>\n",
       "      <td>109.01.16</td>\n",
       "      <td>違反證券交易法等罪</td>\n",
       "      <td>最高法院刑事判決　　　　　　　　　　 108年度台上字第16號\\n上　訴　人　臺灣高等檢察署...</td>\n",
       "      <td>https://law.judicial.gov.tw/FJUD/data.aspx?ro=...</td>\n",
       "      <td>108</td>\n",
       "      <td>最高法院</td>\n",
       "    </tr>\n",
       "    <tr>\n",
       "      <th>6</th>\n",
       "      <td>最高法院 108 年度 台抗 字第 355 號刑事裁定（3K）</td>\n",
       "      <td>108.03.21</td>\n",
       "      <td>違反證券交易法等罪聲請具保停止羈押</td>\n",
       "      <td>最高法院刑事裁定　　　　　　　　　　108年度台抗字第355號\\n抗　告　人　 臺灣高等檢察...</td>\n",
       "      <td>https://law.judicial.gov.tw/FJUD/data.aspx?ro=...</td>\n",
       "      <td>108</td>\n",
       "      <td>最高法院</td>\n",
       "    </tr>\n",
       "  </tbody>\n",
       "</table>\n",
       "</div>"
      ],
      "text/plain": [
       "                               title       date              judge  \\\n",
       "0  最高法院 108 年度 台上 字第 2708 號刑事判決（15K）  109.09.30                 詐欺   \n",
       "2  最高法院 108 年度 台上 字第 4056 號刑事判決（29K）  109.04.15          違反證券交易法等罪   \n",
       "3    最高法院 108 年度 台上 字第 16 號刑事判決（37K）  109.01.16          違反證券交易法等罪   \n",
       "6    最高法院 108 年度 台抗 字第 355 號刑事裁定（3K）  108.03.21  違反證券交易法等罪聲請具保停止羈押   \n",
       "\n",
       "                                             content  \\\n",
       "0  最高法院刑事判決　　　　　　　　　 108年度台上字第2708號\\n上　訴　人　林鶴爵\\n\\...   \n",
       "2  最高法院刑事判決　　　　　　　　　 108年度台上字第4056號\\n　　　　　　　　　　　　...   \n",
       "3  最高法院刑事判決　　　　　　　　　　 108年度台上字第16號\\n上　訴　人　臺灣高等檢察署...   \n",
       "6  最高法院刑事裁定　　　　　　　　　　108年度台抗字第355號\\n抗　告　人　 臺灣高等檢察...   \n",
       "\n",
       "                                                link year location  \n",
       "0  https://law.judicial.gov.tw/FJUD/data.aspx?ro=...  108     最高法院  \n",
       "2  https://law.judicial.gov.tw/FJUD/data.aspx?ro=...  108     最高法院  \n",
       "3  https://law.judicial.gov.tw/FJUD/data.aspx?ro=...  108     最高法院  \n",
       "6  https://law.judicial.gov.tw/FJUD/data.aspx?ro=...  108     最高法院  "
      ]
     },
     "execution_count": 25,
     "metadata": {},
     "output_type": "execute_result"
    }
   ],
   "source": [
    "data[data[\"year\"]==\"108\"]"
   ]
  },
  {
   "cell_type": "markdown",
   "metadata": {},
   "source": [
    "## 練習4:篩選出日期為下半年度的資料(6~12月)，且只有顯示標題(title)、日期(date)、內容(content)(難度:困難5分)"
   ]
  },
  {
   "cell_type": "markdown",
   "metadata": {},
   "source": [
    "提示:\n",
    "<br>1.先使用剛開始說的提取資料並合併到資料中，提取月份成一個新欄位出來\n",
    "<br>2.找出下半年的資料\n",
    "<br>3.最後使用filter顯示部分欄位"
   ]
  },
  {
   "cell_type": "code",
   "execution_count": 26,
   "metadata": {},
   "outputs": [],
   "source": [
    "# 將程式輸入在這裡\n"
   ]
  },
  {
   "cell_type": "markdown",
   "metadata": {},
   "source": [
    "***"
   ]
  },
  {
   "cell_type": "markdown",
   "metadata": {},
   "source": [
    "### unique 找出唯一值"
   ]
  },
  {
   "cell_type": "code",
   "execution_count": 27,
   "metadata": {
    "scrolled": true
   },
   "outputs": [
    {
     "data": {
      "text/plain": [
       "array(['108', '109', '107', '106', '105', '104', '103', '102', '101',\n",
       "       '100', '99', '98', '96', '85'], dtype=object)"
      ]
     },
     "execution_count": 27,
     "metadata": {},
     "output_type": "execute_result"
    }
   ],
   "source": [
    "data[\"year\"].unique()"
   ]
  },
  {
   "cell_type": "markdown",
   "metadata": {},
   "source": [
    "### 使用變數儲存資料"
   ]
  },
  {
   "cell_type": "code",
   "execution_count": 28,
   "metadata": {},
   "outputs": [
    {
     "name": "stdout",
     "output_type": "stream",
     "text": [
      "['詐欺' '違反證券交易法等罪' '違反證券交易法等罪不服再執行羈押' '請求損害賠償' '違反證券交易法等罪聲請具保停止羈押'\n",
      " '請求侵權行為損害賠償' '違反證券交易法' '違反證券交易法等罪限制出境出海' '請求侵權行為損害賠償等'\n",
      " '違反證券交易法等罪聲請再審及停止執行' '違反商業會計法' '損害賠償' '偽造文書等罪' '偽造有價證券']\n"
     ]
    }
   ],
   "source": [
    "j = data[\"judge\"].unique()\n",
    "print(j)"
   ]
  },
  {
   "cell_type": "markdown",
   "metadata": {},
   "source": [
    "### 觀察資料格式"
   ]
  },
  {
   "cell_type": "code",
   "execution_count": 29,
   "metadata": {},
   "outputs": [
    {
     "name": "stdout",
     "output_type": "stream",
     "text": [
      "<class 'numpy.ndarray'>\n"
     ]
    }
   ],
   "source": [
    "print(type(j))"
   ]
  },
  {
   "cell_type": "markdown",
   "metadata": {},
   "source": [
    "### 列出第一筆資料"
   ]
  },
  {
   "cell_type": "code",
   "execution_count": 30,
   "metadata": {},
   "outputs": [
    {
     "name": "stdout",
     "output_type": "stream",
     "text": [
      "詐欺\n"
     ]
    }
   ],
   "source": [
    "print(j[0])"
   ]
  },
  {
   "cell_type": "markdown",
   "metadata": {},
   "source": [
    "## 練習5:利用unique、str.contains方法找出判決為\"損害賠償\"資料(難度:中等3分)"
   ]
  },
  {
   "cell_type": "markdown",
   "metadata": {},
   "source": [
    "提示:先使用unique找出判決中\"損害賠償\"的位置，再使用str.contain找出有包含的資料出來"
   ]
  },
  {
   "cell_type": "code",
   "execution_count": 31,
   "metadata": {},
   "outputs": [],
   "source": [
    "# 將程式輸入在這裡\n"
   ]
  },
  {
   "cell_type": "code",
   "execution_count": null,
   "metadata": {},
   "outputs": [],
   "source": []
  }
 ],
 "metadata": {
  "kernelspec": {
   "display_name": "Python 3",
   "language": "python",
   "name": "python3"
  },
  "language_info": {
   "codemirror_mode": {
    "name": "ipython",
    "version": 3
   },
   "file_extension": ".py",
   "mimetype": "text/x-python",
   "name": "python",
   "nbconvert_exporter": "python",
   "pygments_lexer": "ipython3",
   "version": "3.6.6"
  }
 },
 "nbformat": 4,
 "nbformat_minor": 2
}
