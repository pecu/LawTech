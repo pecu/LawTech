{
 "cells": [
  {
   "cell_type": "markdown",
   "metadata": {},
   "source": [
    "# 執行第一隻Python程式碼！"
   ]
  },
  {
   "cell_type": "code",
   "execution_count": 1,
   "metadata": {},
   "outputs": [
    {
     "name": "stdout",
     "output_type": "stream",
     "text": [
      "Hello World!\n"
     ]
    }
   ],
   "source": [
    "print(\"Hello World!\")"
   ]
  },
  {
   "cell_type": "markdown",
   "metadata": {},
   "source": [
    "---\n",
    "# 變數型態認識"
   ]
  },
  {
   "cell_type": "markdown",
   "metadata": {},
   "source": [
    "## 變數宣告\n",
    "---"
   ]
  },
  {
   "cell_type": "code",
   "execution_count": 2,
   "metadata": {},
   "outputs": [
    {
     "name": "stdout",
     "output_type": "stream",
     "text": [
      "王小明 今年 18 歲\n"
     ]
    }
   ],
   "source": [
    "#可以宣告一串數字\n",
    "age = 18\n",
    "\n",
    "#也可以宣告一段文字\n",
    "name = \"王小明\"\n",
    "\n",
    "#結合變數print出結果\n",
    "print(name,\"今年\",age,\"歲\")"
   ]
  },
  {
   "cell_type": "code",
   "execution_count": 3,
   "metadata": {},
   "outputs": [
    {
     "name": "stdout",
     "output_type": "stream",
     "text": [
      "total =  7\n",
      "total =  -30\n"
     ]
    }
   ],
   "source": [
    "num_1 = 2\n",
    "num_2 = 5\n",
    "\n",
    "Num_1 = 20\n",
    "Num_2 = -50\n",
    "\n",
    "print(\"total = \",num_1+num_2)\n",
    "print(\"total = \",Num_1+Num_2)"
   ]
  },
  {
   "cell_type": "markdown",
   "metadata": {},
   "source": [
    "## 數值型態\n",
    "---"
   ]
  },
  {
   "cell_type": "markdown",
   "metadata": {},
   "source": [
    "### int 整數"
   ]
  },
  {
   "cell_type": "code",
   "execution_count": 4,
   "metadata": {},
   "outputs": [
    {
     "name": "stdout",
     "output_type": "stream",
     "text": [
      "int: -5865\n",
      "int: 100000000000\n"
     ]
    }
   ],
   "source": [
    "3\n",
    "15\n",
    "int_num = -5865\n",
    "print(\"int:\", int_num)\n",
    "print(\"int:\", 100000000000)"
   ]
  },
  {
   "cell_type": "markdown",
   "metadata": {},
   "source": [
    "### float 浮點數"
   ]
  },
  {
   "cell_type": "code",
   "execution_count": 5,
   "metadata": {},
   "outputs": [
    {
     "name": "stdout",
     "output_type": "stream",
     "text": [
      "float: -3897.889\n",
      "float: 5000.0\n"
     ]
    }
   ],
   "source": [
    "1.0\n",
    "3.1415926\n",
    "float_num = -3897.889\n",
    "print(\"float:\", float_num)\n",
    "print(\"float:\", 5000.0)"
   ]
  },
  {
   "cell_type": "markdown",
   "metadata": {},
   "source": [
    "### 數值運算"
   ]
  },
  {
   "cell_type": "code",
   "execution_count": 6,
   "metadata": {},
   "outputs": [
    {
     "name": "stdout",
     "output_type": "stream",
     "text": [
      "14.0 <class 'float'>\n",
      "4.5\n"
     ]
    }
   ],
   "source": [
    "num_int1 = 2\n",
    "num_int2 = 5\n",
    "\n",
    "#等號右邊可放運算式\n",
    "total = (num_int1+num_int2)*10/5\n",
    "print(total,type(total))\n",
    "\n",
    "#int與浮點數可作運算\n",
    "num_float = 2.5\n",
    "print(num_int1+num_float)"
   ]
  },
  {
   "cell_type": "code",
   "execution_count": 7,
   "metadata": {},
   "outputs": [
    {
     "name": "stdout",
     "output_type": "stream",
     "text": [
      "a的b次方為： 1000\n",
      "a除b的整數為： 3\n",
      "a除b的餘數為： 1\n"
     ]
    }
   ],
   "source": [
    "a = 10\n",
    "b = 3\n",
    "\n",
    "#次方運算\n",
    "print(\"a的b次方為：\",a**b)\n",
    "\n",
    "#取整數\n",
    "print(\"a除b的整數為：\",a//b)\n",
    "\n",
    "#取餘數\n",
    "print(\"a除b的餘數為：\",a%b)"
   ]
  },
  {
   "cell_type": "code",
   "execution_count": 8,
   "metadata": {},
   "outputs": [
    {
     "name": "stdout",
     "output_type": "stream",
     "text": [
      "11\n",
      "14\n"
     ]
    }
   ],
   "source": [
    "a = 10\n",
    "b = 3\n",
    "\n",
    "#也可進行同個數字的覆蓋運算\n",
    "a = a + 1 #->a += 1\n",
    "print(a)\n",
    "\n",
    "#也可以寫成這樣\n",
    "a += b  #->a = 11+3\n",
    "print(a)"
   ]
  },
  {
   "cell_type": "markdown",
   "metadata": {},
   "source": [
    "## 字串型態\n",
    "---"
   ]
  },
  {
   "cell_type": "markdown",
   "metadata": {},
   "source": [
    "### str 字串\n",
    "字串資料是以單引號( ' )或雙引號( \" )所包起來的文字資料，由一連串字元所組成。例如："
   ]
  },
  {
   "cell_type": "code",
   "execution_count": 9,
   "metadata": {},
   "outputs": [
    {
     "name": "stdout",
     "output_type": "stream",
     "text": [
      "這是用單引號包起來的字串 這是用雙引號包起來的字串 Any language!\n",
      " Hello \n",
      " World!\n"
     ]
    }
   ],
   "source": [
    "str_a = '這是用單引號包起來的字串'\n",
    "str_b = \"這是用雙引號包起來的字串\"\n",
    "str_c = \"Any language!\"\n",
    "print(str_a,str_b, str_c) \n",
    "\n",
    "#透過同個print()印出來的文字會成水平狀，若要斷行可透過\\n\n",
    "print(\" Hello \\n World!\")"
   ]
  },
  {
   "cell_type": "code",
   "execution_count": 10,
   "metadata": {},
   "outputs": [
    {
     "name": "stdout",
     "output_type": "stream",
     "text": [
      "'雙引號'和'單引號'交錯使用時要注意一定是偶數個\n",
      "這個字串中包含了\"雙引號和'單引號\n",
      "\n",
      "在這之中可隨意換行，\n",
      "會依照在程式碼中的格式印出來！\n",
      "\n"
     ]
    }
   ],
   "source": [
    "#如果要在字串中使用單雙引號，可以這麼做\n",
    "\n",
    "#方法一：交錯使用\n",
    "print(\"'雙引號'和'單引號'交錯使用時要注意一定是偶數個\")\n",
    "\n",
    "#方法二：利用斜線「跳脫」-> \\\" or \\'\n",
    "print(\"這個字串中包含了\\\"雙引號和\\'單引號\")\n",
    "\n",
    "#方法三：利用三組單or雙引號進行多行文字\n",
    "print(\"\"\"\n",
    "在這之中可隨意換行，\n",
    "會依照在程式碼中的格式印出來！\n",
    "\"\"\")"
   ]
  },
  {
   "cell_type": "markdown",
   "metadata": {},
   "source": [
    "### 字串運算"
   ]
  },
  {
   "cell_type": "code",
   "execution_count": 11,
   "metadata": {},
   "outputs": [
    {
     "name": "stdout",
     "output_type": "stream",
     "text": [
      "王小明王小明王小明\n",
      "王小明今年18歲!\n",
      "王小明 今年18歲 !\n"
     ]
    }
   ],
   "source": [
    "name = \"王小明\"\n",
    "age = \"今年18歲\"\n",
    "print(name*3)\n",
    "print(name+ age+ \"!\")\n",
    "print(name, age, \"!\")"
   ]
  },
  {
   "cell_type": "markdown",
   "metadata": {},
   "source": [
    "### 索引與字元\n",
    "我們可以利用索引（index）去操作字串中的字元"
   ]
  },
  {
   "cell_type": "code",
   "execution_count": 12,
   "metadata": {},
   "outputs": [
    {
     "name": "stdout",
     "output_type": "stream",
     "text": [
      "ello Wo\n",
      "Hell\n",
      "o World!\n",
      "o World\n"
     ]
    }
   ],
   "source": [
    "#記住包前不包後的原則\n",
    "x = \"Hello World!\"\n",
    "\n",
    "print(x[1:8])    #從第1個取到第7個\n",
    "print(x[:4])     #從第0個取到第3個\n",
    "print(x[4:])     #從第4個取到最後一個\n",
    "print(x[4:-1])   #從第4個取到倒數第2個"
   ]
  },
  {
   "cell_type": "markdown",
   "metadata": {},
   "source": [
    "## bool 布林值型態\n",
    "---\n",
    "布林值通常是一個運算的結果，用兩個等號( == )進行判斷，若符合回傳True，不符合則回傳False。例如："
   ]
  },
  {
   "cell_type": "code",
   "execution_count": 13,
   "metadata": {},
   "outputs": [
    {
     "name": "stdout",
     "output_type": "stream",
     "text": [
      "True\n",
      "False\n"
     ]
    }
   ],
   "source": [
    "print(1 == 1)\n",
    "print(2 == 5)"
   ]
  },
  {
   "cell_type": "code",
   "execution_count": 14,
   "metadata": {},
   "outputs": [
    {
     "name": "stdout",
     "output_type": "stream",
     "text": [
      "a>b? True\n",
      "a<b? False\n",
      "b>=c? True\n"
     ]
    }
   ],
   "source": [
    "#來看看將數字比大小會如何吧！\n",
    "a = 10\n",
    "b = 3\n",
    "c = 3\n",
    "\n",
    "print(\"a>b?\", a>b)\n",
    "print(\"a<b?\", a<b)\n",
    "print(\"b>=c?\", b>=c)"
   ]
  },
  {
   "cell_type": "code",
   "execution_count": 15,
   "metadata": {},
   "outputs": [
    {
     "name": "stdout",
     "output_type": "stream",
     "text": [
      "b=d? True\n",
      "b>=d? True\n"
     ]
    }
   ],
   "source": [
    "d = '3'\n",
    "print(\"b=d?\", b==int(d))\n",
    "print(\"b>=d?\", b>=int(d))"
   ]
  },
  {
   "cell_type": "markdown",
   "metadata": {},
   "source": [
    "## 轉換變數型態\n",
    "---"
   ]
  },
  {
   "cell_type": "code",
   "execution_count": 16,
   "metadata": {},
   "outputs": [
    {
     "name": "stdout",
     "output_type": "stream",
     "text": [
      "b=d? True\n",
      "b>=d? True\n"
     ]
    }
   ],
   "source": [
    "print(\"b=d?\", b==int(d))\n",
    "print(\"b>=d?\", b>=int(d))"
   ]
  },
  {
   "cell_type": "markdown",
   "metadata": {},
   "source": [
    "# 用input(  )讓使用者輸入！\n",
    "---"
   ]
  },
  {
   "cell_type": "code",
   "execution_count": 17,
   "metadata": {},
   "outputs": [
    {
     "name": "stdout",
     "output_type": "stream",
     "text": [
      "What's your name?\n",
      "Peili\n",
      "----------------------------\n",
      "Hi Peili ! How are you today?\n"
     ]
    }
   ],
   "source": [
    "name = input(\"What's your name?\\n\")\n",
    "\n",
    "print(\"----------------------------\")\n",
    "print(\"Hi\", name,\"!\", \"How are you today?\")"
   ]
  },
  {
   "cell_type": "code",
   "execution_count": 18,
   "metadata": {},
   "outputs": [
    {
     "name": "stdout",
     "output_type": "stream",
     "text": [
      "Please input the first number!100\n",
      "Please input the second number!360\n",
      "-------------------------------\n",
      "The sum of two numbers is 460\n"
     ]
    }
   ],
   "source": [
    "#有將input轉換為數字\n",
    "num_1 = input(\"Please input the first number!\")\n",
    "num_2 = input(\"Please input the second number!\")\n",
    "\n",
    "total = int(num_1) + int(num_2)\n",
    "\n",
    "print(\"-------------------------------\")\n",
    "print(\"The sum of two numbers is\",total)"
   ]
  },
  {
   "cell_type": "code",
   "execution_count": 19,
   "metadata": {},
   "outputs": [
    {
     "name": "stdout",
     "output_type": "stream",
     "text": [
      "Please input the first number!100\n",
      "Please input the second number!360\n",
      "-------------------------------\n",
      "The sum of two numbers is 100360\n"
     ]
    }
   ],
   "source": [
    "#沒將input轉換為數字，會變成字串相加\n",
    "num_1 = input(\"Please input the first number!\")\n",
    "num_2 = input(\"Please input the second number!\")\n",
    "\n",
    "total = num_1 + num_2\n",
    "\n",
    "print(\"-------------------------------\")\n",
    "print(\"The sum of two numbers is\",total)"
   ]
  },
  {
   "cell_type": "code",
   "execution_count": null,
   "metadata": {},
   "outputs": [],
   "source": []
  }
 ],
 "metadata": {
  "kernelspec": {
   "display_name": "Python 3",
   "language": "python",
   "name": "python3"
  },
  "language_info": {
   "codemirror_mode": {
    "name": "ipython",
    "version": 3
   },
   "file_extension": ".py",
   "mimetype": "text/x-python",
   "name": "python",
   "nbconvert_exporter": "python",
   "pygments_lexer": "ipython3",
   "version": "3.7.4"
  }
 },
 "nbformat": 4,
 "nbformat_minor": 2
}
