{
 "cells": [
  {
   "cell_type": "markdown",
   "metadata": {},
   "source": [
    "## 小試身手 - 1\n",
    "---"
   ]
  },
  {
   "cell_type": "markdown",
   "metadata": {},
   "source": [
    "tuple_info = ((\"小明\", \"小美\", \"小新\", \"小白\"), (\"青椒\", \"小白的飼料\", \"柳橙汁\"), (\"巧克力餅乾\", \"糖果\", \"壽喜燒\"))\n",
    "\n",
    "tuple_info為一巢狀tuple列表，請利用剛剛所教的tuple特性取值，並印出以下句子：\n",
    "    \n",
    "    1.小新不吃青椒、 小白的飼料\n",
    "    2.小新喜歡吃巧克力餅乾、糖果、壽喜燒\n",
    "    \n",
    "（若上述結果印出小括號沒有關係）"
   ]
  },
  {
   "cell_type": "code",
   "execution_count": 1,
   "metadata": {},
   "outputs": [
    {
     "name": "stdout",
     "output_type": "stream",
     "text": [
      "小新不吃 ('青椒', '小白的飼料')\n",
      "小新不吃 青椒 小白的飼料\n",
      "------------------------------------\n",
      "小新喜歡吃 ('巧克力餅乾', '糖果', '壽喜燒')\n",
      "小新喜歡吃 巧克力餅乾 糖果 壽喜燒\n"
     ]
    }
   ],
   "source": [
    "tuple_info = ((\"小明\", \"小美\", \"小新\", \"小白\"), (\"青椒\", \"小白的飼料\", \"柳橙汁\"), (\"巧克力餅乾\", \"糖果\", \"壽喜燒\"))\n",
    "\n",
    "#1.小新不吃青椒、 小白的飼料\n",
    "name = tuple_info[0][2]\n",
    "hate_food = tuple_info[1][:2]\n",
    "print(name + \"不吃\",hate_food)\n",
    "print(name + \"不吃\",hate_food[0],hate_food[1])\n",
    "\n",
    "print(\"------------------------------------\")\n",
    "\n",
    "#2.小新喜歡吃巧克力餅乾、糖果、壽喜燒\n",
    "like_food = tuple_info[2][:]\n",
    "print(name + \"喜歡吃\",like_food)\n",
    "print(name + \"喜歡吃\",like_food[0],like_food[1],like_food[2])"
   ]
  },
  {
   "cell_type": "markdown",
   "metadata": {},
   "source": [
    "## 小試身手 - 2\n",
    "---"
   ]
  },
  {
   "cell_type": "markdown",
   "metadata": {},
   "source": [
    "小白今天在玩遊戲時，他將混合在一起的東西依照顏色做分類，但他分不清楚顏色，所以不小心將幾個物品分類錯誤，以下是小白分類完的結果：\n",
    "    \n",
    "    - 綠色：「青蘋果、樹葉、柳丁、青蛙、草莓」\n",
    "    - 紅色：「消防車、長頸鹿、櫻桃、滅火器」\n",
    "    - 黃色：「小鴨、熟香蕉、芭樂、蜘蛛人玩具」\n",
    "    \n",
    "    1. 請幫幫小白將東西依照顏色回歸原位！\n",
    "    2. 請利用List的特性回傳各個顏色中的物品數量！\n",
    "    \n",
    "請使用List的新增、修改、刪除等功能完成上述動作！ （ Hint：請先利用小白的結果新增三種List，再做物品的更換）"
   ]
  },
  {
   "cell_type": "code",
   "execution_count": 2,
   "metadata": {},
   "outputs": [
    {
     "name": "stdout",
     "output_type": "stream",
     "text": [
      "綠色物品： ['青蘋果', '樹葉', '青蛙', '芭樂']\n",
      "紅色物品： ['消防車', '櫻桃', '滅火器', '草莓', '蜘蛛人玩具']\n",
      "黃色物品： ['小鴨', '熟香蕉', '柳丁', '長頸鹿']\n",
      "綠色物品的數量：  4\n",
      "紅色物品的數量：  5\n",
      "黃色物品的數量：  4\n"
     ]
    }
   ],
   "source": [
    "green = [\"青蘋果\", \"樹葉\", \"柳丁\", \"青蛙\", \"草莓\"]\n",
    "red = [\"消防車\", \"長頸鹿\", \"櫻桃\", \"滅火器\"]\n",
    "yellow = [\"小鴨\", \"熟香蕉\", \"芭樂\", \"蜘蛛人玩具\"]\n",
    "\n",
    "#1. 請幫幫小白將東西依照顏色回歸原位！\n",
    "\n",
    "##綠色中的錯誤物品 (柳丁 -> yellow)、(草莓 -> red)\n",
    "##紅色中的錯誤物品 (長頸鹿 -> yellow)\n",
    "##黃色中的錯誤物品 (芭樂 -> green)、(蜘蛛人玩具 -> red)\n",
    "\n",
    "# print(green)\n",
    "# print(red)\n",
    "# print(yellow)\n",
    "\n",
    "green.remove(\"柳丁\")\n",
    "green.remove(\"草莓\")\n",
    "green.append(\"芭樂\")\n",
    "print(\"綠色物品：\", green)\n",
    "\n",
    "red.remove(\"長頸鹿\")\n",
    "red.append(\"草莓\")\n",
    "red.append(\"蜘蛛人玩具\")\n",
    "print(\"紅色物品：\", red)\n",
    "\n",
    "yellow.remove(\"芭樂\")\n",
    "yellow.remove(\"蜘蛛人玩具\")\n",
    "yellow.append(\"柳丁\")\n",
    "yellow.append(\"長頸鹿\")\n",
    "print(\"黃色物品：\", yellow)\n",
    "\n",
    "#2. 請利用List的特性回傳各個顏色中的物品數量！\n",
    "print(\"綠色物品的數量： \", len(green))\n",
    "print(\"紅色物品的數量： \", len(red))\n",
    "print(\"黃色物品的數量： \", len(yellow))"
   ]
  },
  {
   "cell_type": "markdown",
   "metadata": {},
   "source": [
    "## 小試身手 - 3\n",
    "---"
   ]
  },
  {
   "cell_type": "markdown",
   "metadata": {},
   "source": [
    "今天班上考了數學和英文考試，數學及格的同學有「小王、小美、珊迪、謝老闆、風間」，英文及格的同學有「小明、小王、珊迪、海綿寶寶、小白」，兩科都不及格的有「大雄、派大星、小新」，請問：\n",
    "    1. 數學及格、英文不及格的有哪些人？\n",
    "    2. 英文及格、數學不及格的有哪些人？\n",
    "    3. 只有一科及格的有哪些人？\n",
    "    4. 兩科都及格的有哪些人？\n",
    "    5. 班上共有哪些人？\n",
    "請利用剛剛學到的set（集合）的觀念做出運算，並依序印出上述答案！ （ Hint：首先須建立三個不同的Set！）"
   ]
  },
  {
   "cell_type": "code",
   "execution_count": 3,
   "metadata": {},
   "outputs": [
    {
     "name": "stdout",
     "output_type": "stream",
     "text": [
      "1. 數學及格、英文不及格的有哪些人？\n",
      "{'謝老闆', '風間', '小美'} \n",
      "\n",
      "2. 英文及格、數學不及格的有哪些人？\n",
      "{'小明', '小白', '海綿寶寶'} \n",
      "\n",
      "3. 只有一科及格的有哪些人？\n",
      "{'謝老闆', '小白', '海綿寶寶', '小美', '小明', '風間'} \n",
      "\n",
      "4. 兩科都及格的有哪些人？\n",
      "{'珊迪', '小王'} \n",
      "\n",
      "5. 班上共有哪些人？\n",
      "{'小美', '珊迪', '大雄', '派大星', '小王', '謝老闆', '小新', '小白', '海綿寶寶', '小明', '風間'}\n"
     ]
    }
   ],
   "source": [
    "math = {\"小王\", \"小美\", \"珊迪\", \"謝老闆\", \"風間\"}\n",
    "english = {\"小明\", \"小王\", \"珊迪\", \"海綿寶寶\", \"小白\"}\n",
    "both_fail = {\"大雄\", \"派大星\", \"小新\"}\n",
    "\n",
    "\n",
    "print(\"1. 數學及格、英文不及格的有哪些人？\")\n",
    "print(math - english,\"\\n\")\n",
    "\n",
    "print(\"2. 英文及格、數學不及格的有哪些人？\")\n",
    "print(english - math,\"\\n\")\n",
    "\n",
    "print(\"3. 只有一科及格的有哪些人？\")\n",
    "print(english ^ math,\"\\n\")\n",
    "\n",
    "print(\"4. 兩科都及格的有哪些人？\")\n",
    "print(math & english,\"\\n\")\n",
    "\n",
    "print(\"5. 班上共有哪些人？\")\n",
    "print(math | english | both_fail)"
   ]
  },
  {
   "cell_type": "markdown",
   "metadata": {},
   "source": [
    "## 小試身手 - 4\n",
    "---"
   ]
  },
  {
   "cell_type": "markdown",
   "metadata": {},
   "source": [
    "今天防疫超市所販賣的商品和對應的價錢總共是這幾樣「酒精90元, 口罩130元,乾洗手40元 ,牛奶55元 ,餅乾38元 ,泡麵65元」，請試著寫出下列程式：\n",
    "\n",
    "    1. 製作一個價錢查找的程式，讓使用者輸入物品後能回傳該物品價錢！\n",
    "    2. 我今天已經花了100塊，但我還想要再買兩樣東西，請讓使用者依序輸入要買的東西後，回傳今日花費的加總！\n",
    "    \n",
    "利用剛剛所學的Dictionary（字典）、和input(  )完成上述題目。"
   ]
  },
  {
   "cell_type": "code",
   "execution_count": 4,
   "metadata": {
    "scrolled": true
   },
   "outputs": [
    {
     "name": "stdout",
     "output_type": "stream",
     "text": [
      "請輸入要查找的商品： 口罩\n",
      "口罩的價格是130元！\n",
      "請輸入想要購買的第一項商品： 口罩\n",
      "今日花費為230元！\n",
      "請輸入想要購買的第二項商品： 乾洗手\n",
      "今日花費為270元！\n",
      "-----------------\n",
      "也可以統一運算：270\n"
     ]
    }
   ],
   "source": [
    "items = {\"酒精\" : 90, \"口罩\" : 130, \"乾洗手\" : 40, \"牛奶\" : 55, \"餅乾\" : 38, \"泡麵\" : 65}\n",
    "\n",
    "#1. 製作一個價錢查找的程式，讓使用者輸入物品後能回傳該物品價錢！\n",
    "item = input(\"請輸入要查找的商品： \")\n",
    "print(item + \"的價格是\" + str(items[item]) + \"元！\")\n",
    "\n",
    "#2. 請讓使用者依序輸入要買的東西後，回今日花費的加總！\n",
    "total = 100                                         # ->使用者原本的花費\n",
    "\n",
    "item1 = input(\"請輸入想要購買的第一項商品： \")           # ->購買第一項商品\n",
    "total += items[item1]\n",
    "print(\"今日花費為\" + str(total) + \"元！\")\n",
    "\n",
    "item2 = input(\"請輸入想要購買的第二項商品： \")           # ->購買第二項商品\n",
    "total += items[item2]\n",
    "print(\"今日花費為\" + str(total) + \"元！\")\n",
    "\n",
    "print(\"-----------------\")\n",
    "print(\"也可以統一運算：\" + str(100+items[item1]+items[item2]))"
   ]
  },
  {
   "cell_type": "code",
   "execution_count": null,
   "metadata": {},
   "outputs": [],
   "source": []
  }
 ],
 "metadata": {
  "kernelspec": {
   "display_name": "Python 3",
   "language": "python",
   "name": "python3"
  },
  "language_info": {
   "codemirror_mode": {
    "name": "ipython",
    "version": 3
   },
   "file_extension": ".py",
   "mimetype": "text/x-python",
   "name": "python",
   "nbconvert_exporter": "python",
   "pygments_lexer": "ipython3",
   "version": "3.7.4"
  }
 },
 "nbformat": 4,
 "nbformat_minor": 2
}
