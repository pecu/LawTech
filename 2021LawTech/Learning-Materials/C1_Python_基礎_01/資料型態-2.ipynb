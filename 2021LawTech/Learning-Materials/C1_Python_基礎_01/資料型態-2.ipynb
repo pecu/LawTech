{
 "cells": [
  {
   "cell_type": "markdown",
   "metadata": {},
   "source": [
    "# Python的四大container\n",
    "---"
   ]
  },
  {
   "cell_type": "markdown",
   "metadata": {},
   "source": [
    "## Tuple\n",
    "---\n",
    "Tuple是利用小括號（ ）將資料包起來，為「有順序性」的「不可變動」列表，可放入不同型態之資料"
   ]
  },
  {
   "cell_type": "markdown",
   "metadata": {},
   "source": [
    "### Tuple的建立"
   ]
  },
  {
   "cell_type": "code",
   "execution_count": 1,
   "metadata": {},
   "outputs": [
    {
     "name": "stdout",
     "output_type": "stream",
     "text": [
      "方法一\n",
      "(1, 2, 3)\n",
      "('Hello', 'Tuple', 3)\n",
      "(3,)\n",
      "方法二\n",
      "(4, 5, 6)\n",
      "('Hello', 'Tuple', 3)\n",
      "方法三\n",
      "['This', 'is', 'a', 'List'] <class 'list'>\n",
      "('This', 'is', 'a', 'List') <class 'tuple'>\n"
     ]
    }
   ],
   "source": [
    "#方法一：直接指派資料，並且以逗號區隔，Python會將此預設為Tuples。\n",
    "print(\"方法一\")\n",
    "T1 = 1,2,3\n",
    "print(T1)\n",
    "T2 = \"Hello\", \"Tuple\", 3\n",
    "print(T2)\n",
    "\n",
    "##如果只有一個資料的話要加逗號（,），不然會被當作int存取\n",
    "T3 = 3,\n",
    "print(T3)\n",
    "\n",
    "#方法二：於 () 符號中輸入資料，並且以逗號區隔。\n",
    "print(\"方法二\")\n",
    "T4 = (4,5,6)\n",
    "print(T4)\n",
    "T5 = (\"Hello\", \"Tuple\", 3)\n",
    "print(T5)\n",
    "\n",
    "#方法三：利用tuple()將List型態轉換成Tuple\n",
    "print(\"方法三\")\n",
    "L1 = [\"This\",\"is\",\"a\",\"List\"]\n",
    "print(L1, type(L1))\n",
    "T5 = tuple(L1)\n",
    "print(T5, type(T5))"
   ]
  },
  {
   "cell_type": "markdown",
   "metadata": {},
   "source": [
    "### Tuple元素的取得"
   ]
  },
  {
   "cell_type": "code",
   "execution_count": 2,
   "metadata": {},
   "outputs": [
    {
     "name": "stdout",
     "output_type": "stream",
     "text": [
      "('Tom', 'Dan', 'Amy', 'Sam', 'Tom')\n",
      "Tom\n",
      "('Dan', 'Amy')\n",
      "('Amy', 'Sam')\n",
      "('Tom', 'Dan', 'Amy', 'Sam')\n",
      "('Amy', 'Sam', 'Tom')\n"
     ]
    }
   ],
   "source": [
    "#利用index(索引)取得單個元素\n",
    "names_1 = (\"Tom\", \"Dan\", \"Amy\", \"Sam\", \"Tom\")\n",
    "print(names_1)\n",
    "print(names_1[0])\n",
    "\n",
    "#取得特定範圍\n",
    "print(names_1[1:3])\n",
    "print(names_1[2:-1])\n",
    "print(names_1[:4])\n",
    "print(names_1[2:])"
   ]
  },
  {
   "cell_type": "markdown",
   "metadata": {},
   "source": [
    "### Tuple的其他特性"
   ]
  },
  {
   "cell_type": "code",
   "execution_count": 3,
   "metadata": {},
   "outputs": [
    {
     "name": "stdout",
     "output_type": "stream",
     "text": [
      "('Tom', 'Dan', 'Amy', 'Sam', 'Tom', '小明', '小王')\n",
      "group中有多少人： 7\n",
      "Dan在第幾個位置： 1\n",
      "Anna在group中： False\n",
      "Anna不在group中： True\n"
     ]
    }
   ],
   "source": [
    "#合併兩個Tuples\n",
    "names_2 = (\"小明\",\"小王\")\n",
    "group = names_1 + names_2\n",
    "print(group)\n",
    "\n",
    "#看資料長度 -> len()\n",
    "print(\"group中有多少人：\", len(group))\n",
    "\n",
    "#利用index(取得該元素的位置)\n",
    "print(\"Dan在第幾個位置：\", group.index(\"Dan\"))\n",
    "\n",
    "#查看該元素是否在Tuple中 -> in、not in\n",
    "print(\"Anna在group中：\", \"Anna\" in group)\n",
    "print(\"Anna不在group中：\", \"Anna\" not in group)"
   ]
  },
  {
   "cell_type": "markdown",
   "metadata": {},
   "source": [
    "## 範例題目\n",
    "---\n",
    "有兩筆tuple，請印出「我喜歡紅色的toyota」\n",
    "- car = (\"toyota\", \"BMW\", \"honda\")\n",
    "- color = (\"紅色的\",\"藍色的\")"
   ]
  },
  {
   "cell_type": "code",
   "execution_count": 4,
   "metadata": {},
   "outputs": [
    {
     "name": "stdout",
     "output_type": "stream",
     "text": [
      "我喜歡紅色的toyota\n"
     ]
    }
   ],
   "source": [
    "car = (\"toyota\", \"BMW\", \"honda\")\n",
    "color = (\"紅色的\",\"藍色的\")\n",
    "print(\"我喜歡\" + color[0] + car[0])"
   ]
  },
  {
   "cell_type": "markdown",
   "metadata": {},
   "source": [
    "## 小試身手 - 1\n",
    "---"
   ]
  },
  {
   "attachments": {},
   "cell_type": "markdown",
   "metadata": {},
   "source": [
    "tuple_info = ((\"小明\", \"小美\", \"小新\", \"小白\"), (\"青椒\", \"小白的飼料\", \"柳橙汁\"), (\"巧克力餅乾\", \"糖果\", \"壽喜燒\"))\n",
    "\n",
    "tuple_info為一巢狀tuple列表，請利用剛剛所教的tuple特性取值，並印出以下句子：\n",
    "    \n",
    "    1.小新不吃青椒、 小白的飼料\n",
    "    2.小新喜歡吃巧克力餅乾、糖果、壽喜燒\n",
    "    \n",
    "（若上述結果印出小括號沒有關係）"
   ]
  },
  {
   "cell_type": "code",
   "execution_count": 5,
   "metadata": {},
   "outputs": [],
   "source": [
    "# 學員作答空間\n",
    "# 利用print(取值, “不吃”,取值)和print(取值, “喜歡吃”,取值)的方式來印出上述句子"
   ]
  },
  {
   "cell_type": "markdown",
   "metadata": {},
   "source": [
    "## List\n",
    "---\n",
    "List是利用中括號 [ ] 將資料包起來，為「有順序性」的「可變動」列表，可放入不同型態之資料"
   ]
  },
  {
   "cell_type": "markdown",
   "metadata": {},
   "source": [
    "### List的建立"
   ]
  },
  {
   "cell_type": "code",
   "execution_count": 6,
   "metadata": {},
   "outputs": [
    {
     "name": "stdout",
     "output_type": "stream",
     "text": [
      "[1, 2, '3', '四']\n",
      "('Tom', 'Dan', 'Amy', 'Sam', 'Tom', '小明', '小王') <class 'tuple'>\n",
      "['Tom', 'Dan', 'Amy', 'Sam', 'Tom', '小明', '小王'] <class 'list'>\n"
     ]
    }
   ],
   "source": [
    "#方法一：將資料放入中括號內指派\n",
    "L1 = [1, 2, \"3\", \"四\"]\n",
    "print(L1)\n",
    "\n",
    "#方法二：利用list()轉換型態\n",
    "group_list = list(group)\n",
    "print(group, type(group))\n",
    "print(group_list, type(group_list))"
   ]
  },
  {
   "cell_type": "markdown",
   "metadata": {},
   "source": [
    "### List元素的取得"
   ]
  },
  {
   "cell_type": "code",
   "execution_count": 7,
   "metadata": {
    "scrolled": true
   },
   "outputs": [
    {
     "name": "stdout",
     "output_type": "stream",
     "text": [
      "['Tom', 'Dan', 'Amy', 'Sam', 'Tom', '小明', '小王']\n",
      "Amy\n",
      "小明\n",
      "['Dan', 'Amy']\n",
      "['Amy', 'Sam', 'Tom', '小明']\n",
      "['Tom', 'Dan', 'Amy', 'Sam']\n",
      "['Amy', 'Sam', 'Tom', '小明', '小王']\n"
     ]
    }
   ],
   "source": [
    "#利用index(索引)取得單個元素\n",
    "print(group_list)\n",
    "print(group_list[2])\n",
    "print(group_list[-2])\n",
    "\n",
    "#取得特定範圍\n",
    "print(group_list[1:3])\n",
    "print(group_list[2:-1])\n",
    "print(group_list[:4])\n",
    "print(group_list[2:])"
   ]
  },
  {
   "cell_type": "markdown",
   "metadata": {},
   "source": [
    "### List的新增、修改、刪除"
   ]
  },
  {
   "cell_type": "markdown",
   "metadata": {},
   "source": [
    "#### 「新增」"
   ]
  },
  {
   "cell_type": "code",
   "execution_count": 8,
   "metadata": {},
   "outputs": [
    {
     "name": "stdout",
     "output_type": "stream",
     "text": [
      "['國文', '英文', '社會']\n",
      "['國文', '英文', '社會', '自然']\n",
      "['國文', '英文', '數學', '社會', '自然']\n"
     ]
    }
   ],
   "source": [
    "subjects = [\"國文\", \"英文\", \"社會\"]\n",
    "print(subjects)\n",
    "\n",
    "#方法一：利用append()將元素新增至最後一個位置\n",
    "subjects.append(\"自然\")\n",
    "print(subjects)\n",
    "\n",
    "#方法二：利用insert()將元素新增至指定位置\n",
    "subjects.insert(2, \"數學\")\n",
    "print(subjects)"
   ]
  },
  {
   "cell_type": "markdown",
   "metadata": {},
   "source": [
    "#### 「修改」"
   ]
  },
  {
   "cell_type": "code",
   "execution_count": 9,
   "metadata": {},
   "outputs": [
    {
     "name": "stdout",
     "output_type": "stream",
     "text": [
      "['國文', '英文', '數學', '社會', ['化學', '物理']]\n"
     ]
    }
   ],
   "source": [
    "subjects[4] = [\"化學\", \"物理\"]\n",
    "print(subjects)"
   ]
  },
  {
   "cell_type": "markdown",
   "metadata": {},
   "source": [
    "#### 「刪除」"
   ]
  },
  {
   "cell_type": "code",
   "execution_count": 10,
   "metadata": {},
   "outputs": [
    {
     "name": "stdout",
     "output_type": "stream",
     "text": [
      "['國文', '英文', '數學', '社會', ['化學', '物理']]\n",
      "['國文', '英文', '數學', '社會']\n",
      "['國文', '英文', '社會']\n",
      "[1, 2, 3, 3, 4, 5, 6, 7, 8, 9, 10]\n",
      "[1, 2, 3, 3, 9, 10]\n",
      "[1, 2, 3, 9, 10]\n"
     ]
    }
   ],
   "source": [
    "print(subjects)\n",
    "#方法一：利用pop()將最後一個元素刪除，或是傳入想刪除的位置\n",
    "subjects.pop()\n",
    "print(subjects)\n",
    "subjects.pop(2)\n",
    "print(subjects)\n",
    "\n",
    "#方法二：利用del刪除一段範圍的元素\n",
    "L1 = [1,2,3,3,4,5,6,7,8,9,10]\n",
    "print(L1)\n",
    "del L1[4:-2]\n",
    "print(L1)\n",
    "\n",
    "#方法三：利用remove()刪除指定元素，若傳入的有多個重複，只會刪除第一個出現的\n",
    "L1.remove(3)\n",
    "print(L1)"
   ]
  },
  {
   "cell_type": "markdown",
   "metadata": {},
   "source": [
    "### List的其他特性"
   ]
  },
  {
   "cell_type": "code",
   "execution_count": 11,
   "metadata": {},
   "outputs": [
    {
     "name": "stdout",
     "output_type": "stream",
     "text": [
      "[90, 95, 55, 88, 60, 55]\n",
      "有幾科成績： 6\n",
      "88分在第幾個位置： 3\n",
      "有100分的成績： False\n",
      "沒有100分的成績： True\n"
     ]
    }
   ],
   "source": [
    "#合併兩個List\n",
    "grade_1 = [90, 95, 55]\n",
    "grade_2 = [88, 60, 55]\n",
    "grade = grade_1 + grade_2\n",
    "print(grade)\n",
    "\n",
    "#看資料長度 -> len()\n",
    "print(\"有幾科成績：\", len(grade))\n",
    "\n",
    "#利用index(取得該元素的位置)\n",
    "print(\"88分在第幾個位置：\", grade.index(88))\n",
    "\n",
    "#查看該元素是否在List中 -> in、not in\n",
    "print(\"有100分的成績：\", 100 in group)\n",
    "print(\"沒有100分的成績：\", 100 not in group)"
   ]
  },
  {
   "cell_type": "markdown",
   "metadata": {},
   "source": [
    "## 小試身手 - 2\n",
    "---"
   ]
  },
  {
   "cell_type": "markdown",
   "metadata": {},
   "source": [
    "小白今天在玩遊戲時，他將混合在一起的東西依照顏色做分類，但他分不清楚顏色，所以不小心將幾個物品分類錯誤，以下是小白分類完的結果：\n",
    "    \n",
    "    - 綠色：「青蘋果、樹葉、柳丁、青蛙、草莓」\n",
    "    - 紅色：「消防車、長頸鹿、櫻桃、滅火器」\n",
    "    - 黃色：「小鴨、熟香蕉、芭樂、蜘蛛人玩具」\n",
    "    \n",
    "    1. 請幫幫小白將東西依照顏色回歸原位！\n",
    "    2. 請利用List的特性回傳各個顏色中的物品數量！\n",
    "    \n",
    "請使用List的新增、修改、刪除等功能完成上述動作！ （ Hint：請先利用小白的結果新增三種List，再做物品的更換）"
   ]
  },
  {
   "cell_type": "code",
   "execution_count": 12,
   "metadata": {},
   "outputs": [],
   "source": [
    "# 學員作答空間\n",
    "#請再自行建立一個yellow的list\n",
    "\n",
    "#green = [\"青蘋果\", \"樹葉\", \"柳丁\", \"青蛙\", \"草莓\"]\n",
    "#red = [\"消防車\", \"長頸鹿\", \"櫻桃\", \"滅火器\"]"
   ]
  },
  {
   "cell_type": "markdown",
   "metadata": {},
   "source": [
    "## Set\n",
    "---\n",
    "以大括號{ }表示，為「無順序性」的「無重複」集合，可放入不同型態之資料，但每項資料必須是固定的內容"
   ]
  },
  {
   "cell_type": "markdown",
   "metadata": {},
   "source": [
    "### Set的建立"
   ]
  },
  {
   "cell_type": "code",
   "execution_count": 13,
   "metadata": {},
   "outputs": [
    {
     "name": "stdout",
     "output_type": "stream",
     "text": [
      "{1, 2, 3, 'set'} <class 'set'>\n",
      "{5, '8', ('a', 'b', 'c')} <class 'set'>\n"
     ]
    }
   ],
   "source": [
    "s1 = {1, 2, 3, \"set\"}\n",
    "print(s1, type(s1))\n",
    "\n",
    "#包含tuple的set\n",
    "##因為set沒有順序的概念，印出來的資料順序不固定\n",
    "s2 = {5, \"8\", (\"a\", \"b\", \"c\")}\n",
    "print(s2, type(s2)) \n",
    "\n",
    "#set中不可放入list資料，會報錯\n",
    "#s3 = {5, \"8\", [\"a\", \"b\", \"c\"]}  "
   ]
  },
  {
   "cell_type": "markdown",
   "metadata": {},
   "source": [
    "### Set元素的取得\n",
    "因為set沒有順序的概念，不像List、Tuple能用index的方法取得"
   ]
  },
  {
   "cell_type": "markdown",
   "metadata": {},
   "source": [
    "### Set的新增、刪除"
   ]
  },
  {
   "cell_type": "markdown",
   "metadata": {},
   "source": [
    "#### 「新增」"
   ]
  },
  {
   "cell_type": "code",
   "execution_count": 14,
   "metadata": {},
   "outputs": [
    {
     "name": "stdout",
     "output_type": "stream",
     "text": [
      "{5, '8', ('a', 'b', 'c')}\n",
      "{1000, 5, '8', ('a', 'b', 'c')}\n",
      "{'New', 'Set'}\n",
      "{'New', 5, 'Set', ('a', 'b', 'c'), 1000, '8'}\n"
     ]
    }
   ],
   "source": [
    "#方法一：利用add()新增單筆資料\n",
    "print(s2)\n",
    "s2.add(1000)\n",
    "print(s2)\n",
    "\n",
    "#方法二：利用update()一次新增多筆筆資料\n",
    "s_new = {\"New\", \"Set\"}\n",
    "print(s_new)\n",
    "s2.update(s_new)\n",
    "print(s2)"
   ]
  },
  {
   "cell_type": "markdown",
   "metadata": {},
   "source": [
    "#### 「刪除」"
   ]
  },
  {
   "cell_type": "code",
   "execution_count": 15,
   "metadata": {},
   "outputs": [
    {
     "name": "stdout",
     "output_type": "stream",
     "text": [
      "{5, 'Set', ('a', 'b', 'c'), 1000, '8'}\n",
      "{5, 'Set', 1000, '8'}\n"
     ]
    }
   ],
   "source": [
    "#方法一：利用pop()將最後一個元素刪除\n",
    "s2.pop()\n",
    "print(s2)\n",
    "\n",
    "#方法二：利用remove()刪除指定元素\n",
    "s2.remove(('a', 'b', 'c'))\n",
    "print(s2)"
   ]
  },
  {
   "cell_type": "markdown",
   "metadata": {},
   "source": [
    "### Set的運算\n",
    "利用集合運算取得兩集合的交集（&）、聯集（|）、差集（-）、反交集（^）"
   ]
  },
  {
   "cell_type": "code",
   "execution_count": 16,
   "metadata": {},
   "outputs": [
    {
     "name": "stdout",
     "output_type": "stream",
     "text": [
      "{3, 4}\n",
      "{1, 2, 3, 4, 5, 6}\n",
      "{1, 2}\n",
      "{5, 6}\n",
      "{1, 2, 5, 6}\n"
     ]
    }
   ],
   "source": [
    "s3 = {1, 2, 3, 4}\n",
    "s4 = {3, 4, 5, 6}\n",
    "\n",
    "#取交集\n",
    "print(s3 & s4)\n",
    "\n",
    "#取聯集\n",
    "print(s3 | s4)\n",
    "\n",
    "#取差集，順序有差\n",
    "print(s3 - s4)\n",
    "print(s4 - s3)\n",
    "\n",
    "#取反交集\n",
    "print(s3 ^ s4)"
   ]
  },
  {
   "cell_type": "markdown",
   "metadata": {},
   "source": [
    "### Set的其他特性"
   ]
  },
  {
   "cell_type": "code",
   "execution_count": 17,
   "metadata": {},
   "outputs": [
    {
     "name": "stdout",
     "output_type": "stream",
     "text": [
      "{'m', 'a', 's', 'n', 'l', 'i'}\n",
      "6\n",
      "True\n",
      "False\n"
     ]
    }
   ],
   "source": [
    "#用set()將字串轉變為集合\n",
    "s_str = set(\"animals\")\n",
    "print(s_str)\n",
    "\n",
    "#用len()取得長度\n",
    "print(len(s_str))\n",
    "\n",
    "#查看資料是否在集合中\n",
    "print(\"m\" in s_str)\n",
    "print(\"m\" not in s_str)"
   ]
  },
  {
   "cell_type": "markdown",
   "metadata": {},
   "source": [
    "## 小試身手 - 3\n",
    "---"
   ]
  },
  {
   "cell_type": "markdown",
   "metadata": {},
   "source": [
    "今天班上考了數學和英文考試，數學及格的同學有「小王、小美、珊迪、謝老闆、風間」，英文及格的同學有「小明、小王、珊迪、海綿寶寶、小白」，兩科都不及格的有「大雄、派大星、小新」，請問：\n",
    "    1. 數學及格、英文不及格的有哪些人？\n",
    "    2. 英文及格、數學不及格的有哪些人？\n",
    "    3. 只有一科及格的有哪些人？\n",
    "    4. 兩科都及格的有哪些人？\n",
    "    5. 班上共有哪些人？\n",
    "請利用剛剛學到的set（集合）的觀念做出運算，並依序印出上述答案！ （ Hint：首先須建立三個不同的Set！）"
   ]
  },
  {
   "cell_type": "code",
   "execution_count": 18,
   "metadata": {},
   "outputs": [],
   "source": [
    "# 學員作答空間\n",
    "#請再自行建立一個皆不及格的set\n",
    "\n",
    "# math = {\"小王\", \"小美\", \"珊迪\", \"謝老闆\", \"風間\"}\n",
    "# english = {\"小明\", \"小王\", \"珊迪\", \"海綿寶寶\", \"小白\"}"
   ]
  },
  {
   "cell_type": "markdown",
   "metadata": {},
   "source": [
    "## Dict\n",
    "---\n",
    "Dictionary是利用鍵值對（Key-value Pair）的方式存取資料，以大括號{ }表示，為「無順序性」的「可變動」容器，可放入不同型態之資料"
   ]
  },
  {
   "cell_type": "markdown",
   "metadata": {},
   "source": [
    "### Dict的建立"
   ]
  },
  {
   "cell_type": "code",
   "execution_count": 19,
   "metadata": {},
   "outputs": [
    {
     "name": "stdout",
     "output_type": "stream",
     "text": [
      "{1: '狗', 2: '貓', 3: '羊'} <class 'dict'>\n",
      "{'Mike': 185, 'Sam': 178, 'Amy': 163} <class 'dict'>\n"
     ]
    }
   ],
   "source": [
    "#方法一：於 {} 符號中輸入每個元素的鍵(Key)與值(Value)\n",
    "animals = {1 : \"狗\", 2 : \"貓\", 3 : \"羊\"}\n",
    "print(animals, type(animals))\n",
    "\n",
    "#方法二：使用dict()方法，傳入鍵(Key)的名稱，並且指派值(Value)給它\n",
    "heights = dict(Mike = 185, Sam = 178, Amy = 163) \n",
    "print(heights, type(animals))"
   ]
  },
  {
   "cell_type": "markdown",
   "metadata": {},
   "source": [
    "### Dict元素的取得"
   ]
  },
  {
   "cell_type": "code",
   "execution_count": 20,
   "metadata": {},
   "outputs": [
    {
     "name": "stdout",
     "output_type": "stream",
     "text": [
      "狗\n",
      "185\n",
      "{'Mike': 185, 'Sam': 178, 'Amy': 163, 'animal': {1: '狗', 2: '貓', 3: '羊'}}\n",
      "{1: '狗', 2: '貓', 3: '羊'}\n",
      "貓\n"
     ]
    }
   ],
   "source": [
    "#利用key去查找value\n",
    "print(animals[1])\n",
    "print(heights[\"Mike\"])\n",
    "\n",
    "#沒辦法透過index方式查找，會報錯\n",
    "#print(heights[0])\n",
    "\n",
    "#取得字典中的字典\n",
    "new_dict = dict(Mike = 185, Sam = 178, Amy = 163, animal = animals) \n",
    "print(new_dict)\n",
    "print(new_dict['animal'])\n",
    "print(new_dict['animal'][2])"
   ]
  },
  {
   "cell_type": "markdown",
   "metadata": {},
   "source": [
    "### Dict的新增、修改、刪除"
   ]
  },
  {
   "cell_type": "markdown",
   "metadata": {},
   "source": [
    "#### 「新增」"
   ]
  },
  {
   "cell_type": "code",
   "execution_count": 21,
   "metadata": {},
   "outputs": [
    {
     "name": "stdout",
     "output_type": "stream",
     "text": [
      "{'Mike': 185, 'Sam': 178, 'Amy': 163, 'Peter': 166}\n",
      "{'Mike': 185, 'Sam': 178, 'Amy': 155, 'Peter': 166, '小明': 190, '小王': 173, '小美': 152}\n"
     ]
    }
   ],
   "source": [
    "heights['Peter'] = 166\n",
    "print(heights)\n",
    "\n",
    "#方法二：利用update()將多筆資料更新至原dict中\n",
    "heights_2 = {\"小明\" : 190, \"小王\" : 173, \"小美\" : 152, 'Amy': 155}\n",
    "heights.update(heights_2)\n",
    "print(heights)"
   ]
  },
  {
   "cell_type": "markdown",
   "metadata": {},
   "source": [
    "#### 「修改」"
   ]
  },
  {
   "cell_type": "code",
   "execution_count": 22,
   "metadata": {},
   "outputs": [
    {
     "name": "stdout",
     "output_type": "stream",
     "text": [
      "{'Mike': 185, 'Sam': 190, 'Amy': 155, 'Peter': 166, '小明': 190, '小王': 173, '小美': 152}\n"
     ]
    }
   ],
   "source": [
    "heights['Sam'] = 190\n",
    "print(heights)"
   ]
  },
  {
   "cell_type": "markdown",
   "metadata": {},
   "source": [
    "#### 「刪除」\n",
    "使用del指令，並且於 [ ] 符號中輸入要刪除的元素鍵(Key)名稱。"
   ]
  },
  {
   "cell_type": "code",
   "execution_count": 23,
   "metadata": {},
   "outputs": [
    {
     "name": "stdout",
     "output_type": "stream",
     "text": [
      "{'Mike': 185, 'Sam': 190, 'Amy': 155, 'Peter': 166, '小明': 190, '小王': 173} 6\n",
      "{'Mike': 185, 'Sam': 190, 'Peter': 166, '小明': 190, '小王': 173} 5\n"
     ]
    }
   ],
   "source": [
    "#方法一：利用pop()將指定的key所對應到的value刪除\n",
    "heights.pop(\"小美\")\n",
    "print(heights, len(heights))\n",
    "\n",
    "#方法二：利用del將指定的key所對應到的value刪除\n",
    "del heights['Amy']\n",
    "print(heights, len(heights))"
   ]
  },
  {
   "cell_type": "markdown",
   "metadata": {},
   "source": [
    "### Dict的其他特性"
   ]
  },
  {
   "cell_type": "code",
   "execution_count": 24,
   "metadata": {},
   "outputs": [
    {
     "name": "stdout",
     "output_type": "stream",
     "text": [
      "dict_keys(['Mike', 'Sam', 'Peter', '小明', '小王'])\n",
      "dict_values([185, 190, 166, 190, 173])\n",
      "dict_items([('Mike', 185), ('Sam', 190), ('Peter', 166), ('小明', 190), ('小王', 173)])\n",
      "True\n",
      "False\n",
      "{'國文': 99, '英文': 60, '數學': 85}\n"
     ]
    }
   ],
   "source": [
    "#使用keys()、values()、items()來取得所有的鍵、值、項目\n",
    "print(heights.keys())\n",
    "print(heights.values())\n",
    "print(heights.items())\n",
    "\n",
    "#查看該資料是否在Dict中，是在Key中尋找，不是Value\n",
    "print(\"Mike\" in heights)\n",
    "print(\"Mike\" not in heights)\n",
    "\n",
    "#透過dict()轉換型態\n",
    "grades = [[\"國文\", 99], [\"英文\", 60], [\"數學\", 85]]\n",
    "print(dict(grades))"
   ]
  },
  {
   "cell_type": "markdown",
   "metadata": {},
   "source": [
    "## 小試身手 - 4\n",
    "---"
   ]
  },
  {
   "cell_type": "markdown",
   "metadata": {},
   "source": [
    "今天防疫超市所販賣的商品和對應的價錢總共是這幾樣「酒精90元, 口罩130元,乾洗手40元 ,牛奶55元 ,餅乾38元 ,泡麵65元」，請試著寫出下列程式：\n",
    "\n",
    "    1. 製作一個價錢查找的程式，讓使用者輸入物品後能回傳該物品價錢！\n",
    "    2. 我今天已經花了100塊，但我還想要再買兩樣東西，請讓使用者依序輸入要買的東西後，回今日花費的加總！\n",
    "    \n",
    "利用剛剛所學的Dictionary（字典）、和input(  )完成上述題目。"
   ]
  },
  {
   "cell_type": "code",
   "execution_count": 25,
   "metadata": {},
   "outputs": [],
   "source": [
    "# 學員作答空間\n",
    "#items = {\"酒精\" : 90, \"口罩\" : 130, \"乾洗手\" : 40, \"牛奶\" : 55, \"餅乾\" : 38, \"泡麵\" : 65}"
   ]
  }
 ],
 "metadata": {
  "kernelspec": {
   "display_name": "Python 3",
   "language": "python",
   "name": "python3"
  },
  "language_info": {
   "codemirror_mode": {
    "name": "ipython",
    "version": 3
   },
   "file_extension": ".py",
   "mimetype": "text/x-python",
   "name": "python",
   "nbconvert_exporter": "python",
   "pygments_lexer": "ipython3",
   "version": "3.7.4"
  }
 },
 "nbformat": 4,
 "nbformat_minor": 2
}
