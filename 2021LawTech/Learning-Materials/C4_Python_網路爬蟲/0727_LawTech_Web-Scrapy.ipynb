{
 "cells": [
  {
   "cell_type": "markdown",
   "metadata": {},
   "source": [
    "## STEP 1 : 套件匯入"
   ]
  },
  {
   "cell_type": "code",
   "execution_count": null,
   "metadata": {},
   "outputs": [],
   "source": [
    "from time import sleep        # 爬蟲禮貌，避免對方伺服器無法負荷請求而宕機\n",
    "import requests               # 爬蟲請求\n",
    "import json                   # JSON 資料型態\n",
    "import pandas as pd           # 資料處理套件"
   ]
  },
  {
   "cell_type": "markdown",
   "metadata": {},
   "source": [
    "## STEP 2 : 觀察網頁請求參數與響應格式"
   ]
  },
  {
   "cell_type": "code",
   "execution_count": null,
   "metadata": {},
   "outputs": [],
   "source": [
    "# 藉由網站地址（URL）進行對方伺服器請求\n",
    "# 嘗試進行請求，若響應狀態碼 200 即為成功\n",
    "link = \"https://www.lawplus.com.tw/rest/search/report?querySentence=%E8%AD%89%E5%88%B8%E8%A9%90%E6%AC%BA&keyword=%E8%AD%89%E5%88%B8%E8%A9%90%E6%AC%BA&prevKeyword=%E8%AD%89%E5%88%B8%E8%A9%90%E6%AC%BA&date=2020%2F01%2F01~2021%2F06%2F01&money=&sentence=&caseNum=&caseTypes=&courts=&levels=&jtypes=J&tags=&issue=&main=&judge=&judgeTypes=&lawyer=&litigant=&prosecutor=&clerk=&rows=10&page=2&sortField=&_=1624375988034\"\n",
    "res = requests.get(link)\n",
    "print(res)"
   ]
  },
  {
   "cell_type": "code",
   "execution_count": null,
   "metadata": {},
   "outputs": [],
   "source": [
    "# 觀察事項\n",
    "## 1. 網頁請求響應的資料格式與內容\n",
    "## 2. 觀察需要爬取內容（各別判決書的網頁）的方式（頁面切換等...）\n",
    "json.loads(res.text)"
   ]
  },
  {
   "cell_type": "markdown",
   "metadata": {},
   "source": [
    "## STEP 3 : 程式撰寫\n",
    "##### 裁判家鏈接：https://www.lawplus.com.tw/#searchReport"
   ]
  },
  {
   "cell_type": "code",
   "execution_count": null,
   "metadata": {},
   "outputs": [],
   "source": [
    "# 查詢結果的 URL\n",
    "link = \"https://www.lawplus.com.tw/rest/search/report?querySentence=%E8%AD%89%E5%88%B8%E8%A9%90%E6%AC%BA&keyword=&prevKeyword=%E8%AD%89%E5%88%B8%E8%A9%90%E6%AC%BA&date=2020%2F01%2F01~2021%2F06%2F01&money=&sentence=&caseNum=&caseTypes=&courts=&levels=&jtypes=J&tags=&issue=&main=&judge=&judgeTypes=&lawyer=&litigant=&prosecutor=&clerk=&rows=10&page={}&sortField=&_=1624376709444\"\n",
    "\n",
    "# 用於儲存個別判決書的鏈接\n",
    "links = []\n",
    "\n",
    "# page_no 代表每次迴圈該網頁頁碼\n",
    "# range（起始頁碼，結束頁碼+1）\n",
    "for page_no in range(1,10):\n",
    "    # 於當下 page_no 的請求\n",
    "    res = requests.get(link.format(page_no)).text\n",
    "    # 將響應的內容格式轉換成 JSON 資料型態\n",
    "    temp_data = json.loads(res)['rows']\n",
    "    for each in temp_data:\n",
    "        # 將個別判決書 URL 儲存至 links\n",
    "        links.append(each['identifier'])\n",
    "    # 休息 1 秒\n",
    "    sleep(1)"
   ]
  },
  {
   "cell_type": "code",
   "execution_count": null,
   "metadata": {},
   "outputs": [],
   "source": [
    "# 個別判決書的基本 URL\n",
    "base_link = 'https://www.lawplus.com.tw/rest/search/report/{}'\n",
    "\n",
    "# 用於儲存爬取的最終資料\n",
    "data = []\n",
    "\n",
    "# links 為儲存個別判決書的鏈接\n",
    "for back_sec in links:\n",
    "    # 於當下的判決書鏈接進行請求\n",
    "    res_each = requests.get(base_link.format(back_sec)).text\n",
    "    # 將響應的內容格式轉換成 JSON 資料型態\n",
    "    temp_data_each = json.loads(res_each)\n",
    "    data.append({\n",
    "        'judge_date' : temp_data_each['response']['reportBase']['identifier'].split(',')[4],  # 裁判日期\n",
    "        'issue' : temp_data_each['response']['reportBase']['issue'],            # 案由\n",
    "        'type' : temp_data_each['response']['report']['type'],                  # 裁判類型\n",
    "        'preside_judge' : temp_data_each['response']['report']['presideJudge'], # 審判長\n",
    "        'puisne' : temp_data_each['response']['report']['puisne'],              # 陪審法官\n",
    "        'appellant' : temp_data_each['response']['report']['appellant'],        # 上訴人\n",
    "        'defendant' : temp_data_each['response']['report']['defendant'],        # 被告人\n",
    "        'content' : temp_data_each['response']['reportBase']['content'],        # 內容\n",
    "        'related_statute' : temp_data_each['response']['report']['statute']     # 相關法條\n",
    "    })\n",
    "    sleep(1)"
   ]
  },
  {
   "cell_type": "markdown",
   "metadata": {},
   "source": [
    "## STEP 4 : 資料輸出"
   ]
  },
  {
   "cell_type": "code",
   "execution_count": null,
   "metadata": {},
   "outputs": [],
   "source": [
    "df = pd.DataFrame(data)\n",
    "df.to_csv('lawtech_0727.csv')"
   ]
  },
  {
   "cell_type": "code",
   "execution_count": null,
   "metadata": {},
   "outputs": [],
   "source": [
    "df"
   ]
  }
 ],
 "metadata": {
  "kernelspec": {
   "display_name": "Python 3",
   "language": "python",
   "name": "python3"
  },
  "language_info": {
   "codemirror_mode": {
    "name": "ipython",
    "version": 3
   },
   "file_extension": ".py",
   "mimetype": "text/x-python",
   "name": "python",
   "nbconvert_exporter": "python",
   "pygments_lexer": "ipython3",
   "version": "3.8.3"
  }
 },
 "nbformat": 4,
 "nbformat_minor": 4
}
