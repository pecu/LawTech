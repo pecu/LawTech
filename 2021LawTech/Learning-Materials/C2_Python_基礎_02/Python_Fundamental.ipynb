{
 "cells": [
  {
   "cell_type": "markdown",
   "metadata": {},
   "source": [
    "# 基礎程式語法\n",
    "\n",
    "- Len 函式 - 返回字串、列表、字典、元組等長度\n",
    "\n",
    "\n",
    "- Sum 函式 - 對序列進行求和計算\n",
    "\n",
    "\n",
    "- Sort 函式 - 用於對序列進行排序，可指定使用哪個來比較\n",
    "\n",
    "\n",
    "- Max/Min 函式 - 用於查找最大/最小值\n"
   ]
  },
  {
   "cell_type": "code",
   "execution_count": 22,
   "metadata": {},
   "outputs": [],
   "source": [
    "intro_str=\"Hello World!\"\n",
    "\n",
    "intro_list=[2,6,3,8,2,2]\n",
    "\n",
    "intro_dict={'id':'Lun','income':'60'}"
   ]
  },
  {
   "cell_type": "code",
   "execution_count": 23,
   "metadata": {
    "scrolled": true
   },
   "outputs": [
    {
     "name": "stdout",
     "output_type": "stream",
     "text": [
      "字串長度為: 12\n",
      "陣列長度為: 6\n",
      "字典長度為: 2\n",
      "加總數字為: 23\n",
      "加總數字再加五: 28\n"
     ]
    }
   ],
   "source": [
    "# 檢視長度\n",
    "print(\"字串長度為:\", len(intro_str))\n",
    "print(\"陣列長度為:\", len(intro_list))\n",
    "print(\"字典長度為:\", len(intro_dict))\n",
    "\n",
    "# 對陣列值求和\n",
    "print(\"加總數字為:\", sum(intro_list))\n",
    "\n",
    "# 將求和值再加某一數值\n",
    "print(\"加總數字再加五:\", sum(intro_list,5))\n"
   ]
  },
  {
   "cell_type": "code",
   "execution_count": 34,
   "metadata": {},
   "outputs": [
    {
     "name": "stdout",
     "output_type": "stream",
     "text": [
      "由小到大依序為: [2, 2, 2, 3, 6, 8]\n",
      "由大到小依序為: [8, 6, 3, 2, 2, 2]\n",
      "None\n",
      "對scores陣列的數字依序排序: [('Dave', 'B', 11), ('Jane', 'B', 12), ('John', 'A', 15)]\n"
     ]
    }
   ],
   "source": [
    "# 對陣列值進行排序\n",
    "intro_list.sort()\n",
    "print(\"由小到大依序為:\",intro_list)\n",
    "\n",
    "#降序\n",
    "intro_list.sort(reverse=True)\n",
    "print(\"由大到小依序為:\",intro_list)\n",
    "#選擇要依哪一元素進行排序\n",
    "scores = [\n",
    "    ('Jane', 'B', 12),\n",
    "    ('John', 'A', 15),\n",
    "    ('Dave', 'B', 11)]\n",
    "\n",
    "\n",
    "scores.sort(key = lambda s: s[2])\n",
    "print(\"對scores陣列的數字依序排序:\",scores)"
   ]
  },
  {
   "cell_type": "code",
   "execution_count": 8,
   "metadata": {},
   "outputs": [
    {
     "name": "stdout",
     "output_type": "stream",
     "text": [
      "Maximum value: 104\n",
      "Minimum value: 1\n"
     ]
    }
   ],
   "source": [
    "numbers = [55, 4, 92, 1, 104, 64, 73, 99, 20]\n",
    "\n",
    "max_value = max(numbers)\n",
    "min_value = min(numbers)\n",
    "print('Maximum value:', max_value)\n",
    "print('Minimum value:', min_value)"
   ]
  },
  {
   "cell_type": "code",
   "execution_count": 3,
   "metadata": {},
   "outputs": [
    {
     "data": {
      "text/plain": [
       "'當中有一些小錯誤，再檢查一下喔！'"
      ]
     },
     "execution_count": 3,
     "metadata": {},
     "output_type": "execute_result"
    }
   ],
   "source": [
    "#若我的打工薪水前五個月分別為 3、6、4、5、1 萬元\n",
    "income=[3, 6, 4, 5, 1]\n",
    "\n",
    "\"\"\"\n",
    "題目：\n",
    "  範例. 這五個月的薪水最小值為多少？\n",
    "  \n",
    "  1. 這五個月的薪水最大值為多少？\n",
    "  \n",
    "  2. 這五個月的薪水加總為多少？\n",
    "\n",
    "  3. 若是我上班認真，老闆幫我在最後一個月加薪一萬，那這五個月薪水加總又變為多少？（請使用sum函數，不得直接更動income列表內的值）\n",
    "  \n",
    "  4. 沿續第2題，這五個月平均薪水為多少？\n",
    "  \n",
    "  請參考上面教學，求出五題答案\n",
    "\n",
    "\"\"\"\n",
    "#底下請由程式碼計算，不得直接將答案填入\n",
    "ex = min(income)\n",
    "a1 = 0\n",
    "a2 = 0\n",
    "a3 = 0\n",
    "a4 = 0\n",
    "answer = [a1, a2, a3 , a4 ]\n",
    "'答對了！' if answer == [6, 19, 20, 3.8] else '當中有一些小錯誤，再檢查一下喔！'"
   ]
  },
  {
   "cell_type": "code",
   "execution_count": null,
   "metadata": {},
   "outputs": [],
   "source": []
  },
  {
   "cell_type": "markdown",
   "metadata": {},
   "source": [
    "# 資料型態的處理"
   ]
  },
  {
   "cell_type": "code",
   "execution_count": 2,
   "metadata": {},
   "outputs": [
    {
     "name": "stdout",
     "output_type": "stream",
     "text": [
      "num_int 的資料型態: <class 'int'>\n",
      "num_flo 的資料型態: <class 'float'>\n",
      "Value of num_new: 124.23\n",
      "num_new 的資料型態: <class 'float'>\n"
     ]
    }
   ],
   "source": [
    "num_int = 123\n",
    "num_flo = 1.23\n",
    "\n",
    "#整數與浮點數的資料型態相加\n",
    "num_new = num_int + num_flo\n",
    "\n",
    "print(\"num_int 的資料型態:\",type(num_int))\n",
    "print(\"num_flo 的資料型態:\",type(num_flo))\n",
    "\n",
    "print(\"Value of num_new:\",num_new)\n",
    "print(\"num_new 的資料型態:\",type(num_new))"
   ]
  },
  {
   "cell_type": "code",
   "execution_count": 7,
   "metadata": {},
   "outputs": [
    {
     "name": "stdout",
     "output_type": "stream",
     "text": [
      "num_int的資料型態: <class 'int'>\n",
      "num_str的資料型態: <class 'str'>\n"
     ]
    },
    {
     "ename": "TypeError",
     "evalue": "unsupported operand type(s) for +: 'int' and 'str'",
     "output_type": "error",
     "traceback": [
      "\u001b[1;31m---------------------------------------------------------------------------\u001b[0m",
      "\u001b[1;31mTypeError\u001b[0m                                 Traceback (most recent call last)",
      "\u001b[1;32m<ipython-input-7-7a7b70ae6c2a>\u001b[0m in \u001b[0;36m<module>\u001b[1;34m\u001b[0m\n\u001b[0;32m      6\u001b[0m \u001b[0mprint\u001b[0m\u001b[1;33m(\u001b[0m\u001b[1;34m\"num_str的資料型態:\"\u001b[0m\u001b[1;33m,\u001b[0m\u001b[0mtype\u001b[0m\u001b[1;33m(\u001b[0m\u001b[0mnum_str\u001b[0m\u001b[1;33m)\u001b[0m\u001b[1;33m)\u001b[0m\u001b[1;33m\u001b[0m\u001b[1;33m\u001b[0m\u001b[0m\n\u001b[0;32m      7\u001b[0m \u001b[1;33m\u001b[0m\u001b[0m\n\u001b[1;32m----> 8\u001b[1;33m \u001b[0mprint\u001b[0m\u001b[1;33m(\u001b[0m\u001b[0mnum_int\u001b[0m\u001b[1;33m+\u001b[0m\u001b[0mnum_str\u001b[0m\u001b[1;33m)\u001b[0m\u001b[1;33m\u001b[0m\u001b[1;33m\u001b[0m\u001b[0m\n\u001b[0m",
      "\u001b[1;31mTypeError\u001b[0m: unsupported operand type(s) for +: 'int' and 'str'"
     ]
    }
   ],
   "source": [
    "num_int = 123\n",
    "num_str = \"456\"\n",
    "\n",
    "#字串與整數的資料型態相加\n",
    "print(\"num_int的資料型態:\",type(num_int))\n",
    "print(\"num_str的資料型態:\",type(num_str))\n",
    "\n",
    "print(num_int+num_str)"
   ]
  },
  {
   "cell_type": "markdown",
   "metadata": {},
   "source": [
    "# 動用資料型態轉換神器 "
   ]
  },
  {
   "cell_type": "code",
   "execution_count": 9,
   "metadata": {},
   "outputs": [
    {
     "name": "stdout",
     "output_type": "stream",
     "text": [
      "num_str的資料型態: <class 'int'>\n"
     ]
    }
   ],
   "source": [
    "#關鍵步驟-將 str 的資料型態轉換成 int\n",
    "num_str = int(num_str)\n",
    "\n",
    "print(\"num_str的資料型態:\",type(num_str))"
   ]
  },
  {
   "cell_type": "code",
   "execution_count": 10,
   "metadata": {},
   "outputs": [
    {
     "name": "stdout",
     "output_type": "stream",
     "text": [
      "Sum of num_int and num_str: 579\n",
      "Sum的資料型態: <class 'int'>\n"
     ]
    }
   ],
   "source": [
    "num_sum = num_int + num_str\n",
    "\n",
    "print(\"Sum of num_int and num_str:\",num_sum)\n",
    "print(\"Sum的資料型態:\",type(num_sum))"
   ]
  },
  {
   "cell_type": "code",
   "execution_count": null,
   "metadata": {},
   "outputs": [],
   "source": []
  },
  {
   "cell_type": "markdown",
   "metadata": {},
   "source": [
    "# 條件判斷\n",
    "- if / elif / else\n"
   ]
  },
  {
   "cell_type": "code",
   "execution_count": 80,
   "metadata": {},
   "outputs": [
    {
     "name": "stdout",
     "output_type": "stream",
     "text": [
      "請輸入考試分數 (1-100)：50\n",
      "成績：C\n"
     ]
    }
   ],
   "source": [
    "score = int(input('請輸入考試分數 (1-100)：'))\n",
    "\n",
    "if score > 100:\n",
    "    print('請勿亂輸入！')\n",
    "elif score >= 90 and score <= 100:\n",
    "    print('成績：A+')\n",
    "elif score >= 80 and score < 90:\n",
    "    print('成績：B+')\n",
    "elif score >= 70 and score < 80:\n",
    "    print('成績：B')\n",
    "else:\n",
    "    print('成績：C')\n"
   ]
  },
  {
   "cell_type": "markdown",
   "metadata": {},
   "source": [
    "# 迴圈練習準備開始囉！\n",
    "\n",
    "- for 迴圈\n",
    "\n",
    "\n",
    "- while 迴圈\n",
    "\n",
    " \n",
    "- range / continue / break 使用方法\n",
    "\n",
    "\n"
   ]
  },
  {
   "cell_type": "code",
   "execution_count": 24,
   "metadata": {
    "scrolled": true
   },
   "outputs": [
    {
     "name": "stdout",
     "output_type": "stream",
     "text": [
      "1\n",
      "2\n",
      "3\n"
     ]
    }
   ],
   "source": [
    "#for-Loop練習\n",
    "number=[1, 2, 3]\n",
    "\n",
    "for i in number: \n",
    "    print(i)\n",
    "\n",
    "print(\"--這是分隔線--\")\n",
    "\n",
    "for i in number:\n",
    "    print(i + 1) "
   ]
  },
  {
   "cell_type": "code",
   "execution_count": 72,
   "metadata": {},
   "outputs": [
    {
     "name": "stdout",
     "output_type": "stream",
     "text": [
      "hi hi hi \n",
      "h e l l o "
     ]
    }
   ],
   "source": [
    "for _ in number: # 當你不需要使用i時候，大家習慣性會用_作為變數\n",
    "    print('hi', end=\" \")\n",
    "\n",
    "print()\n",
    "\n",
    "for i in 'hello':\n",
    "    print(i, end=\" \")"
   ]
  },
  {
   "cell_type": "code",
   "execution_count": 21,
   "metadata": {},
   "outputs": [
    {
     "name": "stdout",
     "output_type": "stream",
     "text": [
      "0 1 2 3 4 5 6 7 8 9 \n",
      "0 2 4 6 8 "
     ]
    }
   ],
   "source": [
    "# range(起始值,結束值,遞增(減)值)，通常搭配for迴圈使用\n",
    "for i in range(10):\n",
    "    print(i, end=\" \")\n",
    "print() #換行\n",
    "\n",
    "for i in range(0, 10, 2):\n",
    "    print(i, end=\" \")"
   ]
  },
  {
   "cell_type": "code",
   "execution_count": 6,
   "metadata": {},
   "outputs": [
    {
     "name": "stdout",
     "output_type": "stream",
     "text": [
      "當前字母 : P\n",
      "當前字母 : y\n",
      "當前字母 : t\n"
     ]
    }
   ],
   "source": [
    "for letter in 'Python':     \n",
    "    if letter == 'h':\n",
    "        break\n",
    "    print('當前字母 :', letter)"
   ]
  },
  {
   "cell_type": "code",
   "execution_count": 84,
   "metadata": {},
   "outputs": [
    {
     "name": "stdout",
     "output_type": "stream",
     "text": [
      "\t 1\t 2\t 3\t 4\t 5\t 6\t 7\t 8\t 9\n",
      "\t 2\t 4\t 6\t 8\t 10\t 12\t 14\t 16\t 18\n",
      "\t 3\t 6\t 9\t 12\t 15\t 18\t 21\t 24\t 27\n",
      "\t 4\t 8\t 12\t 16\t 20\t 24\t 28\t 32\t 36\n",
      "\t 5\t 10\t 15\t 20\t 25\t 30\t 35\t 40\t 45\n",
      "\t 6\t 12\t 18\t 24\t 30\t 36\t 42\t 48\t 54\n",
      "\t 7\t 14\t 21\t 28\t 35\t 42\t 49\t 56\t 63\n",
      "\t 8\t 16\t 24\t 32\t 40\t 48\t 56\t 64\t 72\n",
      "\t 9\t 18\t 27\t 36\t 45\t 54\t 63\t 72\t 81\n"
     ]
    }
   ],
   "source": [
    "#巢狀for-loop\n",
    "for i in range(1, 10):\n",
    "    for j in range(1, 10):\n",
    "        if j == 9:\n",
    "            print(\"\\t\", i*j) # j == 9時，換行\n",
    "        else:\n",
    "            print(\"\\t\", i*j, end = '') # j < 9時，不換行"
   ]
  },
  {
   "cell_type": "code",
   "execution_count": 3,
   "metadata": {},
   "outputs": [
    {
     "name": "stdout",
     "output_type": "stream",
     "text": [
      "The count is: 0\n",
      "The count is: 1\n",
      "The count is: 2\n",
      "The count is: 3\n",
      "The count is: 4\n",
      "The count is: 5\n",
      "The count is: 6\n",
      "The count is: 7\n",
      "The count is: 8\n",
      "Good bye!\n"
     ]
    }
   ],
   "source": [
    "#While-Loop\n",
    "count = 0\n",
    "while (count < 9):\n",
    "    print(\"The count is:\", count)\n",
    "    count = count + 1\n",
    "print(\"Good bye!\")"
   ]
  },
  {
   "cell_type": "code",
   "execution_count": 20,
   "metadata": {
    "scrolled": false
   },
   "outputs": [
    {
     "name": "stdout",
     "output_type": "stream",
     "text": [
      "當前數字 : 9\n",
      "當前數字 : 8\n",
      "當前數字 : 7\n",
      "當前數字 : 6\n",
      "--迴圈結束--\n",
      "\n",
      "當前數字 : 9\n",
      "當前數字 : 8\n",
      "當前數字 : 7\n",
      "當前數字 : 6\n",
      "當前數字 : 4\n",
      "當前數字 : 3\n",
      "當前數字 : 2\n",
      "當前數字 : 1\n",
      "當前數字 : 0\n",
      "--迴圈結束--\n"
     ]
    }
   ],
   "source": [
    "#觀察 break / continue之間的差異\n",
    "num = 10                   \n",
    "while num > 0:              \n",
    "    num = num -1\n",
    "    if num == 5:   # 当变量 var 等于 5 时退出循环\n",
    "        break\n",
    "    print('當前數字 :', num)\n",
    "print(\"--迴圈結束--\")\n",
    "\n",
    "print()\n",
    "\n",
    "num = 10                   \n",
    "while num > 0:              \n",
    "    num = num -1\n",
    "    if num == 5:   # 当变量 var 等于 5 时退出循环\n",
    "        continue\n",
    "    print('當前數字 :', num)\n",
    "print(\"--迴圈結束--\")"
   ]
  },
  {
   "cell_type": "code",
   "execution_count": 20,
   "metadata": {},
   "outputs": [
    {
     "name": "stdout",
     "output_type": "stream",
     "text": [
      "0\n",
      "1\n",
      "2\n",
      "3\n",
      "4\n",
      "5\n"
     ]
    }
   ],
   "source": [
    "#當想要迴圈無限循環時，能放置一個 True的語法\n",
    "a=0\n",
    "while True:\n",
    "    print(a)\n",
    "    a+=1\n",
    "    \n",
    "    if a>5:\n",
    "        break\n",
    "    "
   ]
  },
  {
   "cell_type": "markdown",
   "metadata": {},
   "source": [
    "# 知識補給站Q&A\n",
    "- Q : For/While迴圈的差異?\n",
    "\t\n",
    "\tA  : For迴圈的運作需要索引變數，但While迴圈不需要。\n",
    "    \n",
    "    \n",
    "\n",
    "- Q :如何區別何時使用For/While 迴圈?\n",
    "\t\n",
    "\tA :當迴圈不需要索引變數的時候，就適合使用While迴圈。\n"
   ]
  },
  {
   "cell_type": "markdown",
   "metadata": {},
   "source": [
    "# 包裝函式介紹"
   ]
  },
  {
   "cell_type": "code",
   "execution_count": 7,
   "metadata": {},
   "outputs": [
    {
     "name": "stdout",
     "output_type": "stream",
     "text": [
      "請輸入您的身高 (cm):150\n",
      "請輸入您的體重 (kg):40\n",
      "您的BMI為:  17.77777777777778\n"
     ]
    }
   ],
   "source": [
    "def BMI(h,w):\n",
    "    h= h / 100\n",
    "    bmi=w /(h**2)\n",
    "    return bmi\n",
    "\n",
    "h=int(input(\"請輸入您的身高 (cm):\"))\n",
    "w=int(input(\"請輸入您的體重 (kg):\"))\n",
    "\n",
    "bmi=BMI(h,w)\n",
    "print (\"您的BMI為: \",  (bmi))"
   ]
  },
  {
   "cell_type": "code",
   "execution_count": 1,
   "metadata": {},
   "outputs": [
    {
     "name": "stdout",
     "output_type": "stream",
     "text": [
      "3\n",
      "8\n"
     ]
    }
   ],
   "source": [
    "#匿名函式\n",
    "add = lambda x, y: x + y\n",
    "print(add(1, 2))\n",
    "print(add(3, 5))\n"
   ]
  },
  {
   "cell_type": "markdown",
   "metadata": {},
   "source": [
    "# 補充語法\n",
    "\n",
    "- enumerate() - 能夠同時輸出索引與元素\n"
   ]
  },
  {
   "cell_type": "code",
   "execution_count": 12,
   "metadata": {},
   "outputs": [
    {
     "name": "stdout",
     "output_type": "stream",
     "text": [
      "0 55\n",
      "1 4\n",
      "2 92\n",
      "\n",
      "0 55\n",
      "1 4\n",
      "2 92\n"
     ]
    }
   ],
   "source": [
    "score= ['55', '4', '92']\n",
    "\n",
    "for i in range(len(score)):\n",
    "    print(i, score[i])\n",
    "    \n",
    "\n",
    "print()\n",
    "\n",
    "a=0\n",
    "for i in score:\n",
    "    print(a,i)\n",
    "    a+=1"
   ]
  },
  {
   "cell_type": "code",
   "execution_count": 14,
   "metadata": {},
   "outputs": [
    {
     "name": "stdout",
     "output_type": "stream",
     "text": [
      "(0, '55')\n",
      "(1, '4')\n",
      "(2, '92')\n",
      "\n",
      "(3, '55')\n",
      "(4, '4')\n",
      "(5, '92')\n"
     ]
    }
   ],
   "source": [
    "# 使用 enumerate(iterable, start_index) ，前者輸入一個可迭代的對象、比如說 List 資料型態；後者輸入開始的起點編號，來簡化我們的 for迴圈。\n",
    "for value in enumerate(score):\n",
    "    print(value)\n",
    "\n",
    "print()\n",
    "\n",
    "#設定起始值\n",
    "for value in enumerate(score, start=3):\n",
    "    print(value)"
   ]
  },
  {
   "cell_type": "code",
   "execution_count": null,
   "metadata": {},
   "outputs": [],
   "source": []
  }
 ],
 "metadata": {
  "kernelspec": {
   "display_name": "Python 3",
   "language": "python",
   "name": "python3"
  },
  "language_info": {
   "codemirror_mode": {
    "name": "ipython",
    "version": 3
   },
   "file_extension": ".py",
   "mimetype": "text/x-python",
   "name": "python",
   "nbconvert_exporter": "python",
   "pygments_lexer": "ipython3",
   "version": "3.7.4"
  }
 },
 "nbformat": 4,
 "nbformat_minor": 4
}
